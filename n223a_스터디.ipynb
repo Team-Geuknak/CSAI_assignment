{
  "nbformat": 4,
  "nbformat_minor": 0,
  "metadata": {
    "kernelspec": {
      "display_name": "Python 3",
      "language": "python",
      "name": "python3"
    },
    "language_info": {
      "codemirror_mode": {
        "name": "ipython",
        "version": 3
      },
      "file_extension": ".py",
      "mimetype": "text/x-python",
      "name": "python",
      "nbconvert_exporter": "python",
      "pygments_lexer": "ipython3",
      "version": "3.7.7"
    },
    "colab": {
      "name": "n223a-스터디",
      "provenance": [],
      "collapsed_sections": [],
      "include_colab_link": true
    }
  },
  "cells": [
    {
      "cell_type": "markdown",
      "metadata": {
        "id": "view-in-github",
        "colab_type": "text"
      },
      "source": [
        "<a href=\"https://colab.research.google.com/github/ZeusKwon/CSAI_assignment/blob/main/n223a_%EC%8A%A4%ED%84%B0%EB%94%94.ipynb\" target=\"_parent\"><img src=\"https://colab.research.google.com/assets/colab-badge.svg\" alt=\"Open In Colab\"/></a>"
      ]
    },
    {
      "cell_type": "markdown",
      "metadata": {
        "id": "KjQq5ieOfNcN"
      },
      "source": [
        "<img align=\"right\" src=\"https://ds-cs-images.s3.ap-northeast-2.amazonaws.com/Codestates_Fulllogo_Color.png\" width=100>\n",
        "\n",
        "## *DATA SCIENCE / SECTION 2 / SPRINT 2 / NOTE 3*\n",
        "\n",
        "# 📝 Assignment\n",
        "---"
      ]
    },
    {
      "cell_type": "markdown",
      "metadata": {
        "id": "nCc3XZEyG3XV"
      },
      "source": [
        "\n",
        "### 1)"
      ]
    },
    {
      "cell_type": "code",
      "metadata": {
        "id": "nDI1bcrVfNcP"
      },
      "source": [
        "tp = 4442\n",
        "tn = 6165\n",
        "fp = 1515\n",
        "fn = 1930\n",
        "total = tp + tn + fp + fn"
      ],
      "execution_count": null,
      "outputs": []
    },
    {
      "cell_type": "code",
      "metadata": {
        "colab": {
          "base_uri": "https://localhost:8080/"
        },
        "id": "4sOM0e_OQH_R",
        "outputId": "5159be6a-72c5-48ec-e058-153554959890"
      },
      "source": [
        "# 재현율에 정확도의 2배 가중치 -> F2_Score, Beta = 2\n",
        "\n",
        "# Precision\n",
        "precision = tp/(tp+fp)\n",
        "\n",
        "# Recall(재현율)\n",
        "recall = tp/(tp+fn)\n",
        "\n",
        "# F2_Score\n",
        "f2 = (1+2**2)*(precision*recall)/(2**2*precision+recall)\n",
        "\n",
        "print('F2_Score =',f2)"
      ],
      "execution_count": null,
      "outputs": [
        {
          "output_type": "stream",
          "text": [
            "F2_Score = 0.7063126093178566\n"
          ],
          "name": "stdout"
        }
      ]
    },
    {
      "cell_type": "markdown",
      "metadata": {
        "id": "kPC6XDTAfNcQ"
      },
      "source": [
        "### 2)\n"
      ]
    },
    {
      "cell_type": "code",
      "metadata": {
        "colab": {
          "base_uri": "https://localhost:8080/"
        },
        "id": "2sPnPOyTW3nl",
        "outputId": "2a6bcfb6-d3cc-4aa8-fb96-e5ce2d82485e"
      },
      "source": [
        "!pip install category_encoders"
      ],
      "execution_count": 3,
      "outputs": [
        {
          "output_type": "stream",
          "text": [
            "Collecting category_encoders\n",
            "\u001b[?25l  Downloading https://files.pythonhosted.org/packages/44/57/fcef41c248701ee62e8325026b90c432adea35555cbc870aff9cfba23727/category_encoders-2.2.2-py2.py3-none-any.whl (80kB)\n",
            "\r\u001b[K     |████                            | 10kB 14.0MB/s eta 0:00:01\r\u001b[K     |████████▏                       | 20kB 15.5MB/s eta 0:00:01\r\u001b[K     |████████████▏                   | 30kB 10.4MB/s eta 0:00:01\r\u001b[K     |████████████████▎               | 40kB 9.2MB/s eta 0:00:01\r\u001b[K     |████████████████████▎           | 51kB 5.2MB/s eta 0:00:01\r\u001b[K     |████████████████████████▍       | 61kB 5.7MB/s eta 0:00:01\r\u001b[K     |████████████████████████████▍   | 71kB 5.9MB/s eta 0:00:01\r\u001b[K     |████████████████████████████████| 81kB 4.3MB/s \n",
            "\u001b[?25hRequirement already satisfied: scipy>=1.0.0 in /usr/local/lib/python3.7/dist-packages (from category_encoders) (1.4.1)\n",
            "Requirement already satisfied: pandas>=0.21.1 in /usr/local/lib/python3.7/dist-packages (from category_encoders) (1.1.5)\n",
            "Requirement already satisfied: scikit-learn>=0.20.0 in /usr/local/lib/python3.7/dist-packages (from category_encoders) (0.22.2.post1)\n",
            "Requirement already satisfied: numpy>=1.14.0 in /usr/local/lib/python3.7/dist-packages (from category_encoders) (1.19.5)\n",
            "Requirement already satisfied: patsy>=0.5.1 in /usr/local/lib/python3.7/dist-packages (from category_encoders) (0.5.1)\n",
            "Requirement already satisfied: statsmodels>=0.9.0 in /usr/local/lib/python3.7/dist-packages (from category_encoders) (0.10.2)\n",
            "Requirement already satisfied: pytz>=2017.2 in /usr/local/lib/python3.7/dist-packages (from pandas>=0.21.1->category_encoders) (2018.9)\n",
            "Requirement already satisfied: python-dateutil>=2.7.3 in /usr/local/lib/python3.7/dist-packages (from pandas>=0.21.1->category_encoders) (2.8.1)\n",
            "Requirement already satisfied: joblib>=0.11 in /usr/local/lib/python3.7/dist-packages (from scikit-learn>=0.20.0->category_encoders) (1.0.1)\n",
            "Requirement already satisfied: six in /usr/local/lib/python3.7/dist-packages (from patsy>=0.5.1->category_encoders) (1.15.0)\n",
            "Installing collected packages: category-encoders\n",
            "Successfully installed category-encoders-2.2.2\n"
          ],
          "name": "stdout"
        }
      ]
    },
    {
      "cell_type": "code",
      "metadata": {
        "colab": {
          "base_uri": "https://localhost:8080/"
        },
        "id": "BB590Qi5W2OD",
        "outputId": "6d45ba16-6860-4b4e-ddc8-b3754e5ef91a"
      },
      "source": [
        "import pandas as pd\n",
        "import numpy as np\n",
        "import matplotlib.pyplot as plt\n",
        "from sklearn.model_selection import train_test_split\n",
        "from category_encoders import OneHotEncoder\n",
        "from sklearn.impute import SimpleImputer\n",
        "from pandas_profiling import ProfileReport\n",
        "from sklearn.preprocessing import StandardScaler\n",
        "from sklearn.linear_model import LogisticRegression\n",
        "from sklearn.pipeline import make_pipeline\n",
        "from sklearn.tree import DecisionTreeClassifier\n",
        "from sklearn.metrics import f1_score\n",
        "from category_encoders import OrdinalEncoder\n",
        "from sklearn.ensemble import RandomForestClassifier\n",
        "import re"
      ],
      "execution_count": 4,
      "outputs": [
        {
          "output_type": "stream",
          "text": [
            "/usr/local/lib/python3.7/dist-packages/statsmodels/tools/_testing.py:19: FutureWarning: pandas.util.testing is deprecated. Use the functions in the public API at pandas.testing instead.\n",
            "  import pandas.util.testing as tm\n"
          ],
          "name": "stderr"
        }
      ]
    },
    {
      "cell_type": "code",
      "metadata": {
        "id": "LKHSNYSLfNcQ"
      },
      "source": [
        "import pandas as pd\n",
        "from sklearn.model_selection import train_test_split\n",
        "\n",
        "url_train = \"https://raw.githubusercontent.com/ZeusKwon/data-drive/main/prediction-of-h1n1-vaccination/train.csv\"\n",
        "url_train_labels=\"https://raw.githubusercontent.com/ZeusKwon/data-drive/main/prediction-of-h1n1-vaccination/train_labels.csv\"\n",
        "url_test = \"https://raw.githubusercontent.com/ZeusKwon/data-drive/main/prediction-of-h1n1-vaccination/test.csv\"\n",
        "url_submission = \"https://raw.githubusercontent.com/ZeusKwon/data-drive/main/prediction-of-h1n1-vaccination/submission.csv\"\n",
        "\n",
        "target = 'vacc_h1n1_f'\n",
        "\n",
        "df = pd.merge(pd.read_csv(url_train),\n",
        "                 pd.read_csv(url_train_labels)[target],\n",
        "                left_index=True, right_index=True)\n",
        "test = pd.read_csv(url_test)\n",
        "submission = pd.read_csv(url_submission)\n"
      ],
      "execution_count": 5,
      "outputs": []
    },
    {
      "cell_type": "code",
      "metadata": {
        "colab": {
          "base_uri": "https://localhost:8080/"
        },
        "id": "KyKJr9noXE5K",
        "outputId": "4ac725bd-4e3c-4611-8f65-4ace1deeb902"
      },
      "source": [
        "train, val = train_test_split(df, train_size=0.80, test_size=0.20, stratify=df[target], random_state=2)\n",
        "\n",
        "train.shape, val.shape, test.shape"
      ],
      "execution_count": 6,
      "outputs": [
        {
          "output_type": "execute_result",
          "data": {
            "text/plain": [
              "((33723, 39), (8431, 39), (28104, 38))"
            ]
          },
          "metadata": {
            "tags": []
          },
          "execution_count": 6
        }
      ]
    },
    {
      "cell_type": "code",
      "metadata": {
        "id": "g0CDN3i6XNsW"
      },
      "source": [
        "# 특성 엔지니어링\n",
        "import numpy as np\n",
        "import warnings\n",
        "warnings.filterwarnings('ignore')\n",
        "\n",
        "def engineer(df):\n",
        "    \n",
        "    # behaviorals 관련 새로운 특성 생성\n",
        "    behaviorals = [col for col in df.columns if 'behavioral' in col] \n",
        "    df['behaviorals'] = df[behaviorals].sum(axis=1)\n",
        "    \n",
        "    # 타겟 변수와 관계 없는 seasonal flu관련 특성 제거\n",
        "    dels = [col for col in df.columns if 'seas' in col]\n",
        "    df.drop(columns=dels, inplace=True)\n",
        "        \n",
        "    return df\n",
        "\n",
        "train = engineer(train)\n",
        "val = engineer(val)\n",
        "test = engineer(test)"
      ],
      "execution_count": 7,
      "outputs": []
    },
    {
      "cell_type": "code",
      "metadata": {
        "id": "kQf8JGM7XPMs"
      },
      "source": [
        "# 훈련/검증/테스트 데이터를 특성과 타겟으로 분리\n",
        "features = train.drop(columns=[target]).columns\n",
        "\n",
        "X_train = train[features]\n",
        "y_train = train[target]\n",
        "X_val = val[features]\n",
        "y_val = val[target]\n",
        "X_test = test[features]"
      ],
      "execution_count": 8,
      "outputs": []
    },
    {
      "cell_type": "code",
      "metadata": {
        "id": "-WBEbGZ5XRXy"
      },
      "source": [
        "X_val.drop(columns = ['household_children', 'n_adult_r'], inplace = True) \n",
        "X_train.drop(columns = ['household_children', 'n_adult_r'], inplace = True) \n",
        "X_test.drop(columns = ['household_children', 'n_adult_r'], inplace = True) "
      ],
      "execution_count": 9,
      "outputs": []
    },
    {
      "cell_type": "code",
      "metadata": {
        "colab": {
          "base_uri": "https://localhost:8080/"
        },
        "id": "nyydo-P-XYnW",
        "outputId": "968f7cc1-336b-486a-9d09-c3b177cd95a5"
      },
      "source": [
        "from category_encoders import TargetEncoder\n",
        "from category_encoders import HashingEncoder\n",
        "pipe2 = make_pipeline(\n",
        "    TargetEncoder(), \n",
        "    # HashingEncoder(cols = ['state']),\n",
        "    # OrdinalEncoder(),\n",
        "    SimpleImputer(strategy='mean'), \n",
        "    RandomForestClassifier(n_jobs=-1, random_state=10, oob_score=True, max_features = 0.25,criterion = 'gini',\n",
        "                           n_estimators=200, max_depth=11, class_weight='balanced')\n",
        ")\n",
        "\n",
        "pipe2.fit(X_train, y_train)\n",
        "\n",
        "y_val_pred = pipe2.predict(X_val)\n",
        "y_tr_pred = pipe2.predict(X_train)\n",
        "print('Validation accuracy(f1_score):', f1_score(y_val, y_val_pred))\n",
        "print('Train accuracy(f1_score):', f1_score(y_train, y_tr_pred))\n",
        "# 0.6313242410910691"
      ],
      "execution_count": 10,
      "outputs": [
        {
          "output_type": "stream",
          "text": [
            "Validation accuracy(f1_score): 0.630468234776874\n",
            "Train accuracy(f1_score): 0.7108947048082775\n"
          ],
          "name": "stdout"
        }
      ]
    },
    {
      "cell_type": "code",
      "metadata": {
        "id": "QDfvfDBqnWRl",
        "colab": {
          "base_uri": "https://localhost:8080/"
        },
        "outputId": "20ff4127-3f66-4d36-d101-74a38c1a13fc"
      },
      "source": [
        "from category_encoders import TargetEncoder\n",
        "from category_encoders import HashingEncoder\n",
        "pipe2 = make_pipeline(\n",
        "    TargetEncoder(), \n",
        "    # HashingEncoder(cols = ['state']),\n",
        "    # OrdinalEncoder(),\n",
        "    SimpleImputer(strategy='mean'), \n",
        "    RandomForestClassifier(n_jobs=-1, random_state=10, oob_score=True, max_features = 0.25,criterion = 'gini',\n",
        "                           n_estimators=200, max_depth=11, class_weight='balanced')\n",
        ")\n",
        "\n",
        "pipe2.fit(X_train, y_train)\n",
        "\n",
        "y_val_pred = pipe2.predict(X_val)\n",
        "y_tr_pred = pipe2.predict(X_train)\n",
        "print('Validation accuracy(f1_score):', f1_score(y_val, y_val_pred))\n",
        "print('Train accuracy(f1_score):', f1_score(y_train, y_tr_pred))\n",
        "# 0.6313242410910691"
      ],
      "execution_count": 11,
      "outputs": [
        {
          "output_type": "stream",
          "text": [
            "Validation accuracy(f1_score): 0.630468234776874\n",
            "Train accuracy(f1_score): 0.7108947048082775\n"
          ],
          "name": "stdout"
        }
      ]
    },
    {
      "cell_type": "code",
      "metadata": {
        "id": "YuTMZJH1YhLQ"
      },
      "source": [
        "from sklearn.metrics import plot_confusion_matrix\n",
        "import matplotlib.pyplot as plt\n",
        "\n",
        "fig, ax = plt.subplots()\n",
        "pcm = plot_confusion_matrix(pipe2, X_val, y_val,\n",
        "                            cmap=plt.cm.Blues,\n",
        "                            ax=ax);\n",
        "plt.title(f'Confusion matrix, n = {len(y_val)}', fontsize=15)\n",
        "plt.show()"
      ],
      "execution_count": 13,
      "outputs": []
    },
    {
      "cell_type": "markdown",
      "metadata": {
        "id": "BuqhjEOdFZHM"
      },
      "source": [
        "![image.png](data:image/png;base64,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)"
      ]
    },
    {
      "cell_type": "markdown",
      "metadata": {
        "id": "txTgEbRsfNcQ"
      },
      "source": [
        "### 3)\n"
      ]
    },
    {
      "cell_type": "code",
      "metadata": {
        "id": "qbvdAqPifNcQ",
        "colab": {
          "base_uri": "https://localhost:8080/"
        },
        "outputId": "65d89669-d909-4cd4-90e3-ef192f3ebc4e"
      },
      "source": [
        "from category_encoders import TargetEncoder\n",
        "from category_encoders import HashingEncoder\n",
        "val_proba = []\n",
        "for i in [1, 10, 100,1000]:\n",
        "    pipe2 = make_pipeline(\n",
        "        TargetEncoder(), \n",
        "        # HashingEncoder(cols = ['state']),\n",
        "        # OrdinalEncoder(),\n",
        "        SimpleImputer(strategy='mean'), \n",
        "        RandomForestClassifier(n_jobs=-1, random_state=10, max_depth=None, n_estimators = i))\n",
        "\n",
        "    pipe2.fit(X_train, y_train)\n",
        "    pred_proba = pipe2.predict_proba(X_val)[:, 1]\n",
        "    val_proba.append(pred_proba)\n",
        "\n",
        "    y_val_pred = pipe2.predict(X_val)\n",
        "    y_tr_pred = pipe2.predict(X_train)\n",
        "    print('{0}_Validation accuracy(f1_score):'.format(i), f1_score(y_val, y_val_pred))\n",
        "    print('{0}_Train accuracy(f1_score):'.format(i), f1_score(y_train, y_tr_pred))\n",
        "# 0.6313242410910691"
      ],
      "execution_count": 17,
      "outputs": [
        {
          "output_type": "stream",
          "text": [
            "1_Validation accuracy(f1_score): 0.4670923379174853\n",
            "1_Train accuracy(f1_score): 0.7922890968821671\n",
            "10_Validation accuracy(f1_score): 0.5286585365853659\n",
            "10_Train accuracy(f1_score): 0.9582133486913675\n",
            "100_Validation accuracy(f1_score): 0.5680473372781065\n",
            "100_Train accuracy(f1_score): 0.992044748290864\n",
            "1000_Validation accuracy(f1_score): 0.5676314235085648\n",
            "1000_Train accuracy(f1_score): 0.9920398009950249\n"
          ],
          "name": "stdout"
        }
      ]
    },
    {
      "cell_type": "code",
      "metadata": {
        "colab": {
          "base_uri": "https://localhost:8080/",
          "height": 419
        },
        "id": "vDyWzeYrFw3l",
        "outputId": "8a7e489a-ce56-4889-f27c-692aac048273"
      },
      "source": [
        "pd.DataFrame({'n_estimator=1': val_proba[0],\n",
        "              'n_estimator=10': val_proba[1],\n",
        "              'n_estimator=100': val_proba[2],\n",
        "              'n_estimator=1000': val_proba[3]})"
      ],
      "execution_count": 18,
      "outputs": [
        {
          "output_type": "execute_result",
          "data": {
            "text/html": [
              "<div>\n",
              "<style scoped>\n",
              "    .dataframe tbody tr th:only-of-type {\n",
              "        vertical-align: middle;\n",
              "    }\n",
              "\n",
              "    .dataframe tbody tr th {\n",
              "        vertical-align: top;\n",
              "    }\n",
              "\n",
              "    .dataframe thead th {\n",
              "        text-align: right;\n",
              "    }\n",
              "</style>\n",
              "<table border=\"1\" class=\"dataframe\">\n",
              "  <thead>\n",
              "    <tr style=\"text-align: right;\">\n",
              "      <th></th>\n",
              "      <th>n_estimator=1</th>\n",
              "      <th>n_estimator=10</th>\n",
              "      <th>n_estimator=100</th>\n",
              "      <th>n_estimator=1000</th>\n",
              "    </tr>\n",
              "  </thead>\n",
              "  <tbody>\n",
              "    <tr>\n",
              "      <th>0</th>\n",
              "      <td>0.0</td>\n",
              "      <td>0.0</td>\n",
              "      <td>0.105667</td>\n",
              "      <td>0.077869</td>\n",
              "    </tr>\n",
              "    <tr>\n",
              "      <th>1</th>\n",
              "      <td>0.0</td>\n",
              "      <td>0.1</td>\n",
              "      <td>0.080000</td>\n",
              "      <td>0.100000</td>\n",
              "    </tr>\n",
              "    <tr>\n",
              "      <th>2</th>\n",
              "      <td>0.0</td>\n",
              "      <td>0.4</td>\n",
              "      <td>0.320000</td>\n",
              "      <td>0.385000</td>\n",
              "    </tr>\n",
              "    <tr>\n",
              "      <th>3</th>\n",
              "      <td>0.0</td>\n",
              "      <td>0.4</td>\n",
              "      <td>0.520000</td>\n",
              "      <td>0.534000</td>\n",
              "    </tr>\n",
              "    <tr>\n",
              "      <th>4</th>\n",
              "      <td>0.0</td>\n",
              "      <td>0.0</td>\n",
              "      <td>0.110000</td>\n",
              "      <td>0.076000</td>\n",
              "    </tr>\n",
              "    <tr>\n",
              "      <th>...</th>\n",
              "      <td>...</td>\n",
              "      <td>...</td>\n",
              "      <td>...</td>\n",
              "      <td>...</td>\n",
              "    </tr>\n",
              "    <tr>\n",
              "      <th>8426</th>\n",
              "      <td>0.0</td>\n",
              "      <td>0.6</td>\n",
              "      <td>0.740000</td>\n",
              "      <td>0.791000</td>\n",
              "    </tr>\n",
              "    <tr>\n",
              "      <th>8427</th>\n",
              "      <td>1.0</td>\n",
              "      <td>0.4</td>\n",
              "      <td>0.240000</td>\n",
              "      <td>0.220000</td>\n",
              "    </tr>\n",
              "    <tr>\n",
              "      <th>8428</th>\n",
              "      <td>0.0</td>\n",
              "      <td>0.4</td>\n",
              "      <td>0.190000</td>\n",
              "      <td>0.162000</td>\n",
              "    </tr>\n",
              "    <tr>\n",
              "      <th>8429</th>\n",
              "      <td>0.0</td>\n",
              "      <td>0.0</td>\n",
              "      <td>0.060000</td>\n",
              "      <td>0.050000</td>\n",
              "    </tr>\n",
              "    <tr>\n",
              "      <th>8430</th>\n",
              "      <td>0.0</td>\n",
              "      <td>0.4</td>\n",
              "      <td>0.430000</td>\n",
              "      <td>0.463000</td>\n",
              "    </tr>\n",
              "  </tbody>\n",
              "</table>\n",
              "<p>8431 rows × 4 columns</p>\n",
              "</div>"
            ],
            "text/plain": [
              "      n_estimator=1  n_estimator=10  n_estimator=100  n_estimator=1000\n",
              "0               0.0             0.0         0.105667          0.077869\n",
              "1               0.0             0.1         0.080000          0.100000\n",
              "2               0.0             0.4         0.320000          0.385000\n",
              "3               0.0             0.4         0.520000          0.534000\n",
              "4               0.0             0.0         0.110000          0.076000\n",
              "...             ...             ...              ...               ...\n",
              "8426            0.0             0.6         0.740000          0.791000\n",
              "8427            1.0             0.4         0.240000          0.220000\n",
              "8428            0.0             0.4         0.190000          0.162000\n",
              "8429            0.0             0.0         0.060000          0.050000\n",
              "8430            0.0             0.4         0.430000          0.463000\n",
              "\n",
              "[8431 rows x 4 columns]"
            ]
          },
          "metadata": {
            "tags": []
          },
          "execution_count": 18
        }
      ]
    },
    {
      "cell_type": "code",
      "metadata": {
        "id": "xvkpRQTtFygm"
      },
      "source": [
        "import seaborn as sns\n",
        "k = 0\n",
        "for i in [1, 10, 100, 1000]:\n",
        "  g = sns.displot(val_proba[k])\n",
        "  g.fig.suptitle(f'n_estimator = {[i]}')"
      ],
      "execution_count": 20,
      "outputs": []
    },
    {
      "cell_type": "markdown",
      "metadata": {
        "id": "Gi1x3xckfNcR"
      },
      "source": [
        "### 4)"
      ]
    },
    {
      "cell_type": "code",
      "metadata": {
        "colab": {
          "base_uri": "https://localhost:8080/"
        },
        "id": "GYcrZN_WFscD",
        "outputId": "08050734-96ee-408a-ed6f-39d0e1603df0"
      },
      "source": [
        "\n",
        "from category_encoders import OrdinalEncoder\n",
        "from sklearn.impute import SimpleImputer\n",
        "from sklearn.preprocessing import StandardScaler\n",
        "from sklearn.linear_model import LogisticRegression\n",
        "from sklearn.pipeline import make_pipeline\n",
        "from sklearn.tree import DecisionTreeClassifier\n",
        "\n",
        "pipe1 = make_pipeline(\n",
        "    OrdinalEncoder(handle_missing=\"value\"),\n",
        "    SimpleImputer(), \n",
        "    DecisionTreeClassifier(max_depth=9, random_state=2))\n",
        "pipe1.fit(X_train, y_train)"
      ],
      "execution_count": 21,
      "outputs": [
        {
          "output_type": "execute_result",
          "data": {
            "text/plain": [
              "Pipeline(memory=None,\n",
              "         steps=[('ordinalencoder',\n",
              "                 OrdinalEncoder(cols=['opinion_h1n1_vacc_effective',\n",
              "                                      'opinion_h1n1_risk',\n",
              "                                      'opinion_h1n1_sick_from_vacc', 'agegrp',\n",
              "                                      'employment_status', 'census_msa',\n",
              "                                      'employment_industry',\n",
              "                                      'employment_occupation', 'state'],\n",
              "                                drop_invariant=False, handle_missing='value',\n",
              "                                handle_unknown='value',\n",
              "                                mapping=[{'col': 'opinion_h1n1_vacc_effe...\n",
              "                               missing_values=nan, strategy='mean',\n",
              "                               verbose=0)),\n",
              "                ('decisiontreeclassifier',\n",
              "                 DecisionTreeClassifier(ccp_alpha=0.0, class_weight=None,\n",
              "                                        criterion='gini', max_depth=9,\n",
              "                                        max_features=None, max_leaf_nodes=None,\n",
              "                                        min_impurity_decrease=0.0,\n",
              "                                        min_impurity_split=None,\n",
              "                                        min_samples_leaf=1, min_samples_split=2,\n",
              "                                        min_weight_fraction_leaf=0.0,\n",
              "                                        presort='deprecated', random_state=2,\n",
              "                                        splitter='best'))],\n",
              "         verbose=False)"
            ]
          },
          "metadata": {
            "tags": []
          },
          "execution_count": 21
        }
      ]
    },
    {
      "cell_type": "code",
      "metadata": {
        "colab": {
          "base_uri": "https://localhost:8080/"
        },
        "id": "waXxc8AlhHhL",
        "outputId": "e9a5344d-19ed-4f6f-bbad-f957162df2a8"
      },
      "source": [
        "pipe2 = make_pipeline(\n",
        "        TargetEncoder(), \n",
        "        \n",
        "        SimpleImputer(strategy='mean'), \n",
        "        RandomForestClassifier(n_jobs=-1, random_state=10, max_depth=None, n_estimators = 450))\n",
        "\n",
        "pipe2.fit(X_train, y_train)"
      ],
      "execution_count": 22,
      "outputs": [
        {
          "output_type": "execute_result",
          "data": {
            "text/plain": [
              "Pipeline(memory=None,\n",
              "         steps=[('targetencoder',\n",
              "                 TargetEncoder(cols=['opinion_h1n1_vacc_effective',\n",
              "                                     'opinion_h1n1_risk',\n",
              "                                     'opinion_h1n1_sick_from_vacc', 'agegrp',\n",
              "                                     'employment_status', 'census_msa',\n",
              "                                     'employment_industry',\n",
              "                                     'employment_occupation', 'state'],\n",
              "                               drop_invariant=False, handle_missing='value',\n",
              "                               handle_unknown='value', min_samples_leaf=1,\n",
              "                               return_df=True, smoothi...\n",
              "                 RandomForestClassifier(bootstrap=True, ccp_alpha=0.0,\n",
              "                                        class_weight=None, criterion='gini',\n",
              "                                        max_depth=None, max_features='auto',\n",
              "                                        max_leaf_nodes=None, max_samples=None,\n",
              "                                        min_impurity_decrease=0.0,\n",
              "                                        min_impurity_split=None,\n",
              "                                        min_samples_leaf=1, min_samples_split=2,\n",
              "                                        min_weight_fraction_leaf=0.0,\n",
              "                                        n_estimators=450, n_jobs=-1,\n",
              "                                        oob_score=False, random_state=10,\n",
              "                                        verbose=0, warm_start=False))],\n",
              "         verbose=False)"
            ]
          },
          "metadata": {
            "tags": []
          },
          "execution_count": 22
        }
      ]
    },
    {
      "cell_type": "code",
      "metadata": {
        "id": "wywAU54ufNcR"
      },
      "source": [
        "from sklearn.metrics import roc_curve\n",
        "y_pred_proba1 = pipe1.predict_proba(X_val)[:, 1]\n",
        "fpr1, tpr1, thresholds = roc_curve(y_val, y_pred_proba)"
      ],
      "execution_count": 35,
      "outputs": []
    },
    {
      "cell_type": "code",
      "metadata": {
        "id": "F6cmwHB6jzSB"
      },
      "source": [
        "from sklearn.metrics import roc_curve\n",
        "y_pred_proba2 = pipe2.predict_proba(X_val)[:, 1]\n",
        "fpr2, tpr2, thresholds2 = roc_curve(y_val, y_pred_proba2)"
      ],
      "execution_count": 24,
      "outputs": []
    },
    {
      "cell_type": "code",
      "metadata": {
        "id": "bQLjaQE9hVMd"
      },
      "source": [
        "plt.plot(fpr1, tpr1)\n",
        "plt.plot([0,1],[0,1], ls='--', color='r')\n",
        "plt.title('ROC curve')\n",
        "plt.xlabel('FPR(Fall-out)')\n",
        "plt.ylabel('TPR(Recall)')\n",
        "plt.show()"
      ],
      "execution_count": 27,
      "outputs": []
    },
    {
      "cell_type": "code",
      "metadata": {
        "id": "TdH1gvz9FgEO"
      },
      "source": [
        "plt.plot(fpr2, tpr2)\n",
        "plt.plot([0,1],[0,1], ls='--', color='r')\n",
        "plt.title('ROC curve')\n",
        "plt.xlabel('FPR(Fall-out)')\n",
        "plt.ylabel('TPR(Recall)')\n",
        "plt.show()"
      ],
      "execution_count": 28,
      "outputs": []
    },
    {
      "cell_type": "code",
      "metadata": {
        "colab": {
          "base_uri": "https://localhost:8080/"
        },
        "id": "Osq1i06GFfQW",
        "outputId": "bbdfe481-6d0d-4ff7-a8be-2b0c1b380617"
      },
      "source": [
        "from sklearn.metrics import roc_auc_score\n",
        "auc_score = roc_auc_score(y_val, y_pred_proba1)\n",
        "auc_score"
      ],
      "execution_count": 36,
      "outputs": [
        {
          "output_type": "execute_result",
          "data": {
            "text/plain": [
              "0.8194571341497373"
            ]
          },
          "metadata": {
            "tags": []
          },
          "execution_count": 36
        }
      ]
    },
    {
      "cell_type": "code",
      "metadata": {
        "colab": {
          "base_uri": "https://localhost:8080/"
        },
        "id": "jMYTd2dkFevc",
        "outputId": "5dfb4331-cf01-4df0-ca00-327656322628"
      },
      "source": [
        "from sklearn.metrics import roc_auc_score\n",
        "auc_score = roc_auc_score(y_val, y_pred_proba2)\n",
        "auc_score"
      ],
      "execution_count": 37,
      "outputs": [
        {
          "output_type": "execute_result",
          "data": {
            "text/plain": [
              "0.834507868047004"
            ]
          },
          "metadata": {
            "tags": []
          },
          "execution_count": 37
        }
      ]
    },
    {
      "cell_type": "markdown",
      "metadata": {
        "id": "kTyfUz1FfNcR"
      },
      "source": [
        "## 🔥"
      ]
    },
    {
      "cell_type": "markdown",
      "metadata": {
        "id": "NZEhiZzAfNcR"
      },
      "source": [
        "### 5) 각 평가지표에 대해 결과를 최대한 분석하고 무엇이 부족한지, 어떤 방향으로 성능을 높여야 하는지 논하세요."
      ]
    },
    {
      "cell_type": "code",
      "metadata": {
        "id": "SeWJ8p4tfNcR"
      },
      "source": [
        "### 이곳에서 과제를 진행해 주세요 ### "
      ],
      "execution_count": null,
      "outputs": []
    }
  ]
}