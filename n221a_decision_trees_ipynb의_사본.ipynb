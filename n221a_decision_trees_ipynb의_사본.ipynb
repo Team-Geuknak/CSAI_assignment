{
  "nbformat": 4,
  "nbformat_minor": 0,
  "metadata": {
    "kernelspec": {
      "display_name": "Python 3",
      "language": "python",
      "name": "python3"
    },
    "language_info": {
      "codemirror_mode": {
        "name": "ipython",
        "version": 3
      },
      "file_extension": ".py",
      "mimetype": "text/x-python",
      "name": "python",
      "nbconvert_exporter": "python",
      "pygments_lexer": "ipython3",
      "version": "3.7.7"
    },
    "colab": {
      "name": "n221a-decision-trees.ipynb의 사본",
      "provenance": [],
      "include_colab_link": true
    }
  },
  "cells": [
    {
      "cell_type": "markdown",
      "metadata": {
        "id": "view-in-github",
        "colab_type": "text"
      },
      "source": [
        "<a href=\"https://colab.research.google.com/github/ljs7463/CSAI_assignment/blob/main/n221a_decision_trees_ipynb%EC%9D%98_%EC%82%AC%EB%B3%B8.ipynb\" target=\"_parent\"><img src=\"https://colab.research.google.com/assets/colab-badge.svg\" alt=\"Open In Colab\"/></a>"
      ]
    },
    {
      "cell_type": "code",
      "metadata": {
        "colab": {
          "base_uri": "https://localhost:8080/"
        },
        "id": "qLbgrdCzN72K",
        "outputId": "10317ed1-db59-4432-b25a-617752885778"
      },
      "source": [
        "pip install --upgrade scikit-learn"
      ],
      "execution_count": null,
      "outputs": [
        {
          "output_type": "stream",
          "text": [
            "Collecting scikit-learn\n",
            "\u001b[?25l  Downloading https://files.pythonhosted.org/packages/a8/eb/a48f25c967526b66d5f1fa7a984594f0bf0a5afafa94a8c4dbc317744620/scikit_learn-0.24.2-cp37-cp37m-manylinux2010_x86_64.whl (22.3MB)\n",
            "\u001b[K     |████████████████████████████████| 22.3MB 28.2MB/s \n",
            "\u001b[?25hRequirement already satisfied, skipping upgrade: numpy>=1.13.3 in /usr/local/lib/python3.7/dist-packages (from scikit-learn) (1.19.5)\n",
            "Requirement already satisfied, skipping upgrade: joblib>=0.11 in /usr/local/lib/python3.7/dist-packages (from scikit-learn) (1.0.1)\n",
            "Collecting threadpoolctl>=2.0.0\n",
            "  Downloading https://files.pythonhosted.org/packages/f7/12/ec3f2e203afa394a149911729357aa48affc59c20e2c1c8297a60f33f133/threadpoolctl-2.1.0-py3-none-any.whl\n",
            "Requirement already satisfied, skipping upgrade: scipy>=0.19.1 in /usr/local/lib/python3.7/dist-packages (from scikit-learn) (1.4.1)\n",
            "Installing collected packages: threadpoolctl, scikit-learn\n",
            "  Found existing installation: scikit-learn 0.22.2.post1\n",
            "    Uninstalling scikit-learn-0.22.2.post1:\n",
            "      Successfully uninstalled scikit-learn-0.22.2.post1\n",
            "Successfully installed scikit-learn-0.24.2 threadpoolctl-2.1.0\n"
          ],
          "name": "stdout"
        }
      ]
    },
    {
      "cell_type": "code",
      "metadata": {
        "colab": {
          "base_uri": "https://localhost:8080/"
        },
        "id": "-7Or7gj-N568",
        "outputId": "49764e12-0a2e-4b27-e71d-e833a10ee46b"
      },
      "source": [
        "!pip install --upgrade category_encoders"
      ],
      "execution_count": null,
      "outputs": [
        {
          "output_type": "stream",
          "text": [
            "Collecting category_encoders\n",
            "\u001b[?25l  Downloading https://files.pythonhosted.org/packages/44/57/fcef41c248701ee62e8325026b90c432adea35555cbc870aff9cfba23727/category_encoders-2.2.2-py2.py3-none-any.whl (80kB)\n",
            "\r\u001b[K     |████                            | 10kB 14.6MB/s eta 0:00:01\r\u001b[K     |████████▏                       | 20kB 7.8MB/s eta 0:00:01\r\u001b[K     |████████████▏                   | 30kB 5.5MB/s eta 0:00:01\r\u001b[K     |████████████████▎               | 40kB 5.2MB/s eta 0:00:01\r\u001b[K     |████████████████████▎           | 51kB 2.7MB/s eta 0:00:01\r\u001b[K     |████████████████████████▍       | 61kB 3.0MB/s eta 0:00:01\r\u001b[K     |████████████████████████████▍   | 71kB 3.2MB/s eta 0:00:01\r\u001b[K     |████████████████████████████████| 81kB 2.5MB/s \n",
            "\u001b[?25hRequirement already satisfied, skipping upgrade: scikit-learn>=0.20.0 in /usr/local/lib/python3.7/dist-packages (from category_encoders) (0.24.2)\n",
            "Requirement already satisfied, skipping upgrade: patsy>=0.5.1 in /usr/local/lib/python3.7/dist-packages (from category_encoders) (0.5.1)\n",
            "Requirement already satisfied, skipping upgrade: pandas>=0.21.1 in /usr/local/lib/python3.7/dist-packages (from category_encoders) (1.1.5)\n",
            "Requirement already satisfied, skipping upgrade: statsmodels>=0.9.0 in /usr/local/lib/python3.7/dist-packages (from category_encoders) (0.10.2)\n",
            "Requirement already satisfied, skipping upgrade: scipy>=1.0.0 in /usr/local/lib/python3.7/dist-packages (from category_encoders) (1.4.1)\n",
            "Requirement already satisfied, skipping upgrade: numpy>=1.14.0 in /usr/local/lib/python3.7/dist-packages (from category_encoders) (1.19.5)\n",
            "Requirement already satisfied, skipping upgrade: threadpoolctl>=2.0.0 in /usr/local/lib/python3.7/dist-packages (from scikit-learn>=0.20.0->category_encoders) (2.1.0)\n",
            "Requirement already satisfied, skipping upgrade: joblib>=0.11 in /usr/local/lib/python3.7/dist-packages (from scikit-learn>=0.20.0->category_encoders) (1.0.1)\n",
            "Requirement already satisfied, skipping upgrade: six in /usr/local/lib/python3.7/dist-packages (from patsy>=0.5.1->category_encoders) (1.15.0)\n",
            "Requirement already satisfied, skipping upgrade: python-dateutil>=2.7.3 in /usr/local/lib/python3.7/dist-packages (from pandas>=0.21.1->category_encoders) (2.8.1)\n",
            "Requirement already satisfied, skipping upgrade: pytz>=2017.2 in /usr/local/lib/python3.7/dist-packages (from pandas>=0.21.1->category_encoders) (2018.9)\n",
            "Installing collected packages: category-encoders\n",
            "Successfully installed category-encoders-2.2.2\n"
          ],
          "name": "stdout"
        }
      ]
    },
    {
      "cell_type": "code",
      "metadata": {
        "colab": {
          "base_uri": "https://localhost:8080/"
        },
        "id": "W887QAgeLg6a",
        "outputId": "529592b9-b98d-4114-9a42-3e5c26e6fc51"
      },
      "source": [
        "pip install -U pandas-profiling"
      ],
      "execution_count": null,
      "outputs": [
        {
          "output_type": "stream",
          "text": [
            "Collecting pandas-profiling\n",
            "\u001b[?25l  Downloading https://files.pythonhosted.org/packages/3b/a3/34519d16e5ebe69bad30c5526deea2c3912634ced7f9b5e6e0bb9dbbd567/pandas_profiling-3.0.0-py2.py3-none-any.whl (248kB)\n",
            "\r\u001b[K     |█▎                              | 10kB 14.2MB/s eta 0:00:01\r\u001b[K     |██▋                             | 20kB 9.1MB/s eta 0:00:01\r\u001b[K     |████                            | 30kB 5.9MB/s eta 0:00:01\r\u001b[K     |█████▎                          | 40kB 5.4MB/s eta 0:00:01\r\u001b[K     |██████▋                         | 51kB 2.9MB/s eta 0:00:01\r\u001b[K     |████████                        | 61kB 3.2MB/s eta 0:00:01\r\u001b[K     |█████████▎                      | 71kB 3.4MB/s eta 0:00:01\r\u001b[K     |██████████▌                     | 81kB 3.7MB/s eta 0:00:01\r\u001b[K     |███████████▉                    | 92kB 3.8MB/s eta 0:00:01\r\u001b[K     |█████████████▏                  | 102kB 3.9MB/s eta 0:00:01\r\u001b[K     |██████████████▌                 | 112kB 3.9MB/s eta 0:00:01\r\u001b[K     |███████████████▉                | 122kB 3.9MB/s eta 0:00:01\r\u001b[K     |█████████████████▏              | 133kB 3.9MB/s eta 0:00:01\r\u001b[K     |██████████████████▌             | 143kB 3.9MB/s eta 0:00:01\r\u001b[K     |███████████████████▉            | 153kB 3.9MB/s eta 0:00:01\r\u001b[K     |█████████████████████           | 163kB 3.9MB/s eta 0:00:01\r\u001b[K     |██████████████████████▍         | 174kB 3.9MB/s eta 0:00:01\r\u001b[K     |███████████████████████▊        | 184kB 3.9MB/s eta 0:00:01\r\u001b[K     |█████████████████████████       | 194kB 3.9MB/s eta 0:00:01\r\u001b[K     |██████████████████████████▍     | 204kB 3.9MB/s eta 0:00:01\r\u001b[K     |███████████████████████████▊    | 215kB 3.9MB/s eta 0:00:01\r\u001b[K     |█████████████████████████████   | 225kB 3.9MB/s eta 0:00:01\r\u001b[K     |██████████████████████████████▎ | 235kB 3.9MB/s eta 0:00:01\r\u001b[K     |███████████████████████████████▋| 245kB 3.9MB/s eta 0:00:01\r\u001b[K     |████████████████████████████████| 256kB 3.9MB/s \n",
            "\u001b[?25hRequirement already satisfied, skipping upgrade: joblib in /usr/local/lib/python3.7/dist-packages (from pandas-profiling) (1.0.1)\n",
            "Collecting pydantic>=1.8.1\n",
            "\u001b[?25l  Downloading https://files.pythonhosted.org/packages/9f/f2/2d5425efe57f6c4e06cbe5e587c1fd16929dcf0eb90bd4d3d1e1c97d1151/pydantic-1.8.2-cp37-cp37m-manylinux2014_x86_64.whl (10.1MB)\n",
            "\u001b[K     |████████████████████████████████| 10.1MB 19.0MB/s \n",
            "\u001b[?25hRequirement already satisfied, skipping upgrade: missingno>=0.4.2 in /usr/local/lib/python3.7/dist-packages (from pandas-profiling) (0.4.2)\n",
            "Requirement already satisfied, skipping upgrade: pandas!=1.0.0,!=1.0.1,!=1.0.2,!=1.1.0,>=0.25.3 in /usr/local/lib/python3.7/dist-packages (from pandas-profiling) (1.1.5)\n",
            "Requirement already satisfied, skipping upgrade: matplotlib>=3.2.0 in /usr/local/lib/python3.7/dist-packages (from pandas-profiling) (3.2.2)\n",
            "Collecting PyYAML>=5.0.0\n",
            "\u001b[?25l  Downloading https://files.pythonhosted.org/packages/7a/a5/393c087efdc78091afa2af9f1378762f9821c9c1d7a22c5753fb5ac5f97a/PyYAML-5.4.1-cp37-cp37m-manylinux1_x86_64.whl (636kB)\n",
            "\u001b[K     |████████████████████████████████| 645kB 40.8MB/s \n",
            "\u001b[?25hCollecting htmlmin>=0.1.12\n",
            "  Downloading https://files.pythonhosted.org/packages/b3/e7/fcd59e12169de19f0131ff2812077f964c6b960e7c09804d30a7bf2ab461/htmlmin-0.1.12.tar.gz\n",
            "Collecting tangled-up-in-unicode==0.1.0\n",
            "\u001b[?25l  Downloading https://files.pythonhosted.org/packages/93/3e/cb354fb2097fcf2fd5b5a342b10ae2a6e9363ba435b64e3e00c414064bc7/tangled_up_in_unicode-0.1.0-py3-none-any.whl (3.1MB)\n",
            "\u001b[K     |████████████████████████████████| 3.1MB 39.7MB/s \n",
            "\u001b[?25hCollecting tqdm>=4.48.2\n",
            "\u001b[?25l  Downloading https://files.pythonhosted.org/packages/b4/20/9f1e974bb4761128fc0d0a32813eaa92827309b1756c4b892d28adfb4415/tqdm-4.61.1-py2.py3-none-any.whl (75kB)\n",
            "\u001b[K     |████████████████████████████████| 81kB 8.5MB/s \n",
            "\u001b[?25hRequirement already satisfied, skipping upgrade: numpy>=1.16.0 in /usr/local/lib/python3.7/dist-packages (from pandas-profiling) (1.19.5)\n",
            "Requirement already satisfied, skipping upgrade: seaborn>=0.10.1 in /usr/local/lib/python3.7/dist-packages (from pandas-profiling) (0.11.1)\n",
            "Collecting visions[type_image_path]==0.7.1\n",
            "\u001b[?25l  Downloading https://files.pythonhosted.org/packages/80/96/01e4ba22cef96ae5035dbcf0451c2f4f859f8f17393b98406b23f0034279/visions-0.7.1-py3-none-any.whl (102kB)\n",
            "\u001b[K     |████████████████████████████████| 112kB 44.3MB/s \n",
            "\u001b[?25hRequirement already satisfied, skipping upgrade: scipy>=1.4.1 in /usr/local/lib/python3.7/dist-packages (from pandas-profiling) (1.4.1)\n",
            "Collecting requests>=2.24.0\n",
            "\u001b[?25l  Downloading https://files.pythonhosted.org/packages/29/c1/24814557f1d22c56d50280771a17307e6bf87b70727d975fd6b2ce6b014a/requests-2.25.1-py2.py3-none-any.whl (61kB)\n",
            "\u001b[K     |████████████████████████████████| 61kB 6.7MB/s \n",
            "\u001b[?25hRequirement already satisfied, skipping upgrade: jinja2>=2.11.1 in /usr/local/lib/python3.7/dist-packages (from pandas-profiling) (2.11.3)\n",
            "Collecting phik>=0.11.1\n",
            "\u001b[?25l  Downloading https://files.pythonhosted.org/packages/b7/ce/193e8ddf62d4be643b9b4b20e8e9c63b2f6a20f92778c0410c629f89bdaa/phik-0.11.2.tar.gz (1.1MB)\n",
            "\u001b[K     |████████████████████████████████| 1.1MB 35.7MB/s \n",
            "\u001b[?25hRequirement already satisfied, skipping upgrade: typing-extensions>=3.7.4.3 in /usr/local/lib/python3.7/dist-packages (from pydantic>=1.8.1->pandas-profiling) (3.7.4.3)\n",
            "Requirement already satisfied, skipping upgrade: pytz>=2017.2 in /usr/local/lib/python3.7/dist-packages (from pandas!=1.0.0,!=1.0.1,!=1.0.2,!=1.1.0,>=0.25.3->pandas-profiling) (2018.9)\n",
            "Requirement already satisfied, skipping upgrade: python-dateutil>=2.7.3 in /usr/local/lib/python3.7/dist-packages (from pandas!=1.0.0,!=1.0.1,!=1.0.2,!=1.1.0,>=0.25.3->pandas-profiling) (2.8.1)\n",
            "Requirement already satisfied, skipping upgrade: cycler>=0.10 in /usr/local/lib/python3.7/dist-packages (from matplotlib>=3.2.0->pandas-profiling) (0.10.0)\n",
            "Requirement already satisfied, skipping upgrade: kiwisolver>=1.0.1 in /usr/local/lib/python3.7/dist-packages (from matplotlib>=3.2.0->pandas-profiling) (1.3.1)\n",
            "Requirement already satisfied, skipping upgrade: pyparsing!=2.0.4,!=2.1.2,!=2.1.6,>=2.0.1 in /usr/local/lib/python3.7/dist-packages (from matplotlib>=3.2.0->pandas-profiling) (2.4.7)\n",
            "Collecting multimethod==1.4\n",
            "  Downloading https://files.pythonhosted.org/packages/7a/d0/ce5ad0392aa12645b7ad91a5983d6b625b704b021d9cd48c587630c1a9ac/multimethod-1.4-py2.py3-none-any.whl\n",
            "Requirement already satisfied, skipping upgrade: attrs>=19.3.0 in /usr/local/lib/python3.7/dist-packages (from visions[type_image_path]==0.7.1->pandas-profiling) (21.2.0)\n",
            "Requirement already satisfied, skipping upgrade: networkx>=2.4 in /usr/local/lib/python3.7/dist-packages (from visions[type_image_path]==0.7.1->pandas-profiling) (2.5.1)\n",
            "Requirement already satisfied, skipping upgrade: bottleneck in /usr/local/lib/python3.7/dist-packages (from visions[type_image_path]==0.7.1->pandas-profiling) (1.3.2)\n",
            "Requirement already satisfied, skipping upgrade: Pillow; extra == \"type_image_path\" in /usr/local/lib/python3.7/dist-packages (from visions[type_image_path]==0.7.1->pandas-profiling) (7.1.2)\n",
            "Collecting imagehash; extra == \"type_image_path\"\n",
            "\u001b[?25l  Downloading https://files.pythonhosted.org/packages/8e/18/9dbb772b5ef73a3069c66bb5bf29b9fb4dd57af0d5790c781c3f559bcca6/ImageHash-4.2.0-py2.py3-none-any.whl (295kB)\n",
            "\u001b[K     |████████████████████████████████| 296kB 36.1MB/s \n",
            "\u001b[?25hRequirement already satisfied, skipping upgrade: urllib3<1.27,>=1.21.1 in /usr/local/lib/python3.7/dist-packages (from requests>=2.24.0->pandas-profiling) (1.24.3)\n",
            "Requirement already satisfied, skipping upgrade: certifi>=2017.4.17 in /usr/local/lib/python3.7/dist-packages (from requests>=2.24.0->pandas-profiling) (2021.5.30)\n",
            "Requirement already satisfied, skipping upgrade: idna<3,>=2.5 in /usr/local/lib/python3.7/dist-packages (from requests>=2.24.0->pandas-profiling) (2.10)\n",
            "Requirement already satisfied, skipping upgrade: chardet<5,>=3.0.2 in /usr/local/lib/python3.7/dist-packages (from requests>=2.24.0->pandas-profiling) (3.0.4)\n",
            "Requirement already satisfied, skipping upgrade: MarkupSafe>=0.23 in /usr/local/lib/python3.7/dist-packages (from jinja2>=2.11.1->pandas-profiling) (2.0.1)\n",
            "Requirement already satisfied, skipping upgrade: six>=1.5 in /usr/local/lib/python3.7/dist-packages (from python-dateutil>=2.7.3->pandas!=1.0.0,!=1.0.1,!=1.0.2,!=1.1.0,>=0.25.3->pandas-profiling) (1.15.0)\n",
            "Requirement already satisfied, skipping upgrade: decorator<5,>=4.3 in /usr/local/lib/python3.7/dist-packages (from networkx>=2.4->visions[type_image_path]==0.7.1->pandas-profiling) (4.4.2)\n",
            "Requirement already satisfied, skipping upgrade: PyWavelets in /usr/local/lib/python3.7/dist-packages (from imagehash; extra == \"type_image_path\"->visions[type_image_path]==0.7.1->pandas-profiling) (1.1.1)\n",
            "Building wheels for collected packages: htmlmin, phik\n",
            "  Building wheel for htmlmin (setup.py) ... \u001b[?25l\u001b[?25hdone\n",
            "  Created wheel for htmlmin: filename=htmlmin-0.1.12-cp37-none-any.whl size=27099 sha256=e3acb4e6fb60a9439dc8b904c508573653915b96cfc9b82ef8ef667b30f15162\n",
            "  Stored in directory: /root/.cache/pip/wheels/43/07/ac/7c5a9d708d65247ac1f94066cf1db075540b85716c30255459\n",
            "  Building wheel for phik (setup.py) ... \u001b[?25l\u001b[?25hdone\n",
            "  Created wheel for phik: filename=phik-0.11.2-cp37-none-any.whl size=1107437 sha256=da29e1172b41ca20e6a6837a69760f8deb40ddff3ffdd1531cb3850765147151\n",
            "  Stored in directory: /root/.cache/pip/wheels/c0/a3/b0/f27b1cfe32ea131a3715169132ff6d85653789e80e966c3bf6\n",
            "Successfully built htmlmin phik\n",
            "\u001b[31mERROR: google-colab 1.0.0 has requirement requests~=2.23.0, but you'll have requests 2.25.1 which is incompatible.\u001b[0m\n",
            "\u001b[31mERROR: datascience 0.10.6 has requirement folium==0.2.1, but you'll have folium 0.8.3 which is incompatible.\u001b[0m\n",
            "\u001b[31mERROR: phik 0.11.2 has requirement scipy>=1.5.2, but you'll have scipy 1.4.1 which is incompatible.\u001b[0m\n",
            "Installing collected packages: pydantic, PyYAML, htmlmin, tangled-up-in-unicode, tqdm, multimethod, imagehash, visions, requests, phik, pandas-profiling\n",
            "  Found existing installation: PyYAML 3.13\n",
            "    Uninstalling PyYAML-3.13:\n",
            "      Successfully uninstalled PyYAML-3.13\n",
            "  Found existing installation: tqdm 4.41.1\n",
            "    Uninstalling tqdm-4.41.1:\n",
            "      Successfully uninstalled tqdm-4.41.1\n",
            "  Found existing installation: requests 2.23.0\n",
            "    Uninstalling requests-2.23.0:\n",
            "      Successfully uninstalled requests-2.23.0\n",
            "  Found existing installation: pandas-profiling 1.4.1\n",
            "    Uninstalling pandas-profiling-1.4.1:\n",
            "      Successfully uninstalled pandas-profiling-1.4.1\n",
            "Successfully installed PyYAML-5.4.1 htmlmin-0.1.12 imagehash-4.2.0 multimethod-1.4 pandas-profiling-3.0.0 phik-0.11.2 pydantic-1.8.2 requests-2.25.1 tangled-up-in-unicode-0.1.0 tqdm-4.61.1 visions-0.7.1\n"
          ],
          "name": "stdout"
        }
      ]
    },
    {
      "cell_type": "code",
      "metadata": {
        "colab": {
          "base_uri": "https://localhost:8080/"
        },
        "id": "ZdEq8MAM1Q8N",
        "outputId": "9e4a0350-744e-4d6d-d9df-92de89b1fcc5"
      },
      "source": [
        "pip install delayed"
      ],
      "execution_count": null,
      "outputs": [
        {
          "output_type": "stream",
          "text": [
            "Collecting delayed\n",
            "  Downloading https://files.pythonhosted.org/packages/7b/80/96302b67fe8d324af597748d5eef9cfb98bb1e6590b5f25a5b58b5e6f93f/delayed-0.11.0b1-py2.py3-none-any.whl\n",
            "Collecting hiredis\n",
            "\u001b[?25l  Downloading https://files.pythonhosted.org/packages/ed/33/290cea35b09c80b4634773ad5572a8030a87b5d39736719f698f521d2a13/hiredis-2.0.0-cp37-cp37m-manylinux2010_x86_64.whl (85kB)\n",
            "\u001b[K     |████████████████████████████████| 92kB 2.9MB/s \n",
            "\u001b[?25hCollecting redis\n",
            "\u001b[?25l  Downloading https://files.pythonhosted.org/packages/a7/7c/24fb0511df653cf1a5d938d8f5d19802a88cef255706fdda242ff97e91b7/redis-3.5.3-py2.py3-none-any.whl (72kB)\n",
            "\u001b[K     |████████████████████████████████| 81kB 5.7MB/s \n",
            "\u001b[?25hInstalling collected packages: hiredis, redis, delayed\n",
            "Successfully installed delayed-0.11.0b1 hiredis-2.0.0 redis-3.5.3\n"
          ],
          "name": "stdout"
        }
      ]
    },
    {
      "cell_type": "markdown",
      "metadata": {
        "id": "esv8iyWRFwSK"
      },
      "source": [
        "1) "
      ]
    },
    {
      "cell_type": "code",
      "metadata": {
        "colab": {
          "base_uri": "https://localhost:8080/"
        },
        "id": "BuWrMl-1FwSL",
        "outputId": "29e44ca4-0649-410a-b82f-c757e8ede576"
      },
      "source": [
        "import pandas as pd\n",
        "from sklearn.model_selection import train_test_split\n",
        "# feature, target지정\n",
        "target = 'vacc_h1n1_f'\n",
        "\n",
        "# train과  test셋 불러오기\n",
        "train = pd.merge(pd.read_csv('/content/train.csv'), pd.read_csv('/content/train_labels.csv')[target], left_index = True, right_index=True)\n",
        "test = pd.read_csv('/content/test.csv')\n",
        "\n",
        "\n",
        "\n",
        "# train과 valid셋 으로 분할\n",
        "train, val = train_test_split(train, test_size = 0.2, \\\n",
        "                                                  stratify = train[target],random_state = 2)\n",
        "train.shape, val.shape, test.shape"
      ],
      "execution_count": null,
      "outputs": [
        {
          "output_type": "execute_result",
          "data": {
            "text/plain": [
              "((33723, 39), (8431, 39), (28104, 38))"
            ]
          },
          "metadata": {
            "tags": []
          },
          "execution_count": 5
        }
      ]
    },
    {
      "cell_type": "code",
      "metadata": {
        "colab": {
          "base_uri": "https://localhost:8080/"
        },
        "id": "lYKVgvLQbRzw",
        "outputId": "f978380b-00ba-447e-f3c9-d2baf5c7933f"
      },
      "source": [
        "train.info()"
      ],
      "execution_count": null,
      "outputs": [
        {
          "output_type": "stream",
          "text": [
            "<class 'pandas.core.frame.DataFrame'>\n",
            "Int64Index: 33723 entries, 20365 to 30904\n",
            "Data columns (total 39 columns):\n",
            " #   Column                       Non-Null Count  Dtype  \n",
            "---  ------                       --------------  -----  \n",
            " 0   h1n1_concern                 26933 non-null  float64\n",
            " 1   h1n1_knowledge               26933 non-null  float64\n",
            " 2   behavioral_antiviral_meds    26853 non-null  float64\n",
            " 3   behavioral_avoidance         26731 non-null  float64\n",
            " 4   behavioral_face_mask         26913 non-null  float64\n",
            " 5   behavioral_wash_hands        26894 non-null  float64\n",
            " 6   behavioral_large_gatherings  26866 non-null  float64\n",
            " 7   behavioral_outside_home      26851 non-null  float64\n",
            " 8   behavioral_touch_face        26795 non-null  float64\n",
            " 9   doctor_recc_h1n1             32235 non-null  float64\n",
            " 10  doctor_recc_seasonal         32235 non-null  float64\n",
            " 11  chronic_med_condition        32648 non-null  float64\n",
            " 12  child_under_6_months         26106 non-null  float64\n",
            " 13  health_insurance             18218 non-null  float64\n",
            " 14  health_worker                26120 non-null  float64\n",
            " 15  opinion_h1n1_vacc_effective  26637 non-null  object \n",
            " 16  opinion_h1n1_risk            26602 non-null  object \n",
            " 17  opinion_h1n1_sick_from_vacc  26568 non-null  object \n",
            " 18  opinion_seas_vacc_effective  26519 non-null  object \n",
            " 19  opinion_seas_risk            26466 non-null  object \n",
            " 20  opinion_seas_sick_from_vacc  26413 non-null  object \n",
            " 21  agegrp                       33723 non-null  object \n",
            " 22  education_comp               25540 non-null  float64\n",
            " 23  raceeth4_i                   33723 non-null  int64  \n",
            " 24  sex_i                        33723 non-null  int64  \n",
            " 25  inc_pov                      33723 non-null  int64  \n",
            " 26  marital                      25524 non-null  float64\n",
            " 27  rent_own_r                   31959 non-null  float64\n",
            " 28  employment_status            25466 non-null  object \n",
            " 29  census_region                33723 non-null  int64  \n",
            " 30  census_msa                   33723 non-null  object \n",
            " 31  n_adult_r                    33482 non-null  float64\n",
            " 32  household_children           33482 non-null  float64\n",
            " 33  n_people_r                   33618 non-null  float64\n",
            " 34  employment_industry          13714 non-null  object \n",
            " 35  employment_occupation        13714 non-null  object \n",
            " 36  hhs_region                   33723 non-null  int64  \n",
            " 37  state                        33723 non-null  object \n",
            " 38  vacc_h1n1_f                  33723 non-null  int64  \n",
            "dtypes: float64(21), int64(6), object(12)\n",
            "memory usage: 10.3+ MB\n"
          ],
          "name": "stdout"
        }
      ]
    },
    {
      "cell_type": "code",
      "metadata": {
        "colab": {
          "base_uri": "https://localhost:8080/"
        },
        "id": "tZoAG63xbkIU",
        "outputId": "39936b89-931c-4620-f77e-4c2b0d3e77d7"
      },
      "source": [
        "train.isnull().sum()"
      ],
      "execution_count": null,
      "outputs": [
        {
          "output_type": "execute_result",
          "data": {
            "text/plain": [
              "h1n1_concern                    6790\n",
              "h1n1_knowledge                  6790\n",
              "behavioral_antiviral_meds       6870\n",
              "behavioral_avoidance            6992\n",
              "behavioral_face_mask            6810\n",
              "behavioral_wash_hands           6829\n",
              "behavioral_large_gatherings     6857\n",
              "behavioral_outside_home         6872\n",
              "behavioral_touch_face           6928\n",
              "doctor_recc_h1n1                1488\n",
              "doctor_recc_seasonal            1488\n",
              "chronic_med_condition           1075\n",
              "child_under_6_months            7617\n",
              "health_insurance               15505\n",
              "health_worker                   7603\n",
              "opinion_h1n1_vacc_effective     7086\n",
              "opinion_h1n1_risk               7121\n",
              "opinion_h1n1_sick_from_vacc     7155\n",
              "opinion_seas_vacc_effective     7204\n",
              "opinion_seas_risk               7257\n",
              "opinion_seas_sick_from_vacc     7310\n",
              "agegrp                             0\n",
              "education_comp                  8183\n",
              "raceeth4_i                         0\n",
              "sex_i                              0\n",
              "inc_pov                            0\n",
              "marital                         8199\n",
              "rent_own_r                      1764\n",
              "employment_status               8257\n",
              "census_region                      0\n",
              "census_msa                         0\n",
              "n_adult_r                        241\n",
              "household_children               241\n",
              "n_people_r                       105\n",
              "employment_industry            20009\n",
              "employment_occupation          20009\n",
              "hhs_region                         0\n",
              "state                              0\n",
              "vacc_h1n1_f                        0\n",
              "dtype: int64"
            ]
          },
          "metadata": {
            "tags": []
          },
          "execution_count": 7
        }
      ]
    },
    {
      "cell_type": "code",
      "metadata": {
        "colab": {
          "base_uri": "https://localhost:8080/"
        },
        "id": "JJMSyzv4bmM4",
        "outputId": "2f92df2f-af26-4bb0-8928-fbf856786a9b"
      },
      "source": [
        "# 타겟의 비율을 통한 기준모델 \n",
        "train[target].value_counts(normalize=True)"
      ],
      "execution_count": null,
      "outputs": [
        {
          "output_type": "execute_result",
          "data": {
            "text/plain": [
              "0    0.760935\n",
              "1    0.239065\n",
              "Name: vacc_h1n1_f, dtype: float64"
            ]
          },
          "metadata": {
            "tags": []
          },
          "execution_count": 8
        }
      ]
    },
    {
      "cell_type": "code",
      "metadata": {
        "colab": {
          "base_uri": "https://localhost:8080/",
          "height": 212
        },
        "id": "-f2DdkHImWFS",
        "outputId": "9848b380-cfd8-42cb-c184-31e1204d3a37"
      },
      "source": [
        "# 범주형 데이터중 카디널리티가 많은 데이터 확인하기\n",
        "train.describe(exclude='number')"
      ],
      "execution_count": null,
      "outputs": [
        {
          "output_type": "execute_result",
          "data": {
            "text/html": [
              "<div>\n",
              "<style scoped>\n",
              "    .dataframe tbody tr th:only-of-type {\n",
              "        vertical-align: middle;\n",
              "    }\n",
              "\n",
              "    .dataframe tbody tr th {\n",
              "        vertical-align: top;\n",
              "    }\n",
              "\n",
              "    .dataframe thead th {\n",
              "        text-align: right;\n",
              "    }\n",
              "</style>\n",
              "<table border=\"1\" class=\"dataframe\">\n",
              "  <thead>\n",
              "    <tr style=\"text-align: right;\">\n",
              "      <th></th>\n",
              "      <th>opinion_h1n1_vacc_effective</th>\n",
              "      <th>opinion_h1n1_risk</th>\n",
              "      <th>opinion_h1n1_sick_from_vacc</th>\n",
              "      <th>opinion_seas_vacc_effective</th>\n",
              "      <th>opinion_seas_risk</th>\n",
              "      <th>opinion_seas_sick_from_vacc</th>\n",
              "      <th>agegrp</th>\n",
              "      <th>employment_status</th>\n",
              "      <th>census_msa</th>\n",
              "      <th>employment_industry</th>\n",
              "      <th>employment_occupation</th>\n",
              "      <th>state</th>\n",
              "    </tr>\n",
              "  </thead>\n",
              "  <tbody>\n",
              "    <tr>\n",
              "      <th>count</th>\n",
              "      <td>26637</td>\n",
              "      <td>26602</td>\n",
              "      <td>26568</td>\n",
              "      <td>26519</td>\n",
              "      <td>26466</td>\n",
              "      <td>26413</td>\n",
              "      <td>33723</td>\n",
              "      <td>25466</td>\n",
              "      <td>33723</td>\n",
              "      <td>13714</td>\n",
              "      <td>13714</td>\n",
              "      <td>33723</td>\n",
              "    </tr>\n",
              "    <tr>\n",
              "      <th>unique</th>\n",
              "      <td>6</td>\n",
              "      <td>6</td>\n",
              "      <td>6</td>\n",
              "      <td>6</td>\n",
              "      <td>6</td>\n",
              "      <td>6</td>\n",
              "      <td>7</td>\n",
              "      <td>3</td>\n",
              "      <td>3</td>\n",
              "      <td>23</td>\n",
              "      <td>25</td>\n",
              "      <td>51</td>\n",
              "    </tr>\n",
              "    <tr>\n",
              "      <th>top</th>\n",
              "      <td>Somewhat Effective</td>\n",
              "      <td>Somewhat Low</td>\n",
              "      <td>Not Very Worried</td>\n",
              "      <td>Somewhat Effective</td>\n",
              "      <td>Somewhat Low</td>\n",
              "      <td>Not At All Worried</td>\n",
              "      <td>65+ Years</td>\n",
              "      <td>Employed</td>\n",
              "      <td>MSA, Not Principle City</td>\n",
              "      <td>Health Care and Social Assistance Industries</td>\n",
              "      <td>Management Occupations</td>\n",
              "      <td>CALIFORNIA</td>\n",
              "    </tr>\n",
              "    <tr>\n",
              "      <th>freq</th>\n",
              "      <td>11710</td>\n",
              "      <td>9980</td>\n",
              "      <td>9229</td>\n",
              "      <td>11571</td>\n",
              "      <td>9057</td>\n",
              "      <td>11813</td>\n",
              "      <td>6821</td>\n",
              "      <td>13722</td>\n",
              "      <td>15202</td>\n",
              "      <td>2451</td>\n",
              "      <td>1769</td>\n",
              "      <td>829</td>\n",
              "    </tr>\n",
              "  </tbody>\n",
              "</table>\n",
              "</div>"
            ],
            "text/plain": [
              "       opinion_h1n1_vacc_effective  ...       state\n",
              "count                        26637  ...       33723\n",
              "unique                           6  ...          51\n",
              "top             Somewhat Effective  ...  CALIFORNIA\n",
              "freq                         11710  ...         829\n",
              "\n",
              "[4 rows x 12 columns]"
            ]
          },
          "metadata": {
            "tags": []
          },
          "execution_count": 9
        }
      ]
    },
    {
      "cell_type": "code",
      "metadata": {
        "id": "8fBgygombmKe"
      },
      "source": [
        "def engineer(df):\n",
        "    selected_cols = df.select_dtypes(include=['number', 'object'])\n",
        "    labels = selected_cols.nunique() # 특성별 카디널리티 리스트\n",
        "    selected_features = labels[labels <= 30].index.tolist() # 카디널리티가 30보다 작은 특성만 선택합니다.\n",
        "    df = df[selected_features]\n",
        "\n",
        "    # 새로운 특성을 생성합니다.\n",
        "    behaviorals = [col for col in df.columns if 'behavioral' in col] \n",
        "    df['behaviorals'] = df[behaviorals].sum(axis=1)\n",
        "\n",
        "    dels = [col for col in df.columns if ('employment' in col or 'seas' in col)]\n",
        "    df.drop(columns=dels, inplace=True)\n",
        "    return df\n",
        "\n",
        "\n",
        "train = engineer(train)\n",
        "val = engineer(val)\n",
        "test = engineer(test)"
      ],
      "execution_count": null,
      "outputs": []
    },
    {
      "cell_type": "code",
      "metadata": {
        "colab": {
          "base_uri": "https://localhost:8080/",
          "height": 312
        },
        "id": "r1yDsn9CbmH8",
        "outputId": "a2cde3d2-0616-4bdb-a025-8a568e08cf06"
      },
      "source": [
        "train.head()"
      ],
      "execution_count": null,
      "outputs": [
        {
          "output_type": "execute_result",
          "data": {
            "text/html": [
              "<div>\n",
              "<style scoped>\n",
              "    .dataframe tbody tr th:only-of-type {\n",
              "        vertical-align: middle;\n",
              "    }\n",
              "\n",
              "    .dataframe tbody tr th {\n",
              "        vertical-align: top;\n",
              "    }\n",
              "\n",
              "    .dataframe thead th {\n",
              "        text-align: right;\n",
              "    }\n",
              "</style>\n",
              "<table border=\"1\" class=\"dataframe\">\n",
              "  <thead>\n",
              "    <tr style=\"text-align: right;\">\n",
              "      <th></th>\n",
              "      <th>h1n1_concern</th>\n",
              "      <th>h1n1_knowledge</th>\n",
              "      <th>behavioral_antiviral_meds</th>\n",
              "      <th>behavioral_avoidance</th>\n",
              "      <th>behavioral_face_mask</th>\n",
              "      <th>behavioral_wash_hands</th>\n",
              "      <th>behavioral_large_gatherings</th>\n",
              "      <th>behavioral_outside_home</th>\n",
              "      <th>behavioral_touch_face</th>\n",
              "      <th>doctor_recc_h1n1</th>\n",
              "      <th>chronic_med_condition</th>\n",
              "      <th>child_under_6_months</th>\n",
              "      <th>health_insurance</th>\n",
              "      <th>health_worker</th>\n",
              "      <th>opinion_h1n1_vacc_effective</th>\n",
              "      <th>opinion_h1n1_risk</th>\n",
              "      <th>opinion_h1n1_sick_from_vacc</th>\n",
              "      <th>agegrp</th>\n",
              "      <th>education_comp</th>\n",
              "      <th>raceeth4_i</th>\n",
              "      <th>sex_i</th>\n",
              "      <th>inc_pov</th>\n",
              "      <th>marital</th>\n",
              "      <th>rent_own_r</th>\n",
              "      <th>census_region</th>\n",
              "      <th>census_msa</th>\n",
              "      <th>n_adult_r</th>\n",
              "      <th>household_children</th>\n",
              "      <th>n_people_r</th>\n",
              "      <th>hhs_region</th>\n",
              "      <th>vacc_h1n1_f</th>\n",
              "      <th>behaviorals</th>\n",
              "    </tr>\n",
              "  </thead>\n",
              "  <tbody>\n",
              "    <tr>\n",
              "      <th>20365</th>\n",
              "      <td>1.0</td>\n",
              "      <td>1.0</td>\n",
              "      <td>0.0</td>\n",
              "      <td>0.0</td>\n",
              "      <td>0.0</td>\n",
              "      <td>0.0</td>\n",
              "      <td>0.0</td>\n",
              "      <td>0.0</td>\n",
              "      <td>0.0</td>\n",
              "      <td>0.0</td>\n",
              "      <td>1.0</td>\n",
              "      <td>0.0</td>\n",
              "      <td>NaN</td>\n",
              "      <td>0.0</td>\n",
              "      <td>Somewhat Effective</td>\n",
              "      <td>Somewhat Low</td>\n",
              "      <td>Not At All Worried</td>\n",
              "      <td>18 - 34 Years</td>\n",
              "      <td>4.0</td>\n",
              "      <td>3</td>\n",
              "      <td>1</td>\n",
              "      <td>1</td>\n",
              "      <td>2.0</td>\n",
              "      <td>1.0</td>\n",
              "      <td>1</td>\n",
              "      <td>MSA, Not Principle City</td>\n",
              "      <td>4.0</td>\n",
              "      <td>0.0</td>\n",
              "      <td>4.0</td>\n",
              "      <td>2</td>\n",
              "      <td>0</td>\n",
              "      <td>0.0</td>\n",
              "    </tr>\n",
              "    <tr>\n",
              "      <th>29138</th>\n",
              "      <td>1.0</td>\n",
              "      <td>1.0</td>\n",
              "      <td>0.0</td>\n",
              "      <td>1.0</td>\n",
              "      <td>0.0</td>\n",
              "      <td>1.0</td>\n",
              "      <td>1.0</td>\n",
              "      <td>1.0</td>\n",
              "      <td>1.0</td>\n",
              "      <td>1.0</td>\n",
              "      <td>0.0</td>\n",
              "      <td>0.0</td>\n",
              "      <td>1.0</td>\n",
              "      <td>0.0</td>\n",
              "      <td>Somewhat Effective</td>\n",
              "      <td>Somewhat High</td>\n",
              "      <td>Not Very Worried</td>\n",
              "      <td>35 - 44 Years</td>\n",
              "      <td>2.0</td>\n",
              "      <td>3</td>\n",
              "      <td>2</td>\n",
              "      <td>3</td>\n",
              "      <td>2.0</td>\n",
              "      <td>2.0</td>\n",
              "      <td>2</td>\n",
              "      <td>Non-MSA</td>\n",
              "      <td>2.0</td>\n",
              "      <td>2.0</td>\n",
              "      <td>4.0</td>\n",
              "      <td>7</td>\n",
              "      <td>1</td>\n",
              "      <td>5.0</td>\n",
              "    </tr>\n",
              "    <tr>\n",
              "      <th>36128</th>\n",
              "      <td>2.0</td>\n",
              "      <td>2.0</td>\n",
              "      <td>0.0</td>\n",
              "      <td>1.0</td>\n",
              "      <td>0.0</td>\n",
              "      <td>1.0</td>\n",
              "      <td>1.0</td>\n",
              "      <td>1.0</td>\n",
              "      <td>0.0</td>\n",
              "      <td>0.0</td>\n",
              "      <td>1.0</td>\n",
              "      <td>0.0</td>\n",
              "      <td>1.0</td>\n",
              "      <td>0.0</td>\n",
              "      <td>Not Very Effective</td>\n",
              "      <td>Very Low</td>\n",
              "      <td>Dont Know</td>\n",
              "      <td>65+ Years</td>\n",
              "      <td>1.0</td>\n",
              "      <td>3</td>\n",
              "      <td>2</td>\n",
              "      <td>2</td>\n",
              "      <td>2.0</td>\n",
              "      <td>1.0</td>\n",
              "      <td>4</td>\n",
              "      <td>MSA, Not Principle City</td>\n",
              "      <td>1.0</td>\n",
              "      <td>0.0</td>\n",
              "      <td>1.0</td>\n",
              "      <td>10</td>\n",
              "      <td>0</td>\n",
              "      <td>4.0</td>\n",
              "    </tr>\n",
              "    <tr>\n",
              "      <th>39793</th>\n",
              "      <td>2.0</td>\n",
              "      <td>1.0</td>\n",
              "      <td>0.0</td>\n",
              "      <td>1.0</td>\n",
              "      <td>0.0</td>\n",
              "      <td>1.0</td>\n",
              "      <td>0.0</td>\n",
              "      <td>0.0</td>\n",
              "      <td>1.0</td>\n",
              "      <td>0.0</td>\n",
              "      <td>0.0</td>\n",
              "      <td>0.0</td>\n",
              "      <td>1.0</td>\n",
              "      <td>0.0</td>\n",
              "      <td>Very Effective</td>\n",
              "      <td>Somewhat Low</td>\n",
              "      <td>Not Very Worried</td>\n",
              "      <td>55 - 64 Years</td>\n",
              "      <td>4.0</td>\n",
              "      <td>3</td>\n",
              "      <td>1</td>\n",
              "      <td>1</td>\n",
              "      <td>1.0</td>\n",
              "      <td>1.0</td>\n",
              "      <td>2</td>\n",
              "      <td>MSA, Principle City</td>\n",
              "      <td>2.0</td>\n",
              "      <td>0.0</td>\n",
              "      <td>2.0</td>\n",
              "      <td>7</td>\n",
              "      <td>0</td>\n",
              "      <td>3.0</td>\n",
              "    </tr>\n",
              "    <tr>\n",
              "      <th>32973</th>\n",
              "      <td>0.0</td>\n",
              "      <td>1.0</td>\n",
              "      <td>0.0</td>\n",
              "      <td>0.0</td>\n",
              "      <td>0.0</td>\n",
              "      <td>0.0</td>\n",
              "      <td>0.0</td>\n",
              "      <td>0.0</td>\n",
              "      <td>0.0</td>\n",
              "      <td>0.0</td>\n",
              "      <td>0.0</td>\n",
              "      <td>0.0</td>\n",
              "      <td>NaN</td>\n",
              "      <td>0.0</td>\n",
              "      <td>Not At All Effective</td>\n",
              "      <td>Somewhat Low</td>\n",
              "      <td>Not At All Worried</td>\n",
              "      <td>18 - 34 Years</td>\n",
              "      <td>4.0</td>\n",
              "      <td>3</td>\n",
              "      <td>2</td>\n",
              "      <td>2</td>\n",
              "      <td>1.0</td>\n",
              "      <td>1.0</td>\n",
              "      <td>2</td>\n",
              "      <td>Non-MSA</td>\n",
              "      <td>2.0</td>\n",
              "      <td>3.0</td>\n",
              "      <td>5.0</td>\n",
              "      <td>7</td>\n",
              "      <td>0</td>\n",
              "      <td>0.0</td>\n",
              "    </tr>\n",
              "  </tbody>\n",
              "</table>\n",
              "</div>"
            ],
            "text/plain": [
              "       h1n1_concern  h1n1_knowledge  ...  vacc_h1n1_f  behaviorals\n",
              "20365           1.0             1.0  ...            0          0.0\n",
              "29138           1.0             1.0  ...            1          5.0\n",
              "36128           2.0             2.0  ...            0          4.0\n",
              "39793           2.0             1.0  ...            0          3.0\n",
              "32973           0.0             1.0  ...            0          0.0\n",
              "\n",
              "[5 rows x 32 columns]"
            ]
          },
          "metadata": {
            "tags": []
          },
          "execution_count": 11
        }
      ]
    },
    {
      "cell_type": "code",
      "metadata": {
        "id": "jFYy0Cg1bmGE"
      },
      "source": [
        "# features 생성하기 \n",
        "features = train.drop(columns=[target]).columns\n",
        "\n",
        "# train/ test/ validation 데이터를 feature와 target으로 분리한다.\n",
        "X_train = train[features]\n",
        "y_train = train[target]\n",
        "X_val = val[features]\n",
        "y_val = val[target]\n",
        "X_test = test[features]"
      ],
      "execution_count": null,
      "outputs": []
    },
    {
      "cell_type": "code",
      "metadata": {
        "colab": {
          "base_uri": "https://localhost:8080/"
        },
        "id": "t_ZFsFQxn2Ve",
        "outputId": "e044e302-e6f7-4138-83e6-271b04fb92ce"
      },
      "source": [
        "from category_encoders import OneHotEncoder\n",
        "from sklearn.impute import SimpleImputer\n",
        "from sklearn.preprocessing import StandardScaler\n",
        "from sklearn.linear_model import LogisticRegression\n",
        "from sklearn.pipeline import make_pipeline\n",
        "# 파이프라인 생성및 적용\n",
        "pipe = make_pipeline(\n",
        "    OneHotEncoder(), \n",
        "    SimpleImputer(), \n",
        "    StandardScaler(), \n",
        "    LogisticRegression(n_jobs=-1)\n",
        ")\n",
        "pipe.fit(X_train, y_train)\n",
        "\n",
        "print('검증세트 정확도', pipe.score(X_val, y_val))\n",
        "\n",
        "y_pred = pipe.predict(X_test)"
      ],
      "execution_count": null,
      "outputs": [
        {
          "output_type": "stream",
          "text": [
            "/usr/local/lib/python3.7/dist-packages/statsmodels/tools/_testing.py:19: FutureWarning: pandas.util.testing is deprecated. Use the functions in the public API at pandas.testing instead.\n",
            "  import pandas.util.testing as tm\n",
            "/usr/local/lib/python3.7/dist-packages/category_encoders/utils.py:21: FutureWarning: is_categorical is deprecated and will be removed in a future version.  Use is_categorical_dtype instead\n",
            "  elif pd.api.types.is_categorical(cols):\n"
          ],
          "name": "stderr"
        },
        {
          "output_type": "stream",
          "text": [
            "검증세트 정확도 0.8185268651405527\n"
          ],
          "name": "stdout"
        }
      ]
    },
    {
      "cell_type": "markdown",
      "metadata": {
        "id": "Uo-dTaZ6FwSL"
      },
      "source": [
        "### 2) "
      ]
    },
    {
      "cell_type": "code",
      "metadata": {
        "colab": {
          "base_uri": "https://localhost:8080/"
        },
        "id": "1MGowd-5xKD9",
        "outputId": "73d94788-e543-475b-dad3-c860bf0bc312"
      },
      "source": [
        "from sklearn.tree import DecisionTreeClassifier\n",
        "\n",
        "pipe = make_pipeline(\n",
        "OneHotEncoder(use_cat_names=True),  \n",
        "SimpleImputer(), \n",
        "DecisionTreeClassifier(max_leaf_nodes=70, min_samples_leaf= 10,max_depth=7,criterion='entropy', random_state=2))\n",
        "\n",
        "pipe.fit(X_train, y_train)\n",
        "print('훈련 정확도: ', pipe.score(X_train, y_train))\n",
        "print('검증 정확도: ', pipe.score(X_val, y_val))"
      ],
      "execution_count": null,
      "outputs": [
        {
          "output_type": "stream",
          "text": [
            "/usr/local/lib/python3.7/dist-packages/category_encoders/utils.py:21: FutureWarning: is_categorical is deprecated and will be removed in a future version.  Use is_categorical_dtype instead\n",
            "  elif pd.api.types.is_categorical(cols):\n"
          ],
          "name": "stderr"
        },
        {
          "output_type": "stream",
          "text": [
            "훈련 정확도:  0.8281884767072918\n",
            "검증 정확도:  0.8287273158581425\n"
          ],
          "name": "stdout"
        }
      ]
    },
    {
      "cell_type": "code",
      "metadata": {
        "colab": {
          "base_uri": "https://localhost:8080/"
        },
        "id": "ZIj8B7Tj_TC4",
        "outputId": "1191ca41-607e-4ce9-e09d-32dd5ebdea6e"
      },
      "source": [
        "#f1 score\n",
        "from sklearn.metrics import f1_score\n",
        "predict = pipe.predict(X_val)\n",
        "f1=f1_score(y_val, predict)\n",
        "\n",
        "print(\"F1 score: {}\" .format(f1))"
      ],
      "execution_count": null,
      "outputs": [
        {
          "output_type": "stream",
          "text": [
            "F1 score: 0.54676710608914\n"
          ],
          "name": "stdout"
        }
      ]
    },
    {
      "cell_type": "code",
      "metadata": {
        "colab": {
          "base_uri": "https://localhost:8080/",
          "height": 734
        },
        "id": "roPnJJJUUgW0",
        "outputId": "60ad30fa-da0e-424e-e29e-2bb9c9343f35"
      },
      "source": [
        "# graphviz 설치방법: conda install -c conda-forge python-graphviz\n",
        "import graphviz\n",
        "from sklearn.tree import export_graphviz\n",
        "\n",
        "model_dt = pipe.named_steps['decisiontreeclassifier']\n",
        "enc = pipe.named_steps['onehotencoder']\n",
        "encoded_columns = enc.transform(X_val).columns\n",
        "\n",
        "dot_data = export_graphviz(model_dt\n",
        "                          , max_depth=3\n",
        "                          , feature_names=encoded_columns\n",
        "                          , class_names=['no', 'yes']\n",
        "                          , filled=True\n",
        "                          , proportion=True)\n",
        "\n",
        "\n",
        "display(graphviz.Source(dot_data))"
      ],
      "execution_count": null,
      "outputs": [
        {
          "output_type": "display_data",
          "data": {
            "text/plain": [
              "<graphviz.files.Source at 0x7f74bf02d250>"
            ],
            "image/svg+xml": "<?xml version=\"1.0\" encoding=\"UTF-8\" standalone=\"no\"?>\n<!DOCTYPE svg PUBLIC \"-//W3C//DTD SVG 1.1//EN\"\n \"http://www.w3.org/Graphics/SVG/1.1/DTD/svg11.dtd\">\n<!-- Generated by graphviz version 2.40.1 (20161225.0304)\n -->\n<!-- Title: Tree Pages: 1 -->\n<svg width=\"2476pt\" height=\"520pt\"\n viewBox=\"0.00 0.00 2476.00 520.00\" xmlns=\"http://www.w3.org/2000/svg\" xmlns:xlink=\"http://www.w3.org/1999/xlink\">\n<g id=\"graph0\" class=\"graph\" transform=\"scale(1 1) rotate(0) translate(4 516)\">\n<title>Tree</title>\n<polygon fill=\"#ffffff\" stroke=\"transparent\" points=\"-4,4 -4,-516 2472,-516 2472,4 -4,4\"/>\n<!-- 0 -->\n<g id=\"node1\" class=\"node\">\n<title>0</title>\n<polygon fill=\"#eda977\" stroke=\"#000000\" points=\"1281.5,-512 1110.5,-512 1110.5,-429 1281.5,-429 1281.5,-512\"/>\n<text text-anchor=\"middle\" x=\"1196\" y=\"-496.8\" font-family=\"Times,serif\" font-size=\"14.00\" fill=\"#000000\">doctor_recc_h1n1 &lt;= 0.62</text>\n<text text-anchor=\"middle\" x=\"1196\" y=\"-481.8\" font-family=\"Times,serif\" font-size=\"14.00\" fill=\"#000000\">entropy = 0.793</text>\n<text text-anchor=\"middle\" x=\"1196\" y=\"-466.8\" font-family=\"Times,serif\" font-size=\"14.00\" fill=\"#000000\">samples = 100.0%</text>\n<text text-anchor=\"middle\" x=\"1196\" y=\"-451.8\" font-family=\"Times,serif\" font-size=\"14.00\" fill=\"#000000\">value = [0.761, 0.239]</text>\n<text text-anchor=\"middle\" x=\"1196\" y=\"-436.8\" font-family=\"Times,serif\" font-size=\"14.00\" fill=\"#000000\">class = no</text>\n</g>\n<!-- 1 -->\n<g id=\"node2\" class=\"node\">\n<title>1</title>\n<polygon fill=\"#e9965a\" stroke=\"#000000\" points=\"1006,-393 836,-393 836,-310 1006,-310 1006,-393\"/>\n<text text-anchor=\"middle\" x=\"921\" y=\"-377.8\" font-family=\"Times,serif\" font-size=\"14.00\" fill=\"#000000\">health_insurance &lt;= 0.946</text>\n<text text-anchor=\"middle\" x=\"921\" y=\"-362.8\" font-family=\"Times,serif\" font-size=\"14.00\" fill=\"#000000\">entropy = 0.596</text>\n<text text-anchor=\"middle\" x=\"921\" y=\"-347.8\" font-family=\"Times,serif\" font-size=\"14.00\" fill=\"#000000\">samples = 77.0%</text>\n<text text-anchor=\"middle\" x=\"921\" y=\"-332.8\" font-family=\"Times,serif\" font-size=\"14.00\" fill=\"#000000\">value = [0.855, 0.145]</text>\n<text text-anchor=\"middle\" x=\"921\" y=\"-317.8\" font-family=\"Times,serif\" font-size=\"14.00\" fill=\"#000000\">class = no</text>\n</g>\n<!-- 0&#45;&gt;1 -->\n<g id=\"edge1\" class=\"edge\">\n<title>0&#45;&gt;1</title>\n<path fill=\"none\" stroke=\"#000000\" d=\"M1110.4957,-433.5C1080.4892,-420.5153 1046.6083,-405.8541 1015.8791,-392.5568\"/>\n<polygon fill=\"#000000\" stroke=\"#000000\" points=\"1017.019,-389.2364 1006.4514,-388.4772 1014.239,-395.6608 1017.019,-389.2364\"/>\n<text text-anchor=\"middle\" x=\"1015.6547\" y=\"-408.0215\" font-family=\"Times,serif\" font-size=\"14.00\" fill=\"#000000\">True</text>\n</g>\n<!-- 2 -->\n<g id=\"node17\" class=\"node\">\n<title>2</title>\n<polygon fill=\"#d7ebfa\" stroke=\"#000000\" points=\"1598,-393 1428,-393 1428,-310 1598,-310 1598,-393\"/>\n<text text-anchor=\"middle\" x=\"1513\" y=\"-377.8\" font-family=\"Times,serif\" font-size=\"14.00\" fill=\"#000000\">health_insurance &lt;= 0.946</text>\n<text text-anchor=\"middle\" x=\"1513\" y=\"-362.8\" font-family=\"Times,serif\" font-size=\"14.00\" fill=\"#000000\">entropy = 0.991</text>\n<text text-anchor=\"middle\" x=\"1513\" y=\"-347.8\" font-family=\"Times,serif\" font-size=\"14.00\" fill=\"#000000\">samples = 23.0%</text>\n<text text-anchor=\"middle\" x=\"1513\" y=\"-332.8\" font-family=\"Times,serif\" font-size=\"14.00\" fill=\"#000000\">value = [0.445, 0.555]</text>\n<text text-anchor=\"middle\" x=\"1513\" y=\"-317.8\" font-family=\"Times,serif\" font-size=\"14.00\" fill=\"#000000\">class = yes</text>\n</g>\n<!-- 0&#45;&gt;2 -->\n<g id=\"edge16\" class=\"edge\">\n<title>0&#45;&gt;2</title>\n<path fill=\"none\" stroke=\"#000000\" d=\"M1281.7848,-438.2969C1324.0644,-422.4254 1375.1571,-403.2454 1418.5499,-386.956\"/>\n<polygon fill=\"#000000\" stroke=\"#000000\" points=\"1419.8389,-390.2107 1427.9709,-383.4195 1417.3787,-383.6573 1419.8389,-390.2107\"/>\n<text text-anchor=\"middle\" x=\"1417.6337\" y=\"-402.4822\" font-family=\"Times,serif\" font-size=\"14.00\" fill=\"#000000\">False</text>\n</g>\n<!-- 3 -->\n<g id=\"node3\" class=\"node\">\n<title>3</title>\n<polygon fill=\"#e78c4b\" stroke=\"#000000\" points=\"576.5,-274 419.5,-274 419.5,-191 576.5,-191 576.5,-274\"/>\n<text text-anchor=\"middle\" x=\"498\" y=\"-258.8\" font-family=\"Times,serif\" font-size=\"14.00\" fill=\"#000000\">health_worker &lt;= 0.056</text>\n<text text-anchor=\"middle\" x=\"498\" y=\"-243.8\" font-family=\"Times,serif\" font-size=\"14.00\" fill=\"#000000\">entropy = 0.414</text>\n<text text-anchor=\"middle\" x=\"498\" y=\"-228.8\" font-family=\"Times,serif\" font-size=\"14.00\" fill=\"#000000\">samples = 42.1%</text>\n<text text-anchor=\"middle\" x=\"498\" y=\"-213.8\" font-family=\"Times,serif\" font-size=\"14.00\" fill=\"#000000\">value = [0.917, 0.083]</text>\n<text text-anchor=\"middle\" x=\"498\" y=\"-198.8\" font-family=\"Times,serif\" font-size=\"14.00\" fill=\"#000000\">class = no</text>\n</g>\n<!-- 1&#45;&gt;3 -->\n<g id=\"edge2\" class=\"edge\">\n<title>1&#45;&gt;3</title>\n<path fill=\"none\" stroke=\"#000000\" d=\"M835.9085,-327.5617C763.4092,-307.166 659.6091,-277.9645 586.2259,-257.32\"/>\n<polygon fill=\"#000000\" stroke=\"#000000\" points=\"587.1053,-253.9317 576.5311,-254.5927 585.2096,-260.6701 587.1053,-253.9317\"/>\n</g>\n<!-- 4 -->\n<g id=\"node10\" class=\"node\">\n<title>4</title>\n<polygon fill=\"#eca470\" stroke=\"#000000\" points=\"1081,-274 761,-274 761,-191 1081,-191 1081,-274\"/>\n<text text-anchor=\"middle\" x=\"921\" y=\"-258.8\" font-family=\"Times,serif\" font-size=\"14.00\" fill=\"#000000\">opinion_h1n1_vacc_effective_Very Effective &lt;= 0.5</text>\n<text text-anchor=\"middle\" x=\"921\" y=\"-243.8\" font-family=\"Times,serif\" font-size=\"14.00\" fill=\"#000000\">entropy = 0.757</text>\n<text text-anchor=\"middle\" x=\"921\" y=\"-228.8\" font-family=\"Times,serif\" font-size=\"14.00\" fill=\"#000000\">samples = 35.0%</text>\n<text text-anchor=\"middle\" x=\"921\" y=\"-213.8\" font-family=\"Times,serif\" font-size=\"14.00\" fill=\"#000000\">value = [0.782, 0.218]</text>\n<text text-anchor=\"middle\" x=\"921\" y=\"-198.8\" font-family=\"Times,serif\" font-size=\"14.00\" fill=\"#000000\">class = no</text>\n</g>\n<!-- 1&#45;&gt;4 -->\n<g id=\"edge9\" class=\"edge\">\n<title>1&#45;&gt;4</title>\n<path fill=\"none\" stroke=\"#000000\" d=\"M921,-309.8796C921,-301.6838 921,-292.9891 921,-284.5013\"/>\n<polygon fill=\"#000000\" stroke=\"#000000\" points=\"924.5001,-284.298 921,-274.2981 917.5001,-284.2981 924.5001,-284.298\"/>\n</g>\n<!-- 9 -->\n<g id=\"node4\" class=\"node\">\n<title>9</title>\n<polygon fill=\"#e78845\" stroke=\"#000000\" points=\"320,-155 0,-155 0,-72 320,-72 320,-155\"/>\n<text text-anchor=\"middle\" x=\"160\" y=\"-139.8\" font-family=\"Times,serif\" font-size=\"14.00\" fill=\"#000000\">opinion_h1n1_vacc_effective_Very Effective &lt;= 0.5</text>\n<text text-anchor=\"middle\" x=\"160\" y=\"-124.8\" font-family=\"Times,serif\" font-size=\"14.00\" fill=\"#000000\">entropy = 0.308</text>\n<text text-anchor=\"middle\" x=\"160\" y=\"-109.8\" font-family=\"Times,serif\" font-size=\"14.00\" fill=\"#000000\">samples = 30.1%</text>\n<text text-anchor=\"middle\" x=\"160\" y=\"-94.8\" font-family=\"Times,serif\" font-size=\"14.00\" fill=\"#000000\">value = [0.945, 0.055]</text>\n<text text-anchor=\"middle\" x=\"160\" y=\"-79.8\" font-family=\"Times,serif\" font-size=\"14.00\" fill=\"#000000\">class = no</text>\n</g>\n<!-- 3&#45;&gt;9 -->\n<g id=\"edge3\" class=\"edge\">\n<title>3&#45;&gt;9</title>\n<path fill=\"none\" stroke=\"#000000\" d=\"M419.1806,-204.75C380.1074,-190.9934 331.9387,-174.0346 287.7712,-158.4845\"/>\n<polygon fill=\"#000000\" stroke=\"#000000\" points=\"288.7135,-155.1058 278.1187,-155.0862 286.3888,-161.7085 288.7135,-155.1058\"/>\n</g>\n<!-- 10 -->\n<g id=\"node7\" class=\"node\">\n<title>10</title>\n<polygon fill=\"#ea985d\" stroke=\"#000000\" points=\"658,-155 338,-155 338,-72 658,-72 658,-155\"/>\n<text text-anchor=\"middle\" x=\"498\" y=\"-139.8\" font-family=\"Times,serif\" font-size=\"14.00\" fill=\"#000000\">opinion_h1n1_vacc_effective_Very Effective &lt;= 0.5</text>\n<text text-anchor=\"middle\" x=\"498\" y=\"-124.8\" font-family=\"Times,serif\" font-size=\"14.00\" fill=\"#000000\">entropy = 0.621</text>\n<text text-anchor=\"middle\" x=\"498\" y=\"-109.8\" font-family=\"Times,serif\" font-size=\"14.00\" fill=\"#000000\">samples = 12.0%</text>\n<text text-anchor=\"middle\" x=\"498\" y=\"-94.8\" font-family=\"Times,serif\" font-size=\"14.00\" fill=\"#000000\">value = [0.845, 0.155]</text>\n<text text-anchor=\"middle\" x=\"498\" y=\"-79.8\" font-family=\"Times,serif\" font-size=\"14.00\" fill=\"#000000\">class = no</text>\n</g>\n<!-- 3&#45;&gt;10 -->\n<g id=\"edge6\" class=\"edge\">\n<title>3&#45;&gt;10</title>\n<path fill=\"none\" stroke=\"#000000\" d=\"M498,-190.8796C498,-182.6838 498,-173.9891 498,-165.5013\"/>\n<polygon fill=\"#000000\" stroke=\"#000000\" points=\"501.5001,-165.298 498,-155.2981 494.5001,-165.2981 501.5001,-165.298\"/>\n</g>\n<!-- 23 -->\n<g id=\"node5\" class=\"node\">\n<title>23</title>\n<polygon fill=\"#c0c0c0\" stroke=\"#000000\" points=\"151,-36 97,-36 97,0 151,0 151,-36\"/>\n<text text-anchor=\"middle\" x=\"124\" y=\"-14.3\" font-family=\"Times,serif\" font-size=\"14.00\" fill=\"#000000\">(...)</text>\n</g>\n<!-- 9&#45;&gt;23 -->\n<g id=\"edge4\" class=\"edge\">\n<title>9&#45;&gt;23</title>\n<path fill=\"none\" stroke=\"#000000\" d=\"M144.3146,-71.8901C140.9739,-63.0279 137.525,-53.8788 134.4386,-45.6913\"/>\n<polygon fill=\"#000000\" stroke=\"#000000\" points=\"137.6877,-44.3878 130.8853,-36.2651 131.1376,-46.8569 137.6877,-44.3878\"/>\n</g>\n<!-- 24 -->\n<g id=\"node6\" class=\"node\">\n<title>24</title>\n<polygon fill=\"#c0c0c0\" stroke=\"#000000\" points=\"223,-36 169,-36 169,0 223,0 223,-36\"/>\n<text text-anchor=\"middle\" x=\"196\" y=\"-14.3\" font-family=\"Times,serif\" font-size=\"14.00\" fill=\"#000000\">(...)</text>\n</g>\n<!-- 9&#45;&gt;24 -->\n<g id=\"edge5\" class=\"edge\">\n<title>9&#45;&gt;24</title>\n<path fill=\"none\" stroke=\"#000000\" d=\"M175.6854,-71.8901C179.0261,-63.0279 182.475,-53.8788 185.5614,-45.6913\"/>\n<polygon fill=\"#000000\" stroke=\"#000000\" points=\"188.8624,-46.8569 189.1147,-36.2651 182.3123,-44.3878 188.8624,-46.8569\"/>\n</g>\n<!-- 35 -->\n<g id=\"node8\" class=\"node\">\n<title>35</title>\n<polygon fill=\"#c0c0c0\" stroke=\"#000000\" points=\"489,-36 435,-36 435,0 489,0 489,-36\"/>\n<text text-anchor=\"middle\" x=\"462\" y=\"-14.3\" font-family=\"Times,serif\" font-size=\"14.00\" fill=\"#000000\">(...)</text>\n</g>\n<!-- 10&#45;&gt;35 -->\n<g id=\"edge7\" class=\"edge\">\n<title>10&#45;&gt;35</title>\n<path fill=\"none\" stroke=\"#000000\" d=\"M482.3146,-71.8901C478.9739,-63.0279 475.525,-53.8788 472.4386,-45.6913\"/>\n<polygon fill=\"#000000\" stroke=\"#000000\" points=\"475.6877,-44.3878 468.8853,-36.2651 469.1376,-46.8569 475.6877,-44.3878\"/>\n</g>\n<!-- 36 -->\n<g id=\"node9\" class=\"node\">\n<title>36</title>\n<polygon fill=\"#c0c0c0\" stroke=\"#000000\" points=\"561,-36 507,-36 507,0 561,0 561,-36\"/>\n<text text-anchor=\"middle\" x=\"534\" y=\"-14.3\" font-family=\"Times,serif\" font-size=\"14.00\" fill=\"#000000\">(...)</text>\n</g>\n<!-- 10&#45;&gt;36 -->\n<g id=\"edge8\" class=\"edge\">\n<title>10&#45;&gt;36</title>\n<path fill=\"none\" stroke=\"#000000\" d=\"M513.6854,-71.8901C517.0261,-63.0279 520.475,-53.8788 523.5614,-45.6913\"/>\n<polygon fill=\"#000000\" stroke=\"#000000\" points=\"526.8624,-46.8569 527.1147,-36.2651 520.3123,-44.3878 526.8624,-46.8569\"/>\n</g>\n<!-- 5 -->\n<g id=\"node11\" class=\"node\">\n<title>5</title>\n<polygon fill=\"#ea9b62\" stroke=\"#000000\" points=\"912,-155 676,-155 676,-72 912,-72 912,-155\"/>\n<text text-anchor=\"middle\" x=\"794\" y=\"-139.8\" font-family=\"Times,serif\" font-size=\"14.00\" fill=\"#000000\">opinion_h1n1_risk_Very Low &lt;= 0.5</text>\n<text text-anchor=\"middle\" x=\"794\" y=\"-124.8\" font-family=\"Times,serif\" font-size=\"14.00\" fill=\"#000000\">entropy = 0.658</text>\n<text text-anchor=\"middle\" x=\"794\" y=\"-109.8\" font-family=\"Times,serif\" font-size=\"14.00\" fill=\"#000000\">samples = 27.7%</text>\n<text text-anchor=\"middle\" x=\"794\" y=\"-94.8\" font-family=\"Times,serif\" font-size=\"14.00\" fill=\"#000000\">value = [0.83, 0.17]</text>\n<text text-anchor=\"middle\" x=\"794\" y=\"-79.8\" font-family=\"Times,serif\" font-size=\"14.00\" fill=\"#000000\">class = no</text>\n</g>\n<!-- 4&#45;&gt;5 -->\n<g id=\"edge10\" class=\"edge\">\n<title>4&#45;&gt;5</title>\n<path fill=\"none\" stroke=\"#000000\" d=\"M876.5816,-190.8796C866.6814,-181.6031 856.0991,-171.6874 845.9269,-162.1559\"/>\n<polygon fill=\"#000000\" stroke=\"#000000\" points=\"848.2984,-159.5816 838.608,-155.2981 843.5121,-164.6896 848.2984,-159.5816\"/>\n</g>\n<!-- 6 -->\n<g id=\"node14\" class=\"node\">\n<title>6</title>\n<polygon fill=\"#f7d7c0\" stroke=\"#000000\" points=\"1166,-155 930,-155 930,-72 1166,-72 1166,-155\"/>\n<text text-anchor=\"middle\" x=\"1048\" y=\"-139.8\" font-family=\"Times,serif\" font-size=\"14.00\" fill=\"#000000\">opinion_h1n1_risk_Very Low &lt;= 0.5</text>\n<text text-anchor=\"middle\" x=\"1048\" y=\"-124.8\" font-family=\"Times,serif\" font-size=\"14.00\" fill=\"#000000\">entropy = 0.974</text>\n<text text-anchor=\"middle\" x=\"1048\" y=\"-109.8\" font-family=\"Times,serif\" font-size=\"14.00\" fill=\"#000000\">samples = 7.2%</text>\n<text text-anchor=\"middle\" x=\"1048\" y=\"-94.8\" font-family=\"Times,serif\" font-size=\"14.00\" fill=\"#000000\">value = [0.595, 0.405]</text>\n<text text-anchor=\"middle\" x=\"1048\" y=\"-79.8\" font-family=\"Times,serif\" font-size=\"14.00\" fill=\"#000000\">class = no</text>\n</g>\n<!-- 4&#45;&gt;6 -->\n<g id=\"edge13\" class=\"edge\">\n<title>4&#45;&gt;6</title>\n<path fill=\"none\" stroke=\"#000000\" d=\"M965.4184,-190.8796C975.3186,-181.6031 985.9009,-171.6874 996.0731,-162.1559\"/>\n<polygon fill=\"#000000\" stroke=\"#000000\" points=\"998.4879,-164.6896 1003.392,-155.2981 993.7016,-159.5816 998.4879,-164.6896\"/>\n</g>\n<!-- 11 -->\n<g id=\"node12\" class=\"node\">\n<title>11</title>\n<polygon fill=\"#c0c0c0\" stroke=\"#000000\" points=\"785,-36 731,-36 731,0 785,0 785,-36\"/>\n<text text-anchor=\"middle\" x=\"758\" y=\"-14.3\" font-family=\"Times,serif\" font-size=\"14.00\" fill=\"#000000\">(...)</text>\n</g>\n<!-- 5&#45;&gt;11 -->\n<g id=\"edge11\" class=\"edge\">\n<title>5&#45;&gt;11</title>\n<path fill=\"none\" stroke=\"#000000\" d=\"M778.3146,-71.8901C774.9739,-63.0279 771.525,-53.8788 768.4386,-45.6913\"/>\n<polygon fill=\"#000000\" stroke=\"#000000\" points=\"771.6877,-44.3878 764.8853,-36.2651 765.1376,-46.8569 771.6877,-44.3878\"/>\n</g>\n<!-- 12 -->\n<g id=\"node13\" class=\"node\">\n<title>12</title>\n<polygon fill=\"#c0c0c0\" stroke=\"#000000\" points=\"857,-36 803,-36 803,0 857,0 857,-36\"/>\n<text text-anchor=\"middle\" x=\"830\" y=\"-14.3\" font-family=\"Times,serif\" font-size=\"14.00\" fill=\"#000000\">(...)</text>\n</g>\n<!-- 5&#45;&gt;12 -->\n<g id=\"edge12\" class=\"edge\">\n<title>5&#45;&gt;12</title>\n<path fill=\"none\" stroke=\"#000000\" d=\"M809.6854,-71.8901C813.0261,-63.0279 816.475,-53.8788 819.5614,-45.6913\"/>\n<polygon fill=\"#000000\" stroke=\"#000000\" points=\"822.8624,-46.8569 823.1147,-36.2651 816.3123,-44.3878 822.8624,-46.8569\"/>\n</g>\n<!-- 17 -->\n<g id=\"node15\" class=\"node\">\n<title>17</title>\n<polygon fill=\"#c0c0c0\" stroke=\"#000000\" points=\"1039,-36 985,-36 985,0 1039,0 1039,-36\"/>\n<text text-anchor=\"middle\" x=\"1012\" y=\"-14.3\" font-family=\"Times,serif\" font-size=\"14.00\" fill=\"#000000\">(...)</text>\n</g>\n<!-- 6&#45;&gt;17 -->\n<g id=\"edge14\" class=\"edge\">\n<title>6&#45;&gt;17</title>\n<path fill=\"none\" stroke=\"#000000\" d=\"M1032.3146,-71.8901C1028.9739,-63.0279 1025.525,-53.8788 1022.4386,-45.6913\"/>\n<polygon fill=\"#000000\" stroke=\"#000000\" points=\"1025.6877,-44.3878 1018.8853,-36.2651 1019.1376,-46.8569 1025.6877,-44.3878\"/>\n</g>\n<!-- 18 -->\n<g id=\"node16\" class=\"node\">\n<title>18</title>\n<polygon fill=\"#c0c0c0\" stroke=\"#000000\" points=\"1111,-36 1057,-36 1057,0 1111,0 1111,-36\"/>\n<text text-anchor=\"middle\" x=\"1084\" y=\"-14.3\" font-family=\"Times,serif\" font-size=\"14.00\" fill=\"#000000\">(...)</text>\n</g>\n<!-- 6&#45;&gt;18 -->\n<g id=\"edge15\" class=\"edge\">\n<title>6&#45;&gt;18</title>\n<path fill=\"none\" stroke=\"#000000\" d=\"M1063.6854,-71.8901C1067.0261,-63.0279 1070.475,-53.8788 1073.5614,-45.6913\"/>\n<polygon fill=\"#000000\" stroke=\"#000000\" points=\"1076.8624,-46.8569 1077.1147,-36.2651 1070.3123,-44.3878 1076.8624,-46.8569\"/>\n</g>\n<!-- 7 -->\n<g id=\"node18\" class=\"node\">\n<title>7</title>\n<polygon fill=\"#f6d6be\" stroke=\"#000000\" points=\"1591.5,-274 1434.5,-274 1434.5,-191 1591.5,-191 1591.5,-274\"/>\n<text text-anchor=\"middle\" x=\"1513\" y=\"-258.8\" font-family=\"Times,serif\" font-size=\"14.00\" fill=\"#000000\">health_worker &lt;= 0.056</text>\n<text text-anchor=\"middle\" x=\"1513\" y=\"-243.8\" font-family=\"Times,serif\" font-size=\"14.00\" fill=\"#000000\">entropy = 0.972</text>\n<text text-anchor=\"middle\" x=\"1513\" y=\"-228.8\" font-family=\"Times,serif\" font-size=\"14.00\" fill=\"#000000\">samples = 9.7%</text>\n<text text-anchor=\"middle\" x=\"1513\" y=\"-213.8\" font-family=\"Times,serif\" font-size=\"14.00\" fill=\"#000000\">value = [0.598, 0.402]</text>\n<text text-anchor=\"middle\" x=\"1513\" y=\"-198.8\" font-family=\"Times,serif\" font-size=\"14.00\" fill=\"#000000\">class = no</text>\n</g>\n<!-- 2&#45;&gt;7 -->\n<g id=\"edge17\" class=\"edge\">\n<title>2&#45;&gt;7</title>\n<path fill=\"none\" stroke=\"#000000\" d=\"M1513,-309.8796C1513,-301.6838 1513,-292.9891 1513,-284.5013\"/>\n<polygon fill=\"#000000\" stroke=\"#000000\" points=\"1516.5001,-284.298 1513,-274.2981 1509.5001,-284.2981 1516.5001,-284.298\"/>\n</g>\n<!-- 8 -->\n<g id=\"node25\" class=\"node\">\n<title>8</title>\n<polygon fill=\"#9ccef2\" stroke=\"#000000\" points=\"2113,-274 1877,-274 1877,-191 2113,-191 2113,-274\"/>\n<text text-anchor=\"middle\" x=\"1995\" y=\"-258.8\" font-family=\"Times,serif\" font-size=\"14.00\" fill=\"#000000\">opinion_h1n1_risk_Very Low &lt;= 0.5</text>\n<text text-anchor=\"middle\" x=\"1995\" y=\"-243.8\" font-family=\"Times,serif\" font-size=\"14.00\" fill=\"#000000\">entropy = 0.917</text>\n<text text-anchor=\"middle\" x=\"1995\" y=\"-228.8\" font-family=\"Times,serif\" font-size=\"14.00\" fill=\"#000000\">samples = 13.3%</text>\n<text text-anchor=\"middle\" x=\"1995\" y=\"-213.8\" font-family=\"Times,serif\" font-size=\"14.00\" fill=\"#000000\">value = [0.332, 0.668]</text>\n<text text-anchor=\"middle\" x=\"1995\" y=\"-198.8\" font-family=\"Times,serif\" font-size=\"14.00\" fill=\"#000000\">class = yes</text>\n</g>\n<!-- 2&#45;&gt;8 -->\n<g id=\"edge24\" class=\"edge\">\n<title>2&#45;&gt;8</title>\n<path fill=\"none\" stroke=\"#000000\" d=\"M1598.0624,-330.4991C1672.6183,-312.0922 1782.0673,-285.0705 1867.1639,-264.0612\"/>\n<polygon fill=\"#000000\" stroke=\"#000000\" points=\"1868.0211,-267.4547 1876.8907,-261.6598 1866.3433,-260.6588 1868.0211,-267.4547\"/>\n</g>\n<!-- 25 -->\n<g id=\"node19\" class=\"node\">\n<title>25</title>\n<polygon fill=\"#f2be99\" stroke=\"#000000\" points=\"1504,-155 1184,-155 1184,-72 1504,-72 1504,-155\"/>\n<text text-anchor=\"middle\" x=\"1344\" y=\"-139.8\" font-family=\"Times,serif\" font-size=\"14.00\" fill=\"#000000\">opinion_h1n1_vacc_effective_Very Effective &lt;= 0.5</text>\n<text text-anchor=\"middle\" x=\"1344\" y=\"-124.8\" font-family=\"Times,serif\" font-size=\"14.00\" fill=\"#000000\">entropy = 0.911</text>\n<text text-anchor=\"middle\" x=\"1344\" y=\"-109.8\" font-family=\"Times,serif\" font-size=\"14.00\" fill=\"#000000\">samples = 5.1%</text>\n<text text-anchor=\"middle\" x=\"1344\" y=\"-94.8\" font-family=\"Times,serif\" font-size=\"14.00\" fill=\"#000000\">value = [0.674, 0.326]</text>\n<text text-anchor=\"middle\" x=\"1344\" y=\"-79.8\" font-family=\"Times,serif\" font-size=\"14.00\" fill=\"#000000\">class = no</text>\n</g>\n<!-- 7&#45;&gt;25 -->\n<g id=\"edge18\" class=\"edge\">\n<title>7&#45;&gt;25</title>\n<path fill=\"none\" stroke=\"#000000\" d=\"M1453.892,-190.8796C1440.1266,-181.1868 1425.3701,-170.7961 1411.2807,-160.8752\"/>\n<polygon fill=\"#000000\" stroke=\"#000000\" points=\"1413.2661,-157.9926 1403.0746,-155.0969 1409.2359,-163.716 1413.2661,-157.9926\"/>\n</g>\n<!-- 26 -->\n<g id=\"node22\" class=\"node\">\n<title>26</title>\n<polygon fill=\"#fdf8f3\" stroke=\"#000000\" points=\"1842,-155 1522,-155 1522,-72 1842,-72 1842,-155\"/>\n<text text-anchor=\"middle\" x=\"1682\" y=\"-139.8\" font-family=\"Times,serif\" font-size=\"14.00\" fill=\"#000000\">opinion_h1n1_vacc_effective_Very Effective &lt;= 0.5</text>\n<text text-anchor=\"middle\" x=\"1682\" y=\"-124.8\" font-family=\"Times,serif\" font-size=\"14.00\" fill=\"#000000\">entropy = 0.999</text>\n<text text-anchor=\"middle\" x=\"1682\" y=\"-109.8\" font-family=\"Times,serif\" font-size=\"14.00\" fill=\"#000000\">samples = 4.6%</text>\n<text text-anchor=\"middle\" x=\"1682\" y=\"-94.8\" font-family=\"Times,serif\" font-size=\"14.00\" fill=\"#000000\">value = [0.515, 0.485]</text>\n<text text-anchor=\"middle\" x=\"1682\" y=\"-79.8\" font-family=\"Times,serif\" font-size=\"14.00\" fill=\"#000000\">class = no</text>\n</g>\n<!-- 7&#45;&gt;26 -->\n<g id=\"edge21\" class=\"edge\">\n<title>7&#45;&gt;26</title>\n<path fill=\"none\" stroke=\"#000000\" d=\"M1572.108,-190.8796C1585.8734,-181.1868 1600.6299,-170.7961 1614.7193,-160.8752\"/>\n<polygon fill=\"#000000\" stroke=\"#000000\" points=\"1616.7641,-163.716 1622.9254,-155.0969 1612.7339,-157.9926 1616.7641,-163.716\"/>\n</g>\n<!-- 43 -->\n<g id=\"node20\" class=\"node\">\n<title>43</title>\n<polygon fill=\"#c0c0c0\" stroke=\"#000000\" points=\"1335,-36 1281,-36 1281,0 1335,0 1335,-36\"/>\n<text text-anchor=\"middle\" x=\"1308\" y=\"-14.3\" font-family=\"Times,serif\" font-size=\"14.00\" fill=\"#000000\">(...)</text>\n</g>\n<!-- 25&#45;&gt;43 -->\n<g id=\"edge19\" class=\"edge\">\n<title>25&#45;&gt;43</title>\n<path fill=\"none\" stroke=\"#000000\" d=\"M1328.3146,-71.8901C1324.9739,-63.0279 1321.525,-53.8788 1318.4386,-45.6913\"/>\n<polygon fill=\"#000000\" stroke=\"#000000\" points=\"1321.6877,-44.3878 1314.8853,-36.2651 1315.1376,-46.8569 1321.6877,-44.3878\"/>\n</g>\n<!-- 44 -->\n<g id=\"node21\" class=\"node\">\n<title>44</title>\n<polygon fill=\"#c0c0c0\" stroke=\"#000000\" points=\"1407,-36 1353,-36 1353,0 1407,0 1407,-36\"/>\n<text text-anchor=\"middle\" x=\"1380\" y=\"-14.3\" font-family=\"Times,serif\" font-size=\"14.00\" fill=\"#000000\">(...)</text>\n</g>\n<!-- 25&#45;&gt;44 -->\n<g id=\"edge20\" class=\"edge\">\n<title>25&#45;&gt;44</title>\n<path fill=\"none\" stroke=\"#000000\" d=\"M1359.6854,-71.8901C1363.0261,-63.0279 1366.475,-53.8788 1369.5614,-45.6913\"/>\n<polygon fill=\"#000000\" stroke=\"#000000\" points=\"1372.8624,-46.8569 1373.1147,-36.2651 1366.3123,-44.3878 1372.8624,-46.8569\"/>\n</g>\n<!-- 41 -->\n<g id=\"node23\" class=\"node\">\n<title>41</title>\n<polygon fill=\"#c0c0c0\" stroke=\"#000000\" points=\"1673,-36 1619,-36 1619,0 1673,0 1673,-36\"/>\n<text text-anchor=\"middle\" x=\"1646\" y=\"-14.3\" font-family=\"Times,serif\" font-size=\"14.00\" fill=\"#000000\">(...)</text>\n</g>\n<!-- 26&#45;&gt;41 -->\n<g id=\"edge22\" class=\"edge\">\n<title>26&#45;&gt;41</title>\n<path fill=\"none\" stroke=\"#000000\" d=\"M1666.3146,-71.8901C1662.9739,-63.0279 1659.525,-53.8788 1656.4386,-45.6913\"/>\n<polygon fill=\"#000000\" stroke=\"#000000\" points=\"1659.6877,-44.3878 1652.8853,-36.2651 1653.1376,-46.8569 1659.6877,-44.3878\"/>\n</g>\n<!-- 42 -->\n<g id=\"node24\" class=\"node\">\n<title>42</title>\n<polygon fill=\"#c0c0c0\" stroke=\"#000000\" points=\"1745,-36 1691,-36 1691,0 1745,0 1745,-36\"/>\n<text text-anchor=\"middle\" x=\"1718\" y=\"-14.3\" font-family=\"Times,serif\" font-size=\"14.00\" fill=\"#000000\">(...)</text>\n</g>\n<!-- 26&#45;&gt;42 -->\n<g id=\"edge23\" class=\"edge\">\n<title>26&#45;&gt;42</title>\n<path fill=\"none\" stroke=\"#000000\" d=\"M1697.6854,-71.8901C1701.0261,-63.0279 1704.475,-53.8788 1707.5614,-45.6913\"/>\n<polygon fill=\"#000000\" stroke=\"#000000\" points=\"1710.8624,-46.8569 1711.1147,-36.2651 1704.3123,-44.3878 1710.8624,-46.8569\"/>\n</g>\n<!-- 13 -->\n<g id=\"node26\" class=\"node\">\n<title>13</title>\n<polygon fill=\"#87c4ef\" stroke=\"#000000\" points=\"2129.5,-155 1860.5,-155 1860.5,-72 2129.5,-72 2129.5,-155\"/>\n<text text-anchor=\"middle\" x=\"1995\" y=\"-139.8\" font-family=\"Times,serif\" font-size=\"14.00\" fill=\"#000000\">opinion_h1n1_risk_Somewhat Low &lt;= 0.5</text>\n<text text-anchor=\"middle\" x=\"1995\" y=\"-124.8\" font-family=\"Times,serif\" font-size=\"14.00\" fill=\"#000000\">entropy = 0.859</text>\n<text text-anchor=\"middle\" x=\"1995\" y=\"-109.8\" font-family=\"Times,serif\" font-size=\"14.00\" fill=\"#000000\">samples = 11.5%</text>\n<text text-anchor=\"middle\" x=\"1995\" y=\"-94.8\" font-family=\"Times,serif\" font-size=\"14.00\" fill=\"#000000\">value = [0.282, 0.718]</text>\n<text text-anchor=\"middle\" x=\"1995\" y=\"-79.8\" font-family=\"Times,serif\" font-size=\"14.00\" fill=\"#000000\">class = yes</text>\n</g>\n<!-- 8&#45;&gt;13 -->\n<g id=\"edge25\" class=\"edge\">\n<title>8&#45;&gt;13</title>\n<path fill=\"none\" stroke=\"#000000\" d=\"M1995,-190.8796C1995,-182.6838 1995,-173.9891 1995,-165.5013\"/>\n<polygon fill=\"#000000\" stroke=\"#000000\" points=\"1998.5001,-165.298 1995,-155.2981 1991.5001,-165.2981 1998.5001,-165.298\"/>\n</g>\n<!-- 14 -->\n<g id=\"node29\" class=\"node\">\n<title>14</title>\n<polygon fill=\"#f3c6a6\" stroke=\"#000000\" points=\"2468,-155 2148,-155 2148,-72 2468,-72 2468,-155\"/>\n<text text-anchor=\"middle\" x=\"2308\" y=\"-139.8\" font-family=\"Times,serif\" font-size=\"14.00\" fill=\"#000000\">opinion_h1n1_vacc_effective_Very Effective &lt;= 0.5</text>\n<text text-anchor=\"middle\" x=\"2308\" y=\"-124.8\" font-family=\"Times,serif\" font-size=\"14.00\" fill=\"#000000\">entropy = 0.938</text>\n<text text-anchor=\"middle\" x=\"2308\" y=\"-109.8\" font-family=\"Times,serif\" font-size=\"14.00\" fill=\"#000000\">samples = 1.8%</text>\n<text text-anchor=\"middle\" x=\"2308\" y=\"-94.8\" font-family=\"Times,serif\" font-size=\"14.00\" fill=\"#000000\">value = [0.646, 0.354]</text>\n<text text-anchor=\"middle\" x=\"2308\" y=\"-79.8\" font-family=\"Times,serif\" font-size=\"14.00\" fill=\"#000000\">class = no</text>\n</g>\n<!-- 8&#45;&gt;14 -->\n<g id=\"edge28\" class=\"edge\">\n<title>8&#45;&gt;14</title>\n<path fill=\"none\" stroke=\"#000000\" d=\"M2104.4722,-190.8796C2131.8728,-180.4621 2161.3937,-169.2385 2189.2224,-158.6582\"/>\n<polygon fill=\"#000000\" stroke=\"#000000\" points=\"2190.4862,-161.9223 2198.5896,-155.0969 2187.9985,-155.3792 2190.4862,-161.9223\"/>\n</g>\n<!-- 19 -->\n<g id=\"node27\" class=\"node\">\n<title>19</title>\n<polygon fill=\"#c0c0c0\" stroke=\"#000000\" points=\"1986,-36 1932,-36 1932,0 1986,0 1986,-36\"/>\n<text text-anchor=\"middle\" x=\"1959\" y=\"-14.3\" font-family=\"Times,serif\" font-size=\"14.00\" fill=\"#000000\">(...)</text>\n</g>\n<!-- 13&#45;&gt;19 -->\n<g id=\"edge26\" class=\"edge\">\n<title>13&#45;&gt;19</title>\n<path fill=\"none\" stroke=\"#000000\" d=\"M1979.3146,-71.8901C1975.9739,-63.0279 1972.525,-53.8788 1969.4386,-45.6913\"/>\n<polygon fill=\"#000000\" stroke=\"#000000\" points=\"1972.6877,-44.3878 1965.8853,-36.2651 1966.1376,-46.8569 1972.6877,-44.3878\"/>\n</g>\n<!-- 20 -->\n<g id=\"node28\" class=\"node\">\n<title>20</title>\n<polygon fill=\"#c0c0c0\" stroke=\"#000000\" points=\"2058,-36 2004,-36 2004,0 2058,0 2058,-36\"/>\n<text text-anchor=\"middle\" x=\"2031\" y=\"-14.3\" font-family=\"Times,serif\" font-size=\"14.00\" fill=\"#000000\">(...)</text>\n</g>\n<!-- 13&#45;&gt;20 -->\n<g id=\"edge27\" class=\"edge\">\n<title>13&#45;&gt;20</title>\n<path fill=\"none\" stroke=\"#000000\" d=\"M2010.6854,-71.8901C2014.0261,-63.0279 2017.475,-53.8788 2020.5614,-45.6913\"/>\n<polygon fill=\"#000000\" stroke=\"#000000\" points=\"2023.8624,-46.8569 2024.1147,-36.2651 2017.3123,-44.3878 2023.8624,-46.8569\"/>\n</g>\n<!-- 31 -->\n<g id=\"node30\" class=\"node\">\n<title>31</title>\n<polygon fill=\"#c0c0c0\" stroke=\"#000000\" points=\"2299,-36 2245,-36 2245,0 2299,0 2299,-36\"/>\n<text text-anchor=\"middle\" x=\"2272\" y=\"-14.3\" font-family=\"Times,serif\" font-size=\"14.00\" fill=\"#000000\">(...)</text>\n</g>\n<!-- 14&#45;&gt;31 -->\n<g id=\"edge29\" class=\"edge\">\n<title>14&#45;&gt;31</title>\n<path fill=\"none\" stroke=\"#000000\" d=\"M2292.3146,-71.8901C2288.9739,-63.0279 2285.525,-53.8788 2282.4386,-45.6913\"/>\n<polygon fill=\"#000000\" stroke=\"#000000\" points=\"2285.6877,-44.3878 2278.8853,-36.2651 2279.1376,-46.8569 2285.6877,-44.3878\"/>\n</g>\n<!-- 32 -->\n<g id=\"node31\" class=\"node\">\n<title>32</title>\n<polygon fill=\"#c0c0c0\" stroke=\"#000000\" points=\"2371,-36 2317,-36 2317,0 2371,0 2371,-36\"/>\n<text text-anchor=\"middle\" x=\"2344\" y=\"-14.3\" font-family=\"Times,serif\" font-size=\"14.00\" fill=\"#000000\">(...)</text>\n</g>\n<!-- 14&#45;&gt;32 -->\n<g id=\"edge30\" class=\"edge\">\n<title>14&#45;&gt;32</title>\n<path fill=\"none\" stroke=\"#000000\" d=\"M2323.6854,-71.8901C2327.0261,-63.0279 2330.475,-53.8788 2333.5614,-45.6913\"/>\n<polygon fill=\"#000000\" stroke=\"#000000\" points=\"2336.8624,-46.8569 2337.1147,-36.2651 2330.3123,-44.3878 2336.8624,-46.8569\"/>\n</g>\n</g>\n</svg>\n"
          },
          "metadata": {
            "tags": []
          }
        }
      ]
    },
    {
      "cell_type": "code",
      "metadata": {
        "colab": {
          "base_uri": "https://localhost:8080/",
          "height": 1000
        },
        "id": "m6tWlXPpUTpW",
        "outputId": "7c0daa37-ca25-4a07-f046-a1e4f55fa367"
      },
      "source": [
        "# 특성중요도 시각화\n",
        "import matplotlib.pyplot as plt\n",
        "\n",
        "model_dt = pipe.named_steps['decisiontreeclassifier']\n",
        "importances = pd.Series(model_dt.feature_importances_, encoded_columns)\n",
        "plt.figure(figsize=(10,30))\n",
        "importances.sort_values().plot.barh();"
      ],
      "execution_count": null,
      "outputs": [
        {
          "output_type": "display_data",
          "data": {
            "image/png": "[encoded data removed]",
            "text/plain": [
              "<Figure size 720x2160 with 1 Axes>"
            ]
          },
          "metadata": {
            "tags": [],
            "needs_background": "light"
          }
        }
      ]
    },
    {
      "cell_type": "markdown",
      "metadata": {
        "id": "Yh3IJ8INFwSL"
      },
      "source": [
        "### 3) "
      ]
    },
    {
      "cell_type": "code",
      "metadata": {
        "colab": {
          "base_uri": "https://localhost:8080/"
        },
        "id": "wfvFfHppVsWy",
        "outputId": "34a20919-ae7a-49fd-bcd7-d96c71de6ca8"
      },
      "source": [
        "# 예측값 저장하기\n",
        "predict = pipe.predict(X_test)\n",
        "predict"
      ],
      "execution_count": null,
      "outputs": [
        {
          "output_type": "execute_result",
          "data": {
            "text/plain": [
              "array([0, 0, 0, ..., 0, 0, 0])"
            ]
          },
          "metadata": {
            "tags": []
          },
          "execution_count": 25
        }
      ]
    },
    {
      "cell_type": "code",
      "metadata": {
        "colab": {
          "base_uri": "https://localhost:8080/",
          "height": 422
        },
        "id": "RKU8JywwV0FC",
        "outputId": "c2f3cddf-b8e5-4224-f7ff-12d4041581be"
      },
      "source": [
        "# 제출파일 불러오기\n",
        "submission = pd.read_csv('/content/submission.csv')\n",
        "submission"
      ],
      "execution_count": null,
      "outputs": [
        {
          "output_type": "execute_result",
          "data": {
            "text/html": [
              "<div>\n",
              "<style scoped>\n",
              "    .dataframe tbody tr th:only-of-type {\n",
              "        vertical-align: middle;\n",
              "    }\n",
              "\n",
              "    .dataframe tbody tr th {\n",
              "        vertical-align: top;\n",
              "    }\n",
              "\n",
              "    .dataframe thead th {\n",
              "        text-align: right;\n",
              "    }\n",
              "</style>\n",
              "<table border=\"1\" class=\"dataframe\">\n",
              "  <thead>\n",
              "    <tr style=\"text-align: right;\">\n",
              "      <th></th>\n",
              "      <th>Id</th>\n",
              "      <th>vacc_h1n1_f</th>\n",
              "    </tr>\n",
              "  </thead>\n",
              "  <tbody>\n",
              "    <tr>\n",
              "      <th>0</th>\n",
              "      <td>0</td>\n",
              "      <td>0</td>\n",
              "    </tr>\n",
              "    <tr>\n",
              "      <th>1</th>\n",
              "      <td>1</td>\n",
              "      <td>1</td>\n",
              "    </tr>\n",
              "    <tr>\n",
              "      <th>2</th>\n",
              "      <td>2</td>\n",
              "      <td>1</td>\n",
              "    </tr>\n",
              "    <tr>\n",
              "      <th>3</th>\n",
              "      <td>3</td>\n",
              "      <td>1</td>\n",
              "    </tr>\n",
              "    <tr>\n",
              "      <th>4</th>\n",
              "      <td>4</td>\n",
              "      <td>0</td>\n",
              "    </tr>\n",
              "    <tr>\n",
              "      <th>...</th>\n",
              "      <td>...</td>\n",
              "      <td>...</td>\n",
              "    </tr>\n",
              "    <tr>\n",
              "      <th>28099</th>\n",
              "      <td>28099</td>\n",
              "      <td>0</td>\n",
              "    </tr>\n",
              "    <tr>\n",
              "      <th>28100</th>\n",
              "      <td>28100</td>\n",
              "      <td>1</td>\n",
              "    </tr>\n",
              "    <tr>\n",
              "      <th>28101</th>\n",
              "      <td>28101</td>\n",
              "      <td>1</td>\n",
              "    </tr>\n",
              "    <tr>\n",
              "      <th>28102</th>\n",
              "      <td>28102</td>\n",
              "      <td>0</td>\n",
              "    </tr>\n",
              "    <tr>\n",
              "      <th>28103</th>\n",
              "      <td>28103</td>\n",
              "      <td>0</td>\n",
              "    </tr>\n",
              "  </tbody>\n",
              "</table>\n",
              "<p>28104 rows × 2 columns</p>\n",
              "</div>"
            ],
            "text/plain": [
              "          Id  vacc_h1n1_f\n",
              "0          0            0\n",
              "1          1            1\n",
              "2          2            1\n",
              "3          3            1\n",
              "4          4            0\n",
              "...      ...          ...\n",
              "28099  28099            0\n",
              "28100  28100            1\n",
              "28101  28101            1\n",
              "28102  28102            0\n",
              "28103  28103            0\n",
              "\n",
              "[28104 rows x 2 columns]"
            ]
          },
          "metadata": {
            "tags": []
          },
          "execution_count": 26
        }
      ]
    },
    {
      "cell_type": "code",
      "metadata": {
        "colab": {
          "base_uri": "https://localhost:8080/",
          "height": 422
        },
        "id": "W2g5_rEhWZ8H",
        "outputId": "e9ee6fbe-b8d6-40df-c307-4da629ac41a2"
      },
      "source": [
        "# 예측값 덮어씌우기\n",
        "submission['vacc_h1n1_f'] = predict\n",
        "submission"
      ],
      "execution_count": null,
      "outputs": [
        {
          "output_type": "execute_result",
          "data": {
            "text/html": [
              "<div>\n",
              "<style scoped>\n",
              "    .dataframe tbody tr th:only-of-type {\n",
              "        vertical-align: middle;\n",
              "    }\n",
              "\n",
              "    .dataframe tbody tr th {\n",
              "        vertical-align: top;\n",
              "    }\n",
              "\n",
              "    .dataframe thead th {\n",
              "        text-align: right;\n",
              "    }\n",
              "</style>\n",
              "<table border=\"1\" class=\"dataframe\">\n",
              "  <thead>\n",
              "    <tr style=\"text-align: right;\">\n",
              "      <th></th>\n",
              "      <th>Id</th>\n",
              "      <th>vacc_h1n1_f</th>\n",
              "    </tr>\n",
              "  </thead>\n",
              "  <tbody>\n",
              "    <tr>\n",
              "      <th>0</th>\n",
              "      <td>0</td>\n",
              "      <td>0</td>\n",
              "    </tr>\n",
              "    <tr>\n",
              "      <th>1</th>\n",
              "      <td>1</td>\n",
              "      <td>0</td>\n",
              "    </tr>\n",
              "    <tr>\n",
              "      <th>2</th>\n",
              "      <td>2</td>\n",
              "      <td>0</td>\n",
              "    </tr>\n",
              "    <tr>\n",
              "      <th>3</th>\n",
              "      <td>3</td>\n",
              "      <td>0</td>\n",
              "    </tr>\n",
              "    <tr>\n",
              "      <th>4</th>\n",
              "      <td>4</td>\n",
              "      <td>0</td>\n",
              "    </tr>\n",
              "    <tr>\n",
              "      <th>...</th>\n",
              "      <td>...</td>\n",
              "      <td>...</td>\n",
              "    </tr>\n",
              "    <tr>\n",
              "      <th>28099</th>\n",
              "      <td>28099</td>\n",
              "      <td>0</td>\n",
              "    </tr>\n",
              "    <tr>\n",
              "      <th>28100</th>\n",
              "      <td>28100</td>\n",
              "      <td>0</td>\n",
              "    </tr>\n",
              "    <tr>\n",
              "      <th>28101</th>\n",
              "      <td>28101</td>\n",
              "      <td>0</td>\n",
              "    </tr>\n",
              "    <tr>\n",
              "      <th>28102</th>\n",
              "      <td>28102</td>\n",
              "      <td>0</td>\n",
              "    </tr>\n",
              "    <tr>\n",
              "      <th>28103</th>\n",
              "      <td>28103</td>\n",
              "      <td>0</td>\n",
              "    </tr>\n",
              "  </tbody>\n",
              "</table>\n",
              "<p>28104 rows × 2 columns</p>\n",
              "</div>"
            ],
            "text/plain": [
              "          Id  vacc_h1n1_f\n",
              "0          0            0\n",
              "1          1            0\n",
              "2          2            0\n",
              "3          3            0\n",
              "4          4            0\n",
              "...      ...          ...\n",
              "28099  28099            0\n",
              "28100  28100            0\n",
              "28101  28101            0\n",
              "28102  28102            0\n",
              "28103  28103            0\n",
              "\n",
              "[28104 rows x 2 columns]"
            ]
          },
          "metadata": {
            "tags": []
          },
          "execution_count": 27
        }
      ]
    },
    {
      "cell_type": "code",
      "metadata": {
        "id": "49uVOo5wWrF2"
      },
      "source": [
        "# 파일내보내기 \n",
        "submission.to_csv('submission.csv',index = False) #index제외 "
      ],
      "execution_count": null,
      "outputs": []
    },
    {
      "cell_type": "markdown",
      "metadata": {
        "id": "IPQ-9OVXFwSM"
      },
      "source": [
        "### 4)"
      ]
    }
  ]
}