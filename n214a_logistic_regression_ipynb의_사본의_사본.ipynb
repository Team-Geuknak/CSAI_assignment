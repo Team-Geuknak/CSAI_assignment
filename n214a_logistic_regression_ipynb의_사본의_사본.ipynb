{
  "nbformat": 4,
  "nbformat_minor": 0,
  "metadata": {
    "kernelspec": {
      "display_name": "Python 3",
      "language": "python",
      "name": "python3"
    },
    "language_info": {
      "codemirror_mode": {
        "name": "ipython",
        "version": 3
      },
      "file_extension": ".py",
      "mimetype": "text/x-python",
      "name": "python",
      "nbconvert_exporter": "python",
      "pygments_lexer": "ipython3",
      "version": "3.7.7"
    },
    "colab": {
      "name": "n214a-logistic-regression.ipynb의 사본의 사본",
      "provenance": [],
      "collapsed_sections": [],
      "include_colab_link": true
    }
  },
  "cells": [
    {
      "cell_type": "markdown",
      "metadata": {
        "id": "view-in-github",
        "colab_type": "text"
      },
      "source": [
        "<a href=\"https://colab.research.google.com/github/ZeusKwon/CSAI_assignment/blob/main/n214a_logistic_regression_ipynb%EC%9D%98_%EC%82%AC%EB%B3%B8%EC%9D%98_%EC%82%AC%EB%B3%B8.ipynb\" target=\"_parent\"><img src=\"https://colab.research.google.com/assets/colab-badge.svg\" alt=\"Open In Colab\"/></a>"
      ]
    },
    {
      "cell_type": "markdown",
      "metadata": {
        "id": "Mij0y-FDobyg"
      },
      "source": [
        "<img align=\"right\" src=\"https://ds-cs-images.s3.ap-northeast-2.amazonaws.com/Codestates_Fulllogo_Color.png\" width=100>\n",
        "\n",
        "## *DATA SCIENCE / SECTION 2 / SPRINT 1 / NOTE 4*\n",
        "\n",
        "# 📝 Assignment\n",
        "---"
      ]
    },
    {
      "cell_type": "markdown",
      "metadata": {
        "id": "Drs3azTuobyi"
      },
      "source": [
        "### 1)"
      ]
    },
    {
      "cell_type": "code",
      "metadata": {
        "id": "k5gRUry7obyi"
      },
      "source": [
        "import pandas as pd\n",
        "df = pd.read_csv('https://ds-lecture-data.s3.ap-northeast-2.amazonaws.com/cardio/cardio_train.csv', sep=';')"
      ],
      "execution_count": 1,
      "outputs": []
    },
    {
      "cell_type": "code",
      "metadata": {
        "id": "sPd6bbCvobyj",
        "colab": {
          "base_uri": "https://localhost:8080/",
          "height": 419
        },
        "outputId": "72821a28-25c6-4413-b969-25a4e584d866"
      },
      "source": [
        "# id칼럼 drop\n",
        "df = df.drop('id', axis = 1)\n",
        "df"
      ],
      "execution_count": 2,
      "outputs": [
        {
          "output_type": "execute_result",
          "data": {
            "text/html": [
              "<div>\n",
              "<style scoped>\n",
              "    .dataframe tbody tr th:only-of-type {\n",
              "        vertical-align: middle;\n",
              "    }\n",
              "\n",
              "    .dataframe tbody tr th {\n",
              "        vertical-align: top;\n",
              "    }\n",
              "\n",
              "    .dataframe thead th {\n",
              "        text-align: right;\n",
              "    }\n",
              "</style>\n",
              "<table border=\"1\" class=\"dataframe\">\n",
              "  <thead>\n",
              "    <tr style=\"text-align: right;\">\n",
              "      <th></th>\n",
              "      <th>age</th>\n",
              "      <th>gender</th>\n",
              "      <th>height</th>\n",
              "      <th>weight</th>\n",
              "      <th>ap_hi</th>\n",
              "      <th>ap_lo</th>\n",
              "      <th>cholesterol</th>\n",
              "      <th>gluc</th>\n",
              "      <th>smoke</th>\n",
              "      <th>alco</th>\n",
              "      <th>active</th>\n",
              "      <th>cardio</th>\n",
              "    </tr>\n",
              "  </thead>\n",
              "  <tbody>\n",
              "    <tr>\n",
              "      <th>0</th>\n",
              "      <td>18393</td>\n",
              "      <td>2</td>\n",
              "      <td>168</td>\n",
              "      <td>62.0</td>\n",
              "      <td>110</td>\n",
              "      <td>80</td>\n",
              "      <td>1</td>\n",
              "      <td>1</td>\n",
              "      <td>0</td>\n",
              "      <td>0</td>\n",
              "      <td>1</td>\n",
              "      <td>0</td>\n",
              "    </tr>\n",
              "    <tr>\n",
              "      <th>1</th>\n",
              "      <td>20228</td>\n",
              "      <td>1</td>\n",
              "      <td>156</td>\n",
              "      <td>85.0</td>\n",
              "      <td>140</td>\n",
              "      <td>90</td>\n",
              "      <td>3</td>\n",
              "      <td>1</td>\n",
              "      <td>0</td>\n",
              "      <td>0</td>\n",
              "      <td>1</td>\n",
              "      <td>1</td>\n",
              "    </tr>\n",
              "    <tr>\n",
              "      <th>2</th>\n",
              "      <td>18857</td>\n",
              "      <td>1</td>\n",
              "      <td>165</td>\n",
              "      <td>64.0</td>\n",
              "      <td>130</td>\n",
              "      <td>70</td>\n",
              "      <td>3</td>\n",
              "      <td>1</td>\n",
              "      <td>0</td>\n",
              "      <td>0</td>\n",
              "      <td>0</td>\n",
              "      <td>1</td>\n",
              "    </tr>\n",
              "    <tr>\n",
              "      <th>3</th>\n",
              "      <td>17623</td>\n",
              "      <td>2</td>\n",
              "      <td>169</td>\n",
              "      <td>82.0</td>\n",
              "      <td>150</td>\n",
              "      <td>100</td>\n",
              "      <td>1</td>\n",
              "      <td>1</td>\n",
              "      <td>0</td>\n",
              "      <td>0</td>\n",
              "      <td>1</td>\n",
              "      <td>1</td>\n",
              "    </tr>\n",
              "    <tr>\n",
              "      <th>4</th>\n",
              "      <td>17474</td>\n",
              "      <td>1</td>\n",
              "      <td>156</td>\n",
              "      <td>56.0</td>\n",
              "      <td>100</td>\n",
              "      <td>60</td>\n",
              "      <td>1</td>\n",
              "      <td>1</td>\n",
              "      <td>0</td>\n",
              "      <td>0</td>\n",
              "      <td>0</td>\n",
              "      <td>0</td>\n",
              "    </tr>\n",
              "    <tr>\n",
              "      <th>...</th>\n",
              "      <td>...</td>\n",
              "      <td>...</td>\n",
              "      <td>...</td>\n",
              "      <td>...</td>\n",
              "      <td>...</td>\n",
              "      <td>...</td>\n",
              "      <td>...</td>\n",
              "      <td>...</td>\n",
              "      <td>...</td>\n",
              "      <td>...</td>\n",
              "      <td>...</td>\n",
              "      <td>...</td>\n",
              "    </tr>\n",
              "    <tr>\n",
              "      <th>69995</th>\n",
              "      <td>19240</td>\n",
              "      <td>2</td>\n",
              "      <td>168</td>\n",
              "      <td>76.0</td>\n",
              "      <td>120</td>\n",
              "      <td>80</td>\n",
              "      <td>1</td>\n",
              "      <td>1</td>\n",
              "      <td>1</td>\n",
              "      <td>0</td>\n",
              "      <td>1</td>\n",
              "      <td>0</td>\n",
              "    </tr>\n",
              "    <tr>\n",
              "      <th>69996</th>\n",
              "      <td>22601</td>\n",
              "      <td>1</td>\n",
              "      <td>158</td>\n",
              "      <td>126.0</td>\n",
              "      <td>140</td>\n",
              "      <td>90</td>\n",
              "      <td>2</td>\n",
              "      <td>2</td>\n",
              "      <td>0</td>\n",
              "      <td>0</td>\n",
              "      <td>1</td>\n",
              "      <td>1</td>\n",
              "    </tr>\n",
              "    <tr>\n",
              "      <th>69997</th>\n",
              "      <td>19066</td>\n",
              "      <td>2</td>\n",
              "      <td>183</td>\n",
              "      <td>105.0</td>\n",
              "      <td>180</td>\n",
              "      <td>90</td>\n",
              "      <td>3</td>\n",
              "      <td>1</td>\n",
              "      <td>0</td>\n",
              "      <td>1</td>\n",
              "      <td>0</td>\n",
              "      <td>1</td>\n",
              "    </tr>\n",
              "    <tr>\n",
              "      <th>69998</th>\n",
              "      <td>22431</td>\n",
              "      <td>1</td>\n",
              "      <td>163</td>\n",
              "      <td>72.0</td>\n",
              "      <td>135</td>\n",
              "      <td>80</td>\n",
              "      <td>1</td>\n",
              "      <td>2</td>\n",
              "      <td>0</td>\n",
              "      <td>0</td>\n",
              "      <td>0</td>\n",
              "      <td>1</td>\n",
              "    </tr>\n",
              "    <tr>\n",
              "      <th>69999</th>\n",
              "      <td>20540</td>\n",
              "      <td>1</td>\n",
              "      <td>170</td>\n",
              "      <td>72.0</td>\n",
              "      <td>120</td>\n",
              "      <td>80</td>\n",
              "      <td>2</td>\n",
              "      <td>1</td>\n",
              "      <td>0</td>\n",
              "      <td>0</td>\n",
              "      <td>1</td>\n",
              "      <td>0</td>\n",
              "    </tr>\n",
              "  </tbody>\n",
              "</table>\n",
              "<p>70000 rows × 12 columns</p>\n",
              "</div>"
            ],
            "text/plain": [
              "         age  gender  height  weight  ap_hi  ...  gluc  smoke  alco  active  cardio\n",
              "0      18393       2     168    62.0    110  ...     1      0     0       1       0\n",
              "1      20228       1     156    85.0    140  ...     1      0     0       1       1\n",
              "2      18857       1     165    64.0    130  ...     1      0     0       0       1\n",
              "3      17623       2     169    82.0    150  ...     1      0     0       1       1\n",
              "4      17474       1     156    56.0    100  ...     1      0     0       0       0\n",
              "...      ...     ...     ...     ...    ...  ...   ...    ...   ...     ...     ...\n",
              "69995  19240       2     168    76.0    120  ...     1      1     0       1       0\n",
              "69996  22601       1     158   126.0    140  ...     2      0     0       1       1\n",
              "69997  19066       2     183   105.0    180  ...     1      0     1       0       1\n",
              "69998  22431       1     163    72.0    135  ...     2      0     0       0       1\n",
              "69999  20540       1     170    72.0    120  ...     1      0     0       1       0\n",
              "\n",
              "[70000 rows x 12 columns]"
            ]
          },
          "metadata": {
            "tags": []
          },
          "execution_count": 2
        }
      ]
    },
    {
      "cell_type": "code",
      "metadata": {
        "colab": {
          "base_uri": "https://localhost:8080/"
        },
        "id": "x_KmHKubYtmG",
        "outputId": "13bfb99c-aaaa-4f1a-ca63-4ea3c45bf26f"
      },
      "source": [
        "# 결측값 확인 \n",
        "df.info()"
      ],
      "execution_count": 3,
      "outputs": [
        {
          "output_type": "stream",
          "text": [
            "<class 'pandas.core.frame.DataFrame'>\n",
            "RangeIndex: 70000 entries, 0 to 69999\n",
            "Data columns (total 12 columns):\n",
            " #   Column       Non-Null Count  Dtype  \n",
            "---  ------       --------------  -----  \n",
            " 0   age          70000 non-null  int64  \n",
            " 1   gender       70000 non-null  int64  \n",
            " 2   height       70000 non-null  int64  \n",
            " 3   weight       70000 non-null  float64\n",
            " 4   ap_hi        70000 non-null  int64  \n",
            " 5   ap_lo        70000 non-null  int64  \n",
            " 6   cholesterol  70000 non-null  int64  \n",
            " 7   gluc         70000 non-null  int64  \n",
            " 8   smoke        70000 non-null  int64  \n",
            " 9   alco         70000 non-null  int64  \n",
            " 10  active       70000 non-null  int64  \n",
            " 11  cardio       70000 non-null  int64  \n",
            "dtypes: float64(1), int64(11)\n",
            "memory usage: 6.4 MB\n"
          ],
          "name": "stdout"
        }
      ]
    },
    {
      "cell_type": "code",
      "metadata": {
        "colab": {
          "base_uri": "https://localhost:8080/",
          "height": 419
        },
        "id": "T6Sjb8XBY4Wy",
        "outputId": "45fecb7b-d579-4090-f020-cdfa39ad7eca"
      },
      "source": [
        "df.drop_duplicates(subset=None, keep='first', inplace=True, ignore_index=False)\n",
        "df"
      ],
      "execution_count": 4,
      "outputs": [
        {
          "output_type": "execute_result",
          "data": {
            "text/html": [
              "<div>\n",
              "<style scoped>\n",
              "    .dataframe tbody tr th:only-of-type {\n",
              "        vertical-align: middle;\n",
              "    }\n",
              "\n",
              "    .dataframe tbody tr th {\n",
              "        vertical-align: top;\n",
              "    }\n",
              "\n",
              "    .dataframe thead th {\n",
              "        text-align: right;\n",
              "    }\n",
              "</style>\n",
              "<table border=\"1\" class=\"dataframe\">\n",
              "  <thead>\n",
              "    <tr style=\"text-align: right;\">\n",
              "      <th></th>\n",
              "      <th>age</th>\n",
              "      <th>gender</th>\n",
              "      <th>height</th>\n",
              "      <th>weight</th>\n",
              "      <th>ap_hi</th>\n",
              "      <th>ap_lo</th>\n",
              "      <th>cholesterol</th>\n",
              "      <th>gluc</th>\n",
              "      <th>smoke</th>\n",
              "      <th>alco</th>\n",
              "      <th>active</th>\n",
              "      <th>cardio</th>\n",
              "    </tr>\n",
              "  </thead>\n",
              "  <tbody>\n",
              "    <tr>\n",
              "      <th>0</th>\n",
              "      <td>18393</td>\n",
              "      <td>2</td>\n",
              "      <td>168</td>\n",
              "      <td>62.0</td>\n",
              "      <td>110</td>\n",
              "      <td>80</td>\n",
              "      <td>1</td>\n",
              "      <td>1</td>\n",
              "      <td>0</td>\n",
              "      <td>0</td>\n",
              "      <td>1</td>\n",
              "      <td>0</td>\n",
              "    </tr>\n",
              "    <tr>\n",
              "      <th>1</th>\n",
              "      <td>20228</td>\n",
              "      <td>1</td>\n",
              "      <td>156</td>\n",
              "      <td>85.0</td>\n",
              "      <td>140</td>\n",
              "      <td>90</td>\n",
              "      <td>3</td>\n",
              "      <td>1</td>\n",
              "      <td>0</td>\n",
              "      <td>0</td>\n",
              "      <td>1</td>\n",
              "      <td>1</td>\n",
              "    </tr>\n",
              "    <tr>\n",
              "      <th>2</th>\n",
              "      <td>18857</td>\n",
              "      <td>1</td>\n",
              "      <td>165</td>\n",
              "      <td>64.0</td>\n",
              "      <td>130</td>\n",
              "      <td>70</td>\n",
              "      <td>3</td>\n",
              "      <td>1</td>\n",
              "      <td>0</td>\n",
              "      <td>0</td>\n",
              "      <td>0</td>\n",
              "      <td>1</td>\n",
              "    </tr>\n",
              "    <tr>\n",
              "      <th>3</th>\n",
              "      <td>17623</td>\n",
              "      <td>2</td>\n",
              "      <td>169</td>\n",
              "      <td>82.0</td>\n",
              "      <td>150</td>\n",
              "      <td>100</td>\n",
              "      <td>1</td>\n",
              "      <td>1</td>\n",
              "      <td>0</td>\n",
              "      <td>0</td>\n",
              "      <td>1</td>\n",
              "      <td>1</td>\n",
              "    </tr>\n",
              "    <tr>\n",
              "      <th>4</th>\n",
              "      <td>17474</td>\n",
              "      <td>1</td>\n",
              "      <td>156</td>\n",
              "      <td>56.0</td>\n",
              "      <td>100</td>\n",
              "      <td>60</td>\n",
              "      <td>1</td>\n",
              "      <td>1</td>\n",
              "      <td>0</td>\n",
              "      <td>0</td>\n",
              "      <td>0</td>\n",
              "      <td>0</td>\n",
              "    </tr>\n",
              "    <tr>\n",
              "      <th>...</th>\n",
              "      <td>...</td>\n",
              "      <td>...</td>\n",
              "      <td>...</td>\n",
              "      <td>...</td>\n",
              "      <td>...</td>\n",
              "      <td>...</td>\n",
              "      <td>...</td>\n",
              "      <td>...</td>\n",
              "      <td>...</td>\n",
              "      <td>...</td>\n",
              "      <td>...</td>\n",
              "      <td>...</td>\n",
              "    </tr>\n",
              "    <tr>\n",
              "      <th>69995</th>\n",
              "      <td>19240</td>\n",
              "      <td>2</td>\n",
              "      <td>168</td>\n",
              "      <td>76.0</td>\n",
              "      <td>120</td>\n",
              "      <td>80</td>\n",
              "      <td>1</td>\n",
              "      <td>1</td>\n",
              "      <td>1</td>\n",
              "      <td>0</td>\n",
              "      <td>1</td>\n",
              "      <td>0</td>\n",
              "    </tr>\n",
              "    <tr>\n",
              "      <th>69996</th>\n",
              "      <td>22601</td>\n",
              "      <td>1</td>\n",
              "      <td>158</td>\n",
              "      <td>126.0</td>\n",
              "      <td>140</td>\n",
              "      <td>90</td>\n",
              "      <td>2</td>\n",
              "      <td>2</td>\n",
              "      <td>0</td>\n",
              "      <td>0</td>\n",
              "      <td>1</td>\n",
              "      <td>1</td>\n",
              "    </tr>\n",
              "    <tr>\n",
              "      <th>69997</th>\n",
              "      <td>19066</td>\n",
              "      <td>2</td>\n",
              "      <td>183</td>\n",
              "      <td>105.0</td>\n",
              "      <td>180</td>\n",
              "      <td>90</td>\n",
              "      <td>3</td>\n",
              "      <td>1</td>\n",
              "      <td>0</td>\n",
              "      <td>1</td>\n",
              "      <td>0</td>\n",
              "      <td>1</td>\n",
              "    </tr>\n",
              "    <tr>\n",
              "      <th>69998</th>\n",
              "      <td>22431</td>\n",
              "      <td>1</td>\n",
              "      <td>163</td>\n",
              "      <td>72.0</td>\n",
              "      <td>135</td>\n",
              "      <td>80</td>\n",
              "      <td>1</td>\n",
              "      <td>2</td>\n",
              "      <td>0</td>\n",
              "      <td>0</td>\n",
              "      <td>0</td>\n",
              "      <td>1</td>\n",
              "    </tr>\n",
              "    <tr>\n",
              "      <th>69999</th>\n",
              "      <td>20540</td>\n",
              "      <td>1</td>\n",
              "      <td>170</td>\n",
              "      <td>72.0</td>\n",
              "      <td>120</td>\n",
              "      <td>80</td>\n",
              "      <td>2</td>\n",
              "      <td>1</td>\n",
              "      <td>0</td>\n",
              "      <td>0</td>\n",
              "      <td>1</td>\n",
              "      <td>0</td>\n",
              "    </tr>\n",
              "  </tbody>\n",
              "</table>\n",
              "<p>69976 rows × 12 columns</p>\n",
              "</div>"
            ],
            "text/plain": [
              "         age  gender  height  weight  ap_hi  ...  gluc  smoke  alco  active  cardio\n",
              "0      18393       2     168    62.0    110  ...     1      0     0       1       0\n",
              "1      20228       1     156    85.0    140  ...     1      0     0       1       1\n",
              "2      18857       1     165    64.0    130  ...     1      0     0       0       1\n",
              "3      17623       2     169    82.0    150  ...     1      0     0       1       1\n",
              "4      17474       1     156    56.0    100  ...     1      0     0       0       0\n",
              "...      ...     ...     ...     ...    ...  ...   ...    ...   ...     ...     ...\n",
              "69995  19240       2     168    76.0    120  ...     1      1     0       1       0\n",
              "69996  22601       1     158   126.0    140  ...     2      0     0       1       1\n",
              "69997  19066       2     183   105.0    180  ...     1      0     1       0       1\n",
              "69998  22431       1     163    72.0    135  ...     2      0     0       0       1\n",
              "69999  20540       1     170    72.0    120  ...     1      0     0       1       0\n",
              "\n",
              "[69976 rows x 12 columns]"
            ]
          },
          "metadata": {
            "tags": []
          },
          "execution_count": 4
        }
      ]
    },
    {
      "cell_type": "markdown",
      "metadata": {
        "id": "AGrD-topobyj"
      },
      "source": [
        "### 2)"
      ]
    },
    {
      "cell_type": "code",
      "metadata": {
        "id": "wGmx76ZJobyj",
        "colab": {
          "base_uri": "https://localhost:8080/"
        },
        "outputId": "eded8731-e171-4f49-fc21-bb8a14f7ca66"
      },
      "source": [
        "from sklearn.model_selection import train_test_split\n",
        "\n",
        "# 훈련 / 테스트 세트로 나누기\n",
        "train, test = train_test_split(df,train_size = 0.8, random_state=2)\n",
        "print(\"train shape:\", train.shape)\n",
        "print(\"validation shape\", test.shape)"
      ],
      "execution_count": 5,
      "outputs": [
        {
          "output_type": "stream",
          "text": [
            "train shape: (55980, 12)\n",
            "validation shape (13996, 12)\n"
          ],
          "name": "stdout"
        }
      ]
    },
    {
      "cell_type": "code",
      "metadata": {
        "colab": {
          "base_uri": "https://localhost:8080/"
        },
        "id": "gVj_CYQJcFco",
        "outputId": "dc8f5c6d-4a2a-41a5-e78b-3e67d2d2e884"
      },
      "source": [
        "from sklearn.model_selection import train_test_split\n",
        "\n",
        "# 훈련 / 검증 세트로 나누기\n",
        "train, val = train_test_split(train,train_size = 0.8, random_state=2)\n",
        "print(\"train shape:\", train.shape)\n",
        "print(\"validation shape\", val.shape)"
      ],
      "execution_count": 6,
      "outputs": [
        {
          "output_type": "stream",
          "text": [
            "train shape: (44784, 12)\n",
            "validation shape (11196, 12)\n"
          ],
          "name": "stdout"
        }
      ]
    },
    {
      "cell_type": "code",
      "metadata": {
        "id": "MWpUsb4Gehwi"
      },
      "source": [
        "# 타겟 발류 분리\n",
        "target = 'cardio'\n",
        "y_train = train['cardio']\n",
        "y_test = test['cardio']\n",
        "y_val = val['cardio']\n",
        "\n",
        "X_train = train.drop(columns='cardio')\n",
        "X_test = test.drop(columns='cardio')\n",
        "X_val = val.drop(columns='cardio')"
      ],
      "execution_count": 7,
      "outputs": []
    },
    {
      "cell_type": "code",
      "metadata": {
        "colab": {
          "base_uri": "https://localhost:8080/"
        },
        "id": "jC5IHt4CdK8t",
        "outputId": "511b796d-0b5b-43bd-af4c-2fac10b9f2ae"
      },
      "source": [
        "len(X_val)"
      ],
      "execution_count": 8,
      "outputs": [
        {
          "output_type": "execute_result",
          "data": {
            "text/plain": [
              "11196"
            ]
          },
          "metadata": {
            "tags": []
          },
          "execution_count": 8
        }
      ]
    },
    {
      "cell_type": "markdown",
      "metadata": {
        "id": "IXWgZAkgobyj"
      },
      "source": [
        "### 3)\n"
      ]
    },
    {
      "cell_type": "code",
      "metadata": {
        "id": "l6g4XMAEobyk",
        "colab": {
          "base_uri": "https://localhost:8080/"
        },
        "outputId": "95805b5c-0827-41a6-bf0e-cd5fc8b52805"
      },
      "source": [
        "# 기준모델을 만들 빈도확인\n",
        "y_train.value_counts(normalize=True)"
      ],
      "execution_count": 9,
      "outputs": [
        {
          "output_type": "execute_result",
          "data": {
            "text/plain": [
              "1    0.501697\n",
              "0    0.498303\n",
              "Name: cardio, dtype: float64"
            ]
          },
          "metadata": {
            "tags": []
          },
          "execution_count": 9
        }
      ]
    },
    {
      "cell_type": "code",
      "metadata": {
        "colab": {
          "base_uri": "https://localhost:8080/",
          "height": 279
        },
        "id": "YkDlLb7ZfIHI",
        "outputId": "5f1ba3b6-e6d1-495c-bd88-bc25e3d78968"
      },
      "source": [
        "import seaborn as sns\n",
        "import matplotlib.pyplot as plt\n",
        "%matplotlib inline\n",
        "sns.countplot(x=y_train);"
      ],
      "execution_count": 10,
      "outputs": [
        {
          "output_type": "display_data",
          "data": {
            "image/png": "[encoded data removed]",
            "text/plain": [
              "<Figure size 432x288 with 1 Axes>"
            ]
          },
          "metadata": {
            "tags": [],
            "needs_background": "light"
          }
        }
      ]
    },
    {
      "cell_type": "code",
      "metadata": {
        "colab": {
          "base_uri": "https://localhost:8080/"
        },
        "id": "pRitarhWg8rm",
        "outputId": "41ce0b25-9331-4fc1-a43a-bb3f6bba5aae"
      },
      "source": [
        "# 최다 클래스의 빈도가 정확도가 됩니다.\n",
        "from sklearn.metrics import accuracy_score\n",
        "\n",
        "# mode(): Return the highest frequency value in a Series.\n",
        "major = y_train.mode()[0]\n",
        "\n",
        "# 타겟 샘플 수 만큼 0이 담긴 리스트를 만듭니다. 기준모델로 예측\n",
        "y_pred = [major] * len(y_train)\n",
        "\n",
        "print(\"training accuracy: \", accuracy_score(y_train, y_pred))"
      ],
      "execution_count": 11,
      "outputs": [
        {
          "output_type": "stream",
          "text": [
            "training accuracy:  0.501697034655234\n"
          ],
          "name": "stdout"
        }
      ]
    },
    {
      "cell_type": "code",
      "metadata": {
        "colab": {
          "base_uri": "https://localhost:8080/"
        },
        "id": "QWTqxc6AhMuv",
        "outputId": "67b71862-f6a6-4200-d2f1-c62b6db4c086"
      },
      "source": [
        "# 훈련데이터의 기준모델로 검증세트에서의 정확도 확인\n",
        "y_val = val[target]\n",
        "y_pred = [major] * len(y_val)\n",
        "print(\"validation accuracy: \", accuracy_score(y_val, y_pred))"
      ],
      "execution_count": 12,
      "outputs": [
        {
          "output_type": "stream",
          "text": [
            "validation accuracy:  0.49821364773133264\n"
          ],
          "name": "stdout"
        }
      ]
    },
    {
      "cell_type": "code",
      "metadata": {
        "colab": {
          "base_uri": "https://localhost:8080/"
        },
        "id": "o52vmvjEnpYP",
        "outputId": "2890cf51-7d9a-4428-8db0-1ededf170350"
      },
      "source": [
        "# 훈련데이터의 기준모델로 테스트세트에서의 정확도 확인\n",
        "y_test = test[target]\n",
        "y_pred = [major] * len(y_test)\n",
        "print(\"test accuracy: \", accuracy_score(y_test, y_pred))"
      ],
      "execution_count": 13,
      "outputs": [
        {
          "output_type": "stream",
          "text": [
            "test accuracy:  0.4948556730494427\n"
          ],
          "name": "stdout"
        }
      ]
    },
    {
      "cell_type": "code",
      "metadata": {
        "colab": {
          "base_uri": "https://localhost:8080/"
        },
        "id": "FU3LSTYSiBKi",
        "outputId": "1b5a0ca2-11bb-434e-f264-8c9b11b5ee0e"
      },
      "source": [
        "from sklearn.linear_model import LogisticRegression\n",
        "\n",
        "# 학습\n",
        "logistic = LogisticRegression(max_iter=1000)\n",
        "logistic.fit(X_train, y_train)\n",
        "\n",
        "# score - 분류 정확도\n",
        "print('검증세트 정확도', logistic.score(X_val, y_val))"
      ],
      "execution_count": 14,
      "outputs": [
        {
          "output_type": "stream",
          "text": [
            "검증세트 정확도 0.7073061807788495\n"
          ],
          "name": "stdout"
        }
      ]
    },
    {
      "cell_type": "markdown",
      "metadata": {
        "id": "FyxkHK3mobyk"
      },
      "source": [
        "### 4) "
      ]
    },
    {
      "cell_type": "code",
      "metadata": {
        "id": "Dh6lJ-iIknhL"
      },
      "source": [
        "!pip install category_encoders;"
      ],
      "execution_count": null,
      "outputs": []
    },
    {
      "cell_type": "code",
      "metadata": {
        "colab": {
          "base_uri": "https://localhost:8080/",
          "height": 214
        },
        "id": "mVwconrMkrjd",
        "outputId": "789387e5-da5d-47d4-b933-a1325a41c439"
      },
      "source": [
        "## 전체 데이터셋을 넣고 특정 category 지정 후에 학습 가능\n",
        "from category_encoders import OneHotEncoder\n",
        "encoder = OneHotEncoder(cols='gender' ,use_cat_names=True)\n",
        "X_train_encoded = encoder.fit_transform(X_train)\n",
        "X_val_encoded = encoder.transform(X_val)\n",
        "X_train_encoded.head(3)\n"
      ],
      "execution_count": 15,
      "outputs": [
        {
          "output_type": "stream",
          "text": [
            "/usr/local/lib/python3.7/dist-packages/statsmodels/tools/_testing.py:19: FutureWarning: pandas.util.testing is deprecated. Use the functions in the public API at pandas.testing instead.\n",
            "  import pandas.util.testing as tm\n",
            "/usr/local/lib/python3.7/dist-packages/category_encoders/utils.py:21: FutureWarning: is_categorical is deprecated and will be removed in a future version.  Use is_categorical_dtype instead\n",
            "  elif pd.api.types.is_categorical(cols):\n"
          ],
          "name": "stderr"
        },
        {
          "output_type": "execute_result",
          "data": {
            "text/html": [
              "<div>\n",
              "<style scoped>\n",
              "    .dataframe tbody tr th:only-of-type {\n",
              "        vertical-align: middle;\n",
              "    }\n",
              "\n",
              "    .dataframe tbody tr th {\n",
              "        vertical-align: top;\n",
              "    }\n",
              "\n",
              "    .dataframe thead th {\n",
              "        text-align: right;\n",
              "    }\n",
              "</style>\n",
              "<table border=\"1\" class=\"dataframe\">\n",
              "  <thead>\n",
              "    <tr style=\"text-align: right;\">\n",
              "      <th></th>\n",
              "      <th>age</th>\n",
              "      <th>gender_1.0</th>\n",
              "      <th>gender_2.0</th>\n",
              "      <th>height</th>\n",
              "      <th>weight</th>\n",
              "      <th>ap_hi</th>\n",
              "      <th>ap_lo</th>\n",
              "      <th>cholesterol</th>\n",
              "      <th>gluc</th>\n",
              "      <th>smoke</th>\n",
              "      <th>alco</th>\n",
              "      <th>active</th>\n",
              "    </tr>\n",
              "  </thead>\n",
              "  <tbody>\n",
              "    <tr>\n",
              "      <th>221</th>\n",
              "      <td>17591</td>\n",
              "      <td>1</td>\n",
              "      <td>0</td>\n",
              "      <td>157</td>\n",
              "      <td>70.0</td>\n",
              "      <td>160</td>\n",
              "      <td>100</td>\n",
              "      <td>3</td>\n",
              "      <td>1</td>\n",
              "      <td>0</td>\n",
              "      <td>0</td>\n",
              "      <td>0</td>\n",
              "    </tr>\n",
              "    <tr>\n",
              "      <th>59211</th>\n",
              "      <td>19677</td>\n",
              "      <td>0</td>\n",
              "      <td>1</td>\n",
              "      <td>174</td>\n",
              "      <td>80.0</td>\n",
              "      <td>150</td>\n",
              "      <td>80</td>\n",
              "      <td>1</td>\n",
              "      <td>1</td>\n",
              "      <td>0</td>\n",
              "      <td>0</td>\n",
              "      <td>1</td>\n",
              "    </tr>\n",
              "    <tr>\n",
              "      <th>26654</th>\n",
              "      <td>23504</td>\n",
              "      <td>1</td>\n",
              "      <td>0</td>\n",
              "      <td>158</td>\n",
              "      <td>76.0</td>\n",
              "      <td>140</td>\n",
              "      <td>90</td>\n",
              "      <td>3</td>\n",
              "      <td>3</td>\n",
              "      <td>0</td>\n",
              "      <td>0</td>\n",
              "      <td>1</td>\n",
              "    </tr>\n",
              "  </tbody>\n",
              "</table>\n",
              "</div>"
            ],
            "text/plain": [
              "         age  gender_1.0  gender_2.0  height  ...  gluc  smoke  alco  active\n",
              "221    17591           1           0     157  ...     1      0     0       0\n",
              "59211  19677           0           1     174  ...     1      0     0       1\n",
              "26654  23504           1           0     158  ...     3      0     0       1\n",
              "\n",
              "[3 rows x 12 columns]"
            ]
          },
          "metadata": {
            "tags": []
          },
          "execution_count": 15
        }
      ]
    },
    {
      "cell_type": "code",
      "metadata": {
        "colab": {
          "base_uri": "https://localhost:8080/",
          "height": 142
        },
        "id": "M9IfTcRGsb22",
        "outputId": "47d94a23-0557-4486-991d-87f13e1a1b33"
      },
      "source": [
        "X_val_encoded.head(3)"
      ],
      "execution_count": 16,
      "outputs": [
        {
          "output_type": "execute_result",
          "data": {
            "text/html": [
              "<div>\n",
              "<style scoped>\n",
              "    .dataframe tbody tr th:only-of-type {\n",
              "        vertical-align: middle;\n",
              "    }\n",
              "\n",
              "    .dataframe tbody tr th {\n",
              "        vertical-align: top;\n",
              "    }\n",
              "\n",
              "    .dataframe thead th {\n",
              "        text-align: right;\n",
              "    }\n",
              "</style>\n",
              "<table border=\"1\" class=\"dataframe\">\n",
              "  <thead>\n",
              "    <tr style=\"text-align: right;\">\n",
              "      <th></th>\n",
              "      <th>age</th>\n",
              "      <th>gender_1.0</th>\n",
              "      <th>gender_2.0</th>\n",
              "      <th>height</th>\n",
              "      <th>weight</th>\n",
              "      <th>ap_hi</th>\n",
              "      <th>ap_lo</th>\n",
              "      <th>cholesterol</th>\n",
              "      <th>gluc</th>\n",
              "      <th>smoke</th>\n",
              "      <th>alco</th>\n",
              "      <th>active</th>\n",
              "    </tr>\n",
              "  </thead>\n",
              "  <tbody>\n",
              "    <tr>\n",
              "      <th>36174</th>\n",
              "      <td>20787</td>\n",
              "      <td>1</td>\n",
              "      <td>0</td>\n",
              "      <td>168</td>\n",
              "      <td>67.0</td>\n",
              "      <td>120</td>\n",
              "      <td>80</td>\n",
              "      <td>3</td>\n",
              "      <td>3</td>\n",
              "      <td>0</td>\n",
              "      <td>0</td>\n",
              "      <td>1</td>\n",
              "    </tr>\n",
              "    <tr>\n",
              "      <th>4101</th>\n",
              "      <td>20578</td>\n",
              "      <td>0</td>\n",
              "      <td>1</td>\n",
              "      <td>176</td>\n",
              "      <td>80.0</td>\n",
              "      <td>160</td>\n",
              "      <td>80</td>\n",
              "      <td>1</td>\n",
              "      <td>1</td>\n",
              "      <td>1</td>\n",
              "      <td>1</td>\n",
              "      <td>1</td>\n",
              "    </tr>\n",
              "    <tr>\n",
              "      <th>19924</th>\n",
              "      <td>18368</td>\n",
              "      <td>0</td>\n",
              "      <td>1</td>\n",
              "      <td>174</td>\n",
              "      <td>78.0</td>\n",
              "      <td>120</td>\n",
              "      <td>80</td>\n",
              "      <td>2</td>\n",
              "      <td>1</td>\n",
              "      <td>0</td>\n",
              "      <td>0</td>\n",
              "      <td>1</td>\n",
              "    </tr>\n",
              "  </tbody>\n",
              "</table>\n",
              "</div>"
            ],
            "text/plain": [
              "         age  gender_1.0  gender_2.0  height  ...  gluc  smoke  alco  active\n",
              "36174  20787           1           0     168  ...     3      0     0       1\n",
              "4101   20578           0           1     176  ...     1      1     1       1\n",
              "19924  18368           0           1     174  ...     1      0     0       1\n",
              "\n",
              "[3 rows x 12 columns]"
            ]
          },
          "metadata": {
            "tags": []
          },
          "execution_count": 16
        }
      ]
    },
    {
      "cell_type": "code",
      "metadata": {
        "colab": {
          "base_uri": "https://localhost:8080/"
        },
        "id": "wo1imb6vmdBZ",
        "outputId": "243ada3d-adee-40b7-db90-da93cdc65313"
      },
      "source": [
        "from sklearn.linear_model import LogisticRegression\n",
        "\n",
        "# 학습\n",
        "logistic = LogisticRegression(max_iter=1000)\n",
        "logistic.fit(X_train_encoded, y_train)\n",
        "\n",
        "# score - 분류 정확도\n",
        "print('검증세트 정확도', logistic.score(X_val_encoded, y_val))"
      ],
      "execution_count": 17,
      "outputs": [
        {
          "output_type": "stream",
          "text": [
            "검증세트 정확도 0.6944444444444444\n"
          ],
          "name": "stdout"
        }
      ]
    },
    {
      "cell_type": "markdown",
      "metadata": {
        "id": "CKh8afDaobyk"
      },
      "source": [
        "### 5) "
      ]
    },
    {
      "cell_type": "code",
      "metadata": {
        "colab": {
          "base_uri": "https://localhost:8080/"
        },
        "id": "RCr8VruRwhNF",
        "outputId": "25c9815c-206d-47ae-e68b-acd3ce6202bf"
      },
      "source": [
        "from category_encoders import OneHotEncoder\n",
        "encoder = OneHotEncoder(cols='gender' ,use_cat_names=True)\n",
        "X_train_encoded = encoder.fit_transform(X_train)\n",
        "X_test_encoded = encoder.transform(X_test)"
      ],
      "execution_count": 18,
      "outputs": [
        {
          "output_type": "stream",
          "text": [
            "/usr/local/lib/python3.7/dist-packages/category_encoders/utils.py:21: FutureWarning: is_categorical is deprecated and will be removed in a future version.  Use is_categorical_dtype instead\n",
            "  elif pd.api.types.is_categorical(cols):\n"
          ],
          "name": "stderr"
        }
      ]
    },
    {
      "cell_type": "code",
      "metadata": {
        "id": "lWVedhJEtyD5"
      },
      "source": [
        "from sklearn.impute import SimpleImputer\n",
        "\n",
        "imputer = SimpleImputer(strategy='mean')\n",
        "X_train_imputed = imputer.fit_transform(X_train_encoded)\n",
        "X_test_imputed = imputer.transform(X_test_encoded)"
      ],
      "execution_count": 19,
      "outputs": []
    },
    {
      "cell_type": "code",
      "metadata": {
        "id": "DhCI0sCht8Ct"
      },
      "source": [
        "from sklearn.preprocessing import StandardScaler\n",
        "\n",
        "scaler = StandardScaler()\n",
        "X_train_scaled = scaler.fit_transform(X_train_imputed)\n",
        "X_test_scaled = scaler.transform(X_test_imputed)"
      ],
      "execution_count": 20,
      "outputs": []
    },
    {
      "cell_type": "code",
      "metadata": {
        "colab": {
          "base_uri": "https://localhost:8080/"
        },
        "id": "_pcDxxHpuNcC",
        "outputId": "d2934f67-eee5-4926-eba0-83af1c97d348"
      },
      "source": [
        "from sklearn.linear_model import LogisticRegression\n",
        "\n",
        "# 학습\n",
        "logistic = LogisticRegression(max_iter=1000)\n",
        "logistic.fit(X_train_scaled, y_train)\n",
        "\n",
        "# score - 분류 정확도\n",
        "print('테스트세트 정확도', logistic.score(X_test_scaled, y_test))"
      ],
      "execution_count": 21,
      "outputs": [
        {
          "output_type": "stream",
          "text": [
            "테스트세트 정확도 0.7264218348099457\n"
          ],
          "name": "stdout"
        }
      ]
    },
    {
      "cell_type": "code",
      "metadata": {
        "id": "PPxIf3EfyRWZ"
      },
      "source": [
        "# grade를 원핫인코딩 하지 않고 test스코어 확인!(개인적인 궁금증)\n",
        "\n",
        "from sklearn.impute import SimpleImputer\n",
        "\n",
        "imputer = SimpleImputer(strategy='mean')\n",
        "X_train_imputed = imputer.fit_transform(X_train)\n",
        "X_test_imputed = imputer.transform(X_test)"
      ],
      "execution_count": 22,
      "outputs": []
    },
    {
      "cell_type": "code",
      "metadata": {
        "id": "7yFKwe7tyhLo"
      },
      "source": [
        "from sklearn.preprocessing import StandardScaler\n",
        "\n",
        "scaler = StandardScaler()\n",
        "X_train_scaled = scaler.fit_transform(X_train_imputed)\n",
        "X_test_scaled = scaler.transform(X_test_imputed)"
      ],
      "execution_count": 23,
      "outputs": []
    },
    {
      "cell_type": "code",
      "metadata": {
        "colab": {
          "base_uri": "https://localhost:8080/"
        },
        "id": "DuUvpdYjyi6A",
        "outputId": "ac20069b-b017-436f-fcd9-583a057a2f5e"
      },
      "source": [
        "from sklearn.linear_model import LogisticRegression\n",
        "\n",
        "# 학습\n",
        "logistic = LogisticRegression(max_iter=1000)\n",
        "logistic.fit(X_train_scaled, y_train)\n",
        "\n",
        "# score - 분류 정확도\n",
        "print('테스트세트 정확도', logistic.score(X_test_scaled, y_test)) # 같게 나오는구나"
      ],
      "execution_count": 24,
      "outputs": [
        {
          "output_type": "stream",
          "text": [
            "테스트세트 정확도 0.7264218348099457\n"
          ],
          "name": "stdout"
        }
      ]
    },
    {
      "cell_type": "code",
      "metadata": {
        "id": "1dJxzPfgNgLy"
      },
      "source": [
        "# 학습데이터 train+val로 학습\n",
        "from sklearn.model_selection import train_test_split\n",
        "\n",
        "train, test = train_test_split(df,train_size = 0.8, random_state=2)\n",
        "# train, val = train_test_split(train,train_size = 0.8, random_state=2)\n"
      ],
      "execution_count": 25,
      "outputs": []
    },
    {
      "cell_type": "code",
      "metadata": {
        "id": "QDCaz84AS3S0"
      },
      "source": [
        "# 타겟 발류 분리\n",
        "target = 'cardio'\n",
        "y_train = train['cardio']\n",
        "y_test = test['cardio']\n",
        "y_val = val['cardio']\n",
        "\n",
        "X_train = train.drop(columns='cardio')\n",
        "X_test = test.drop(columns='cardio')\n",
        "X_val = val.drop(columns='cardio')"
      ],
      "execution_count": 26,
      "outputs": []
    },
    {
      "cell_type": "code",
      "metadata": {
        "id": "NuM7kiV0N9dt"
      },
      "source": [
        "from sklearn.impute import SimpleImputer\n",
        "from sklearn.preprocessing import StandardScaler\n",
        "\n",
        "imputer = SimpleImputer(strategy='mean')\n",
        "X_train_imputed = imputer.fit_transform(X_train)\n",
        "X_test_imputed = imputer.transform(X_test)\n",
        "\n",
        "scaler = StandardScaler()\n",
        "X_train_scaled = scaler.fit_transform(X_train_imputed)\n",
        "X_test_scaled = scaler.transform(X_test_imputed)"
      ],
      "execution_count": 27,
      "outputs": []
    },
    {
      "cell_type": "code",
      "metadata": {
        "colab": {
          "base_uri": "https://localhost:8080/"
        },
        "id": "fEh-Hp_pOBKJ",
        "outputId": "6a86db8b-dad9-4a99-ffc7-d151c49423c9"
      },
      "source": [
        "from sklearn.linear_model import LogisticRegression\n",
        "\n",
        "# 학습\n",
        "logistic = LogisticRegression(max_iter=1000)\n",
        "logistic.fit(X_train_scaled, y_train)\n",
        "\n",
        "# score - 분류 정확도\n",
        "print('테스트세트 정확도', logistic.score(X_test_scaled, y_test)) # 더 높게 나옴"
      ],
      "execution_count": 28,
      "outputs": [
        {
          "output_type": "stream",
          "text": [
            "테스트세트 정확도 0.7284224064018291\n"
          ],
          "name": "stdout"
        }
      ]
    },
    {
      "cell_type": "markdown",
      "metadata": {
        "id": "hbFPBFm2obyl"
      },
      "source": [
        "## 🔥 "
      ]
    },
    {
      "cell_type": "markdown",
      "metadata": {
        "id": "u9-jRyfEobyl"
      },
      "source": [
        "### 6)\n"
      ]
    },
    {
      "cell_type": "code",
      "metadata": {
        "id": "g_T0uyPoyA7U"
      },
      "source": [
        "import pandas as pd\n",
        "df = pd.read_csv('https://ds-lecture-data.s3.ap-northeast-2.amazonaws.com/cardio/cardio_train.csv', sep=';')"
      ],
      "execution_count": null,
      "outputs": []
    },
    {
      "cell_type": "code",
      "metadata": {
        "id": "Z3A2evpHy896"
      },
      "source": [
        "# id칼럼 drop\n",
        "df = df.drop('id', axis = 1)"
      ],
      "execution_count": null,
      "outputs": []
    },
    {
      "cell_type": "code",
      "metadata": {
        "id": "kN44wlJsy9dD"
      },
      "source": [
        "# 중복값 제거\n",
        "df.drop_duplicates(subset=None, keep='first', inplace=True, ignore_index=False)"
      ],
      "execution_count": null,
      "outputs": []
    },
    {
      "cell_type": "code",
      "metadata": {
        "colab": {
          "base_uri": "https://localhost:8080/"
        },
        "id": "GIoRpCtD1rbV",
        "outputId": "0bdf9a47-9a13-4656-a9c2-9fe78bbf5321"
      },
      "source": [
        "corr = df.corr(method = 'pearson')\n",
        "corr['cardio']"
      ],
      "execution_count": null,
      "outputs": [
        {
          "output_type": "execute_result",
          "data": {
            "text/plain": [
              "age            0.238189\n",
              "gender         0.008037\n",
              "height        -0.010871\n",
              "weight         0.181599\n",
              "ap_hi          0.054475\n",
              "ap_lo          0.065717\n",
              "cholesterol    0.221119\n",
              "gluc           0.089268\n",
              "smoke         -0.015533\n",
              "alco          -0.007366\n",
              "active        -0.035666\n",
              "cardio         1.000000\n",
              "Name: cardio, dtype: float64"
            ]
          },
          "metadata": {
            "tags": []
          },
          "execution_count": 224
        }
      ]
    },
    {
      "cell_type": "code",
      "metadata": {
        "colab": {
          "base_uri": "https://localhost:8080/"
        },
        "id": "swHCw8FlzG6P",
        "outputId": "0a4e695b-be23-4a63-87ce-bb23218f27fa"
      },
      "source": [
        "df['cardio'].value_counts(normalize=True)"
      ],
      "execution_count": null,
      "outputs": [
        {
          "output_type": "execute_result",
          "data": {
            "text/plain": [
              "0    0.500229\n",
              "1    0.499771\n",
              "Name: cardio, dtype: float64"
            ]
          },
          "metadata": {
            "tags": []
          },
          "execution_count": 225
        }
      ]
    },
    {
      "cell_type": "markdown",
      "metadata": {
        "id": "OOavp-SVz_Y2"
      },
      "source": [
        "1일 때 심혈관 질환이 있고, 0일 때 심혈관 질환이 없다.\n",
        "\n",
        "심혈관 질환의 위험인자로는 고혈압, 흡연, 고콜레스테롤을 꼽을 수 있다고 한다.\n",
        "\n",
        "콜레스테롤(cholesterol) 수치가 높으면 동맥경화 ,심근경색, 돌연사와 같은 심혈관질환으로 이어져 심하면 사망에 이를 수도 있다고 한다.\n",
        "\n",
        "glucose 수치가 높다는 것은 혈액 속의 포도당 수치가 정상보다 높은 상태를 말하며, 당뇨병임을 의미한다. 당뇨병으로 고혈당이 오래 지속되면 장기에 합병증이 올 수 있다. 심장동맥질환, 뇌혈관질환 등 합병증이 생길 수 있다.\n",
        "\n",
        "gluc, cholesterol의 경우 1: normal, 2: above normal, 3: well above normal 이기 때문에 순위형 자료에 속한다."
      ]
    },
    {
      "cell_type": "code",
      "metadata": {
        "colab": {
          "base_uri": "https://localhost:8080/"
        },
        "id": "FyTvr5zez-5f",
        "outputId": "11884d62-8df3-4d8a-baf3-c751abccf056"
      },
      "source": [
        "# 콜레스테롤 자료 분포\n",
        "df['cholesterol'].value_counts(normalize=True)"
      ],
      "execution_count": null,
      "outputs": [
        {
          "output_type": "execute_result",
          "data": {
            "text/plain": [
              "1    0.748271\n",
              "2    0.136461\n",
              "3    0.115268\n",
              "Name: cholesterol, dtype: float64"
            ]
          },
          "metadata": {
            "tags": []
          },
          "execution_count": 226
        }
      ]
    },
    {
      "cell_type": "code",
      "metadata": {
        "colab": {
          "base_uri": "https://localhost:8080/"
        },
        "id": "asGpvdmh0IDp",
        "outputId": "b4fc6e66-2adc-4b85-e925-31aa2b579853"
      },
      "source": [
        "df['gluc'].value_counts(normalize=True)"
      ],
      "execution_count": null,
      "outputs": [
        {
          "output_type": "execute_result",
          "data": {
            "text/plain": [
              "1    0.849648\n",
              "3    0.076183\n",
              "2    0.074168\n",
              "Name: gluc, dtype: float64"
            ]
          },
          "metadata": {
            "tags": []
          },
          "execution_count": 227
        }
      ]
    },
    {
      "cell_type": "markdown",
      "metadata": {
        "id": "Z6dlLN9M0OWQ"
      },
      "source": [
        "\n",
        "콜레스테롤과 혈중 포도당의 경우, 정상 환자 비율이 더 높다.\n",
        "\n",
        "age는 in days로 되어있다. 365로 나눈 후, 정수형으로 변환해주겠다."
      ]
    },
    {
      "cell_type": "code",
      "metadata": {
        "id": "64vm38io0Ler"
      },
      "source": [
        "# feather engineering 나이 데이터 수정\n",
        "df['age']=(df['age']/365).astype(int) + 1 \n",
        "# bmi지수 생성\n",
        "df[\"bmi\"] = df[\"weight\"]/ (df[\"height\"]/100)**2"
      ],
      "execution_count": null,
      "outputs": []
    },
    {
      "cell_type": "code",
      "metadata": {
        "colab": {
          "base_uri": "https://localhost:8080/"
        },
        "id": "Hnhx1LpI02F_",
        "outputId": "ded02b0d-63f9-4894-e52d-fe8e371c1053"
      },
      "source": [
        "df.dtypes"
      ],
      "execution_count": null,
      "outputs": [
        {
          "output_type": "execute_result",
          "data": {
            "text/plain": [
              "age              int64\n",
              "gender           int64\n",
              "height           int64\n",
              "weight         float64\n",
              "ap_hi            int64\n",
              "ap_lo            int64\n",
              "cholesterol      int64\n",
              "gluc             int64\n",
              "smoke            int64\n",
              "alco             int64\n",
              "active           int64\n",
              "cardio           int64\n",
              "bmi            float64\n",
              "dtype: object"
            ]
          },
          "metadata": {
            "tags": []
          },
          "execution_count": 229
        }
      ]
    },
    {
      "cell_type": "code",
      "metadata": {
        "colab": {
          "base_uri": "https://localhost:8080/",
          "height": 279
        },
        "id": "BmbDCrcE04e3",
        "outputId": "506e651c-eb11-4cce-e8d1-2bebe9da58ed"
      },
      "source": [
        "# 심혈관 질환이 있는 사람들만 보기\n",
        "is_cardio = df[df.cardio==1]\n",
        "sns.histplot(is_cardio, x='age', hue='gender');"
      ],
      "execution_count": null,
      "outputs": [
        {
          "output_type": "display_data",
          "data": {
            "image/png": "[encoded data removed]",
            "text/plain": [
              "<Figure size 432x288 with 1 Axes>"
            ]
          },
          "metadata": {
            "tags": [],
            "needs_background": "light"
          }
        }
      ]
    },
    {
      "cell_type": "code",
      "metadata": {
        "colab": {
          "base_uri": "https://localhost:8080/",
          "height": 317
        },
        "id": "k-lMaSYhAuPB",
        "outputId": "1c3b1234-fc02-44eb-d8fa-838906a056bc"
      },
      "source": [
        "df.describe()"
      ],
      "execution_count": null,
      "outputs": [
        {
          "output_type": "execute_result",
          "data": {
            "text/html": [
              "<div>\n",
              "<style scoped>\n",
              "    .dataframe tbody tr th:only-of-type {\n",
              "        vertical-align: middle;\n",
              "    }\n",
              "\n",
              "    .dataframe tbody tr th {\n",
              "        vertical-align: top;\n",
              "    }\n",
              "\n",
              "    .dataframe thead th {\n",
              "        text-align: right;\n",
              "    }\n",
              "</style>\n",
              "<table border=\"1\" class=\"dataframe\">\n",
              "  <thead>\n",
              "    <tr style=\"text-align: right;\">\n",
              "      <th></th>\n",
              "      <th>age</th>\n",
              "      <th>gender</th>\n",
              "      <th>height</th>\n",
              "      <th>weight</th>\n",
              "      <th>ap_hi</th>\n",
              "      <th>ap_lo</th>\n",
              "      <th>cholesterol</th>\n",
              "      <th>gluc</th>\n",
              "      <th>smoke</th>\n",
              "      <th>alco</th>\n",
              "      <th>active</th>\n",
              "      <th>cardio</th>\n",
              "      <th>bmi</th>\n",
              "    </tr>\n",
              "  </thead>\n",
              "  <tbody>\n",
              "    <tr>\n",
              "      <th>count</th>\n",
              "      <td>69976.000000</td>\n",
              "      <td>69976.000000</td>\n",
              "      <td>69976.000000</td>\n",
              "      <td>69976.000000</td>\n",
              "      <td>69976.000000</td>\n",
              "      <td>69976.000000</td>\n",
              "      <td>69976.000000</td>\n",
              "      <td>69976.000000</td>\n",
              "      <td>69976.000000</td>\n",
              "      <td>69976.000000</td>\n",
              "      <td>69976.000000</td>\n",
              "      <td>69976.000000</td>\n",
              "      <td>69976.000000</td>\n",
              "    </tr>\n",
              "    <tr>\n",
              "      <th>mean</th>\n",
              "      <td>53.840874</td>\n",
              "      <td>1.349648</td>\n",
              "      <td>164.359152</td>\n",
              "      <td>74.208519</td>\n",
              "      <td>128.820453</td>\n",
              "      <td>96.636261</td>\n",
              "      <td>1.366997</td>\n",
              "      <td>1.226535</td>\n",
              "      <td>0.088159</td>\n",
              "      <td>0.053790</td>\n",
              "      <td>0.803718</td>\n",
              "      <td>0.499771</td>\n",
              "      <td>27.557610</td>\n",
              "    </tr>\n",
              "    <tr>\n",
              "      <th>std</th>\n",
              "      <td>6.767103</td>\n",
              "      <td>0.476862</td>\n",
              "      <td>8.211218</td>\n",
              "      <td>14.397211</td>\n",
              "      <td>154.037729</td>\n",
              "      <td>188.504581</td>\n",
              "      <td>0.680333</td>\n",
              "      <td>0.572353</td>\n",
              "      <td>0.283528</td>\n",
              "      <td>0.225604</td>\n",
              "      <td>0.397187</td>\n",
              "      <td>0.500004</td>\n",
              "      <td>6.092210</td>\n",
              "    </tr>\n",
              "    <tr>\n",
              "      <th>min</th>\n",
              "      <td>30.000000</td>\n",
              "      <td>1.000000</td>\n",
              "      <td>55.000000</td>\n",
              "      <td>10.000000</td>\n",
              "      <td>-150.000000</td>\n",
              "      <td>-70.000000</td>\n",
              "      <td>1.000000</td>\n",
              "      <td>1.000000</td>\n",
              "      <td>0.000000</td>\n",
              "      <td>0.000000</td>\n",
              "      <td>0.000000</td>\n",
              "      <td>0.000000</td>\n",
              "      <td>3.471784</td>\n",
              "    </tr>\n",
              "    <tr>\n",
              "      <th>25%</th>\n",
              "      <td>49.000000</td>\n",
              "      <td>1.000000</td>\n",
              "      <td>159.000000</td>\n",
              "      <td>65.000000</td>\n",
              "      <td>120.000000</td>\n",
              "      <td>80.000000</td>\n",
              "      <td>1.000000</td>\n",
              "      <td>1.000000</td>\n",
              "      <td>0.000000</td>\n",
              "      <td>0.000000</td>\n",
              "      <td>1.000000</td>\n",
              "      <td>0.000000</td>\n",
              "      <td>23.875115</td>\n",
              "    </tr>\n",
              "    <tr>\n",
              "      <th>50%</th>\n",
              "      <td>54.000000</td>\n",
              "      <td>1.000000</td>\n",
              "      <td>165.000000</td>\n",
              "      <td>72.000000</td>\n",
              "      <td>120.000000</td>\n",
              "      <td>80.000000</td>\n",
              "      <td>1.000000</td>\n",
              "      <td>1.000000</td>\n",
              "      <td>0.000000</td>\n",
              "      <td>0.000000</td>\n",
              "      <td>1.000000</td>\n",
              "      <td>0.000000</td>\n",
              "      <td>26.391837</td>\n",
              "    </tr>\n",
              "    <tr>\n",
              "      <th>75%</th>\n",
              "      <td>59.000000</td>\n",
              "      <td>2.000000</td>\n",
              "      <td>170.000000</td>\n",
              "      <td>82.000000</td>\n",
              "      <td>140.000000</td>\n",
              "      <td>90.000000</td>\n",
              "      <td>2.000000</td>\n",
              "      <td>1.000000</td>\n",
              "      <td>0.000000</td>\n",
              "      <td>0.000000</td>\n",
              "      <td>1.000000</td>\n",
              "      <td>1.000000</td>\n",
              "      <td>30.222222</td>\n",
              "    </tr>\n",
              "    <tr>\n",
              "      <th>max</th>\n",
              "      <td>65.000000</td>\n",
              "      <td>2.000000</td>\n",
              "      <td>250.000000</td>\n",
              "      <td>200.000000</td>\n",
              "      <td>16020.000000</td>\n",
              "      <td>11000.000000</td>\n",
              "      <td>3.000000</td>\n",
              "      <td>3.000000</td>\n",
              "      <td>1.000000</td>\n",
              "      <td>1.000000</td>\n",
              "      <td>1.000000</td>\n",
              "      <td>1.000000</td>\n",
              "      <td>298.666667</td>\n",
              "    </tr>\n",
              "  </tbody>\n",
              "</table>\n",
              "</div>"
            ],
            "text/plain": [
              "                age        gender  ...        cardio           bmi\n",
              "count  69976.000000  69976.000000  ...  69976.000000  69976.000000\n",
              "mean      53.840874      1.349648  ...      0.499771     27.557610\n",
              "std        6.767103      0.476862  ...      0.500004      6.092210\n",
              "min       30.000000      1.000000  ...      0.000000      3.471784\n",
              "25%       49.000000      1.000000  ...      0.000000     23.875115\n",
              "50%       54.000000      1.000000  ...      0.000000     26.391837\n",
              "75%       59.000000      2.000000  ...      1.000000     30.222222\n",
              "max       65.000000      2.000000  ...      1.000000    298.666667\n",
              "\n",
              "[8 rows x 13 columns]"
            ]
          },
          "metadata": {
            "tags": []
          },
          "execution_count": 231
        }
      ]
    },
    {
      "cell_type": "markdown",
      "metadata": {
        "id": "ta2za37JDwnD"
      },
      "source": [
        "- 통계 테이블을 확인하니 \"age\", \"height\", \"weight\", \"ap_hi\", \"ap_lo\"의 열이 outlier가 있을것 같음\n",
        "- standartize를 먼저 실행\n"
      ]
    },
    {
      "cell_type": "code",
      "metadata": {
        "colab": {
          "base_uri": "https://localhost:8080/",
          "height": 224
        },
        "id": "equDMhF1CvwZ",
        "outputId": "0c05a16e-d8c9-4eb6-86db-7d1b83adf3e7"
      },
      "source": [
        "s_list = [\"age\", \"height\", \"weight\", \"ap_hi\", \"ap_lo\"]\n",
        "def standartization(x):\n",
        "    x_std = x.copy(deep=True)\n",
        "    for column in s_list:\n",
        "        x_std[column] = (x_std[column]-x_std[column].mean())/x_std[column].std()\n",
        "    return x_std \n",
        "df_std=standartization(df)\n",
        "df_std.head()"
      ],
      "execution_count": null,
      "outputs": [
        {
          "output_type": "execute_result",
          "data": {
            "text/html": [
              "<div>\n",
              "<style scoped>\n",
              "    .dataframe tbody tr th:only-of-type {\n",
              "        vertical-align: middle;\n",
              "    }\n",
              "\n",
              "    .dataframe tbody tr th {\n",
              "        vertical-align: top;\n",
              "    }\n",
              "\n",
              "    .dataframe thead th {\n",
              "        text-align: right;\n",
              "    }\n",
              "</style>\n",
              "<table border=\"1\" class=\"dataframe\">\n",
              "  <thead>\n",
              "    <tr style=\"text-align: right;\">\n",
              "      <th></th>\n",
              "      <th>age</th>\n",
              "      <th>gender</th>\n",
              "      <th>height</th>\n",
              "      <th>weight</th>\n",
              "      <th>ap_hi</th>\n",
              "      <th>ap_lo</th>\n",
              "      <th>cholesterol</th>\n",
              "      <th>gluc</th>\n",
              "      <th>smoke</th>\n",
              "      <th>alco</th>\n",
              "      <th>active</th>\n",
              "      <th>cardio</th>\n",
              "      <th>bmi</th>\n",
              "    </tr>\n",
              "  </thead>\n",
              "  <tbody>\n",
              "    <tr>\n",
              "      <th>0</th>\n",
              "      <td>-0.419807</td>\n",
              "      <td>2</td>\n",
              "      <td>0.443399</td>\n",
              "      <td>-0.847978</td>\n",
              "      <td>-0.122181</td>\n",
              "      <td>-0.088254</td>\n",
              "      <td>1</td>\n",
              "      <td>1</td>\n",
              "      <td>0</td>\n",
              "      <td>0</td>\n",
              "      <td>1</td>\n",
              "      <td>0</td>\n",
              "      <td>21.967120</td>\n",
              "    </tr>\n",
              "    <tr>\n",
              "      <th>1</th>\n",
              "      <td>0.319062</td>\n",
              "      <td>1</td>\n",
              "      <td>-1.018016</td>\n",
              "      <td>0.749554</td>\n",
              "      <td>0.072577</td>\n",
              "      <td>-0.035205</td>\n",
              "      <td>3</td>\n",
              "      <td>1</td>\n",
              "      <td>0</td>\n",
              "      <td>0</td>\n",
              "      <td>1</td>\n",
              "      <td>1</td>\n",
              "      <td>34.927679</td>\n",
              "    </tr>\n",
              "    <tr>\n",
              "      <th>2</th>\n",
              "      <td>-0.272033</td>\n",
              "      <td>1</td>\n",
              "      <td>0.078045</td>\n",
              "      <td>-0.709062</td>\n",
              "      <td>0.007658</td>\n",
              "      <td>-0.141303</td>\n",
              "      <td>3</td>\n",
              "      <td>1</td>\n",
              "      <td>0</td>\n",
              "      <td>0</td>\n",
              "      <td>0</td>\n",
              "      <td>1</td>\n",
              "      <td>23.507805</td>\n",
              "    </tr>\n",
              "    <tr>\n",
              "      <th>3</th>\n",
              "      <td>-0.715354</td>\n",
              "      <td>2</td>\n",
              "      <td>0.565184</td>\n",
              "      <td>0.541180</td>\n",
              "      <td>0.137496</td>\n",
              "      <td>0.017844</td>\n",
              "      <td>1</td>\n",
              "      <td>1</td>\n",
              "      <td>0</td>\n",
              "      <td>0</td>\n",
              "      <td>1</td>\n",
              "      <td>1</td>\n",
              "      <td>28.710479</td>\n",
              "    </tr>\n",
              "    <tr>\n",
              "      <th>4</th>\n",
              "      <td>-0.863128</td>\n",
              "      <td>1</td>\n",
              "      <td>-1.018016</td>\n",
              "      <td>-1.264725</td>\n",
              "      <td>-0.187100</td>\n",
              "      <td>-0.194352</td>\n",
              "      <td>1</td>\n",
              "      <td>1</td>\n",
              "      <td>0</td>\n",
              "      <td>0</td>\n",
              "      <td>0</td>\n",
              "      <td>0</td>\n",
              "      <td>23.011177</td>\n",
              "    </tr>\n",
              "  </tbody>\n",
              "</table>\n",
              "</div>"
            ],
            "text/plain": [
              "        age  gender    height    weight  ...  alco  active  cardio        bmi\n",
              "0 -0.419807       2  0.443399 -0.847978  ...     0       1       0  21.967120\n",
              "1  0.319062       1 -1.018016  0.749554  ...     0       1       1  34.927679\n",
              "2 -0.272033       1  0.078045 -0.709062  ...     0       0       1  23.507805\n",
              "3 -0.715354       2  0.565184  0.541180  ...     0       1       1  28.710479\n",
              "4 -0.863128       1 -1.018016 -1.264725  ...     0       0       0  23.011177\n",
              "\n",
              "[5 rows x 13 columns]"
            ]
          },
          "metadata": {
            "tags": []
          },
          "execution_count": 232
        }
      ]
    },
    {
      "cell_type": "code",
      "metadata": {
        "colab": {
          "base_uri": "https://localhost:8080/",
          "height": 419
        },
        "id": "IwOLTa0PCyAb",
        "outputId": "cdb68ab4-68cc-442c-a421-3bc87870c805"
      },
      "source": [
        "# 그래프 출력을 위한 재구조화\n",
        "df_melted = pd.melt(frame=df_std, id_vars=\"cardio\", value_vars=s_list, var_name=\"features\", value_name=\"value\", col_level=None)\n",
        "df_melted"
      ],
      "execution_count": null,
      "outputs": [
        {
          "output_type": "execute_result",
          "data": {
            "text/html": [
              "<div>\n",
              "<style scoped>\n",
              "    .dataframe tbody tr th:only-of-type {\n",
              "        vertical-align: middle;\n",
              "    }\n",
              "\n",
              "    .dataframe tbody tr th {\n",
              "        vertical-align: top;\n",
              "    }\n",
              "\n",
              "    .dataframe thead th {\n",
              "        text-align: right;\n",
              "    }\n",
              "</style>\n",
              "<table border=\"1\" class=\"dataframe\">\n",
              "  <thead>\n",
              "    <tr style=\"text-align: right;\">\n",
              "      <th></th>\n",
              "      <th>cardio</th>\n",
              "      <th>features</th>\n",
              "      <th>value</th>\n",
              "    </tr>\n",
              "  </thead>\n",
              "  <tbody>\n",
              "    <tr>\n",
              "      <th>0</th>\n",
              "      <td>0</td>\n",
              "      <td>age</td>\n",
              "      <td>-0.419807</td>\n",
              "    </tr>\n",
              "    <tr>\n",
              "      <th>1</th>\n",
              "      <td>1</td>\n",
              "      <td>age</td>\n",
              "      <td>0.319062</td>\n",
              "    </tr>\n",
              "    <tr>\n",
              "      <th>2</th>\n",
              "      <td>1</td>\n",
              "      <td>age</td>\n",
              "      <td>-0.272033</td>\n",
              "    </tr>\n",
              "    <tr>\n",
              "      <th>3</th>\n",
              "      <td>1</td>\n",
              "      <td>age</td>\n",
              "      <td>-0.715354</td>\n",
              "    </tr>\n",
              "    <tr>\n",
              "      <th>4</th>\n",
              "      <td>0</td>\n",
              "      <td>age</td>\n",
              "      <td>-0.863128</td>\n",
              "    </tr>\n",
              "    <tr>\n",
              "      <th>...</th>\n",
              "      <td>...</td>\n",
              "      <td>...</td>\n",
              "      <td>...</td>\n",
              "    </tr>\n",
              "    <tr>\n",
              "      <th>349875</th>\n",
              "      <td>0</td>\n",
              "      <td>ap_lo</td>\n",
              "      <td>-0.088254</td>\n",
              "    </tr>\n",
              "    <tr>\n",
              "      <th>349876</th>\n",
              "      <td>1</td>\n",
              "      <td>ap_lo</td>\n",
              "      <td>-0.035205</td>\n",
              "    </tr>\n",
              "    <tr>\n",
              "      <th>349877</th>\n",
              "      <td>1</td>\n",
              "      <td>ap_lo</td>\n",
              "      <td>-0.035205</td>\n",
              "    </tr>\n",
              "    <tr>\n",
              "      <th>349878</th>\n",
              "      <td>1</td>\n",
              "      <td>ap_lo</td>\n",
              "      <td>-0.088254</td>\n",
              "    </tr>\n",
              "    <tr>\n",
              "      <th>349879</th>\n",
              "      <td>0</td>\n",
              "      <td>ap_lo</td>\n",
              "      <td>-0.088254</td>\n",
              "    </tr>\n",
              "  </tbody>\n",
              "</table>\n",
              "<p>349880 rows × 3 columns</p>\n",
              "</div>"
            ],
            "text/plain": [
              "        cardio features     value\n",
              "0            0      age -0.419807\n",
              "1            1      age  0.319062\n",
              "2            1      age -0.272033\n",
              "3            1      age -0.715354\n",
              "4            0      age -0.863128\n",
              "...        ...      ...       ...\n",
              "349875       0    ap_lo -0.088254\n",
              "349876       1    ap_lo -0.035205\n",
              "349877       1    ap_lo -0.035205\n",
              "349878       1    ap_lo -0.088254\n",
              "349879       0    ap_lo -0.088254\n",
              "\n",
              "[349880 rows x 3 columns]"
            ]
          },
          "metadata": {
            "tags": []
          },
          "execution_count": 233
        }
      ]
    },
    {
      "cell_type": "code",
      "metadata": {
        "colab": {
          "base_uri": "https://localhost:8080/",
          "height": 647
        },
        "id": "R-rJUfdZEJ13",
        "outputId": "3ffb6e82-90a7-4c26-a2f7-d4a2025f0bae"
      },
      "source": [
        "plt.figure(figsize=(10,10))\n",
        "sns.boxplot(x=\"features\", y=\"value\", hue=\"cardio\", data=df_melted);\n",
        "plt.xticks(rotation=90)"
      ],
      "execution_count": null,
      "outputs": [
        {
          "output_type": "execute_result",
          "data": {
            "text/plain": [
              "(array([0, 1, 2, 3, 4]), <a list of 5 Text major ticklabel objects>)"
            ]
          },
          "metadata": {
            "tags": []
          },
          "execution_count": 234
        },
        {
          "output_type": "display_data",
          "data": {
            "image/png": "[encoded data removed]",
            "text/plain": [
              "<Figure size 720x720 with 1 Axes>"
            ]
          },
          "metadata": {
            "tags": [],
            "needs_background": "light"
          }
        }
      ]
    },
    {
      "cell_type": "code",
      "metadata": {
        "colab": {
          "base_uri": "https://localhost:8080/"
        },
        "id": "cbXixNdiEceA",
        "outputId": "63a23d23-f9ab-4305-b837-dac9c92f0201"
      },
      "source": [
        "ap_list = [\"ap_hi\", \"ap_lo\"]\n",
        "boundary = pd.DataFrame(index=[\"lower_bound\",\"upper_bound\"]) # We created an empty dataframe\n",
        "for each in ap_list:\n",
        "    Q1 = df[each].quantile(0.25)\n",
        "    Q3 = df[each].quantile(0.75)\n",
        "    IQR = Q3 - Q1\n",
        "\n",
        "    lower_bound = Q1- 1.5*IQR\n",
        "    upper_bound = Q3 + 1.5*IQR\n",
        "    boundary[each] = [lower_bound, upper_bound ]\n",
        "\n",
        "ap_hi_filter = (df[\"ap_hi\"] > boundary[\"ap_hi\"][1])\n",
        "ap_lo_filter = (df[\"ap_lo\"] > boundary[\"ap_lo\"][1])                                                           \n",
        "outlier_filter = (ap_hi_filter | ap_lo_filter)\n",
        "x_outliers = df[outlier_filter]\n",
        "x_outliers[\"cardio\"].value_counts()"
      ],
      "execution_count": null,
      "outputs": [
        {
          "output_type": "execute_result",
          "data": {
            "text/plain": [
              "1    2025\n",
              "0     388\n",
              "Name: cardio, dtype: int64"
            ]
          },
          "metadata": {
            "tags": []
          },
          "execution_count": 235
        }
      ]
    },
    {
      "cell_type": "code",
      "metadata": {
        "colab": {
          "base_uri": "https://localhost:8080/",
          "height": 297
        },
        "id": "3Ca-kYVPFWVO",
        "outputId": "de45ca9f-26f3-42e5-9094-6687d8281a0c"
      },
      "source": [
        "sns.countplot(x='cardio',data=x_outliers,linewidth=2)"
      ],
      "execution_count": null,
      "outputs": [
        {
          "output_type": "execute_result",
          "data": {
            "text/plain": [
              "<matplotlib.axes._subplots.AxesSubplot at 0x7fe13e4d3290>"
            ]
          },
          "metadata": {
            "tags": []
          },
          "execution_count": 236
        },
        {
          "output_type": "display_data",
          "data": {
            "image/png": "[encoded data removed]",
            "text/plain": [
              "<Figure size 432x288 with 1 Axes>"
            ]
          },
          "metadata": {
            "tags": [],
            "needs_background": "light"
          }
        }
      ]
    },
    {
      "cell_type": "markdown",
      "metadata": {
        "id": "zOXoEYgfFBag"
      },
      "source": [
        "- 심혈관 질환은 ap_hi 및 ap_lo outlier 데이터의 83 %에 존재한다.\n",
        "- ap_hi와 ap_lo는 고혈압을 상징하기 때문에 높은 질병률은 실생활과 일치한다.\n",
        "- 이상치는 drop한다."
      ]
    },
    {
      "cell_type": "code",
      "metadata": {
        "id": "gZGIfSOUGRj8"
      },
      "source": [
        "# 이상치 제거\n",
        "out_filter = ((df[\"ap_hi\"]>250) | (df[\"ap_lo\"]>200) )\n",
        "df = df[~out_filter]"
      ],
      "execution_count": null,
      "outputs": []
    },
    {
      "cell_type": "code",
      "metadata": {
        "colab": {
          "base_uri": "https://localhost:8080/"
        },
        "id": "doqzvXkSGZC7",
        "outputId": "0f4fa257-89b2-4bf4-902e-988562bd65d7"
      },
      "source": [
        "df.shape"
      ],
      "execution_count": null,
      "outputs": [
        {
          "output_type": "execute_result",
          "data": {
            "text/plain": [
              "(68983, 13)"
            ]
          },
          "metadata": {
            "tags": []
          },
          "execution_count": 238
        }
      ]
    },
    {
      "cell_type": "markdown",
      "metadata": {
        "id": "tK-1L7_1IsRC"
      },
      "source": [
        "### 훈련데이터와 테스트 데이터를 나눠서 활용"
      ]
    },
    {
      "cell_type": "code",
      "metadata": {
        "colab": {
          "base_uri": "https://localhost:8080/"
        },
        "id": "RNmwd_uFIph6",
        "outputId": "e77d7991-c9a8-49c0-f048-789ba16bf449"
      },
      "source": [
        "from sklearn.model_selection import train_test_split\n",
        "\n",
        "# 훈련 / 테스트 세트로 나누기\n",
        "train, test = train_test_split(df,train_size = 0.8, random_state=2)\n",
        "print(\"train shape:\", train.shape)\n",
        "print(\"test shape\", test.shape)"
      ],
      "execution_count": null,
      "outputs": [
        {
          "output_type": "stream",
          "text": [
            "train shape: (55186, 13)\n",
            "test shape (13797, 13)\n"
          ],
          "name": "stdout"
        }
      ]
    },
    {
      "cell_type": "code",
      "metadata": {
        "id": "bfeDnG76I12j"
      },
      "source": [
        "# 타겟 발류 분리\n",
        "target = 'cardio'\n",
        "y_train = train['cardio']\n",
        "y_test = test['cardio']\n",
        "\n",
        "X_train = train.drop(columns='cardio')\n",
        "X_test = test.drop(columns='cardio')"
      ],
      "execution_count": null,
      "outputs": []
    },
    {
      "cell_type": "markdown",
      "metadata": {
        "id": "l4XcXIcQPZs8"
      },
      "source": [
        "### feature scaling를 사용해서 Normalization를 실행\n",
        "- 기존 변수에 범위를 정규 분포로 변환한다.\n",
        "- 데이터의 최소값, 최대값을 알고 있을 경우 사용한다.\n",
        "위와 같은 경우 사용한다.  \n",
        "사실 어떤걸 써야할지 모르겟다... 그래서 둘다 해봄"
      ]
    },
    {
      "cell_type": "code",
      "metadata": {
        "id": "ZGQNkQbEJiHY"
      },
      "source": [
        "from sklearn.preprocessing import normalize\n",
        "x_train_nor = normalize(X_train)\n",
        "x_test_nor = normalize(X_test)\n",
        "x = normalize(df)"
      ],
      "execution_count": null,
      "outputs": []
    },
    {
      "cell_type": "code",
      "metadata": {
        "colab": {
          "base_uri": "https://localhost:8080/"
        },
        "id": "SCx4C7wYQoI2",
        "outputId": "dcf959e2-ab0c-47da-a9d3-bff9eb6ae0f5"
      },
      "source": [
        "from sklearn.linear_model import LogisticRegression\n",
        "\n",
        "# 학습\n",
        "logistic = LogisticRegression(max_iter=1000)\n",
        "logistic.fit(x_train_nor, y_train)\n",
        "\n",
        "# score - 분류 정확도\n",
        "print('테스트세트 정확도', logistic.score(x_test_nor, y_test)) # 더 높게 나옴"
      ],
      "execution_count": null,
      "outputs": [
        {
          "output_type": "stream",
          "text": [
            "테스트세트 정확도 0.7203739943465971\n"
          ],
          "name": "stdout"
        }
      ]
    },
    {
      "cell_type": "markdown",
      "metadata": {
        "id": "A8Rik1xyQ795"
      },
      "source": [
        "# 결과 \n",
        "- 검증세트 정확도 0.7203739943465971"
      ]
    },
    {
      "cell_type": "markdown",
      "metadata": {
        "id": "vELOs5DxJj-7"
      },
      "source": [
        "### feature scaling를 사용해서 StandardScaler를 실행\n",
        "- 기존 변수에 범위를 정규 분포로 변환한다.\n",
        "- 데이터의 최소값, 최대값을 모를 경우 사용한다.\n",
        "위와 같은 경우 사용한다."
      ]
    },
    {
      "cell_type": "code",
      "metadata": {
        "id": "3f-SnvAWJhY_"
      },
      "source": [
        "from sklearn.preprocessing import StandardScaler\n",
        "\n",
        "scaler = StandardScaler()\n",
        "X_train_scaled = scaler.fit_transform(X_train)\n",
        "X_test_scaled = scaler.transform(X_test)"
      ],
      "execution_count": null,
      "outputs": []
    },
    {
      "cell_type": "code",
      "metadata": {
        "colab": {
          "base_uri": "https://localhost:8080/"
        },
        "id": "7K83ynldKA6N",
        "outputId": "167a047c-bfe4-4a40-88d8-746be21b8c8d"
      },
      "source": [
        "from sklearn.linear_model import LogisticRegression\n",
        "\n",
        "# 학습\n",
        "logistic = LogisticRegression(max_iter=1000)\n",
        "logistic.fit(X_train_scaled, y_train)\n",
        "\n",
        "# score - 분류 정확도\n",
        "print('테스트세트 정확도', logistic.score(X_test_scaled, y_test))"
      ],
      "execution_count": null,
      "outputs": [
        {
          "output_type": "stream",
          "text": [
            "검증세트 정확도 0.7289265782416467\n"
          ],
          "name": "stdout"
        }
      ]
    },
    {
      "cell_type": "markdown",
      "metadata": {
        "id": "rdeFosqWLKBx"
      },
      "source": [
        "# 결과 \n",
        "- 테스트세트 정확도 0.7284224064018291\n",
        "- 이후 테스트세트 정확도 0.7289265782416467  \n",
        "EDA(특성공학, 이상치 제거) 튜닝작업 후 정확도가 오른것을 볼 수 있음."
      ]
    }
  ]
}