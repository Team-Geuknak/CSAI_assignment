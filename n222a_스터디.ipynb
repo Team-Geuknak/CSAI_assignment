{
  "nbformat": 4,
  "nbformat_minor": 0,
  "metadata": {
    "kernelspec": {
      "display_name": "Python 3",
      "language": "python",
      "name": "python3"
    },
    "language_info": {
      "codemirror_mode": {
        "name": "ipython",
        "version": 3
      },
      "file_extension": ".py",
      "mimetype": "text/x-python",
      "name": "python",
      "nbconvert_exporter": "python",
      "pygments_lexer": "ipython3",
      "version": "3.7.7"
    },
    "colab": {
      "name": "n222a-스터디",
      "provenance": [],
      "collapsed_sections": [],
      "include_colab_link": true
    }
  },
  "cells": [
    {
      "cell_type": "markdown",
      "metadata": {
        "id": "view-in-github",
        "colab_type": "text"
      },
      "source": [
        "<a href=\"https://colab.research.google.com/github/ZeusKwon/CSAI_assignment/blob/main/n222a_%EC%8A%A4%ED%84%B0%EB%94%94.ipynb\" target=\"_parent\"><img src=\"https://colab.research.google.com/assets/colab-badge.svg\" alt=\"Open In Colab\"/></a>"
      ]
    },
    {
      "cell_type": "markdown",
      "metadata": {
        "id": "egNkZnzQMhbw"
      },
      "source": [
        "<img align=\"right\" src=\"https://ds-cs-images.s3.ap-northeast-2.amazonaws.com/Codestates_Fulllogo_Color.png\" width=100>\n",
        "\n",
        "## *DATA SCIENCE / SECTION 2 / SPRINT 2 / NOTE 2*\n",
        "\n",
        "# 📝 Assignment\n",
        "---"
      ]
    },
    {
      "cell_type": "markdown",
      "metadata": {
        "id": "7IXUfiQ2UKj6"
      },
      "source": [
        "\n",
        "### 1)\n"
      ]
    },
    {
      "cell_type": "code",
      "metadata": {
        "id": "cKqnlVJjMhby"
      },
      "source": [
        "import pandas as pd\n",
        "from sklearn.model_selection import train_test_split\n",
        "\n",
        "url_train = \"https://raw.githubusercontent.com/ZeusKwon/data-drive/main/prediction-of-h1n1-vaccination/train.csv\"\n",
        "url_train_labels=\"https://raw.githubusercontent.com/ZeusKwon/data-drive/main/prediction-of-h1n1-vaccination/train_labels.csv\"\n",
        "url_test = \"https://raw.githubusercontent.com/ZeusKwon/data-drive/main/prediction-of-h1n1-vaccination/test.csv\"\n",
        "url_submission = \"https://raw.githubusercontent.com/ZeusKwon/data-drive/main/prediction-of-h1n1-vaccination/submission.csv\"\n",
        "\n",
        "target = 'vacc_h1n1_f'\n",
        "\n",
        "df = pd.merge(pd.read_csv(url_train),\n",
        "                 pd.read_csv(url_train_labels)[target],\n",
        "                left_index=True, right_index=True)\n",
        "test = pd.read_csv(url_test)\n",
        "submission = pd.read_csv(url_submission)"
      ],
      "execution_count": null,
      "outputs": []
    },
    {
      "cell_type": "code",
      "metadata": {
        "id": "itDAVdfNn6bz",
        "colab": {
          "base_uri": "https://localhost:8080/"
        },
        "outputId": "ed10d8e0-488a-4d13-f32a-30ae926b6320"
      },
      "source": [
        "train, val = train_test_split(df, train_size=0.80, test_size=0.20, stratify=df[target], random_state=2)\n",
        "\n",
        "train.shape, val.shape, test.shape"
      ],
      "execution_count": null,
      "outputs": [
        {
          "output_type": "execute_result",
          "data": {
            "text/plain": [
              "((33723, 39), (8431, 39), (28104, 38))"
            ]
          },
          "metadata": {
            "tags": []
          },
          "execution_count": 63
        }
      ]
    },
    {
      "cell_type": "markdown",
      "metadata": {
        "id": "Yaag7KPbHxnC"
      },
      "source": [
        "# 특성공학\n",
        "### 피처엔지니어링\n",
        "- n_people_r -> 가정의 사람 수 (household_children + n_adult_r) 두 피처 제거\n",
        "- employment_status -> 고용상태를 employed와 unemployed로만 나눔  \n",
        "\n",
        "### Ordinal Encoder 필요  \n",
        "\n",
        "- **h1n1_concern** -> H1N1 독감에 대한 우려 수준입니다. * 0 = 전혀 우려되지 않음, 1 = 별로 우려되지 않음, 2 = 다소 우려됨, 3 = 매우 우려됩니다.\n",
        "\n",
        "- **h1n1_knowledge** -> H1N1 독감에 대한 지식 수준입니다. * 0 = 지식 없음, 1 = 약간의 지식, 2 = 많은 지식입니다\n",
        "\n",
        "- **opinion_h1n1_vacc_effective** -> 백신효과에 대한 의견\n",
        "0 = Not at all effective; 1 = Not very effective; 2 = Don't know; 3 = Somewhat effective; 4 = Very effective\n",
        "\n",
        "### one-hot Encoding 필요  \n",
        "\n",
        "- **raceeth4_i** -> 응답자의 인종 1 = Hispanic; 2 = Non-Hispanic, Black Only; 3 = Non-Hispanic, White Only; 4 = Non-Hispanic, Other or Multiple Races\n",
        "\n",
        "- **sex_i** -> 응답자의 성별 1 = Male; 2 = Female 2\n",
        "\n",
        "- **inc_pov** - 2008년 인구 조사 빈곤 임계값에 대한 응답자의 가구 연간 소득. 1 = > $75,000; 2 : <= $75,000; 3 : Below Poverty; 4 : Unknown\n",
        "\n",
        "- **marital** -> 응답자의 결혼 여부 1 = Married; 2 = Not Married\n",
        "\n",
        "- **rent_own_r** -> 응답자의 주거 상황 1 = Home is Owned; 2 = Home is Rented or Other Arrangement"
      ]
    },
    {
      "cell_type": "code",
      "metadata": {
        "id": "0FCGzJsNn-vl"
      },
      "source": [
        "# employment_status -> 고용상태를 employed와 unemployed로만 나눔\n",
        "fixed_data = []\n",
        "for i in df[\"employment_status\"]:\n",
        "    if i == \"Not in Labor Force\":\n",
        "        fixed_data.append(\"Unemployed\")\n",
        "    else:\n",
        "        fixed_data.append(i)\n",
        "df[\"employment_status\"] = fixed_data\n",
        "\n",
        "# n_people_r -> 가정의 사람 수 (household_children + n_adult_r)\n",
        "df.drop(columns = ['household_children', 'n_adult_r'], inplace = True) "
      ],
      "execution_count": null,
      "outputs": []
    },
    {
      "cell_type": "code",
      "metadata": {
        "id": "x8Qlvwz4oCfW"
      },
      "source": [
        "import numpy as np\n",
        "\n",
        "def engineer(df):\n",
        "\n",
        "    # 높은 카디널리티를 가지는 특성을 제거합니다.\n",
        "    selected_cols = df.select_dtypes(include=['number', 'object'])\n",
        "    labels = selected_cols.nunique() # 특성별 카디널리티 리스트\n",
        "    selected_features = labels[labels <= 30].index.tolist() # 카디널리티가 30보다 작은 특성만 선택합니다.\n",
        "    df = df[selected_features]\n",
        "    \n",
        "    # 새로운 특성을 생성합니다.\n",
        "    behaviorals = [col for col in df.columns if 'behavioral' in col] \n",
        "    df['behaviorals'] = df[behaviorals].sum(axis=1)\n",
        "    \n",
        "    \n",
        "    dels = [col for col in df.columns if ('employment' in col or 'seas' in col)]\n",
        "    df.drop(columns=dels, inplace=True)\n",
        "        \n",
        "    return df\n",
        "\n",
        "\n",
        "train = engineer(train)\n",
        "val = engineer(val)\n",
        "test = engineer(test)"
      ],
      "execution_count": null,
      "outputs": []
    },
    {
      "cell_type": "code",
      "metadata": {
        "id": "R93ZAjw3oFT5",
        "colab": {
          "base_uri": "https://localhost:8080/"
        },
        "outputId": "84738483-afa8-4f8f-e7f3-b0daced4de79"
      },
      "source": [
        "features = train.drop(columns=[target]).columns\n",
        "\n",
        "X_train = train[features]\n",
        "y_train = train[target]\n",
        "X_val = val[features]\n",
        "y_val = val[target]\n",
        "X_test = test[features]\n",
        "\n",
        "# n_people_r -> 가정의 사람 수 (household_children + n_adult_r)\n",
        "X_train.drop(columns = ['household_children', 'n_adult_r'], inplace = True) \n",
        "X_test.drop(columns = ['household_children', 'n_adult_r'], inplace = True)"
      ],
      "execution_count": null,
      "outputs": [
        {
          "output_type": "stream",
          "text": [
            "/usr/local/lib/python3.7/dist-packages/pandas/core/frame.py:4174: SettingWithCopyWarning: \n",
            "A value is trying to be set on a copy of a slice from a DataFrame\n",
            "\n",
            "See the caveats in the documentation: https://pandas.pydata.org/pandas-docs/stable/user_guide/indexing.html#returning-a-view-versus-a-copy\n",
            "  errors=errors,\n"
          ],
          "name": "stderr"
        }
      ]
    },
    {
      "cell_type": "code",
      "metadata": {
        "id": "csMHN8gzoJ6i"
      },
      "source": [
        "!pip install category_encoders"
      ],
      "execution_count": null,
      "outputs": []
    },
    {
      "cell_type": "markdown",
      "metadata": {
        "id": "ojxtXvzTOdU6"
      },
      "source": [
        "# DecisionTree 모델 구현"
      ]
    },
    {
      "cell_type": "code",
      "metadata": {
        "id": "c575Mv7mMKPU",
        "colab": {
          "base_uri": "https://localhost:8080/"
        },
        "outputId": "8492cb2a-a15e-40c3-b9d8-e08294718950"
      },
      "source": [
        "# state제거 후 OrdinalEncoder 정확도\n",
        "from category_encoders import OrdinalEncoder\n",
        "from sklearn.impute import SimpleImputer\n",
        "from sklearn.preprocessing import StandardScaler\n",
        "from sklearn.linear_model import LogisticRegression\n",
        "from sklearn.pipeline import make_pipeline\n",
        "from sklearn.tree import DecisionTreeClassifier\n",
        "\n",
        "pipe = make_pipeline(\n",
        "    OrdinalEncoder(handle_missing=\"value\"),\n",
        "    SimpleImputer(), \n",
        "    DecisionTreeClassifier(max_depth=9, random_state=2)\n",
        ")\n",
        "\n",
        "pipe.fit(X_train, y_train)\n",
        "y_pred = pipe.predict(X_test)\n",
        "print('훈련 정확도', pipe.score(X_train, y_train))\n",
        "print('검증 정확도', pipe.score(X_val, y_val))\n",
        "#훈련 정확도 0.8288111971058328\n",
        "#검증 정확도 0.8257620685565176"
      ],
      "execution_count": null,
      "outputs": [
        {
          "output_type": "stream",
          "text": [
            "훈련 정확도 0.8409690715535392\n",
            "검증 정확도 0.8223223816866326\n"
          ],
          "name": "stdout"
        }
      ]
    },
    {
      "cell_type": "code",
      "metadata": {
        "id": "uOLY5VZIM2pt",
        "colab": {
          "base_uri": "https://localhost:8080/"
        },
        "outputId": "485ed447-4f49-4f45-ffaf-d61927893b69"
      },
      "source": [
        "# status 제거하고 ordinal 후 f값\n",
        "from sklearn.metrics import f1_score\n",
        "\n",
        "y_valid_pred = pipe.predict(X_val)\n",
        "f1_score(y_val, y_valid_pred)\n",
        "# 0.6131428983625479"
      ],
      "execution_count": null,
      "outputs": [
        {
          "output_type": "execute_result",
          "data": {
            "text/plain": [
              "0.5682997118155619"
            ]
          },
          "metadata": {
            "tags": []
          },
          "execution_count": 47
        }
      ]
    },
    {
      "cell_type": "code",
      "metadata": {
        "id": "Fvgc64TYoVSP",
        "colab": {
          "base_uri": "https://localhost:8080/"
        },
        "outputId": "b404cbbe-1a57-44e8-8297-7f1e04421ab1"
      },
      "source": [
        "# state살리고 후 OrdinalEncoder 정확도\n",
        "from category_encoders import OrdinalEncoder\n",
        "from sklearn.impute import SimpleImputer\n",
        "from sklearn.preprocessing import StandardScaler\n",
        "from sklearn.linear_model import LogisticRegression\n",
        "from sklearn.pipeline import make_pipeline\n",
        "from sklearn.tree import DecisionTreeClassifier\n",
        "\n",
        "pipe = make_pipeline(\n",
        "    OrdinalEncoder(handle_missing=\"value\"),\n",
        "    SimpleImputer(), \n",
        "    DecisionTreeClassifier(max_depth=9, random_state=2)\n",
        ")\n",
        "\n",
        "pipe.fit(X_train, y_train)\n",
        "y_pred = pipe.predict(X_test)\n",
        "print('훈련 정확도', pipe.score(X_train, y_train))\n",
        "print('검증 정확도', pipe.score(X_val, y_val))\n",
        "#simple\n",
        "#훈련 정확도 0.8288111971058328\n",
        "#검증 정확도 0.8257620685565176\n",
        "\n",
        "#ordinal\n",
        "#훈련 정확도 0.8419179788275064\n",
        "#검증 정확도 0.8137824694579527"
      ],
      "execution_count": null,
      "outputs": [
        {
          "output_type": "stream",
          "text": [
            "훈련 정확도 0.8409690715535392\n",
            "검증 정확도 0.8223223816866326\n"
          ],
          "name": "stdout"
        }
      ]
    },
    {
      "cell_type": "code",
      "metadata": {
        "id": "2Gy8Rk2RNhDO",
        "colab": {
          "base_uri": "https://localhost:8080/"
        },
        "outputId": "ec8c9338-1aa0-4a1d-852e-2df2c129e8f8"
      },
      "source": [
        "# status 살리고 ordinal 후 f값\n",
        "from sklearn.metrics import f1_score\n",
        "\n",
        "y_valid_pred = pipe.predict(X_val)\n",
        "f1_score(y_val, y_valid_pred)\n",
        "\n",
        "# 제거보다 더 떨어짐"
      ],
      "execution_count": null,
      "outputs": [
        {
          "output_type": "execute_result",
          "data": {
            "text/plain": [
              "0.5682997118155619"
            ]
          },
          "metadata": {
            "tags": []
          },
          "execution_count": 49
        }
      ]
    },
    {
      "cell_type": "markdown",
      "metadata": {
        "id": "d3G2WlRzPE5_"
      },
      "source": [
        "## 하이터 파라미터 조정"
      ]
    },
    {
      "cell_type": "code",
      "metadata": {
        "id": "87aCXmYfPOMw",
        "colab": {
          "base_uri": "https://localhost:8080/"
        },
        "outputId": "bb496474-c102-4dbf-88c9-3a4d8a5806a9"
      },
      "source": [
        "#이전에 썼던 train & val 합쳐서 다시 전처리\n",
        "train1 = engineer(df)\n",
        "\n",
        "X_train1 = train1[features]\n",
        "y_train1 = train1[target]\n",
        "# n_people_r -> 가정의 사람 수 (household_children + n_adult_r)\n",
        "X_train1.drop(columns = ['household_children', 'n_adult_r'], inplace = True) "
      ],
      "execution_count": null,
      "outputs": [
        {
          "output_type": "stream",
          "text": [
            "/usr/local/lib/python3.7/dist-packages/pandas/core/frame.py:4174: SettingWithCopyWarning: \n",
            "A value is trying to be set on a copy of a slice from a DataFrame\n",
            "\n",
            "See the caveats in the documentation: https://pandas.pydata.org/pandas-docs/stable/user_guide/indexing.html#returning-a-view-versus-a-copy\n",
            "  errors=errors,\n"
          ],
          "name": "stderr"
        }
      ]
    },
    {
      "cell_type": "code",
      "metadata": {
        "id": "Hryke5-1Onxk",
        "colab": {
          "base_uri": "https://localhost:8080/"
        },
        "outputId": "a9728dee-c9ed-471f-bb53-0e9ae8e0c121"
      },
      "source": [
        "from category_encoders import OneHotEncoder\n",
        "pipe = make_pipeline(        \n",
        "        OneHotEncoder(use_cat_names=True), SimpleImputer(), \n",
        "        DecisionTreeClassifier(random_state=1, class_weight='balanced', splitter='best', min_samples_split=450, min_samples_leaf=3, max_depth=19)\n",
        "        )        \n",
        "pipe.fit(X_train1, y_train1)            \n",
        "y_tr_pred = pipe.predict(X_train1)        \n",
        "print('훈련 정확도', pipe.score(X_train1, y_train1))"
      ],
      "execution_count": null,
      "outputs": [
        {
          "output_type": "stream",
          "text": [
            "/usr/local/lib/python3.7/dist-packages/category_encoders/utils.py:21: FutureWarning: is_categorical is deprecated and will be removed in a future version.  Use is_categorical_dtype instead\n",
            "  elif pd.api.types.is_categorical(cols):\n"
          ],
          "name": "stderr"
        },
        {
          "output_type": "stream",
          "text": [
            "훈련 정확도 0.7692982872325284\n"
          ],
          "name": "stdout"
        }
      ]
    },
    {
      "cell_type": "code",
      "metadata": {
        "id": "4bdrIye_PQkT",
        "colab": {
          "base_uri": "https://localhost:8080/"
        },
        "outputId": "3d1d8b61-9dc9-4bac-eacd-39b9685ad4c1"
      },
      "source": [
        "#train + val\n",
        "from sklearn.metrics import f1_score\n",
        "\n",
        "y_tr_pred = pipe.predict(X_train1)\n",
        "f1_score(y_train1, y_tr_pred)\n",
        "# 0.6095787560262388"
      ],
      "execution_count": null,
      "outputs": [
        {
          "output_type": "execute_result",
          "data": {
            "text/plain": [
              "0.6117609485408598"
            ]
          },
          "metadata": {
            "tags": []
          },
          "execution_count": 36
        }
      ]
    },
    {
      "cell_type": "code",
      "metadata": {
        "id": "4o-CJtuGRvbz",
        "colab": {
          "base_uri": "https://localhost:8080/"
        },
        "outputId": "0c1222af-c1f3-470c-8572-19c1390644b6"
      },
      "source": [
        "from category_encoders import OneHotEncoder\n",
        "pipe = make_pipeline(        \n",
        "        OrdinalEncoder(handle_missing=\"value\"), SimpleImputer(), \n",
        "        DecisionTreeClassifier(random_state=1, class_weight='balanced', min_samples_split=460, max_depth=18)\n",
        "        )        \n",
        "pipe.fit(X_train1, y_train1)            \n",
        "y_tr_pred = pipe.predict(X_train1)        \n",
        "print('훈련 정확도', pipe.score(X_train1, y_train1))\n",
        "# 훈련 정확도 0.7799971532950609"
      ],
      "execution_count": null,
      "outputs": [
        {
          "output_type": "stream",
          "text": [
            "훈련 정확도 0.776415049580111\n"
          ],
          "name": "stdout"
        }
      ]
    },
    {
      "cell_type": "code",
      "metadata": {
        "id": "2tanejQhRxYF",
        "colab": {
          "base_uri": "https://localhost:8080/"
        },
        "outputId": "17d632f2-c392-45c2-8007-c066c225569a"
      },
      "source": [
        "#train + val Ordinal\n",
        "from sklearn.metrics import f1_score\n",
        "\n",
        "y_tr_pred = pipe.predict(X_train1)\n",
        "f1_score(y_train1, y_tr_pred)\n",
        "# 0.6174092409240924"
      ],
      "execution_count": null,
      "outputs": [
        {
          "output_type": "execute_result",
          "data": {
            "text/plain": [
              "0.6150390066576809"
            ]
          },
          "metadata": {
            "tags": []
          },
          "execution_count": 51
        }
      ]
    },
    {
      "cell_type": "markdown",
      "metadata": {
        "id": "cGxG1sYzMhby"
      },
      "source": [
        "### 2)"
      ]
    },
    {
      "cell_type": "markdown",
      "metadata": {
        "id": "zFFBSRiUZVyM"
      },
      "source": [
        "# 랜덤포레스트 구현"
      ]
    },
    {
      "cell_type": "code",
      "metadata": {
        "id": "IJessqmKMhbz",
        "colab": {
          "base_uri": "https://localhost:8080/"
        },
        "outputId": "25ed09fd-a3f1-415e-b5f8-f9dc5bd1ef31"
      },
      "source": [
        "%%time\n",
        "from category_encoders import OneHotEncoder\n",
        "from sklearn.ensemble import RandomForestClassifier\n",
        "from sklearn.impute import SimpleImputer \n",
        "from sklearn.pipeline import make_pipeline\n",
        "\n",
        "pipe = make_pipeline(\n",
        "    OneHotEncoder(use_cat_names=True), \n",
        "    SimpleImputer(), \n",
        "    RandomForestClassifier(n_jobs=-1, random_state=10, oob_score=True)\n",
        ")\n",
        "\n",
        "pipe.fit(X_train, y_train)\n",
        "print('검증 정확도: ', pipe.score(X_val, y_val))\n",
        "# 검증 정확도:  0.8225596014707627"
      ],
      "execution_count": null,
      "outputs": [
        {
          "output_type": "stream",
          "text": [
            "/usr/local/lib/python3.7/dist-packages/category_encoders/utils.py:21: FutureWarning: is_categorical is deprecated and will be removed in a future version.  Use is_categorical_dtype instead\n",
            "  elif pd.api.types.is_categorical(cols):\n"
          ],
          "name": "stderr"
        },
        {
          "output_type": "stream",
          "text": [
            "검증 정확도:  0.8225596014707627\n",
            "CPU times: user 7.82 s, sys: 46.2 ms, total: 7.87 s\n",
            "Wall time: 4.73 s\n"
          ],
          "name": "stdout"
        }
      ]
    },
    {
      "cell_type": "code",
      "metadata": {
        "id": "9jf9fpdlZcW-",
        "colab": {
          "base_uri": "https://localhost:8080/"
        },
        "outputId": "8be211a8-3104-41be-a0cc-70b4edb22857"
      },
      "source": [
        "# OneHotEncoder\n",
        "from sklearn.metrics import f1_score\n",
        "\n",
        "y_valid_pred = pipe.predict(X_val)\n",
        "f1_score(y_val, y_valid_pred)\n",
        "# 0.5676156583629893"
      ],
      "execution_count": null,
      "outputs": [
        {
          "output_type": "execute_result",
          "data": {
            "text/plain": [
              "0.556872037914692"
            ]
          },
          "metadata": {
            "tags": []
          },
          "execution_count": 150
        }
      ]
    },
    {
      "cell_type": "code",
      "metadata": {
        "id": "ET0rJFhcZ0bf",
        "colab": {
          "base_uri": "https://localhost:8080/"
        },
        "outputId": "fbc13381-d1dc-49ce-a14a-a4826371341b"
      },
      "source": [
        "%%time\n",
        "from category_encoders import OneHotEncoder\n",
        "from sklearn.ensemble import RandomForestClassifier\n",
        "from sklearn.impute import SimpleImputer \n",
        "from sklearn.pipeline import make_pipeline\n",
        "\n",
        "pipe = make_pipeline(\n",
        "    OrdinalEncoder(),\n",
        "    SimpleImputer(), \n",
        "    RandomForestClassifier(n_jobs=-1, random_state=10, oob_score=True)\n",
        ")\n",
        "\n",
        "pipe.fit(X_train, y_train)\n",
        "print('검증 정확도: ', pipe.score(X_val, y_val))"
      ],
      "execution_count": null,
      "outputs": [
        {
          "output_type": "stream",
          "text": [
            "검증 정확도:  0.8239829201755426\n",
            "CPU times: user 6.71 s, sys: 65.3 ms, total: 6.78 s\n",
            "Wall time: 4.05 s\n"
          ],
          "name": "stdout"
        }
      ]
    },
    {
      "cell_type": "code",
      "metadata": {
        "id": "o6R0fSacZ6I5",
        "colab": {
          "base_uri": "https://localhost:8080/"
        },
        "outputId": "7dd2e956-afbd-44fd-97cb-d5337ccb6746"
      },
      "source": [
        "# OrdinalEncoder\n",
        "from sklearn.metrics import f1_score\n",
        "\n",
        "y_valid_pred = pipe.predict(X_val)\n",
        "f1_score(y_val, y_valid_pred)"
      ],
      "execution_count": null,
      "outputs": [
        {
          "output_type": "execute_result",
          "data": {
            "text/plain": [
              "0.5540865384615384"
            ]
          },
          "metadata": {
            "tags": []
          },
          "execution_count": 152
        }
      ]
    },
    {
      "cell_type": "markdown",
      "metadata": {
        "id": "QTacEhQnbSQK"
      },
      "source": [
        "#하이퍼 파라미터 조정"
      ]
    },
    {
      "cell_type": "code",
      "metadata": {
        "id": "li-ylJqqbPce",
        "colab": {
          "base_uri": "https://localhost:8080/"
        },
        "outputId": "349c42b6-cca4-460c-894e-a7ff4741ab3b"
      },
      "source": [
        "%%time\n",
        "from category_encoders import OneHotEncoder\n",
        "from sklearn.ensemble import RandomForestClassifier\n",
        "from sklearn.impute import SimpleImputer \n",
        "from sklearn.pipeline import make_pipeline\n",
        "\n",
        "pipe = make_pipeline(\n",
        "    OneHotEncoder(use_cat_names=True), \n",
        "    SimpleImputer(), \n",
        "    RandomForestClassifier(n_jobs=-1, random_state=10, oob_score=True,class_weight='balanced', min_samples_split=460, max_depth=18)\n",
        ")\n",
        "\n",
        "pipe.fit(X_train, y_train)\n",
        "print('검증 정확도: ', pipe.score(X_val, y_val))"
      ],
      "execution_count": null,
      "outputs": [
        {
          "output_type": "stream",
          "text": [
            "/usr/local/lib/python3.7/dist-packages/category_encoders/utils.py:21: FutureWarning: is_categorical is deprecated and will be removed in a future version.  Use is_categorical_dtype instead\n",
            "  elif pd.api.types.is_categorical(cols):\n"
          ],
          "name": "stderr"
        },
        {
          "output_type": "stream",
          "text": [
            "검증 정확도:  0.7630174356541336\n",
            "CPU times: user 4.18 s, sys: 64.4 ms, total: 4.25 s\n",
            "Wall time: 2.79 s\n"
          ],
          "name": "stdout"
        }
      ]
    },
    {
      "cell_type": "code",
      "metadata": {
        "id": "39--ybrzbYWi",
        "colab": {
          "base_uri": "https://localhost:8080/"
        },
        "outputId": "04200607-9d7f-46d3-ab2e-53627f40e05f"
      },
      "source": [
        "\n",
        "from sklearn.metrics import f1_score\n",
        "\n",
        "y_valid_pred = pipe.predict(X_val)\n",
        "f1_score(y_val, y_valid_pred)\n",
        "# 0.6103744149765991"
      ],
      "execution_count": null,
      "outputs": [
        {
          "output_type": "execute_result",
          "data": {
            "text/plain": [
              "0.6103744149765991"
            ]
          },
          "metadata": {
            "tags": []
          },
          "execution_count": 154
        }
      ]
    },
    {
      "cell_type": "markdown",
      "metadata": {
        "id": "f6GLM_QLsmkO"
      },
      "source": [
        "**디시전 트리보다 랜덤포레스트의 f-score가 더 낮게 나온다.**\n",
        " \n",
        "개인적인 생각\n",
        "- 랜덤포레스트에서 학습할때 중요도 비교를 스스로 해서 특성의 값을 비교하는데, 특성에 nan값이 많이 포함되어있는 경우 불순도가 높지만 중요한 노드로 인식이 되기 때문에 f-score값이 더 낮아진것 같다."
      ]
    },
    {
      "cell_type": "markdown",
      "metadata": {
        "id": "XLGpHauopl0M"
      },
      "source": [
        "# train + val값 더해서 최종 랜덤포레스트 f스코어 출력"
      ]
    },
    {
      "cell_type": "code",
      "metadata": {
        "id": "Lj9-wSKgplLq"
      },
      "source": [
        "import pandas as pd\n",
        "from sklearn.model_selection import train_test_split\n",
        "\n",
        "url_train = \"https://raw.githubusercontent.com/ZeusKwon/data-drive/main/prediction-of-h1n1-vaccination/train.csv\"\n",
        "url_train_labels=\"https://raw.githubusercontent.com/ZeusKwon/data-drive/main/prediction-of-h1n1-vaccination/train_labels.csv\"\n",
        "url_test = \"https://raw.githubusercontent.com/ZeusKwon/data-drive/main/prediction-of-h1n1-vaccination/test.csv\"\n",
        "url_submission = \"https://raw.githubusercontent.com/ZeusKwon/data-drive/main/prediction-of-h1n1-vaccination/submission.csv\"\n",
        "\n",
        "target = 'vacc_h1n1_f'\n",
        "\n",
        "df = pd.merge(pd.read_csv(url_train),\n",
        "                 pd.read_csv(url_train_labels)[target],\n",
        "                left_index=True, right_index=True)\n",
        "test = pd.read_csv(url_test)\n",
        "submission = pd.read_csv(url_submission)"
      ],
      "execution_count": null,
      "outputs": []
    },
    {
      "cell_type": "code",
      "metadata": {
        "id": "5e287T5rqPYf"
      },
      "source": [
        "# employment_status -> 고용상태를 employed와 unemployed로만 나눔\n",
        "fixed_data = []\n",
        "for i in df[\"employment_status\"]:\n",
        "    if i == \"Not in Labor Force\":\n",
        "        fixed_data.append(\"Unemployed\")\n",
        "    else:\n",
        "        fixed_data.append(i)\n",
        "df[\"employment_status\"] = fixed_data"
      ],
      "execution_count": null,
      "outputs": []
    },
    {
      "cell_type": "code",
      "metadata": {
        "id": "f5M8RB4JqgX0"
      },
      "source": [
        "#이전에 썼던 train & val 합쳐서 다시 전처리\n",
        "features = train.drop(columns=[target]).columns\n",
        "train1 = engineer(df)"
      ],
      "execution_count": null,
      "outputs": []
    },
    {
      "cell_type": "code",
      "metadata": {
        "id": "dbgjMzm8qaMJ"
      },
      "source": [
        "import numpy as np\n",
        "\n",
        "def engineer(df):\n",
        "\n",
        "    # 높은 카디널리티를 가지는 특성을 제거합니다.\n",
        "    selected_cols = df.select_dtypes(include=['number', 'object'])\n",
        "    labels = selected_cols.nunique() # 특성별 카디널리티 리스트\n",
        "    selected_features = labels[labels <= 30].index.tolist() # 카디널리티가 30보다 작은 특성만 선택합니다.\n",
        "    df = df[selected_features]\n",
        "    \n",
        "    # 새로운 특성을 생성합니다.\n",
        "    behaviorals = [col for col in df.columns if 'behavioral' in col] \n",
        "    df['behaviorals'] = df[behaviorals].sum(axis=1)\n",
        "    \n",
        "    \n",
        "    dels = [col for col in df.columns if ('employment' in col or 'seas' in col)]\n",
        "    df.drop(columns=dels, inplace=True)\n",
        "        \n",
        "    return df\n",
        "\n",
        "\n",
        "train1 = engineer(train1)\n",
        "test1 = engineer(test)"
      ],
      "execution_count": null,
      "outputs": []
    },
    {
      "cell_type": "code",
      "metadata": {
        "id": "Oxi4Cb4ypMBM",
        "colab": {
          "base_uri": "https://localhost:8080/"
        },
        "outputId": "24c4f665-8216-4cb0-8e5b-05701cfa8de2"
      },
      "source": [
        "X_train1 = train1[features]\n",
        "y_train1 = train1[target]\n",
        "# n_people_r -> 가정의 사람 수 (household_children + n_adult_r)\n",
        "X_train1.drop(columns = ['household_children', 'n_adult_r'], inplace = True) "
      ],
      "execution_count": null,
      "outputs": [
        {
          "output_type": "stream",
          "text": [
            "/usr/local/lib/python3.7/dist-packages/pandas/core/frame.py:4174: SettingWithCopyWarning: \n",
            "A value is trying to be set on a copy of a slice from a DataFrame\n",
            "\n",
            "See the caveats in the documentation: https://pandas.pydata.org/pandas-docs/stable/user_guide/indexing.html#returning-a-view-versus-a-copy\n",
            "  errors=errors,\n"
          ],
          "name": "stderr"
        }
      ]
    },
    {
      "cell_type": "code",
      "metadata": {
        "id": "Xx2qN8f9rfFG",
        "colab": {
          "base_uri": "https://localhost:8080/"
        },
        "outputId": "9d7836d2-a7eb-412a-fca9-39f884ebfa0c"
      },
      "source": [
        "%%time\n",
        "from category_encoders import OneHotEncoder\n",
        "from sklearn.ensemble import RandomForestClassifier\n",
        "from sklearn.impute import SimpleImputer \n",
        "from sklearn.pipeline import make_pipeline\n",
        "\n",
        "pipe = make_pipeline(        \n",
        "        OneHotEncoder(use_cat_names=True), SimpleImputer(), \n",
        "        DecisionTreeClassifier(random_state=1, class_weight='balanced', splitter='best', min_samples_split=450, min_samples_leaf=3, max_depth=19)\n",
        "        )        \n",
        "pipe.fit(X_train1, y_train1)            \n",
        "y_tr_pred = pipe.predict(X_train1)        \n",
        "print('훈련 정확도', pipe.score(X_train1, y_train1))"
      ],
      "execution_count": null,
      "outputs": [
        {
          "output_type": "stream",
          "text": [
            "/usr/local/lib/python3.7/dist-packages/category_encoders/utils.py:21: FutureWarning: is_categorical is deprecated and will be removed in a future version.  Use is_categorical_dtype instead\n",
            "  elif pd.api.types.is_categorical(cols):\n"
          ],
          "name": "stderr"
        },
        {
          "output_type": "stream",
          "text": [
            "훈련 정확도 0.7692982872325284\n",
            "CPU times: user 937 ms, sys: 26 ms, total: 963 ms\n",
            "Wall time: 978 ms\n"
          ],
          "name": "stdout"
        }
      ]
    },
    {
      "cell_type": "code",
      "metadata": {
        "id": "zjswf6uIrl57",
        "colab": {
          "base_uri": "https://localhost:8080/"
        },
        "outputId": "382bcf96-0184-4709-a28f-3dcd02b8d3b8"
      },
      "source": [
        "#train + val\n",
        "from sklearn.metrics import f1_score\n",
        "\n",
        "y_tr_pred = pipe.predict(X_train1)\n",
        "f1_score(y_train1, y_tr_pred)\n",
        "# 0.6117609485408598"
      ],
      "execution_count": null,
      "outputs": [
        {
          "output_type": "execute_result",
          "data": {
            "text/plain": [
              "0.6117609485408598"
            ]
          },
          "metadata": {
            "tags": []
          },
          "execution_count": 60
        }
      ]
    },
    {
      "cell_type": "code",
      "metadata": {
        "colab": {
          "base_uri": "https://localhost:8080/"
        },
        "id": "vfVoya6L_Q4a",
        "outputId": "dae3c53b-22e5-401e-de8e-a5fa68993c45"
      },
      "source": [
        "X_train1.shape"
      ],
      "execution_count": null,
      "outputs": [
        {
          "output_type": "execute_result",
          "data": {
            "text/plain": [
              "(42154, 29)"
            ]
          },
          "metadata": {
            "tags": []
          },
          "execution_count": 61
        }
      ]
    },
    {
      "cell_type": "markdown",
      "metadata": {
        "id": "KFggm_bRMhbz"
      },
      "source": [
        "## 🔥 "
      ]
    },
    {
      "cell_type": "code",
      "metadata": {
        "id": "4yQEE3_AvBJD"
      },
      "source": [
        ""
      ],
      "execution_count": null,
      "outputs": []
    },
    {
      "cell_type": "code",
      "metadata": {
        "colab": {
          "base_uri": "https://localhost:8080/"
        },
        "id": "vbO0DSH3vALO",
        "outputId": "84ecc360-2044-49b0-983b-e833310fb566"
      },
      "source": [
        "from category_encoders import OrdinalEncoder\n",
        "from sklearn.impute import SimpleImputer\n",
        "from sklearn.preprocessing import StandardScaler\n",
        "from sklearn.linear_model import LogisticRegression\n",
        "from sklearn.pipeline import make_pipeline\n",
        "from sklearn.tree import DecisionTreeClassifier\n",
        "from sklearn.metrics import f1_score\n",
        "from category_encoders import OneHotEncoder"
      ],
      "execution_count": 5,
      "outputs": [
        {
          "output_type": "stream",
          "text": [
            "/usr/local/lib/python3.7/dist-packages/statsmodels/tools/_testing.py:19: FutureWarning: pandas.util.testing is deprecated. Use the functions in the public API at pandas.testing instead.\n",
            "  import pandas.util.testing as tm\n"
          ],
          "name": "stderr"
        }
      ]
    },
    {
      "cell_type": "code",
      "metadata": {
        "id": "aZdG1LEBu8Z_"
      },
      "source": [
        "import pandas as pd\n",
        "from sklearn.model_selection import train_test_split\n",
        "\n",
        "url_train = \"https://raw.githubusercontent.com/ZeusKwon/data-drive/main/prediction-of-h1n1-vaccination/train.csv\"\n",
        "url_train_labels=\"https://raw.githubusercontent.com/ZeusKwon/data-drive/main/prediction-of-h1n1-vaccination/train_labels.csv\"\n",
        "url_test = \"https://raw.githubusercontent.com/ZeusKwon/data-drive/main/prediction-of-h1n1-vaccination/test.csv\"\n",
        "url_submission = \"https://raw.githubusercontent.com/ZeusKwon/data-drive/main/prediction-of-h1n1-vaccination/submission.csv\"\n",
        "\n",
        "target = 'vacc_h1n1_f'\n",
        "\n",
        "df = pd.merge(pd.read_csv(url_train),\n",
        "                 pd.read_csv(url_train_labels)[target],\n",
        "                left_index=True, right_index=True)\n",
        "test = pd.read_csv(url_test)\n",
        "submission = pd.read_csv(url_submission)"
      ],
      "execution_count": 38,
      "outputs": []
    },
    {
      "cell_type": "code",
      "metadata": {
        "colab": {
          "base_uri": "https://localhost:8080/"
        },
        "id": "PEs8y3xYu9Zw",
        "outputId": "c13e6416-7f5e-40a6-d6e8-4d40420ddad8"
      },
      "source": [
        "train, val = train_test_split(df, train_size=0.80, test_size=0.20, stratify=df[target], random_state=2)\n",
        "\n",
        "train.shape, val.shape, test.shape"
      ],
      "execution_count": 39,
      "outputs": [
        {
          "output_type": "execute_result",
          "data": {
            "text/plain": [
              "((33723, 39), (8431, 39), (28104, 38))"
            ]
          },
          "metadata": {
            "tags": []
          },
          "execution_count": 39
        }
      ]
    },
    {
      "cell_type": "code",
      "metadata": {
        "id": "nNb32a6NvQpU"
      },
      "source": [
        "# 중복샘플 제거\n",
        "train.drop_duplicates(inplace = True)\n",
        "val.drop_duplicates(inplace = True)"
      ],
      "execution_count": 34,
      "outputs": []
    },
    {
      "cell_type": "code",
      "metadata": {
        "id": "uMMYDjvQvSJN"
      },
      "source": [
        "# 특성 엔지니어링\n",
        "import numpy as np\n",
        "import warnings\n",
        "warnings.filterwarnings('ignore')\n",
        "\n",
        "def engineer(df):\n",
        "    \n",
        "    # behaviorals 관련 새로운 특성 생성\n",
        "    behaviorals = [col for col in df.columns if 'behavioral' in col] \n",
        "    df['behaviorals'] = df[behaviorals].sum(axis=1)\n",
        "    \n",
        "\n",
        "    # 타겟 변수와 관계 없는 seasonal flu관련 특성 제거\n",
        "    dels = [col for col in df.columns if 'seas' in col]\n",
        "    df.drop(columns=dels, inplace=True)\n",
        "        \n",
        "    return df\n",
        "\n",
        "train = engineer(train)\n",
        "val = engineer(val)\n",
        "test = engineer(test)"
      ],
      "execution_count": 40,
      "outputs": []
    },
    {
      "cell_type": "code",
      "metadata": {
        "id": "yvfUBQMaMhbz"
      },
      "source": [
        "# 훈련/검증/테스트 데이터를 특성과 타겟으로 분리\n",
        "features = train.drop(columns=[target]).columns\n",
        "\n",
        "X_train = train[features]\n",
        "y_train = train[target]\n",
        "X_val = val[features]\n",
        "y_val = val[target]\n",
        "X_test = test[features]"
      ],
      "execution_count": 41,
      "outputs": []
    },
    {
      "cell_type": "code",
      "metadata": {
        "colab": {
          "base_uri": "https://localhost:8080/"
        },
        "id": "5Nn7AHoc-vEu",
        "outputId": "3259cd77-090b-49d7-eba9-811922c4bde6"
      },
      "source": [
        "from category_encoders import TargetEncoder\n",
        "\n",
        "pipe = make_pipeline(\n",
        "    TargetEncoder(), \n",
        "    SimpleImputer(), \n",
        "    RandomForestClassifier(n_jobs=-1, random_state=2, oob_score=True, \n",
        "                           n_estimators=450, max_depth=11, class_weight='balanced')\n",
        ")\n",
        "\n",
        "pipe.fit(X_train, y_train)\n",
        "\n",
        "y_val_pred = pipe.predict(X_val)\n",
        "print('f1_score', f1_score(y_val, y_val_pred))\n",
        "# 0.6295484436650592"
      ],
      "execution_count": 47,
      "outputs": [
        {
          "output_type": "stream",
          "text": [
            "f1_score 0.6295484436650592\n"
          ],
          "name": "stdout"
        }
      ]
    },
    {
      "cell_type": "markdown",
      "metadata": {
        "id": "h3FSG9_g_uVx"
      },
      "source": [
        "**원핫인코딩과 타겟인코딩은 둘 다 범주형 기능을 인코딩하는데 사용한다.  \n",
        "원핫인코딩은 보유하고 있는 범주의 수에 따라서 높은 차원을 만들게 될 수 있다.  \n",
        "이 성질은 데이터세트가 크면 클수록 문제가 된다\n",
        "하지만 타겟인코딩은 데이터 세트의 차원을 추가하지 않고 인코딩을 수행합니다.  \n",
        "따라서 좋은 첫 번째 시도 인코딩 방법으로 사용할 수 있습니다.**"
      ]
    },
    {
      "cell_type": "markdown",
      "metadata": {
        "id": "OJiHZVKtMhb0"
      },
      "source": [
        "## 참고자료\n",
        "\n",
        "- [Random Forests for Complete Beginners](https://victorzhou.com/blog/intro-to-random-forests/)"
      ]
    }
  ]
}