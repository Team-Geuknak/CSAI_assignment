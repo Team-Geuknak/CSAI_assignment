{
  "nbformat": 4,
  "nbformat_minor": 0,
  "metadata": {
    "kernelspec": {
      "display_name": "Python 3",
      "language": "python",
      "name": "python3"
    },
    "language_info": {
      "codemirror_mode": {
        "name": "ipython",
        "version": 3
      },
      "file_extension": ".py",
      "mimetype": "text/x-python",
      "name": "python",
      "nbconvert_exporter": "python",
      "pygments_lexer": "ipython3",
      "version": "3.7.7"
    },
    "colab": {
      "name": "[정길준]n214.ipynb의 사본",
      "provenance": [],
      "collapsed_sections": [],
      "include_colab_link": true
    }
  },
  "cells": [
    {
      "cell_type": "markdown",
      "metadata": {
        "id": "view-in-github",
        "colab_type": "text"
      },
      "source": [
        "<a href=\"https://colab.research.google.com/github/Gilbert9172/CSAI_assignment/blob/main/%5B%EC%A0%95%EA%B8%B8%EC%A4%80%5Dn214_ipynb%EC%9D%98_%EC%82%AC%EB%B3%B8.ipynb\" target=\"_parent\"><img src=\"https://colab.research.google.com/assets/colab-badge.svg\" alt=\"Open In Colab\"/></a>"
      ]
    },
    {
      "cell_type": "markdown",
      "metadata": {
        "id": "JQnzuYtu3wXJ"
      },
      "source": [
        "<img align=\"right\" src=\"https://ds-cs-images.s3.ap-northeast-2.amazonaws.com/Codestates_Fulllogo_Color.png\" width=100>\n",
        "\n",
        "## *DATA SCIENCE / SECTION 2 / SPRINT 1 / NOTE 4*\n",
        "\n",
        "# 📝 Assignment\n",
        "---"
      ]
    },
    {
      "cell_type": "markdown",
      "metadata": {
        "id": "7IXUfiQ2UKj6"
      },
      "source": [
        "# Gender Cardiovascular disease"
      ]
    },
    {
      "cell_type": "markdown",
      "metadata": {
        "id": "HPTeaz-k3wXL"
      },
      "source": [
        "# 1) "
      ]
    },
    {
      "cell_type": "code",
      "metadata": {
        "id": "rbu9hiqR3wXL",
        "colab": {
          "base_uri": "https://localhost:8080/"
        },
        "outputId": "8569922b-d9d4-470a-9308-3fa08f15a9fb"
      },
      "source": [
        "import pandas as pd\n",
        "df = pd.read_csv('https://ds-lecture-data.s3.ap-northeast-2.amazonaws.com/cardio/cardio_train.csv', sep=';').iloc[:,1:]\n",
        "df.info()"
      ],
      "execution_count": 1,
      "outputs": [
        {
          "output_type": "stream",
          "text": [
            "<class 'pandas.core.frame.DataFrame'>\n",
            "RangeIndex: 70000 entries, 0 to 69999\n",
            "Data columns (total 12 columns):\n",
            " #   Column       Non-Null Count  Dtype  \n",
            "---  ------       --------------  -----  \n",
            " 0   age          70000 non-null  int64  \n",
            " 1   gender       70000 non-null  int64  \n",
            " 2   height       70000 non-null  int64  \n",
            " 3   weight       70000 non-null  float64\n",
            " 4   ap_hi        70000 non-null  int64  \n",
            " 5   ap_lo        70000 non-null  int64  \n",
            " 6   cholesterol  70000 non-null  int64  \n",
            " 7   gluc         70000 non-null  int64  \n",
            " 8   smoke        70000 non-null  int64  \n",
            " 9   alco         70000 non-null  int64  \n",
            " 10  active       70000 non-null  int64  \n",
            " 11  cardio       70000 non-null  int64  \n",
            "dtypes: float64(1), int64(11)\n",
            "memory usage: 6.4 MB\n"
          ],
          "name": "stdout"
        }
      ]
    },
    {
      "cell_type": "code",
      "metadata": {
        "id": "jnMJlcdn3wXM",
        "colab": {
          "base_uri": "https://localhost:8080/"
        },
        "outputId": "0b4d7476-3a2e-4f3d-9878-ddc16628fda9"
      },
      "source": [
        "# 중복 유무 확인 & 중복 행 제거 & 샘플수\n",
        "print(set(df.duplicated().tolist()),\n",
        "      df.drop_duplicates(inplace=True, ignore_index=False),\n",
        "      df.shape, sep = \"\\n\")"
      ],
      "execution_count": 2,
      "outputs": [
        {
          "output_type": "stream",
          "text": [
            "{False, True}\n",
            "None\n",
            "(69976, 12)\n"
          ],
          "name": "stdout"
        }
      ]
    },
    {
      "cell_type": "markdown",
      "metadata": {
        "id": "cjZDKafg3wXM"
      },
      "source": [
        "# 2) "
      ]
    },
    {
      "cell_type": "markdown",
      "metadata": {
        "id": "Dzi-R-l663Ho"
      },
      "source": [
        "> [타켓특성 확인](https://www.kaggle.com/sulianova/cardiovascular-disease-dataset?select=cardio_train.csv)"
      ]
    },
    {
      "cell_type": "code",
      "metadata": {
        "colab": {
          "base_uri": "https://localhost:8080/"
        },
        "id": "0Em1CYcYiAQW",
        "outputId": "74bdbd1c-59c2-4990-c7b7-9c86f6ce2cab"
      },
      "source": [
        "df['cardio'].value_counts(normalize = True)"
      ],
      "execution_count": 3,
      "outputs": [
        {
          "output_type": "execute_result",
          "data": {
            "text/plain": [
              "0    0.500229\n",
              "1    0.499771\n",
              "Name: cardio, dtype: float64"
            ]
          },
          "metadata": {
            "tags": []
          },
          "execution_count": 3
        }
      ]
    },
    {
      "cell_type": "code",
      "metadata": {
        "id": "UZBPMYru3wXM",
        "colab": {
          "base_uri": "https://localhost:8080/"
        },
        "outputId": "a3e487d5-61ad-4b76-9a0e-7e5a0093322f"
      },
      "source": [
        "from sklearn.model_selection import train_test_split\n",
        "\n",
        "features = df.columns[:-1]\n",
        "target = ['cardio']\n",
        "\n",
        "X_train, X_test, y_train, y_test = train_test_split(df[features],df[target],\n",
        "                                                    test_size=0.2, random_state=2)\n",
        "\n",
        "X1_train, X1_val, y1_train, y1_val = train_test_split(X_train, y_train, \n",
        "                                                  test_size=0.2,random_state=2) \n",
        "\n",
        "len(X1_val)"
      ],
      "execution_count": 4,
      "outputs": [
        {
          "output_type": "execute_result",
          "data": {
            "text/plain": [
              "11196"
            ]
          },
          "metadata": {
            "tags": []
          },
          "execution_count": 4
        }
      ]
    },
    {
      "cell_type": "markdown",
      "metadata": {
        "id": "ssZddkZz3wXM"
      },
      "source": [
        "# 3) "
      ]
    },
    {
      "cell_type": "code",
      "metadata": {
        "id": "P7gB3gky3wXN",
        "colab": {
          "base_uri": "https://localhost:8080/"
        },
        "collapsed": true,
        "outputId": "b855db50-6808-4839-dc43-6a537e286075"
      },
      "source": [
        "from sklearn.linear_model import LogisticRegression\n",
        "\n",
        "# 로지스틱 모델 log에 할당\n",
        "log = LogisticRegression(max_iter=1000)\n",
        "\n",
        "# 모델에 fit (train_set)\n",
        "log.fit(X1_train, y1_train)\n",
        "\n",
        "# 검증 세트의 정확도 \n",
        "print(log.score(X1_val,y1_val))"
      ],
      "execution_count": 5,
      "outputs": [
        {
          "output_type": "stream",
          "text": [
            "/usr/local/lib/python3.7/dist-packages/sklearn/utils/validation.py:760: DataConversionWarning: A column-vector y was passed when a 1d array was expected. Please change the shape of y to (n_samples, ), for example using ravel().\n",
            "  y = column_or_1d(y, warn=True)\n"
          ],
          "name": "stderr"
        },
        {
          "output_type": "stream",
          "text": [
            "0.7073061807788495\n"
          ],
          "name": "stdout"
        }
      ]
    },
    {
      "cell_type": "markdown",
      "metadata": {
        "id": "VhDYvXzT3wXN"
      },
      "source": [
        "# 4) "
      ]
    },
    {
      "cell_type": "code",
      "metadata": {
        "colab": {
          "base_uri": "https://localhost:8080/"
        },
        "collapsed": true,
        "id": "n3MCpyueJitl",
        "outputId": "1734d10f-3537-4e97-dd69-de741750f36e"
      },
      "source": [
        "pip install --upgrade category_encoders"
      ],
      "execution_count": 6,
      "outputs": [
        {
          "output_type": "stream",
          "text": [
            "Collecting category_encoders\n",
            "\u001b[?25l  Downloading https://files.pythonhosted.org/packages/44/57/fcef41c248701ee62e8325026b90c432adea35555cbc870aff9cfba23727/category_encoders-2.2.2-py2.py3-none-any.whl (80kB)\n",
            "\r\u001b[K     |████                            | 10kB 16.7MB/s eta 0:00:01\r\u001b[K     |████████▏                       | 20kB 9.5MB/s eta 0:00:01\r\u001b[K     |████████████▏                   | 30kB 8.1MB/s eta 0:00:01\r\u001b[K     |████████████████▎               | 40kB 7.5MB/s eta 0:00:01\r\u001b[K     |████████████████████▎           | 51kB 4.2MB/s eta 0:00:01\r\u001b[K     |████████████████████████▍       | 61kB 4.5MB/s eta 0:00:01\r\u001b[K     |████████████████████████████▍   | 71kB 4.9MB/s eta 0:00:01\r\u001b[K     |████████████████████████████████| 81kB 3.6MB/s \n",
            "\u001b[?25hRequirement already satisfied, skipping upgrade: scipy>=1.0.0 in /usr/local/lib/python3.7/dist-packages (from category_encoders) (1.4.1)\n",
            "Requirement already satisfied, skipping upgrade: pandas>=0.21.1 in /usr/local/lib/python3.7/dist-packages (from category_encoders) (1.1.5)\n",
            "Requirement already satisfied, skipping upgrade: statsmodels>=0.9.0 in /usr/local/lib/python3.7/dist-packages (from category_encoders) (0.10.2)\n",
            "Requirement already satisfied, skipping upgrade: numpy>=1.14.0 in /usr/local/lib/python3.7/dist-packages (from category_encoders) (1.19.5)\n",
            "Requirement already satisfied, skipping upgrade: scikit-learn>=0.20.0 in /usr/local/lib/python3.7/dist-packages (from category_encoders) (0.22.2.post1)\n",
            "Requirement already satisfied, skipping upgrade: patsy>=0.5.1 in /usr/local/lib/python3.7/dist-packages (from category_encoders) (0.5.1)\n",
            "Requirement already satisfied, skipping upgrade: pytz>=2017.2 in /usr/local/lib/python3.7/dist-packages (from pandas>=0.21.1->category_encoders) (2018.9)\n",
            "Requirement already satisfied, skipping upgrade: python-dateutil>=2.7.3 in /usr/local/lib/python3.7/dist-packages (from pandas>=0.21.1->category_encoders) (2.8.1)\n",
            "Requirement already satisfied, skipping upgrade: joblib>=0.11 in /usr/local/lib/python3.7/dist-packages (from scikit-learn>=0.20.0->category_encoders) (1.0.1)\n",
            "Requirement already satisfied, skipping upgrade: six in /usr/local/lib/python3.7/dist-packages (from patsy>=0.5.1->category_encoders) (1.15.0)\n",
            "Installing collected packages: category-encoders\n",
            "Successfully installed category-encoders-2.2.2\n"
          ],
          "name": "stdout"
        }
      ]
    },
    {
      "cell_type": "code",
      "metadata": {
        "colab": {
          "base_uri": "https://localhost:8080/"
        },
        "id": "IRSyGnhSJjGo",
        "outputId": "ccdc894f-1db7-412d-8a01-ca12132669f9"
      },
      "source": [
        "import warnings\n",
        "warnings.simplefilter(action='ignore', category=FutureWarning)\n",
        "import pandas.util.testing as tm\n",
        "from sklearn.metrics import accuracy_score\n",
        "from category_encoders import OneHotEncoder as OHE\n",
        "\n",
        "# use_cat_names = True : 각 범주명을 특성에 사용\n",
        "encoding = OHE(cols=['gender'], use_cat_names = True)\n",
        "\n",
        "# test-set (학습)\n",
        "X1_train_encoded = encoding.fit_transform(X1_train)\n",
        "\n",
        "# val-set  (검정=semi테스트)\n",
        "X1_val_encoded = encoding.transform(X1_val)\n",
        "\n",
        "# 모델에 (encoded train_set) fit \n",
        "log.fit(X1_train_encoded, y1_train)\n",
        "\n",
        "# 검증 세트의 정확도 \n",
        "print(log.score(X1_val_encoded,y1_val))"
      ],
      "execution_count": 7,
      "outputs": [
        {
          "output_type": "stream",
          "text": [
            "/usr/local/lib/python3.7/dist-packages/sklearn/utils/validation.py:760: DataConversionWarning: A column-vector y was passed when a 1d array was expected. Please change the shape of y to (n_samples, ), for example using ravel().\n",
            "  y = column_or_1d(y, warn=True)\n"
          ],
          "name": "stderr"
        },
        {
          "output_type": "stream",
          "text": [
            "0.6944444444444444\n"
          ],
          "name": "stdout"
        }
      ]
    },
    {
      "cell_type": "markdown",
      "metadata": {
        "id": "OdjfffHo3wXN"
      },
      "source": [
        "# 5)"
      ]
    },
    {
      "cell_type": "markdown",
      "metadata": {
        "id": "DEv-VRSxWTDF"
      },
      "source": [
        "train_data(train_set + val_set) -> test (0.7284224064018291 )\n",
        "- scaling\n",
        "- encoding"
      ]
    },
    {
      "cell_type": "code",
      "metadata": {
        "colab": {
          "base_uri": "https://localhost:8080/"
        },
        "id": "nmJXdvYsV5Ou",
        "outputId": "54b497ea-07e7-450e-e171-b8561ab67779"
      },
      "source": [
        "# 스케일링(최적화)\n",
        "from sklearn.preprocessing import StandardScaler\n",
        "\n",
        "\n",
        "scaling = StandardScaler()\n",
        "# 원래 학습데이터\n",
        "X_train_encoded = encoding.fit_transform(X_train)\n",
        "X_train_scaled = scaling.fit_transform(X_train)\n",
        "\n",
        "# 원래 테스트데이터\n",
        "X_test_encoded = encoding.transform(X_test)\n",
        "X_test_scaled = scaling.transform(X_test)\n",
        "\n",
        "# 모델에 원래 학습데이터 fit\n",
        "log.fit(X_train_scaled,y_train)\n",
        "\n",
        "y_pred = log.predict(X_test_scaled)\n",
        "\n",
        "print(accuracy_score(y_test,y_pred));"
      ],
      "execution_count": 8,
      "outputs": [
        {
          "output_type": "stream",
          "text": [
            "0.7284224064018291\n"
          ],
          "name": "stdout"
        },
        {
          "output_type": "stream",
          "text": [
            "/usr/local/lib/python3.7/dist-packages/sklearn/utils/validation.py:760: DataConversionWarning: A column-vector y was passed when a 1d array was expected. Please change the shape of y to (n_samples, ), for example using ravel().\n",
            "  y = column_or_1d(y, warn=True)\n"
          ],
          "name": "stderr"
        }
      ]
    },
    {
      "cell_type": "markdown",
      "metadata": {
        "id": "sbUQPOj_V8j2"
      },
      "source": [
        "validation -> test_set (0.7314947127750786 )\n",
        "- scaling\n",
        "- encoding"
      ]
    },
    {
      "cell_type": "code",
      "metadata": {
        "id": "-3FQ3kjhTSyS"
      },
      "source": [
        "# 스케일링\n",
        "# from sklearn.preprocessing import StandardScaler\n",
        "\n",
        "# scaling = StandardScaler()\n",
        "# X1_train_scaled = scaling.fit_transform(X1_train_encoded)\n",
        "# X1_val_scaled = scaling.transform(X1_val_encoded)\n",
        "\n",
        "# # 모델에 검정_set fit \n",
        "# log.fit(X1_val_scaled,y1_val)\n",
        "\n",
        "# # testdata 인코딩 및 표준화\n",
        "# X_test_encoded = encoding.transform(X_test)\n",
        "# X_test_scaled = scaling.transform(X_test_encoded)\n",
        "\n",
        "# y_pred = log.predict(X_test_scaled )\n",
        "# # 테스트세트에서 딱 한 번 정확도를 확인\n",
        "# accuracy_score(y_test,y_pred)"
      ],
      "execution_count": 9,
      "outputs": []
    },
    {
      "cell_type": "markdown",
      "metadata": {
        "id": "1P0gHBScsbwS"
      },
      "source": [
        "- 69976\n",
        "- 11196\n",
        "- 0.7073\n",
        "- 0.694\n",
        "- 0.7284"
      ]
    }
  ]
}