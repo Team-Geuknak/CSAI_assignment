{
  "nbformat": 4,
  "nbformat_minor": 0,
  "metadata": {
    "colab": {
      "name": "[극락] n211-이권석.ipynb",
      "provenance": [],
      "collapsed_sections": [],
      "authorship_tag": "ABX9TyOhlAdW/QM3N4TiZM3CIF+o",
      "include_colab_link": true
    },
    "kernelspec": {
      "name": "python3",
      "display_name": "Python 3"
    },
    "language_info": {
      "name": "python"
    }
  },
  "cells": [
    {
      "cell_type": "markdown",
      "metadata": {
        "id": "view-in-github",
        "colab_type": "text"
      },
      "source": [
        "<a href=\"https://colab.research.google.com/github/LEEGWONSEOK/CSAI_assignment/blob/main/%5B%EA%B7%B9%EB%9D%BD%5D_n211_%EC%9D%B4%EA%B6%8C%EC%84%9D.ipynb\" target=\"_parent\"><img src=\"https://colab.research.google.com/assets/colab-badge.svg\" alt=\"Open In Colab\"/></a>"
      ]
    },
    {
      "cell_type": "code",
      "metadata": {
        "id": "8Kg26sz4Fobw"
      },
      "source": [
        "## 모듈\n",
        "import pandas as pd\n",
        "import matplotlib.pyplot as plt\n",
        "import seaborn as sns\n",
        "from sklearn.linear_model import LinearRegression"
      ],
      "execution_count": 1,
      "outputs": []
    },
    {
      "cell_type": "code",
      "metadata": {
        "id": "gLt6skuAFt2T"
      },
      "source": [
        "## 옵션\n",
        "pd.options.display.float_format = '{:.1f}'.format\n",
        "#pd.reset_option('display.float_format')\n",
        "plt.rcParams['figure.figsize'] = [12, 8]"
      ],
      "execution_count": 2,
      "outputs": []
    },
    {
      "cell_type": "code",
      "metadata": {
        "id": "r_QfzqzDFxWc",
        "colab": {
          "base_uri": "https://localhost:8080/",
          "height": 224
        },
        "outputId": "bffe0363-f880-4e90-e55f-7122538334f2"
      },
      "source": [
        "## 데이터셋 불러오기\n",
        "data_set = 'https://ds-lecture-data.s3.ap-northeast-2.amazonaws.com/kc_house_data/kc_house_data.csv'\n",
        "df = pd.read_csv(data_set)\n",
        "\n",
        "df.head()\n",
        "#df.shape  # (21613, 21)"
      ],
      "execution_count": 3,
      "outputs": [
        {
          "output_type": "execute_result",
          "data": {
            "text/html": [
              "<div>\n",
              "<style scoped>\n",
              "    .dataframe tbody tr th:only-of-type {\n",
              "        vertical-align: middle;\n",
              "    }\n",
              "\n",
              "    .dataframe tbody tr th {\n",
              "        vertical-align: top;\n",
              "    }\n",
              "\n",
              "    .dataframe thead th {\n",
              "        text-align: right;\n",
              "    }\n",
              "</style>\n",
              "<table border=\"1\" class=\"dataframe\">\n",
              "  <thead>\n",
              "    <tr style=\"text-align: right;\">\n",
              "      <th></th>\n",
              "      <th>id</th>\n",
              "      <th>date</th>\n",
              "      <th>price</th>\n",
              "      <th>bedrooms</th>\n",
              "      <th>bathrooms</th>\n",
              "      <th>sqft_living</th>\n",
              "      <th>sqft_lot</th>\n",
              "      <th>floors</th>\n",
              "      <th>waterfront</th>\n",
              "      <th>view</th>\n",
              "      <th>condition</th>\n",
              "      <th>grade</th>\n",
              "      <th>sqft_above</th>\n",
              "      <th>sqft_basement</th>\n",
              "      <th>yr_built</th>\n",
              "      <th>yr_renovated</th>\n",
              "      <th>zipcode</th>\n",
              "      <th>lat</th>\n",
              "      <th>long</th>\n",
              "      <th>sqft_living15</th>\n",
              "      <th>sqft_lot15</th>\n",
              "    </tr>\n",
              "  </thead>\n",
              "  <tbody>\n",
              "    <tr>\n",
              "      <th>0</th>\n",
              "      <td>7129300520</td>\n",
              "      <td>20141013T000000</td>\n",
              "      <td>221900.0</td>\n",
              "      <td>3</td>\n",
              "      <td>1.0</td>\n",
              "      <td>1180</td>\n",
              "      <td>5650</td>\n",
              "      <td>1.0</td>\n",
              "      <td>0</td>\n",
              "      <td>0</td>\n",
              "      <td>3</td>\n",
              "      <td>7</td>\n",
              "      <td>1180</td>\n",
              "      <td>0</td>\n",
              "      <td>1955</td>\n",
              "      <td>0</td>\n",
              "      <td>98178</td>\n",
              "      <td>47.5</td>\n",
              "      <td>-122.3</td>\n",
              "      <td>1340</td>\n",
              "      <td>5650</td>\n",
              "    </tr>\n",
              "    <tr>\n",
              "      <th>1</th>\n",
              "      <td>6414100192</td>\n",
              "      <td>20141209T000000</td>\n",
              "      <td>538000.0</td>\n",
              "      <td>3</td>\n",
              "      <td>2.2</td>\n",
              "      <td>2570</td>\n",
              "      <td>7242</td>\n",
              "      <td>2.0</td>\n",
              "      <td>0</td>\n",
              "      <td>0</td>\n",
              "      <td>3</td>\n",
              "      <td>7</td>\n",
              "      <td>2170</td>\n",
              "      <td>400</td>\n",
              "      <td>1951</td>\n",
              "      <td>1991</td>\n",
              "      <td>98125</td>\n",
              "      <td>47.7</td>\n",
              "      <td>-122.3</td>\n",
              "      <td>1690</td>\n",
              "      <td>7639</td>\n",
              "    </tr>\n",
              "    <tr>\n",
              "      <th>2</th>\n",
              "      <td>5631500400</td>\n",
              "      <td>20150225T000000</td>\n",
              "      <td>180000.0</td>\n",
              "      <td>2</td>\n",
              "      <td>1.0</td>\n",
              "      <td>770</td>\n",
              "      <td>10000</td>\n",
              "      <td>1.0</td>\n",
              "      <td>0</td>\n",
              "      <td>0</td>\n",
              "      <td>3</td>\n",
              "      <td>6</td>\n",
              "      <td>770</td>\n",
              "      <td>0</td>\n",
              "      <td>1933</td>\n",
              "      <td>0</td>\n",
              "      <td>98028</td>\n",
              "      <td>47.7</td>\n",
              "      <td>-122.2</td>\n",
              "      <td>2720</td>\n",
              "      <td>8062</td>\n",
              "    </tr>\n",
              "    <tr>\n",
              "      <th>3</th>\n",
              "      <td>2487200875</td>\n",
              "      <td>20141209T000000</td>\n",
              "      <td>604000.0</td>\n",
              "      <td>4</td>\n",
              "      <td>3.0</td>\n",
              "      <td>1960</td>\n",
              "      <td>5000</td>\n",
              "      <td>1.0</td>\n",
              "      <td>0</td>\n",
              "      <td>0</td>\n",
              "      <td>5</td>\n",
              "      <td>7</td>\n",
              "      <td>1050</td>\n",
              "      <td>910</td>\n",
              "      <td>1965</td>\n",
              "      <td>0</td>\n",
              "      <td>98136</td>\n",
              "      <td>47.5</td>\n",
              "      <td>-122.4</td>\n",
              "      <td>1360</td>\n",
              "      <td>5000</td>\n",
              "    </tr>\n",
              "    <tr>\n",
              "      <th>4</th>\n",
              "      <td>1954400510</td>\n",
              "      <td>20150218T000000</td>\n",
              "      <td>510000.0</td>\n",
              "      <td>3</td>\n",
              "      <td>2.0</td>\n",
              "      <td>1680</td>\n",
              "      <td>8080</td>\n",
              "      <td>1.0</td>\n",
              "      <td>0</td>\n",
              "      <td>0</td>\n",
              "      <td>3</td>\n",
              "      <td>8</td>\n",
              "      <td>1680</td>\n",
              "      <td>0</td>\n",
              "      <td>1987</td>\n",
              "      <td>0</td>\n",
              "      <td>98074</td>\n",
              "      <td>47.6</td>\n",
              "      <td>-122.0</td>\n",
              "      <td>1800</td>\n",
              "      <td>7503</td>\n",
              "    </tr>\n",
              "  </tbody>\n",
              "</table>\n",
              "</div>"
            ],
            "text/plain": [
              "           id             date    price  ...   long  sqft_living15  sqft_lot15\n",
              "0  7129300520  20141013T000000 221900.0  ... -122.3           1340        5650\n",
              "1  6414100192  20141209T000000 538000.0  ... -122.3           1690        7639\n",
              "2  5631500400  20150225T000000 180000.0  ... -122.2           2720        8062\n",
              "3  2487200875  20141209T000000 604000.0  ... -122.4           1360        5000\n",
              "4  1954400510  20150218T000000 510000.0  ... -122.0           1800        7503\n",
              "\n",
              "[5 rows x 21 columns]"
            ]
          },
          "metadata": {
            "tags": []
          },
          "execution_count": 3
        }
      ]
    },
    {
      "cell_type": "code",
      "metadata": {
        "id": "NhSptOabFx-M",
        "colab": {
          "base_uri": "https://localhost:8080/"
        },
        "outputId": "64933dbf-ff58-4745-f103-5d0e0d9d063f"
      },
      "source": [
        "## describe 확인\n",
        "df['price'].describe()"
      ],
      "execution_count": 4,
      "outputs": [
        {
          "output_type": "execute_result",
          "data": {
            "text/plain": [
              "count     21613.0\n",
              "mean     540088.1\n",
              "std      367127.2\n",
              "min       75000.0\n",
              "25%      321950.0\n",
              "50%      450000.0\n",
              "75%      645000.0\n",
              "max     7700000.0\n",
              "Name: price, dtype: float64"
            ]
          },
          "metadata": {
            "tags": []
          },
          "execution_count": 4
        }
      ]
    },
    {
      "cell_type": "markdown",
      "metadata": {
        "id": "0MHJqgR7F2eI"
      },
      "source": [
        "### **01번 문제**"
      ]
    },
    {
      "cell_type": "code",
      "metadata": {
        "id": "MntSB3aGF83f",
        "colab": {
          "base_uri": "https://localhost:8080/",
          "height": 131
        },
        "outputId": "f45cdbcf-c4c0-496d-f01a-a1301e11bfee"
      },
      "source": [
        "## 상관계수(corr) 이용하여 상관관계가 높은 것 찾기\n",
        "df.T\n",
        "corr = df.corr(method = 'pearson')\n",
        "corr.nlargest(2, ['price'])\n",
        "\n",
        "# → price(target) 과 가장 상관관계가 높은 sqft_living(feature)."
      ],
      "execution_count": 5,
      "outputs": [
        {
          "output_type": "execute_result",
          "data": {
            "text/html": [
              "<div>\n",
              "<style scoped>\n",
              "    .dataframe tbody tr th:only-of-type {\n",
              "        vertical-align: middle;\n",
              "    }\n",
              "\n",
              "    .dataframe tbody tr th {\n",
              "        vertical-align: top;\n",
              "    }\n",
              "\n",
              "    .dataframe thead th {\n",
              "        text-align: right;\n",
              "    }\n",
              "</style>\n",
              "<table border=\"1\" class=\"dataframe\">\n",
              "  <thead>\n",
              "    <tr style=\"text-align: right;\">\n",
              "      <th></th>\n",
              "      <th>id</th>\n",
              "      <th>price</th>\n",
              "      <th>bedrooms</th>\n",
              "      <th>bathrooms</th>\n",
              "      <th>sqft_living</th>\n",
              "      <th>sqft_lot</th>\n",
              "      <th>floors</th>\n",
              "      <th>waterfront</th>\n",
              "      <th>view</th>\n",
              "      <th>condition</th>\n",
              "      <th>grade</th>\n",
              "      <th>sqft_above</th>\n",
              "      <th>sqft_basement</th>\n",
              "      <th>yr_built</th>\n",
              "      <th>yr_renovated</th>\n",
              "      <th>zipcode</th>\n",
              "      <th>lat</th>\n",
              "      <th>long</th>\n",
              "      <th>sqft_living15</th>\n",
              "      <th>sqft_lot15</th>\n",
              "    </tr>\n",
              "  </thead>\n",
              "  <tbody>\n",
              "    <tr>\n",
              "      <th>price</th>\n",
              "      <td>-0.0</td>\n",
              "      <td>1.0</td>\n",
              "      <td>0.3</td>\n",
              "      <td>0.5</td>\n",
              "      <td>0.7</td>\n",
              "      <td>0.1</td>\n",
              "      <td>0.3</td>\n",
              "      <td>0.3</td>\n",
              "      <td>0.4</td>\n",
              "      <td>0.0</td>\n",
              "      <td>0.7</td>\n",
              "      <td>0.6</td>\n",
              "      <td>0.3</td>\n",
              "      <td>0.1</td>\n",
              "      <td>0.1</td>\n",
              "      <td>-0.1</td>\n",
              "      <td>0.3</td>\n",
              "      <td>0.0</td>\n",
              "      <td>0.6</td>\n",
              "      <td>0.1</td>\n",
              "    </tr>\n",
              "    <tr>\n",
              "      <th>sqft_living</th>\n",
              "      <td>-0.0</td>\n",
              "      <td>0.7</td>\n",
              "      <td>0.6</td>\n",
              "      <td>0.8</td>\n",
              "      <td>1.0</td>\n",
              "      <td>0.2</td>\n",
              "      <td>0.4</td>\n",
              "      <td>0.1</td>\n",
              "      <td>0.3</td>\n",
              "      <td>-0.1</td>\n",
              "      <td>0.8</td>\n",
              "      <td>0.9</td>\n",
              "      <td>0.4</td>\n",
              "      <td>0.3</td>\n",
              "      <td>0.1</td>\n",
              "      <td>-0.2</td>\n",
              "      <td>0.1</td>\n",
              "      <td>0.2</td>\n",
              "      <td>0.8</td>\n",
              "      <td>0.2</td>\n",
              "    </tr>\n",
              "  </tbody>\n",
              "</table>\n",
              "</div>"
            ],
            "text/plain": [
              "              id  price  bedrooms  ...  long  sqft_living15  sqft_lot15\n",
              "price       -0.0    1.0       0.3  ...   0.0            0.6         0.1\n",
              "sqft_living -0.0    0.7       0.6  ...   0.2            0.8         0.2\n",
              "\n",
              "[2 rows x 20 columns]"
            ]
          },
          "metadata": {
            "tags": []
          },
          "execution_count": 5
        }
      ]
    },
    {
      "cell_type": "code",
      "metadata": {
        "id": "y6LCLHJEGAb1",
        "colab": {
          "base_uri": "https://localhost:8080/",
          "height": 509
        },
        "outputId": "4ca98c95-b24d-45fe-dd81-de8e58c43141"
      },
      "source": [
        "## 시각화 하기\n",
        "sns.regplot(x=df['sqft_living'], y=df['price'], scatter_kws={'s':3}, line_kws={'color': 'red'});\n",
        "\n",
        "# → price 와 sqft_living은 양의 상관관계가 있다."
      ],
      "execution_count": 6,
      "outputs": [
        {
          "output_type": "display_data",
          "data": {
            "image/png": "[encoded data removed]",
            "text/plain": [
              "<Figure size 864x576 with 1 Axes>"
            ]
          },
          "metadata": {
            "tags": [],
            "needs_background": "light"
          }
        }
      ]
    },
    {
      "cell_type": "markdown",
      "metadata": {
        "id": "vVo6Xl8nGEFu"
      },
      "source": [
        "### **02번 문제**"
      ]
    },
    {
      "cell_type": "code",
      "metadata": {
        "id": "3WD6B7e9GDWH"
      },
      "source": [
        "## target(price), feature(grade) 기준모델(회귀문제)\n",
        "x = df['grade']\n",
        "y = df['price']\n",
        "predict = df['price'].mean()\n",
        "errors = predict - df['price']\n",
        "mean_absolute_error = errors.abs().mean()"
      ],
      "execution_count": 7,
      "outputs": []
    },
    {
      "cell_type": "code",
      "metadata": {
        "id": "LhLfczLvGMgU",
        "colab": {
          "base_uri": "https://localhost:8080/",
          "height": 508
        },
        "outputId": "d7b5f595-d739-4ec8-febf-18d712b0bcc3"
      },
      "source": [
        "## 시각화\n",
        "sns.lineplot(x=x, y=predict, color='red')\n",
        "sns.scatterplot(x=x, y=y, color='green');"
      ],
      "execution_count": 8,
      "outputs": [
        {
          "output_type": "display_data",
          "data": {
            "image/png": "[encoded data removed]",
            "text/plain": [
              "<Figure size 864x576 with 1 Axes>"
            ]
          },
          "metadata": {
            "tags": [],
            "needs_background": "light"
          }
        }
      ]
    },
    {
      "cell_type": "code",
      "metadata": {
        "id": "ouYG21CoGO8q",
        "colab": {
          "base_uri": "https://localhost:8080/"
        },
        "outputId": "e8903e23-b49b-4907-d492-4166716858c9"
      },
      "source": [
        "## 설명\n",
        "print(f'예측한 주택 가격이 ${predict:,.0f}이며 절대평균에러가 ${mean_absolute_error:,.0f}임을 확인할 수 있습니다.')"
      ],
      "execution_count": 9,
      "outputs": [
        {
          "output_type": "stream",
          "text": [
            "예측한 주택 가격이 $540,088이며 절대평균에러가 $233,942임을 확인할 수 있습니다.\n"
          ],
          "name": "stdout"
        }
      ]
    },
    {
      "cell_type": "markdown",
      "metadata": {
        "id": "RvLINpzHGR6q"
      },
      "source": [
        "### **03번 문제**"
      ]
    },
    {
      "cell_type": "code",
      "metadata": {
        "id": "IaShyGNgGUmz",
        "colab": {
          "base_uri": "https://localhost:8080/"
        },
        "outputId": "1d62b55b-1c63-4281-f118-77a553ec4333"
      },
      "source": [
        "## 모델 선택 : LinearRegression\n",
        "model = LinearRegression()\n",
        "\n",
        "feature = ['grade']\n",
        "target = ['price']\n",
        "X_train = df[feature]\n",
        "y_train = df[target]\n",
        "\n",
        "model.fit(X_train, y_train)   # fit() : 기존 데이터로 트레이닝 돌리는 함수"
      ],
      "execution_count": 10,
      "outputs": [
        {
          "output_type": "execute_result",
          "data": {
            "text/plain": [
              "LinearRegression(copy_X=True, fit_intercept=True, n_jobs=None, normalize=False)"
            ]
          },
          "metadata": {
            "tags": []
          },
          "execution_count": 10
        }
      ]
    },
    {
      "cell_type": "code",
      "metadata": {
        "id": "1oF-wEorGXT2",
        "colab": {
          "base_uri": "https://localhost:8080/"
        },
        "outputId": "b7cd2cbc-0e10-4c52-b890-7cfcccf1d82f"
      },
      "source": [
        "## 샘플 feature 하나 넣어서 돌려보기\n",
        "X_test = [[6]]\n",
        "y_pred = model.predict(X_test)\n",
        "\n",
        "print(f'{X_test[0][0]}grade 의 주택 예상 가격은 ${int(y_pred)} 입니다.')\n",
        "\n",
        "# → 6 grade의 주택 예상 가격은 $194700 입니다."
      ],
      "execution_count": 11,
      "outputs": [
        {
          "output_type": "stream",
          "text": [
            "6grade 의 주택 예상 가격은 $194700 입니다.\n"
          ],
          "name": "stdout"
        }
      ]
    },
    {
      "cell_type": "code",
      "metadata": {
        "id": "ix1XSBlMGZz_",
        "colab": {
          "base_uri": "https://localhost:8080/"
        },
        "outputId": "e3651f2f-1fc6-4117-a44d-b0ac372e2137"
      },
      "source": [
        "## 시각화 준비\n",
        "X_test = [[x] for x in df['grade']]\n",
        "y_pred = model.predict(X_test)    # predict() : 새로운 데이터 예측하게 해주는 함수\n",
        "y_pred"
      ],
      "execution_count": 12,
      "outputs": [
        {
          "output_type": "execute_result",
          "data": {
            "text/plain": [
              "array([[403157.96019888],\n",
              "       [403157.96019888],\n",
              "       [194700.3977405 ],\n",
              "       ...,\n",
              "       [403157.96019888],\n",
              "       [611615.52265726],\n",
              "       [403157.96019888]])"
            ]
          },
          "metadata": {
            "tags": []
          },
          "execution_count": 12
        }
      ]
    },
    {
      "cell_type": "code",
      "metadata": {
        "id": "32meqcoPGcGv",
        "colab": {
          "base_uri": "https://localhost:8080/",
          "height": 494
        },
        "outputId": "a53ff21c-433c-4a38-aec5-6bbe9a3233f0"
      },
      "source": [
        "## 시각화\n",
        "plt.scatter(X_train, y_train, linewidth=1)\n",
        "plt.plot(X_test, y_pred, color='red');"
      ],
      "execution_count": 13,
      "outputs": [
        {
          "output_type": "display_data",
          "data": {
            "image/png": "[encoded data removed]",
            "text/plain": [
              "<Figure size 864x576 with 1 Axes>"
            ]
          },
          "metadata": {
            "tags": [],
            "needs_background": "light"
          }
        }
      ]
    },
    {
      "cell_type": "code",
      "metadata": {
        "id": "S15E3N31Getg",
        "colab": {
          "base_uri": "https://localhost:8080/"
        },
        "outputId": "e8e17e75-16ef-424d-b121-8b013f685c7a"
      },
      "source": [
        "## 해당 모델로 grade별 얼마로 나오는지 확인 \n",
        "\n",
        "pred_list = [1, 2, 3, 4, 5, 6, 7, 8, 9, 10, 11, 12, 13, 14]\n",
        "for i in pred_list:\n",
        "  X_test = [[i]]\n",
        "  y_pred = model.predict(X_test)\n",
        "\n",
        "  print(f'{X_test[0][0]}grade 의 주택 예상 가격은 ${int(y_pred)} 입니다.')\n",
        "\n",
        "# → 5grade 부터 마이너스로 되는거 보니까 좋은 모델이 아닌거 같다."
      ],
      "execution_count": 14,
      "outputs": [
        {
          "output_type": "stream",
          "text": [
            "1grade 의 주택 예상 가격은 $-847587 입니다.\n",
            "2grade 의 주택 예상 가격은 $-639129 입니다.\n",
            "3grade 의 주택 예상 가격은 $-430672 입니다.\n",
            "4grade 의 주택 예상 가격은 $-222214 입니다.\n",
            "5grade 의 주택 예상 가격은 $-13757 입니다.\n",
            "6grade 의 주택 예상 가격은 $194700 입니다.\n",
            "7grade 의 주택 예상 가격은 $403157 입니다.\n",
            "8grade 의 주택 예상 가격은 $611615 입니다.\n",
            "9grade 의 주택 예상 가격은 $820073 입니다.\n",
            "10grade 의 주택 예상 가격은 $1028530 입니다.\n",
            "11grade 의 주택 예상 가격은 $1236988 입니다.\n",
            "12grade 의 주택 예상 가격은 $1445445 입니다.\n",
            "13grade 의 주택 예상 가격은 $1653903 입니다.\n",
            "14grade 의 주택 예상 가격은 $1862360 입니다.\n"
          ],
          "name": "stdout"
        }
      ]
    },
    {
      "cell_type": "code",
      "metadata": {
        "id": "g-BAw3KDGgy3",
        "colab": {
          "base_uri": "https://localhost:8080/"
        },
        "outputId": "57d8d73b-7ef5-4a4a-f9f3-9fbd972f9d8b"
      },
      "source": [
        "## grade별 개수 확인\n",
        "df.groupby(['grade']).size()"
      ],
      "execution_count": 15,
      "outputs": [
        {
          "output_type": "execute_result",
          "data": {
            "text/plain": [
              "grade\n",
              "1        1\n",
              "3        3\n",
              "4       29\n",
              "5      242\n",
              "6     2038\n",
              "7     8981\n",
              "8     6068\n",
              "9     2615\n",
              "10    1134\n",
              "11     399\n",
              "12      90\n",
              "13      13\n",
              "dtype: int64"
            ]
          },
          "metadata": {
            "tags": []
          },
          "execution_count": 15
        }
      ]
    },
    {
      "cell_type": "code",
      "metadata": {
        "id": "tMGqEz_NGj3o",
        "colab": {
          "base_uri": "https://localhost:8080/",
          "height": 421
        },
        "outputId": "04960f14-b895-42fc-c526-c96b5cf1cf48"
      },
      "source": [
        "## grade별 평균\n",
        "df_grade = df[['grade', 'price']]\n",
        "df_grade.groupby(['grade'], as_index=False).mean()"
      ],
      "execution_count": 16,
      "outputs": [
        {
          "output_type": "execute_result",
          "data": {
            "text/html": [
              "<div>\n",
              "<style scoped>\n",
              "    .dataframe tbody tr th:only-of-type {\n",
              "        vertical-align: middle;\n",
              "    }\n",
              "\n",
              "    .dataframe tbody tr th {\n",
              "        vertical-align: top;\n",
              "    }\n",
              "\n",
              "    .dataframe thead th {\n",
              "        text-align: right;\n",
              "    }\n",
              "</style>\n",
              "<table border=\"1\" class=\"dataframe\">\n",
              "  <thead>\n",
              "    <tr style=\"text-align: right;\">\n",
              "      <th></th>\n",
              "      <th>grade</th>\n",
              "      <th>price</th>\n",
              "    </tr>\n",
              "  </thead>\n",
              "  <tbody>\n",
              "    <tr>\n",
              "      <th>0</th>\n",
              "      <td>1</td>\n",
              "      <td>142000.0</td>\n",
              "    </tr>\n",
              "    <tr>\n",
              "      <th>1</th>\n",
              "      <td>3</td>\n",
              "      <td>205666.7</td>\n",
              "    </tr>\n",
              "    <tr>\n",
              "      <th>2</th>\n",
              "      <td>4</td>\n",
              "      <td>214381.0</td>\n",
              "    </tr>\n",
              "    <tr>\n",
              "      <th>3</th>\n",
              "      <td>5</td>\n",
              "      <td>248524.0</td>\n",
              "    </tr>\n",
              "    <tr>\n",
              "      <th>4</th>\n",
              "      <td>6</td>\n",
              "      <td>301919.6</td>\n",
              "    </tr>\n",
              "    <tr>\n",
              "      <th>5</th>\n",
              "      <td>7</td>\n",
              "      <td>402590.3</td>\n",
              "    </tr>\n",
              "    <tr>\n",
              "      <th>6</th>\n",
              "      <td>8</td>\n",
              "      <td>542852.8</td>\n",
              "    </tr>\n",
              "    <tr>\n",
              "      <th>7</th>\n",
              "      <td>9</td>\n",
              "      <td>773513.2</td>\n",
              "    </tr>\n",
              "    <tr>\n",
              "      <th>8</th>\n",
              "      <td>10</td>\n",
              "      <td>1071771.1</td>\n",
              "    </tr>\n",
              "    <tr>\n",
              "      <th>9</th>\n",
              "      <td>11</td>\n",
              "      <td>1496841.7</td>\n",
              "    </tr>\n",
              "    <tr>\n",
              "      <th>10</th>\n",
              "      <td>12</td>\n",
              "      <td>2191222.0</td>\n",
              "    </tr>\n",
              "    <tr>\n",
              "      <th>11</th>\n",
              "      <td>13</td>\n",
              "      <td>3709615.4</td>\n",
              "    </tr>\n",
              "  </tbody>\n",
              "</table>\n",
              "</div>"
            ],
            "text/plain": [
              "    grade     price\n",
              "0       1  142000.0\n",
              "1       3  205666.7\n",
              "2       4  214381.0\n",
              "3       5  248524.0\n",
              "4       6  301919.6\n",
              "5       7  402590.3\n",
              "6       8  542852.8\n",
              "7       9  773513.2\n",
              "8      10 1071771.1\n",
              "9      11 1496841.7\n",
              "10     12 2191222.0\n",
              "11     13 3709615.4"
            ]
          },
          "metadata": {
            "tags": []
          },
          "execution_count": 16
        }
      ]
    },
    {
      "cell_type": "markdown",
      "metadata": {
        "id": "goprw6KRGmcV"
      },
      "source": [
        "### **04번 문제**"
      ]
    },
    {
      "cell_type": "code",
      "metadata": {
        "id": "hFSr0nNOGpZt",
        "colab": {
          "base_uri": "https://localhost:8080/"
        },
        "outputId": "813a0f25-348a-4097-becf-a747117ad8e2"
      },
      "source": [
        "## 회귀계수(coefficient) 확인\n",
        "model.coef_\n",
        "\n",
        "# → 회귀계수 : 208457.56245838"
      ],
      "execution_count": 17,
      "outputs": [
        {
          "output_type": "execute_result",
          "data": {
            "text/plain": [
              "array([[208457.56245838]])"
            ]
          },
          "metadata": {
            "tags": []
          },
          "execution_count": 17
        }
      ]
    },
    {
      "cell_type": "code",
      "metadata": {
        "id": "vke1ZBkoGsl9",
        "colab": {
          "base_uri": "https://localhost:8080/"
        },
        "outputId": "38ad683a-6d63-4edf-f827-d9c8572251de"
      },
      "source": [
        "## y 절편(intercept) 확인\n",
        "model.intercept_"
      ],
      "execution_count": 18,
      "outputs": [
        {
          "output_type": "execute_result",
          "data": {
            "text/plain": [
              "array([-1056044.97700977])"
            ]
          },
          "metadata": {
            "tags": []
          },
          "execution_count": 18
        }
      ]
    },
    {
      "cell_type": "markdown",
      "metadata": {
        "id": "P8cIDKxRGvO3"
      },
      "source": [
        "### **05번 문제**"
      ]
    },
    {
      "cell_type": "code",
      "metadata": {
        "id": "59ifxvqtGx0K",
        "colab": {
          "base_uri": "https://localhost:8080/"
        },
        "outputId": "765721d9-9e90-4d86-84a3-0dfe8ea871e1"
      },
      "source": [
        "## 모델 선택 : LinearRegression\n",
        "model2 = LinearRegression()\n",
        "\n",
        "feature = ['sqft_living']\n",
        "target = ['price']\n",
        "X_train2 = df[feature]\n",
        "y_train2 = df[target]\n",
        "\n",
        "model2.fit(X_train2, y_train2)"
      ],
      "execution_count": 19,
      "outputs": [
        {
          "output_type": "execute_result",
          "data": {
            "text/plain": [
              "LinearRegression(copy_X=True, fit_intercept=True, n_jobs=None, normalize=False)"
            ]
          },
          "metadata": {
            "tags": []
          },
          "execution_count": 19
        }
      ]
    },
    {
      "cell_type": "code",
      "metadata": {
        "id": "l6mV8RcyG3DE",
        "colab": {
          "base_uri": "https://localhost:8080/"
        },
        "outputId": "f010a314-6bcf-4ed6-cfca-cb16aa01e7ff"
      },
      "source": [
        "model2.coef_\n",
        "\n",
        "# → 회귀계수 : 280.6235679"
      ],
      "execution_count": 20,
      "outputs": [
        {
          "output_type": "execute_result",
          "data": {
            "text/plain": [
              "array([[280.6235679]])"
            ]
          },
          "metadata": {
            "tags": []
          },
          "execution_count": 20
        }
      ]
    }
  ]
}