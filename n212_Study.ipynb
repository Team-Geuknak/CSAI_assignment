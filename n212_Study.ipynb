{
  "nbformat": 4,
  "nbformat_minor": 0,
  "metadata": {
    "kernelspec": {
      "display_name": "Python 3",
      "language": "python",
      "name": "python3"
    },
    "language_info": {
      "codemirror_mode": {
        "name": "ipython",
        "version": 3
      },
      "file_extension": ".py",
      "mimetype": "text/x-python",
      "name": "python",
      "nbconvert_exporter": "python",
      "pygments_lexer": "ipython3",
      "version": "3.7.7"
    },
    "colab": {
      "name": "n212_Study.ipynb",
      "provenance": [],
      "collapsed_sections": [
        "7IXUfiQ2UKj6",
        "RSIwTve7eYUx",
        "U9W5dXc9eYUy",
        "rw7lK-AjeYUy",
        "sOvymj0ReYUz",
        "_ZqPsr9s-tMh",
        "3QxRU95G0eUj",
        "pM6ld9B00i-1",
        "RrabVB64-zYK",
        "2qvt3-aeHNtq",
        "VArqTeg9E1RK"
      ],
      "include_colab_link": true
    }
  },
  "cells": [
    {
      "cell_type": "markdown",
      "metadata": {
        "id": "view-in-github",
        "colab_type": "text"
      },
      "source": [
        "<a href=\"https://colab.research.google.com/github/Gilbert9172/CSAI_assignment/blob/main/n212_Study.ipynb\" target=\"_parent\"><img src=\"https://colab.research.google.com/assets/colab-badge.svg\" alt=\"Open In Colab\"/></a>"
      ]
    },
    {
      "cell_type": "markdown",
      "metadata": {
        "id": "7tT1ElXjeYUu"
      },
      "source": [
        "<img align=\"right\" src=\"https://ds-cs-images.s3.ap-northeast-2.amazonaws.com/Codestates_Fulllogo_Color.png\" width=100>\n",
        "\n",
        "## *DATA SCIENCE / SECTION 2 / SPRINT 1 / NOTE 2*\n",
        "\n",
        "# 📝 Assignment\n",
        "---"
      ]
    },
    {
      "cell_type": "markdown",
      "metadata": {
        "id": "7IXUfiQ2UKj6"
      },
      "source": [
        "# Data Frame"
      ]
    },
    {
      "cell_type": "code",
      "metadata": {
        "id": "ie8Tft_JeYUx",
        "colab": {
          "base_uri": "https://localhost:8080/"
        },
        "outputId": "2334fc96-1a60-40dc-dd1c-3607f0612348"
      },
      "source": [
        "# 데이터는 캐글에서 받으셔도 되고 이 링크에서 불러와도 됩니다.\n",
        "import pandas as pd\n",
        "df = pd.read_csv('https://ds-lecture-data.s3.ap-northeast-2.amazonaws.com/kc_house_data/kc_house_data.csv')\n",
        "df.columns"
      ],
      "execution_count": null,
      "outputs": [
        {
          "output_type": "execute_result",
          "data": {
            "text/plain": [
              "Index(['id', 'date', 'price', 'bedrooms', 'bathrooms', 'sqft_living',\n",
              "       'sqft_lot', 'floors', 'waterfront', 'view', 'condition', 'grade',\n",
              "       'sqft_above', 'sqft_basement', 'yr_built', 'yr_renovated', 'zipcode',\n",
              "       'lat', 'long', 'sqft_living15', 'sqft_lot15'],\n",
              "      dtype='object')"
            ]
          },
          "metadata": {
            "tags": []
          },
          "execution_count": 11
        }
      ]
    },
    {
      "cell_type": "markdown",
      "metadata": {
        "id": "RSIwTve7eYUx"
      },
      "source": [
        "# Q1"
      ]
    },
    {
      "cell_type": "code",
      "metadata": {
        "id": "ATA7yQmseYUx",
        "colab": {
          "base_uri": "https://localhost:8080/",
          "height": 225
        },
        "outputId": "9c619d71-bcf2-4e1f-c7e1-cab3c12b21d4"
      },
      "source": [
        "df['date'] = [int(x[:8]) for x in df.date]\n",
        "df.head()"
      ],
      "execution_count": null,
      "outputs": [
        {
          "output_type": "execute_result",
          "data": {
            "text/html": [
              "<div>\n",
              "<style scoped>\n",
              "    .dataframe tbody tr th:only-of-type {\n",
              "        vertical-align: middle;\n",
              "    }\n",
              "\n",
              "    .dataframe tbody tr th {\n",
              "        vertical-align: top;\n",
              "    }\n",
              "\n",
              "    .dataframe thead th {\n",
              "        text-align: right;\n",
              "    }\n",
              "</style>\n",
              "<table border=\"1\" class=\"dataframe\">\n",
              "  <thead>\n",
              "    <tr style=\"text-align: right;\">\n",
              "      <th></th>\n",
              "      <th>id</th>\n",
              "      <th>date</th>\n",
              "      <th>price</th>\n",
              "      <th>bedrooms</th>\n",
              "      <th>bathrooms</th>\n",
              "      <th>sqft_living</th>\n",
              "      <th>sqft_lot</th>\n",
              "      <th>floors</th>\n",
              "      <th>waterfront</th>\n",
              "      <th>view</th>\n",
              "      <th>condition</th>\n",
              "      <th>grade</th>\n",
              "      <th>sqft_above</th>\n",
              "      <th>sqft_basement</th>\n",
              "      <th>yr_built</th>\n",
              "      <th>yr_renovated</th>\n",
              "      <th>zipcode</th>\n",
              "      <th>lat</th>\n",
              "      <th>long</th>\n",
              "      <th>sqft_living15</th>\n",
              "      <th>sqft_lot15</th>\n",
              "    </tr>\n",
              "  </thead>\n",
              "  <tbody>\n",
              "    <tr>\n",
              "      <th>0</th>\n",
              "      <td>7129300520</td>\n",
              "      <td>20141013</td>\n",
              "      <td>221900.0</td>\n",
              "      <td>3</td>\n",
              "      <td>1.00</td>\n",
              "      <td>1180</td>\n",
              "      <td>5650</td>\n",
              "      <td>1.0</td>\n",
              "      <td>0</td>\n",
              "      <td>0</td>\n",
              "      <td>3</td>\n",
              "      <td>7</td>\n",
              "      <td>1180</td>\n",
              "      <td>0</td>\n",
              "      <td>1955</td>\n",
              "      <td>0</td>\n",
              "      <td>98178</td>\n",
              "      <td>47.5112</td>\n",
              "      <td>-122.257</td>\n",
              "      <td>1340</td>\n",
              "      <td>5650</td>\n",
              "    </tr>\n",
              "    <tr>\n",
              "      <th>1</th>\n",
              "      <td>6414100192</td>\n",
              "      <td>20141209</td>\n",
              "      <td>538000.0</td>\n",
              "      <td>3</td>\n",
              "      <td>2.25</td>\n",
              "      <td>2570</td>\n",
              "      <td>7242</td>\n",
              "      <td>2.0</td>\n",
              "      <td>0</td>\n",
              "      <td>0</td>\n",
              "      <td>3</td>\n",
              "      <td>7</td>\n",
              "      <td>2170</td>\n",
              "      <td>400</td>\n",
              "      <td>1951</td>\n",
              "      <td>1991</td>\n",
              "      <td>98125</td>\n",
              "      <td>47.7210</td>\n",
              "      <td>-122.319</td>\n",
              "      <td>1690</td>\n",
              "      <td>7639</td>\n",
              "    </tr>\n",
              "    <tr>\n",
              "      <th>2</th>\n",
              "      <td>5631500400</td>\n",
              "      <td>20150225</td>\n",
              "      <td>180000.0</td>\n",
              "      <td>2</td>\n",
              "      <td>1.00</td>\n",
              "      <td>770</td>\n",
              "      <td>10000</td>\n",
              "      <td>1.0</td>\n",
              "      <td>0</td>\n",
              "      <td>0</td>\n",
              "      <td>3</td>\n",
              "      <td>6</td>\n",
              "      <td>770</td>\n",
              "      <td>0</td>\n",
              "      <td>1933</td>\n",
              "      <td>0</td>\n",
              "      <td>98028</td>\n",
              "      <td>47.7379</td>\n",
              "      <td>-122.233</td>\n",
              "      <td>2720</td>\n",
              "      <td>8062</td>\n",
              "    </tr>\n",
              "    <tr>\n",
              "      <th>3</th>\n",
              "      <td>2487200875</td>\n",
              "      <td>20141209</td>\n",
              "      <td>604000.0</td>\n",
              "      <td>4</td>\n",
              "      <td>3.00</td>\n",
              "      <td>1960</td>\n",
              "      <td>5000</td>\n",
              "      <td>1.0</td>\n",
              "      <td>0</td>\n",
              "      <td>0</td>\n",
              "      <td>5</td>\n",
              "      <td>7</td>\n",
              "      <td>1050</td>\n",
              "      <td>910</td>\n",
              "      <td>1965</td>\n",
              "      <td>0</td>\n",
              "      <td>98136</td>\n",
              "      <td>47.5208</td>\n",
              "      <td>-122.393</td>\n",
              "      <td>1360</td>\n",
              "      <td>5000</td>\n",
              "    </tr>\n",
              "    <tr>\n",
              "      <th>4</th>\n",
              "      <td>1954400510</td>\n",
              "      <td>20150218</td>\n",
              "      <td>510000.0</td>\n",
              "      <td>3</td>\n",
              "      <td>2.00</td>\n",
              "      <td>1680</td>\n",
              "      <td>8080</td>\n",
              "      <td>1.0</td>\n",
              "      <td>0</td>\n",
              "      <td>0</td>\n",
              "      <td>3</td>\n",
              "      <td>8</td>\n",
              "      <td>1680</td>\n",
              "      <td>0</td>\n",
              "      <td>1987</td>\n",
              "      <td>0</td>\n",
              "      <td>98074</td>\n",
              "      <td>47.6168</td>\n",
              "      <td>-122.045</td>\n",
              "      <td>1800</td>\n",
              "      <td>7503</td>\n",
              "    </tr>\n",
              "  </tbody>\n",
              "</table>\n",
              "</div>"
            ],
            "text/plain": [
              "           id      date     price  ...     long  sqft_living15  sqft_lot15\n",
              "0  7129300520  20141013  221900.0  ... -122.257           1340        5650\n",
              "1  6414100192  20141209  538000.0  ... -122.319           1690        7639\n",
              "2  5631500400  20150225  180000.0  ... -122.233           2720        8062\n",
              "3  2487200875  20141209  604000.0  ... -122.393           1360        5000\n",
              "4  1954400510  20150218  510000.0  ... -122.045           1800        7503\n",
              "\n",
              "[5 rows x 21 columns]"
            ]
          },
          "metadata": {
            "tags": []
          },
          "execution_count": 12
        }
      ]
    },
    {
      "cell_type": "code",
      "metadata": {
        "colab": {
          "base_uri": "https://localhost:8080/"
        },
        "id": "cw6E-0Smkrk-",
        "outputId": "51d8a25e-dd7b-49a8-b7ff-04e1547a8ddb"
      },
      "source": [
        "train = df.loc[df['date'] < 20150101]\n",
        "test = df.loc[df['date'] >= 20150101]\n",
        "\n",
        "print(f'Train data: {len(train)}개', f'Test data: {len(test)}개', sep=\"\\n\" )"
      ],
      "execution_count": null,
      "outputs": [
        {
          "output_type": "stream",
          "text": [
            "Train data: 14633개\n",
            "Test data: 6980개\n"
          ],
          "name": "stdout"
        }
      ]
    },
    {
      "cell_type": "markdown",
      "metadata": {
        "id": "U9W5dXc9eYUy"
      },
      "source": [
        "# Q2"
      ]
    },
    {
      "cell_type": "code",
      "metadata": {
        "id": "O-e8IPCMeYUy",
        "colab": {
          "base_uri": "https://localhost:8080/"
        },
        "outputId": "644f4e8d-bca9-4bc7-ffc7-b3b444d00d87"
      },
      "source": [
        "import matplotlib.pyplot as plt\n",
        "import numpy as np\n",
        "from sklearn.linear_model import LinearRegression\n",
        "from sklearn.metrics import mean_absolute_error\n",
        "\n",
        "features = ['bathrooms', 'sqft_living']\n",
        "vector = ['price']\n",
        "\n",
        "X_train = train[features]\n",
        "y_train = train[vector]\n",
        "\n",
        "x_test = test[features]\n",
        "y_test = test[vector]\n",
        "\n",
        "model = LinearRegression()\n",
        "\n",
        "model.fit(X_train, y_train)\n",
        "\n",
        "# train - model - fit\n",
        "y_pred = model.predict(X_train)\n",
        "mae = mean_absolute_error(y_train, y_pred)\n",
        "\n",
        "# test - model - fit\n",
        "y2_pred = model.predict(x_test)\n",
        "mae2 = mean_absolute_error(y_test,y2_pred)\n",
        "\n",
        "print(f'Train Errors: {mae:.2f}', f'Test Errors: {mae2:.2f}', sep=\"\\n\" )"
      ],
      "execution_count": null,
      "outputs": [
        {
          "output_type": "stream",
          "text": [
            "Train Errors: 170777.34\n",
            "Test Errors: 179252.53\n"
          ],
          "name": "stdout"
        }
      ]
    },
    {
      "cell_type": "markdown",
      "metadata": {
        "id": "rw7lK-AjeYUy"
      },
      "source": [
        "# Q3"
      ]
    },
    {
      "cell_type": "code",
      "metadata": {
        "id": "X-MRToo6eYUy",
        "colab": {
          "base_uri": "https://localhost:8080/"
        },
        "outputId": "9b2ae9c8-c6ac-45db-cf96-5910bbd2242c"
      },
      "source": [
        "print(f'{model.coef_}',f'{model.intercept_}',sep=\"\\n\")"
      ],
      "execution_count": null,
      "outputs": [
        {
          "output_type": "stream",
          "text": [
            "[[-5158.92591411   286.13753555]]\n",
            "[-50243.5627964]\n"
          ],
          "name": "stdout"
        }
      ]
    },
    {
      "cell_type": "code",
      "metadata": {
        "colab": {
          "base_uri": "https://localhost:8080/"
        },
        "id": "Vjmwnx0YvriJ",
        "outputId": "94a6ff37-909a-49be-8642-aca77ac2ac8f"
      },
      "source": [
        "print(f'y = {model.intercept_[0]:.0f} + '  f'{model.coef_[0][0]:.0f}'\"x1 + \"f'{model.coef_[0][1]:.0f}'\"x2\")"
      ],
      "execution_count": null,
      "outputs": [
        {
          "output_type": "stream",
          "text": [
            "y = -50244 + -5159x1 + 286x2\n"
          ],
          "name": "stdout"
        }
      ]
    },
    {
      "cell_type": "code",
      "metadata": {
        "colab": {
          "base_uri": "https://localhost:8080/"
        },
        "id": "lk3eh0vrzStJ",
        "outputId": "f8ee2b24-01fe-480a-90ab-ea883e94dae5"
      },
      "source": [
        "model.predict([[2000, 10]])"
      ],
      "execution_count": null,
      "outputs": [
        {
          "output_type": "execute_result",
          "data": {
            "text/plain": [
              "array([[-10365234.01565938]])"
            ]
          },
          "metadata": {
            "tags": []
          },
          "execution_count": 17
        }
      ]
    },
    {
      "cell_type": "code",
      "metadata": {
        "colab": {
          "base_uri": "https://localhost:8080/"
        },
        "id": "fXP80jQ_zoCG",
        "outputId": "c4c4ee59-e913-45aa-880f-8298c13f60a9"
      },
      "source": [
        "model.predict([[2000, 20]])"
      ],
      "execution_count": null,
      "outputs": [
        {
          "output_type": "execute_result",
          "data": {
            "text/plain": [
              "array([[-10362372.64030388]])"
            ]
          },
          "metadata": {
            "tags": []
          },
          "execution_count": 18
        }
      ]
    },
    {
      "cell_type": "markdown",
      "metadata": {
        "id": "sOvymj0ReYUz"
      },
      "source": [
        "# Q4"
      ]
    },
    {
      "cell_type": "code",
      "metadata": {
        "id": "gZHSzZpbeYU0"
      },
      "source": [
        "from sklearn.metrics import mean_squared_error\n",
        "from sklearn.metrics import r2_score\n",
        "import math \n",
        "\n",
        "MAE_train = mean_absolute_error(y_train, y_pred)\n",
        "MSE_train = mean_squared_error(y_train, y_pred)\n",
        "RMSE_train = math.sqrt(MSE_train)\n",
        "R2_train = r2_score(y_train, y_pred)\n",
        "\n",
        "MAE_test = mean_absolute_error(y_test, y2_pred)\n",
        "MSE_test = mean_squared_error(y_test, y2_pred)\n",
        "RMSE_test = math.sqrt(MSE_test)\n",
        "R2_test = r2_score(y_test, y2_pred)"
      ],
      "execution_count": null,
      "outputs": []
    },
    {
      "cell_type": "code",
      "metadata": {
        "colab": {
          "base_uri": "https://localhost:8080/",
          "height": 112
        },
        "id": "TtZa2IzW3ISz",
        "outputId": "cae575a6-c658-4ab7-d274-15c32026da99"
      },
      "source": [
        "pd.options.display.float_format = '{:.0f}'.format\n",
        "\n",
        "pdf1 = pd.DataFrame({'MAE': [MAE_train, MAE_test],\n",
        "              'MSE' : [MSE_train,MSE_test],\n",
        "              'RMSE' : [RMSE_train,RMSE_test]},\n",
        "              index=['Train','Test'])\n",
        "pdf1"
      ],
      "execution_count": null,
      "outputs": [
        {
          "output_type": "execute_result",
          "data": {
            "text/html": [
              "<div>\n",
              "<style scoped>\n",
              "    .dataframe tbody tr th:only-of-type {\n",
              "        vertical-align: middle;\n",
              "    }\n",
              "\n",
              "    .dataframe tbody tr th {\n",
              "        vertical-align: top;\n",
              "    }\n",
              "\n",
              "    .dataframe thead th {\n",
              "        text-align: right;\n",
              "    }\n",
              "</style>\n",
              "<table border=\"1\" class=\"dataframe\">\n",
              "  <thead>\n",
              "    <tr style=\"text-align: right;\">\n",
              "      <th></th>\n",
              "      <th>MAE</th>\n",
              "      <th>MSE</th>\n",
              "      <th>RMSE</th>\n",
              "    </tr>\n",
              "  </thead>\n",
              "  <tbody>\n",
              "    <tr>\n",
              "      <th>Train</th>\n",
              "      <td>170777</td>\n",
              "      <td>67099053310</td>\n",
              "      <td>259035</td>\n",
              "    </tr>\n",
              "    <tr>\n",
              "      <th>Test</th>\n",
              "      <td>179253</td>\n",
              "      <td>71083994179</td>\n",
              "      <td>266616</td>\n",
              "    </tr>\n",
              "  </tbody>\n",
              "</table>\n",
              "</div>"
            ],
            "text/plain": [
              "         MAE         MSE   RMSE\n",
              "Train 170777 67099053310 259035\n",
              "Test  179253 71083994179 266616"
            ]
          },
          "metadata": {
            "tags": []
          },
          "execution_count": 20
        }
      ]
    },
    {
      "cell_type": "code",
      "metadata": {
        "colab": {
          "base_uri": "https://localhost:8080/",
          "height": 112
        },
        "id": "iuX54S0I5UNJ",
        "outputId": "3fac6109-d3d8-4542-9c91-4228e143e1b3"
      },
      "source": [
        "pd.options.display.float_format = '{:,.3f}'.format\n",
        "\n",
        "pdf2 = pd.DataFrame({'R2': [R2_train,R2_test]},\n",
        "              index=['Train','Test'])\n",
        "pdf2"
      ],
      "execution_count": null,
      "outputs": [
        {
          "output_type": "execute_result",
          "data": {
            "text/html": [
              "<div>\n",
              "<style scoped>\n",
              "    .dataframe tbody tr th:only-of-type {\n",
              "        vertical-align: middle;\n",
              "    }\n",
              "\n",
              "    .dataframe tbody tr th {\n",
              "        vertical-align: top;\n",
              "    }\n",
              "\n",
              "    .dataframe thead th {\n",
              "        text-align: right;\n",
              "    }\n",
              "</style>\n",
              "<table border=\"1\" class=\"dataframe\">\n",
              "  <thead>\n",
              "    <tr style=\"text-align: right;\">\n",
              "      <th></th>\n",
              "      <th>R2</th>\n",
              "    </tr>\n",
              "  </thead>\n",
              "  <tbody>\n",
              "    <tr>\n",
              "      <th>Train</th>\n",
              "      <td>0.508</td>\n",
              "    </tr>\n",
              "    <tr>\n",
              "      <th>Test</th>\n",
              "      <td>0.460</td>\n",
              "    </tr>\n",
              "  </tbody>\n",
              "</table>\n",
              "</div>"
            ],
            "text/plain": [
              "         R2\n",
              "Train 0.508\n",
              "Test  0.460"
            ]
          },
          "metadata": {
            "tags": []
          },
          "execution_count": 21
        }
      ]
    },
    {
      "cell_type": "markdown",
      "metadata": {
        "id": "4e2kHH1-eYU0"
      },
      "source": [
        "# Q5"
      ]
    },
    {
      "cell_type": "markdown",
      "metadata": {
        "id": "_ZqPsr9s-tMh"
      },
      "source": [
        "***Filter Method를 통한 Feature 선택***\n",
        "-  통계적 측정 방법을 사용하여 feature간의 상관관계를 알아낸 후, feature를 선택\n",
        "\n",
        "- 상관계수가 높다고 하더라도 모델에 적합하지 않을 수 있음\n"
      ]
    },
    {
      "cell_type": "code",
      "metadata": {
        "id": "RAkaZ9gKeYU0",
        "colab": {
          "base_uri": "https://localhost:8080/",
          "height": 541
        },
        "outputId": "f819aaf0-0a6e-48db-94a7-b1322588b871"
      },
      "source": [
        "# 선택한 특징과 price의 상관관계 확인 하기\n",
        "# 계수가 높다고 좋은 피쳐는 아님\n",
        "\n",
        "import seaborn as sns\n",
        "\n",
        "plt.rcParams['figure.figsize'] = (5,9)\n",
        "\n",
        "heat = df.corr()[['price']].sort_values(by='price', ascending=False)\n",
        "heat.drop(index='price', inplace=True)\n",
        "\n",
        "sns.heatmap(heat, vmin = -1, vmax = 1, annot=True, cmap=\"magma_r\");"
      ],
      "execution_count": null,
      "outputs": [
        {
          "output_type": "display_data",
          "data": {
            "image/png": "[encoded data removed]",
            "text/plain": [
              "<Figure size 360x648 with 2 Axes>"
            ]
          },
          "metadata": {
            "tags": [],
            "needs_background": "light"
          }
        }
      ]
    },
    {
      "cell_type": "markdown",
      "metadata": {
        "id": "3QxRU95G0eUj"
      },
      "source": [
        "***Wrapper Methods를 통한 Feature 선택***\n",
        "- 예측 정확도 측면에서 가장 좋은 성능\n",
        "\n",
        "- 가장 좋은 \"feature의 집단\"을 선택\n",
        "\n",
        "- 시간과 비용이 매우 높게 발생\n"
      ]
    },
    {
      "cell_type": "code",
      "metadata": {
        "id": "d_JyeGz3yanH"
      },
      "source": [
        "# pip install joblib"
      ],
      "execution_count": null,
      "outputs": []
    },
    {
      "cell_type": "code",
      "metadata": {
        "colab": {
          "base_uri": "https://localhost:8080/"
        },
        "id": "3ZbpSAGXwqqJ",
        "outputId": "e2f54505-f13d-41f4-ddef-4fc22fa3b2ef"
      },
      "source": [
        "from sklearn.feature_selection import SelectFromModel\n",
        "from sklearn.linear_model import LogisticRegression\n",
        "from mlxtend.feature_selection import SequentialFeatureSelector as SFS\n",
        "\n",
        "X = df.iloc[:,3:]\n",
        "y = df.loc[:,'price']\n",
        "\n",
        "sfs = SFS(LinearRegression(), k_features=10, forward=True, floating=False, scoring = 'r2',cv = 0)\n",
        "sfs.fit(X, y)"
      ],
      "execution_count": null,
      "outputs": [
        {
          "output_type": "stream",
          "text": [
            "/usr/local/lib/python3.7/dist-packages/sklearn/externals/joblib/__init__.py:15: FutureWarning: sklearn.externals.joblib is deprecated in 0.21 and will be removed in 0.23. Please import this functionality directly from joblib, which can be installed with: pip install joblib. If this warning is raised when loading pickled models, you may need to re-serialize those models with scikit-learn 0.21+.\n",
            "  warnings.warn(msg, category=FutureWarning)\n"
          ],
          "name": "stderr"
        },
        {
          "output_type": "execute_result",
          "data": {
            "text/plain": [
              "SequentialFeatureSelector(clone_estimator=True, cv=0,\n",
              "                          estimator=LinearRegression(copy_X=True,\n",
              "                                                     fit_intercept=True,\n",
              "                                                     n_jobs=None,\n",
              "                                                     normalize=False),\n",
              "                          floating=False, forward=True, k_features=10, n_jobs=1,\n",
              "                          pre_dispatch='2*n_jobs', scoring='r2', verbose=0)"
            ]
          },
          "metadata": {
            "tags": []
          },
          "execution_count": 24
        }
      ]
    },
    {
      "cell_type": "code",
      "metadata": {
        "colab": {
          "base_uri": "https://localhost:8080/",
          "height": 362
        },
        "id": "zyO1d3Duyqcr",
        "outputId": "1ac912ca-b3f5-4a58-e7d4-d51ba8f76460"
      },
      "source": [
        "df_SFS_results = pd.DataFrame(sfs.subsets_).transpose()\n",
        "df_SFS_results"
      ],
      "execution_count": null,
      "outputs": [
        {
          "output_type": "execute_result",
          "data": {
            "text/html": [
              "<div>\n",
              "<style scoped>\n",
              "    .dataframe tbody tr th:only-of-type {\n",
              "        vertical-align: middle;\n",
              "    }\n",
              "\n",
              "    .dataframe tbody tr th {\n",
              "        vertical-align: top;\n",
              "    }\n",
              "\n",
              "    .dataframe thead th {\n",
              "        text-align: right;\n",
              "    }\n",
              "</style>\n",
              "<table border=\"1\" class=\"dataframe\">\n",
              "  <thead>\n",
              "    <tr style=\"text-align: right;\">\n",
              "      <th></th>\n",
              "      <th>feature_idx</th>\n",
              "      <th>cv_scores</th>\n",
              "      <th>avg_score</th>\n",
              "      <th>feature_names</th>\n",
              "    </tr>\n",
              "  </thead>\n",
              "  <tbody>\n",
              "    <tr>\n",
              "      <th>1</th>\n",
              "      <td>(2,)</td>\n",
              "      <td>[0.4928532179037931]</td>\n",
              "      <td>0.493</td>\n",
              "      <td>(sqft_living,)</td>\n",
              "    </tr>\n",
              "    <tr>\n",
              "      <th>2</th>\n",
              "      <td>(2, 14)</td>\n",
              "      <td>[0.5660231511309519]</td>\n",
              "      <td>0.566</td>\n",
              "      <td>(sqft_living, lat)</td>\n",
              "    </tr>\n",
              "    <tr>\n",
              "      <th>3</th>\n",
              "      <td>(2, 6, 14)</td>\n",
              "      <td>[0.6094953178468947]</td>\n",
              "      <td>0.609</td>\n",
              "      <td>(sqft_living, view, lat)</td>\n",
              "    </tr>\n",
              "    <tr>\n",
              "      <th>4</th>\n",
              "      <td>(2, 6, 8, 14)</td>\n",
              "      <td>[0.6359584372529241]</td>\n",
              "      <td>0.636</td>\n",
              "      <td>(sqft_living, view, grade, lat)</td>\n",
              "    </tr>\n",
              "    <tr>\n",
              "      <th>5</th>\n",
              "      <td>(2, 6, 8, 11, 14)</td>\n",
              "      <td>[0.6665619570181933]</td>\n",
              "      <td>0.667</td>\n",
              "      <td>(sqft_living, view, grade, yr_built, lat)</td>\n",
              "    </tr>\n",
              "    <tr>\n",
              "      <th>6</th>\n",
              "      <td>(2, 5, 6, 8, 11, 14)</td>\n",
              "      <td>[0.6838810820900908]</td>\n",
              "      <td>0.684</td>\n",
              "      <td>(sqft_living, waterfront, view, grade, yr_buil...</td>\n",
              "    </tr>\n",
              "    <tr>\n",
              "      <th>7</th>\n",
              "      <td>(0, 2, 5, 6, 8, 11, 14)</td>\n",
              "      <td>[0.686972709952441]</td>\n",
              "      <td>0.687</td>\n",
              "      <td>(bedrooms, sqft_living, waterfront, view, grad...</td>\n",
              "    </tr>\n",
              "    <tr>\n",
              "      <th>8</th>\n",
              "      <td>(0, 1, 2, 5, 6, 8, 11, 14)</td>\n",
              "      <td>[0.6900658872606773]</td>\n",
              "      <td>0.690</td>\n",
              "      <td>(bedrooms, bathrooms, sqft_living, waterfront,...</td>\n",
              "    </tr>\n",
              "    <tr>\n",
              "      <th>9</th>\n",
              "      <td>(0, 1, 2, 5, 6, 8, 11, 13, 14)</td>\n",
              "      <td>[0.6927133421963738]</td>\n",
              "      <td>0.693</td>\n",
              "      <td>(bedrooms, bathrooms, sqft_living, waterfront,...</td>\n",
              "    </tr>\n",
              "    <tr>\n",
              "      <th>10</th>\n",
              "      <td>(0, 1, 2, 5, 6, 8, 11, 13, 14, 15)</td>\n",
              "      <td>[0.6960418067352685]</td>\n",
              "      <td>0.696</td>\n",
              "      <td>(bedrooms, bathrooms, sqft_living, waterfront,...</td>\n",
              "    </tr>\n",
              "  </tbody>\n",
              "</table>\n",
              "</div>"
            ],
            "text/plain": [
              "                           feature_idx  ...                                      feature_names\n",
              "1                                 (2,)  ...                                     (sqft_living,)\n",
              "2                              (2, 14)  ...                                 (sqft_living, lat)\n",
              "3                           (2, 6, 14)  ...                           (sqft_living, view, lat)\n",
              "4                        (2, 6, 8, 14)  ...                    (sqft_living, view, grade, lat)\n",
              "5                    (2, 6, 8, 11, 14)  ...          (sqft_living, view, grade, yr_built, lat)\n",
              "6                 (2, 5, 6, 8, 11, 14)  ...  (sqft_living, waterfront, view, grade, yr_buil...\n",
              "7              (0, 2, 5, 6, 8, 11, 14)  ...  (bedrooms, sqft_living, waterfront, view, grad...\n",
              "8           (0, 1, 2, 5, 6, 8, 11, 14)  ...  (bedrooms, bathrooms, sqft_living, waterfront,...\n",
              "9       (0, 1, 2, 5, 6, 8, 11, 13, 14)  ...  (bedrooms, bathrooms, sqft_living, waterfront,...\n",
              "10  (0, 1, 2, 5, 6, 8, 11, 13, 14, 15)  ...  (bedrooms, bathrooms, sqft_living, waterfront,...\n",
              "\n",
              "[10 rows x 4 columns]"
            ]
          },
          "metadata": {
            "tags": []
          },
          "execution_count": 25
        }
      ]
    },
    {
      "cell_type": "markdown",
      "metadata": {
        "id": "pM6ld9B00i-1"
      },
      "source": [
        "***Embedded method (Tree-based)를 통한 Feature 선택***\n",
        "- Filtering과 Wrapper의 장점을 결함한 방법\n",
        "\n",
        "- 각각의 Feature를 직접 학습하며, \n",
        "모델의 정확도에 기여하는 Feature를 선택\n",
        "\n",
        "- 학습 절차를 최적화"
      ]
    },
    {
      "cell_type": "code",
      "metadata": {
        "colab": {
          "base_uri": "https://localhost:8080/"
        },
        "id": "GASYCcrh0ivz",
        "outputId": "f1618d23-6879-4080-ee02-ac865b654e5f"
      },
      "source": [
        "from sklearn.feature_selection import SelectFromModel\n",
        "from sklearn.ensemble import RandomForestClassifier\n",
        "\n",
        "X = df.iloc[:,3:]\n",
        "y = df.loc[:,'price']\n",
        "\n",
        "# n_estimators : 사용할 트리 수\n",
        "embeded_rf_selector = SelectFromModel(RandomForestClassifier(n_estimators=10), max_features=4)\n",
        "embeded_rf_selector.fit(X, y)\n",
        "\n",
        "embeded_rf_support = embeded_rf_selector.get_support()\n",
        "embeded_rf_feature = X.loc[:,embeded_rf_support].columns.tolist()\n",
        "print(str(len(embeded_rf_feature)), 'selected features')\n",
        "print(embeded_rf_feature)"
      ],
      "execution_count": null,
      "outputs": [
        {
          "output_type": "stream",
          "text": [
            "4 selected features\n",
            "['sqft_lot', 'lat', 'long', 'sqft_lot15']\n"
          ],
          "name": "stdout"
        }
      ]
    },
    {
      "cell_type": "markdown",
      "metadata": {
        "id": "whucKfeMcZOB"
      },
      "source": [
        "***캐글 활용***\n",
        "[캐글 노트북](https://www.kaggle.com/harlfoxem/housesalesprediction)\n",
        "\n",
        "price / bedrooms / bathrooms / sqft_living"
      ]
    },
    {
      "cell_type": "markdown",
      "metadata": {
        "id": "RrabVB64-zYK"
      },
      "source": [
        "***다항회귀모델 생성***\n",
        "\n",
        "- 위의 선택 방법을 종합해 최종 feature 선택\n",
        "- price, lat, bedrooms, bathrooms, sqft_living"
      ]
    },
    {
      "cell_type": "code",
      "metadata": {
        "colab": {
          "base_uri": "https://localhost:8080/",
          "height": 205
        },
        "id": "RyaZV89xczfy",
        "outputId": "9bc5c99c-c176-402c-f674-e08e956821a6"
      },
      "source": [
        "df1 = df[['price','lat','bedrooms', 'bathrooms', 'sqft_living']]\n",
        "df1.head()"
      ],
      "execution_count": null,
      "outputs": [
        {
          "output_type": "execute_result",
          "data": {
            "text/html": [
              "<div>\n",
              "<style scoped>\n",
              "    .dataframe tbody tr th:only-of-type {\n",
              "        vertical-align: middle;\n",
              "    }\n",
              "\n",
              "    .dataframe tbody tr th {\n",
              "        vertical-align: top;\n",
              "    }\n",
              "\n",
              "    .dataframe thead th {\n",
              "        text-align: right;\n",
              "    }\n",
              "</style>\n",
              "<table border=\"1\" class=\"dataframe\">\n",
              "  <thead>\n",
              "    <tr style=\"text-align: right;\">\n",
              "      <th></th>\n",
              "      <th>price</th>\n",
              "      <th>lat</th>\n",
              "      <th>bedrooms</th>\n",
              "      <th>bathrooms</th>\n",
              "      <th>sqft_living</th>\n",
              "    </tr>\n",
              "  </thead>\n",
              "  <tbody>\n",
              "    <tr>\n",
              "      <th>0</th>\n",
              "      <td>221,900.000</td>\n",
              "      <td>47.511</td>\n",
              "      <td>3</td>\n",
              "      <td>1.000</td>\n",
              "      <td>1180</td>\n",
              "    </tr>\n",
              "    <tr>\n",
              "      <th>1</th>\n",
              "      <td>538,000.000</td>\n",
              "      <td>47.721</td>\n",
              "      <td>3</td>\n",
              "      <td>2.250</td>\n",
              "      <td>2570</td>\n",
              "    </tr>\n",
              "    <tr>\n",
              "      <th>2</th>\n",
              "      <td>180,000.000</td>\n",
              "      <td>47.738</td>\n",
              "      <td>2</td>\n",
              "      <td>1.000</td>\n",
              "      <td>770</td>\n",
              "    </tr>\n",
              "    <tr>\n",
              "      <th>3</th>\n",
              "      <td>604,000.000</td>\n",
              "      <td>47.521</td>\n",
              "      <td>4</td>\n",
              "      <td>3.000</td>\n",
              "      <td>1960</td>\n",
              "    </tr>\n",
              "    <tr>\n",
              "      <th>4</th>\n",
              "      <td>510,000.000</td>\n",
              "      <td>47.617</td>\n",
              "      <td>3</td>\n",
              "      <td>2.000</td>\n",
              "      <td>1680</td>\n",
              "    </tr>\n",
              "  </tbody>\n",
              "</table>\n",
              "</div>"
            ],
            "text/plain": [
              "        price    lat  bedrooms  bathrooms  sqft_living\n",
              "0 221,900.000 47.511         3      1.000         1180\n",
              "1 538,000.000 47.721         3      2.250         2570\n",
              "2 180,000.000 47.738         2      1.000          770\n",
              "3 604,000.000 47.521         4      3.000         1960\n",
              "4 510,000.000 47.617         3      2.000         1680"
            ]
          },
          "metadata": {
            "tags": []
          },
          "execution_count": 40
        }
      ]
    },
    {
      "cell_type": "code",
      "metadata": {
        "colab": {
          "base_uri": "https://localhost:8080/"
        },
        "id": "9j543bSpm-2Z",
        "outputId": "9f30e58b-2fc4-4b90-df1b-cadf717ba0c8"
      },
      "source": [
        "train2 = df1.sample(frac = 0.55, random_state=1)\n",
        "test2 = df1.drop(train2.index)\n",
        "\n",
        "print(f'Train data2: {len(train2)}개', f'Test data2: {len(test2)}개', sep=\"\\n\" )"
      ],
      "execution_count": null,
      "outputs": [
        {
          "output_type": "stream",
          "text": [
            "Train data2: 11887개\n",
            "Test data2: 9726개\n"
          ],
          "name": "stdout"
        }
      ]
    },
    {
      "cell_type": "code",
      "metadata": {
        "id": "ItbFXvfJCk51",
        "colab": {
          "base_uri": "https://localhost:8080/"
        },
        "outputId": "66b46fa8-d68d-4957-ba34-8765f5d5459d"
      },
      "source": [
        "f_tures = ['lat','bedrooms', 'bathrooms', 'sqft_living']\n",
        "target = ['price']\n",
        "\n",
        "Xtrain = train2[f_tures]\n",
        "ytrain = train2[target]\n",
        "\n",
        "Xtest = test2[f_tures]\n",
        "ytest = test2[target]\n",
        "\n",
        "model_g = LinearRegression()\n",
        "\n",
        "model_g.fit(Xtrain,ytrain)\n",
        "\n",
        "# train - model_g - fit\n",
        "y_train_pred = model_g.predict(Xtrain)\n",
        "m_a_e1 = mean_absolute_error(ytrain, y_train_pred)\n",
        "\n",
        "# test - model_g - fit\n",
        "y_test_pred = model_g.predict(Xtest)\n",
        "m_a_e2 = mean_absolute_error(ytest,y_test_pred)\n",
        "\n",
        "print(f'Train Errors: {m_a_e1:.2f}', f'Test Errors: {m_a_e2:.2f}', sep=\"\\n\" )"
      ],
      "execution_count": null,
      "outputs": [
        {
          "output_type": "stream",
          "text": [
            "Train Errors: 150628.52\n",
            "Test Errors: 149742.95\n"
          ],
          "name": "stdout"
        }
      ]
    },
    {
      "cell_type": "markdown",
      "metadata": {
        "id": "2qvt3-aeHNtq"
      },
      "source": [
        "***회귀계수***\n",
        "\n",
        "4개 feature 다중회귀 식은 y = b + b1x1 + b2x2 + b3x3 + b4x4 이다.\n",
        "\n",
        "여기서 b1 = 709512 , b2 = -55700, b3 = 14143, b4 = 302\n",
        "\n",
        "b2가 음수이므로 y값은 감소한다."
      ]
    },
    {
      "cell_type": "code",
      "metadata": {
        "colab": {
          "base_uri": "https://localhost:8080/"
        },
        "id": "r9E7b_30i8iG",
        "outputId": "315f602b-65ae-4462-901a-7be14efe0ac1"
      },
      "source": [
        "print(f'{model_g.coef_}',f'{model_g.intercept_}',sep=\"\\n\")"
      ],
      "execution_count": null,
      "outputs": [
        {
          "output_type": "stream",
          "text": [
            "[[ 7.09512108e+05 -5.57004238e+04  1.41438590e+04  3.02201159e+02]]\n",
            "[-33673353.9579382]\n"
          ],
          "name": "stdout"
        }
      ]
    },
    {
      "cell_type": "code",
      "metadata": {
        "colab": {
          "base_uri": "https://localhost:8080/"
        },
        "id": "spxnS_eqJ5kw",
        "outputId": "b7b94228-d64a-4f1a-917f-079e5b5e08c7"
      },
      "source": [
        "model_g.predict([[10,10,10,10]])"
      ],
      "execution_count": null,
      "outputs": [
        {
          "output_type": "execute_result",
          "data": {
            "text/plain": [
              "array([[-26990776.51600822]])"
            ]
          },
          "metadata": {
            "tags": []
          },
          "execution_count": 57
        }
      ]
    },
    {
      "cell_type": "code",
      "metadata": {
        "colab": {
          "base_uri": "https://localhost:8080/"
        },
        "id": "O3Xjr4HZJ-s5",
        "outputId": "f145c18b-8515-4a77-a4b8-b779ab2878a2"
      },
      "source": [
        "model_g.predict([[40,10,10,10]])"
      ],
      "execution_count": null,
      "outputs": [
        {
          "output_type": "execute_result",
          "data": {
            "text/plain": [
              "array([[-5705413.28089438]])"
            ]
          },
          "metadata": {
            "tags": []
          },
          "execution_count": 59
        }
      ]
    },
    {
      "cell_type": "markdown",
      "metadata": {
        "id": "VArqTeg9E1RK"
      },
      "source": [
        "***MSE, RMSE, MAE, $R^2$***"
      ]
    },
    {
      "cell_type": "code",
      "metadata": {
        "id": "GXDVS_tSE3Oq"
      },
      "source": [
        "from sklearn.metrics import mean_squared_error\n",
        "from sklearn.metrics import r2_score\n",
        "import math \n",
        "\n",
        "MAE_train2 = mean_absolute_error(ytrain, y_train_pred)\n",
        "MSE_train2 = mean_squared_error(ytrain, y_train_pred)\n",
        "RMSE_train2 = math.sqrt(MSE_train2)\n",
        "R2_train2 = r2_score(ytrain, y_train_pred)\n",
        "\n",
        "MAE_test2 = mean_absolute_error(ytest, y_test_pred)\n",
        "MSE_test2 = mean_squared_error(ytest, y_test_pred)\n",
        "RMSE_test2 = math.sqrt(MSE_test2)\n",
        "R2_test2 = r2_score(ytest, y_test_pred)"
      ],
      "execution_count": null,
      "outputs": []
    },
    {
      "cell_type": "code",
      "metadata": {
        "colab": {
          "base_uri": "https://localhost:8080/",
          "height": 112
        },
        "id": "qO2TduAVFLPJ",
        "outputId": "04feaa82-f5fc-4b85-d006-e1fbdf4d7773"
      },
      "source": [
        "pd.options.display.float_format = '{:.0f}'.format\n",
        "\n",
        "pdf3 = pd.DataFrame({'MAE': [MAE_train2, MAE_test2],\n",
        "              'MSE' : [MSE_train2,MSE_test2],\n",
        "              'RMSE' : [RMSE_train2,RMSE_test2]},\n",
        "              index=['Train2','Test2'])\n",
        "pdf3"
      ],
      "execution_count": null,
      "outputs": [
        {
          "output_type": "execute_result",
          "data": {
            "text/html": [
              "<div>\n",
              "<style scoped>\n",
              "    .dataframe tbody tr th:only-of-type {\n",
              "        vertical-align: middle;\n",
              "    }\n",
              "\n",
              "    .dataframe tbody tr th {\n",
              "        vertical-align: top;\n",
              "    }\n",
              "\n",
              "    .dataframe thead th {\n",
              "        text-align: right;\n",
              "    }\n",
              "</style>\n",
              "<table border=\"1\" class=\"dataframe\">\n",
              "  <thead>\n",
              "    <tr style=\"text-align: right;\">\n",
              "      <th></th>\n",
              "      <th>MAE</th>\n",
              "      <th>MSE</th>\n",
              "      <th>RMSE</th>\n",
              "    </tr>\n",
              "  </thead>\n",
              "  <tbody>\n",
              "    <tr>\n",
              "      <th>Train2</th>\n",
              "      <td>150629</td>\n",
              "      <td>59799098635</td>\n",
              "      <td>244539</td>\n",
              "    </tr>\n",
              "    <tr>\n",
              "      <th>Test2</th>\n",
              "      <td>149743</td>\n",
              "      <td>53557738723</td>\n",
              "      <td>231425</td>\n",
              "    </tr>\n",
              "  </tbody>\n",
              "</table>\n",
              "</div>"
            ],
            "text/plain": [
              "          MAE         MSE   RMSE\n",
              "Train2 150629 59799098635 244539\n",
              "Test2  149743 53557738723 231425"
            ]
          },
          "metadata": {
            "tags": []
          },
          "execution_count": 61
        }
      ]
    },
    {
      "cell_type": "code",
      "metadata": {
        "colab": {
          "base_uri": "https://localhost:8080/",
          "height": 112
        },
        "id": "8xhnYOzJFMxH",
        "outputId": "2acfda96-17f4-429d-c45b-665694e1a7e0"
      },
      "source": [
        "pd.options.display.float_format = '{:,.3f}'.format\n",
        "\n",
        "pdf4 = pd.DataFrame({'R2': [R2_train2,R2_test2]},\n",
        "              index=['Train2','Test2'])\n",
        "pdf4\n",
        "\n",
        "# 두 모델 모두 R_square 값이 0.6정도로 중간보다 약간 높게 위치한다.\n",
        "# 따라서 좀 더 보완이 필요한 모델임이 틀림없다."
      ],
      "execution_count": null,
      "outputs": [
        {
          "output_type": "execute_result",
          "data": {
            "text/html": [
              "<div>\n",
              "<style scoped>\n",
              "    .dataframe tbody tr th:only-of-type {\n",
              "        vertical-align: middle;\n",
              "    }\n",
              "\n",
              "    .dataframe tbody tr th {\n",
              "        vertical-align: top;\n",
              "    }\n",
              "\n",
              "    .dataframe thead th {\n",
              "        text-align: right;\n",
              "    }\n",
              "</style>\n",
              "<table border=\"1\" class=\"dataframe\">\n",
              "  <thead>\n",
              "    <tr style=\"text-align: right;\">\n",
              "      <th></th>\n",
              "      <th>R2</th>\n",
              "    </tr>\n",
              "  </thead>\n",
              "  <tbody>\n",
              "    <tr>\n",
              "      <th>Train2</th>\n",
              "      <td>0.576</td>\n",
              "    </tr>\n",
              "    <tr>\n",
              "      <th>Test2</th>\n",
              "      <td>0.579</td>\n",
              "    </tr>\n",
              "  </tbody>\n",
              "</table>\n",
              "</div>"
            ],
            "text/plain": [
              "          R2\n",
              "Train2 0.576\n",
              "Test2  0.579"
            ]
          },
          "metadata": {
            "tags": []
          },
          "execution_count": 62
        }
      ]
    },
    {
      "cell_type": "markdown",
      "metadata": {
        "id": "d-3lgj3mKyny"
      },
      "source": [
        "***과소적합***\n",
        "- 학습데이터와 예측값의 오차가 크다 = 편향이 크다.\n",
        "- 그치만 (학습데이터_예측값) 오차와, (테스트데이터_예측값) 오차의 차이는 작다 = 분산이 낮다\n",
        "\n",
        "Train Errors: 150628.52\n",
        "\n",
        "Test Errors: 149742.95"
      ]
    },
    {
      "cell_type": "markdown",
      "metadata": {
        "id": "2v5CplIEeYU0"
      },
      "source": [
        "# 참고자료\n",
        "* [Feature Engineering](https://en.wikipedia.org/wiki/Feature_engineering)\n",
        "* [\"A Few Useful Things to Know about Machine Learning\"](https://homes.cs.washington.edu/~pedrod/papers/cacm12.pdf)\n",
        "* [Machine Learning and AI via Brain simulations](https://forum.stanford.edu/events/2011/2011slides/plenary/2011plenaryNg.pdf)\n",
        "* [_An Introduction to Statistical Learning_](http://faculty.marshall.usc.edu/gareth-james/ISL/ISLR%20Seventh%20Printing.pdf),  Chapter 3.1, Simple Linear Regression, & Chapter 3.2, Multiple Linear Regression\n",
        "* [Brandon Foltz, Statistics 101: Simple Linear Regression](https://www.youtube.com/watch?v=ZkjP5RJLQF4)"
      ]
    }
  ]
}