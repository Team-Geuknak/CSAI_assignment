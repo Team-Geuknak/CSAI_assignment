{
  "nbformat": 4,
  "nbformat_minor": 0,
  "metadata": {
    "colab": {
      "name": "N214 JH.ipynb",
      "provenance": [],
      "authorship_tag": "ABX9TyOtmacGl9knXHXmLCfgKI74",
      "include_colab_link": true
    },
    "kernelspec": {
      "name": "python3",
      "display_name": "Python 3"
    },
    "language_info": {
      "name": "python"
    }
  },
  "cells": [
    {
      "cell_type": "markdown",
      "metadata": {
        "id": "view-in-github",
        "colab_type": "text"
      },
      "source": [
        "<a href=\"https://colab.research.google.com/github/momotonton/CSAI_assignment/blob/main/N214_JH.ipynb\" target=\"_parent\"><img src=\"https://colab.research.google.com/assets/colab-badge.svg\" alt=\"Open In Colab\"/></a>"
      ]
    },
    {
      "cell_type": "markdown",
      "metadata": {
        "id": "PhaSdTYl5U0L"
      },
      "source": [
        "#**Q1**"
      ]
    },
    {
      "cell_type": "code",
      "metadata": {
        "id": "WNISy6UixVRl"
      },
      "source": [
        "!pip install category_encoders"
      ],
      "execution_count": null,
      "outputs": []
    },
    {
      "cell_type": "code",
      "metadata": {
        "id": "El4Dq8akTcjl"
      },
      "source": [
        "import pandas as pd\n",
        "df = pd.read_csv('https://ds-lecture-data.s3.ap-northeast-2.amazonaws.com/cardio/cardio_train.csv', sep=';')"
      ],
      "execution_count": 1,
      "outputs": []
    },
    {
      "cell_type": "code",
      "metadata": {
        "id": "4Ez4OKa3TgAn"
      },
      "source": [
        "df = df.drop(columns='id',axis=1)"
      ],
      "execution_count": 2,
      "outputs": []
    },
    {
      "cell_type": "code",
      "metadata": {
        "colab": {
          "base_uri": "https://localhost:8080/"
        },
        "id": "11PHh3k-XTeS",
        "outputId": "960d8f2d-8949-433a-e971-a8c78641b06f"
      },
      "source": [
        "df.isnull().sum()"
      ],
      "execution_count": 3,
      "outputs": [
        {
          "output_type": "execute_result",
          "data": {
            "text/plain": [
              "age            0\n",
              "gender         0\n",
              "height         0\n",
              "weight         0\n",
              "ap_hi          0\n",
              "ap_lo          0\n",
              "cholesterol    0\n",
              "gluc           0\n",
              "smoke          0\n",
              "alco           0\n",
              "active         0\n",
              "cardio         0\n",
              "dtype: int64"
            ]
          },
          "metadata": {
            "tags": []
          },
          "execution_count": 3
        }
      ]
    },
    {
      "cell_type": "code",
      "metadata": {
        "colab": {
          "base_uri": "https://localhost:8080/"
        },
        "id": "HET5EuSNXZTp",
        "outputId": "e121ad67-6872-428e-de58-d206cba0c272"
      },
      "source": [
        "df = df.drop_duplicates()\n",
        "print(f'남은 샘플의 수는 : {len(df)}개') "
      ],
      "execution_count": 4,
      "outputs": [
        {
          "output_type": "stream",
          "text": [
            "남은 샘플의 수는 : 69976개\n"
          ],
          "name": "stdout"
        }
      ]
    },
    {
      "cell_type": "markdown",
      "metadata": {
        "id": "UsdVPyZ95Zko"
      },
      "source": [
        "#**Q2**"
      ]
    },
    {
      "cell_type": "code",
      "metadata": {
        "colab": {
          "base_uri": "https://localhost:8080/"
        },
        "id": "zxaBhTxXWcp8",
        "outputId": "ee51edd2-0c98-4572-d5f0-d64a1041f1ad"
      },
      "source": [
        "import numpy as np\n",
        "from sklearn.impute import SimpleImputer\n",
        "from sklearn.model_selection import train_test_split\n",
        "\n",
        "train , X_test = train_test_split(df , train_size=0.8, test_size=0.2,random_state=2)\n",
        "X_train, X_val = train_test_split(train , train_size=0.8, test_size=0.2,random_state=2)\n",
        "print(f'검증 데이터의 갯수는 : {len(X_val)}개')\n",
        "(len(X_train) + len(X_test) + len(X_val)) == len(df) "
      ],
      "execution_count": 8,
      "outputs": [
        {
          "output_type": "stream",
          "text": [
            "검증 데이터의 갯수는 : 11196개\n"
          ],
          "name": "stdout"
        },
        {
          "output_type": "execute_result",
          "data": {
            "text/plain": [
              "True"
            ]
          },
          "metadata": {
            "tags": []
          },
          "execution_count": 8
        }
      ]
    },
    {
      "cell_type": "markdown",
      "metadata": {
        "id": "8Y4Qf4uD5gyL"
      },
      "source": [
        "#**Q3**"
      ]
    },
    {
      "cell_type": "code",
      "metadata": {
        "colab": {
          "base_uri": "https://localhost:8080/"
        },
        "id": "Par-p0mTgTKt",
        "outputId": "ebd64393-b78c-40c5-b7f8-d4f30972041d"
      },
      "source": [
        "target = 'gender'\n",
        "features = list(df[df != target])\n",
        "\n",
        "x_train = X_train[features]\n",
        "y_train = X_train[target]\n",
        "x_val = X_val[features]\n",
        "y_val = X_train[target]\n",
        "\n",
        "y_train.value_counts(normalize=True)"
      ],
      "execution_count": 34,
      "outputs": [
        {
          "output_type": "execute_result",
          "data": {
            "text/plain": [
              "1    0.649607\n",
              "2    0.350393\n",
              "Name: gender, dtype: float64"
            ]
          },
          "metadata": {
            "tags": []
          },
          "execution_count": 34
        }
      ]
    },
    {
      "cell_type": "code",
      "metadata": {
        "colab": {
          "base_uri": "https://localhost:8080/"
        },
        "id": "IRTvp_yplLqX",
        "outputId": "20dfcec2-21d2-45c5-f905-8e60b2820390"
      },
      "source": [
        "from sklearn.metrics import accuracy_score\n",
        "major = y_train.mode()[0]\n",
        "y_pred = [major] * len(y_train)\n",
        "print(\"training accuracy: \", accuracy_score(y_train, y_pred))\n",
        "y_val = X_val[target]\n",
        "y_pred = [major] * len(y_val)\n",
        "print(\"validation accuracy: \", accuracy_score(y_val, y_pred))"
      ],
      "execution_count": 35,
      "outputs": [
        {
          "output_type": "stream",
          "text": [
            "training accuracy:  0.6496070025008932\n",
            "validation accuracy:  0.6513040371561272\n"
          ],
          "name": "stdout"
        }
      ]
    },
    {
      "cell_type": "code",
      "metadata": {
        "colab": {
          "base_uri": "https://localhost:8080/"
        },
        "id": "5RaPvx2vnupD",
        "outputId": "9476c697-1b12-46ce-875c-29f47eee842c"
      },
      "source": [
        "from sklearn.linear_model import LogisticRegression\n",
        "logistic = LogisticRegression(max_iter=1000)\n",
        "logistic.fit(x_train, y_train)\n",
        "print('검증세트 정확도', logistic.score(x_val, y_val))"
      ],
      "execution_count": 45,
      "outputs": [
        {
          "output_type": "stream",
          "text": [
            "검증세트 정확도 0.9997320471596999\n"
          ],
          "name": "stdout"
        }
      ]
    },
    {
      "cell_type": "markdown",
      "metadata": {
        "id": "9-1EYe3M5o35"
      },
      "source": [
        "#**Q4**"
      ]
    },
    {
      "cell_type": "code",
      "metadata": {
        "colab": {
          "base_uri": "https://localhost:8080/"
        },
        "id": "KLalF2lLstE-",
        "outputId": "d7037da6-a836-4947-80f6-33c807af3cb7"
      },
      "source": [
        "from category_encoders import OneHotEncoder\n",
        "encoder = OneHotEncoder(use_cat_names = True)\n",
        "\n",
        "X_train_encoded = encoder.fit_transform(x_train)\n",
        "X_val_encoded = encoder.transform(x_val)\n",
        "\n",
        "y_train_encoded = encoder.fit_transform(y_train)\n",
        "y_val_encoded = encoder.transform(y_val)\n",
        "\n",
        "\n",
        "logistic = LogisticRegression(max_iter=1000)\n",
        "logistic.fit(X_train_encoded , y_train_encoded )\n",
        "print('검증세트 정확도', logistic.score(X_val_encoded, y_val_encoded))"
      ],
      "execution_count": 44,
      "outputs": [
        {
          "output_type": "stream",
          "text": [
            "/usr/local/lib/python3.7/dist-packages/category_encoders/utils.py:21: FutureWarning: is_categorical is deprecated and will be removed in a future version.  Use is_categorical_dtype instead\n",
            "  elif pd.api.types.is_categorical(cols):\n",
            "/usr/local/lib/python3.7/dist-packages/sklearn/utils/validation.py:760: DataConversionWarning: A column-vector y was passed when a 1d array was expected. Please change the shape of y to (n_samples, ), for example using ravel().\n",
            "  y = column_or_1d(y, warn=True)\n"
          ],
          "name": "stderr"
        },
        {
          "output_type": "stream",
          "text": [
            "검증세트 정확도 0.9997320471596999\n"
          ],
          "name": "stdout"
        }
      ]
    }
  ]
}