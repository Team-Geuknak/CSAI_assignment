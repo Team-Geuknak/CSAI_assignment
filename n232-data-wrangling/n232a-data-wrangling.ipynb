{
  "nbformat": 4,
  "nbformat_minor": 0,
  "metadata": {
    "jupytext": {
      "cell_metadata_filter": "-all",
      "main_language": "python",
      "notebook_metadata_filter": "-all"
    },
    "kernelspec": {
      "display_name": "Python 3",
      "language": "python",
      "name": "python3"
    },
    "language_info": {
      "codemirror_mode": {
        "name": "ipython",
        "version": 3
      },
      "file_extension": ".py",
      "mimetype": "text/x-python",
      "name": "python",
      "nbconvert_exporter": "python",
      "pygments_lexer": "ipython3",
      "version": "3.7.7"
    },
    "colab": {
      "name": "n232a-data-wrangling.ipynb",
      "provenance": [],
      "include_colab_link": true
    }
  },
  "cells": [
    {
      "cell_type": "markdown",
      "metadata": {
        "id": "view-in-github",
        "colab_type": "text"
      },
      "source": [
        "<a href=\"https://colab.research.google.com/github/ljs7463/CSAI_assignment/blob/main/n232-data-wrangling/n232a-data-wrangling.ipynb\" target=\"_parent\"><img src=\"https://colab.research.google.com/assets/colab-badge.svg\" alt=\"Open In Colab\"/></a>"
      ]
    },
    {
      "cell_type": "markdown",
      "metadata": {
        "id": "IC7YFr3gCSnY"
      },
      "source": [
        "### 1) "
      ]
    },
    {
      "cell_type": "code",
      "metadata": {
        "id": "gW-FopCLCU9g"
      },
      "source": [
        "import pandas as pd\n",
        "df = pd.read_csv(\"https://ds-lecture-data.s3.ap-northeast-2.amazonaws.com/assignments/purchase_data.csv\", sep=\",\",index_col=0)"
      ],
      "execution_count": null,
      "outputs": []
    },
    {
      "cell_type": "code",
      "metadata": {
        "id": "ReLe9xxuCXKr",
        "colab": {
          "base_uri": "https://localhost:8080/",
          "height": 450
        },
        "outputId": "24884df3-f98f-4c23-f96d-99ff0c4f1f05"
      },
      "source": [
        "df"
      ],
      "execution_count": null,
      "outputs": [
        {
          "output_type": "execute_result",
          "data": {
            "text/html": [
              "<div>\n",
              "<style scoped>\n",
              "    .dataframe tbody tr th:only-of-type {\n",
              "        vertical-align: middle;\n",
              "    }\n",
              "\n",
              "    .dataframe tbody tr th {\n",
              "        vertical-align: top;\n",
              "    }\n",
              "\n",
              "    .dataframe thead th {\n",
              "        text-align: right;\n",
              "    }\n",
              "</style>\n",
              "<table border=\"1\" class=\"dataframe\">\n",
              "  <thead>\n",
              "    <tr style=\"text-align: right;\">\n",
              "      <th></th>\n",
              "      <th>SN</th>\n",
              "      <th>Age</th>\n",
              "      <th>Gender</th>\n",
              "      <th>Item ID</th>\n",
              "      <th>Item Name</th>\n",
              "      <th>Price</th>\n",
              "    </tr>\n",
              "    <tr>\n",
              "      <th>Purchase ID</th>\n",
              "      <th></th>\n",
              "      <th></th>\n",
              "      <th></th>\n",
              "      <th></th>\n",
              "      <th></th>\n",
              "      <th></th>\n",
              "    </tr>\n",
              "  </thead>\n",
              "  <tbody>\n",
              "    <tr>\n",
              "      <th>0</th>\n",
              "      <td>Lisim78</td>\n",
              "      <td>20</td>\n",
              "      <td>Male</td>\n",
              "      <td>108</td>\n",
              "      <td>Extraction, Quickblade Of Trembling Hands</td>\n",
              "      <td>3.53</td>\n",
              "    </tr>\n",
              "    <tr>\n",
              "      <th>1</th>\n",
              "      <td>Lisovynya38</td>\n",
              "      <td>40</td>\n",
              "      <td>Male</td>\n",
              "      <td>143</td>\n",
              "      <td>Frenzied Scimitar</td>\n",
              "      <td>1.56</td>\n",
              "    </tr>\n",
              "    <tr>\n",
              "      <th>2</th>\n",
              "      <td>Ithergue48</td>\n",
              "      <td>24</td>\n",
              "      <td>Male</td>\n",
              "      <td>92</td>\n",
              "      <td>Final Critic</td>\n",
              "      <td>4.88</td>\n",
              "    </tr>\n",
              "    <tr>\n",
              "      <th>3</th>\n",
              "      <td>Chamassasya86</td>\n",
              "      <td>24</td>\n",
              "      <td>Male</td>\n",
              "      <td>100</td>\n",
              "      <td>Blindscythe</td>\n",
              "      <td>3.27</td>\n",
              "    </tr>\n",
              "    <tr>\n",
              "      <th>4</th>\n",
              "      <td>Iskosia90</td>\n",
              "      <td>23</td>\n",
              "      <td>Male</td>\n",
              "      <td>131</td>\n",
              "      <td>Fury</td>\n",
              "      <td>1.44</td>\n",
              "    </tr>\n",
              "    <tr>\n",
              "      <th>...</th>\n",
              "      <td>...</td>\n",
              "      <td>...</td>\n",
              "      <td>...</td>\n",
              "      <td>...</td>\n",
              "      <td>...</td>\n",
              "      <td>...</td>\n",
              "    </tr>\n",
              "    <tr>\n",
              "      <th>775</th>\n",
              "      <td>Aethedru70</td>\n",
              "      <td>21</td>\n",
              "      <td>Female</td>\n",
              "      <td>60</td>\n",
              "      <td>Wolf</td>\n",
              "      <td>3.54</td>\n",
              "    </tr>\n",
              "    <tr>\n",
              "      <th>776</th>\n",
              "      <td>Iral74</td>\n",
              "      <td>21</td>\n",
              "      <td>Male</td>\n",
              "      <td>164</td>\n",
              "      <td>Exiled Doomblade</td>\n",
              "      <td>1.63</td>\n",
              "    </tr>\n",
              "    <tr>\n",
              "      <th>777</th>\n",
              "      <td>Yathecal72</td>\n",
              "      <td>20</td>\n",
              "      <td>Male</td>\n",
              "      <td>67</td>\n",
              "      <td>Celeste, Incarnation of the Corrupted</td>\n",
              "      <td>3.46</td>\n",
              "    </tr>\n",
              "    <tr>\n",
              "      <th>778</th>\n",
              "      <td>Sisur91</td>\n",
              "      <td>7</td>\n",
              "      <td>Male</td>\n",
              "      <td>101</td>\n",
              "      <td>Final Critic</td>\n",
              "      <td>4.19</td>\n",
              "    </tr>\n",
              "    <tr>\n",
              "      <th>779</th>\n",
              "      <td>Ennrian78</td>\n",
              "      <td>24</td>\n",
              "      <td>Male</td>\n",
              "      <td>50</td>\n",
              "      <td>Dawn</td>\n",
              "      <td>4.60</td>\n",
              "    </tr>\n",
              "  </tbody>\n",
              "</table>\n",
              "<p>780 rows × 6 columns</p>\n",
              "</div>"
            ],
            "text/plain": [
              "                        SN  ...  Price\n",
              "Purchase ID                 ...       \n",
              "0                  Lisim78  ...   3.53\n",
              "1              Lisovynya38  ...   1.56\n",
              "2               Ithergue48  ...   4.88\n",
              "3            Chamassasya86  ...   3.27\n",
              "4                Iskosia90  ...   1.44\n",
              "...                    ...  ...    ...\n",
              "775             Aethedru70  ...   3.54\n",
              "776                 Iral74  ...   1.63\n",
              "777             Yathecal72  ...   3.46\n",
              "778                Sisur91  ...   4.19\n",
              "779              Ennrian78  ...   4.60\n",
              "\n",
              "[780 rows x 6 columns]"
            ]
          },
          "metadata": {
            "tags": []
          },
          "execution_count": 2
        }
      ]
    },
    {
      "cell_type": "code",
      "metadata": {
        "id": "T7zP9jNRCSnZ",
        "colab": {
          "base_uri": "https://localhost:8080/"
        },
        "outputId": "5de1e818-7a05-497d-9dbf-b3fefb41a8d0"
      },
      "source": [
        "### 이곳에서 제출폼 과제를 진행해 주세요 ###\n",
        "import pandas as pd\n",
        "df = pd.read_csv(\"https://ds-lecture-data.s3.ap-northeast-2.amazonaws.com/assignments/purchase_data.csv\", sep=\",\",index_col=0)\n",
        "\n",
        "## 다음 result 함수 안에 male, female 변수를 계산하세요.(groupby, get_group을 사용하세요.)\n",
        "## sum_male: Age = 20, Gender = \"Male\" 그룹의 Price를 합하세요.\n",
        "## sum_female: Age = 20, Gender = \"Female\" 그룹의 Price를 합하세요.\n",
        "\n",
        "def result(df):\n",
        "\n",
        "    sum_male = df.groupby([df['Age']==20, df['Gender']=='Male'])['Price'].sum().tolist()[-1]\n",
        "    sum_female = df.groupby([df['Age']==20, df['Gender']=='Female'])['Price'].sum().tolist()[-1]\n",
        "\n",
        "    print(\"sum_male: {}, sum_female: {}\".format(sum_male, sum_female))\n",
        "    return round(sum_male + sum_female)\n",
        "\n",
        "result(df)"
      ],
      "execution_count": null,
      "outputs": [
        {
          "output_type": "stream",
          "text": [
            "sum_male: 260.20000000000005, sum_female: 43.730000000000004\n"
          ],
          "name": "stdout"
        },
        {
          "output_type": "execute_result",
          "data": {
            "text/plain": [
              "304"
            ]
          },
          "metadata": {
            "tags": []
          },
          "execution_count": 37
        }
      ]
    },
    {
      "cell_type": "markdown",
      "metadata": {
        "id": "D5dxR2LvCSnZ"
      },
      "source": [
        "### 2) "
      ]
    },
    {
      "cell_type": "code",
      "metadata": {
        "id": "POQEjGDgCSna",
        "colab": {
          "base_uri": "https://localhost:8080/"
        },
        "outputId": "e764cdac-b872-48ba-a3f5-1e2e2b529990"
      },
      "source": [
        "### 이곳에서 제출폼 과제를 진행해 주세요 ###\n",
        "\n",
        "# 그룹별 Price 평균\n",
        "# 1번 정답\n",
        "print(df.groupby(df['Age']<=20)['Price'].mean().tolist()[-1])\n",
        "# 2번 정답\n",
        "print(df.groupby((df['Age']>=21) & (df['Age']<=50))['Price'].mean().tolist()[-1])\n",
        "\n",
        "# 판매수 상위 Item ID\n",
        "# 3번 정답\n",
        "print(df['Item ID'].mode())\n",
        "\n",
        "#매출 상위 Item IDs\n",
        "# 4번 오답\n",
        "print(pd.DataFrame(df.groupby('Item ID')['Price'].sum().sort_values(ascending= False)).index[1])"
      ],
      "execution_count": null,
      "outputs": [
        {
          "output_type": "stream",
          "text": [
            "3.101818181818184\n",
            "3.0215587044534415\n",
            "0    178\n",
            "dtype: int64\n",
            "82\n"
          ],
          "name": "stdout"
        }
      ]
    },
    {
      "cell_type": "markdown",
      "metadata": {
        "id": "7hncs2UjCSnb"
      },
      "source": [
        "### 3) "
      ]
    }
  ]
}