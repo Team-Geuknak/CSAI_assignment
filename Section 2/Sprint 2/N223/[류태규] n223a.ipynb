{
 "cells": [
  {
   "cell_type": "markdown",
   "metadata": {},
   "source": [
    "# 1.\n"
   ]
  },
  {
   "cell_type": "code",
   "execution_count": 1,
   "metadata": {},
   "outputs": [
    {
     "name": "stdout",
     "output_type": "stream",
     "text": [
      "f beta score : 0.7063126093178566\n"
     ]
    }
   ],
   "source": [
    "### 이곳에서 과제를 진행해 주세요 ### \n",
    "\n",
    "TP = 4442\n",
    "TN = 6165\n",
    "FP = 1515\n",
    "FN = 1930\n",
    "\n",
    "# 정밀도\n",
    "positives = TP + FP\n",
    "precision = TP / positives\n",
    "\n",
    "# 재현율\n",
    "actual_positives = TP + FN\n",
    "recall = TP / actual_positives\n",
    "\n",
    "def my_f_beta_score(precision, recall, beta):\n",
    "    return (1.0 + (beta **2)) * (precision * recall) / (((beta ** 2) * precision) + recall)\n",
    "\n",
    "                                                        \n",
    "beta = 2\n",
    "print(\"f beta score : {}\".format(my_f_beta_score(precision, recall, beta)))"
   ]
  },
  {
   "cell_type": "markdown",
   "metadata": {},
   "source": [
    "# 2."
   ]
  },
  {
   "cell_type": "code",
   "execution_count": 2,
   "metadata": {},
   "outputs": [
    {
     "name": "stderr",
     "output_type": "stream",
     "text": [
      "<ipython-input-2-8f589c5813fe>:40: SettingWithCopyWarning: \n",
      "A value is trying to be set on a copy of a slice from a DataFrame.\n",
      "Try using .loc[row_indexer,col_indexer] = value instead\n",
      "\n",
      "See the caveats in the documentation: https://pandas.pydata.org/pandas-docs/stable/user_guide/indexing.html#returning-a-view-versus-a-copy\n",
      "  df['behavior'] = df[behaviorals].sum(axis=1)\n",
      "C:\\Users\\tkryu\\anaconda3\\lib\\site-packages\\pandas\\core\\series.py:4563: SettingWithCopyWarning: \n",
      "A value is trying to be set on a copy of a slice from a DataFrame\n",
      "\n",
      "See the caveats in the documentation: https://pandas.pydata.org/pandas-docs/stable/user_guide/indexing.html#returning-a-view-versus-a-copy\n",
      "  return super().replace(\n",
      "<ipython-input-2-8f589c5813fe>:65: SettingWithCopyWarning: \n",
      "A value is trying to be set on a copy of a slice from a DataFrame.\n",
      "Try using .loc[row_indexer,col_indexer] = value instead\n",
      "\n",
      "See the caveats in the documentation: https://pandas.pydata.org/pandas-docs/stable/user_guide/indexing.html#returning-a-view-versus-a-copy\n",
      "  df['opi'] = df[['opinion_h1n1_risk','opinion_h1n1_vacc_effective', 'opinion_h1n1_sick_from_vacc']].sum(axis=1)\n",
      "<ipython-input-2-8f589c5813fe>:74: SettingWithCopyWarning: \n",
      "A value is trying to be set on a copy of a slice from a DataFrame.\n",
      "Try using .loc[row_indexer,col_indexer] = value instead\n",
      "\n",
      "See the caveats in the documentation: https://pandas.pydata.org/pandas-docs/stable/user_guide/indexing.html#returning-a-view-versus-a-copy\n",
      "  df['con_know'] = df[['h1n1_concern', 'h1n1_knowledge']].sum(axis=1)\n",
      "C:\\Users\\tkryu\\anaconda3\\lib\\site-packages\\pandas\\core\\frame.py:4163: SettingWithCopyWarning: \n",
      "A value is trying to be set on a copy of a slice from a DataFrame\n",
      "\n",
      "See the caveats in the documentation: https://pandas.pydata.org/pandas-docs/stable/user_guide/indexing.html#returning-a-view-versus-a-copy\n",
      "  return super().drop(\n"
     ]
    },
    {
     "name": "stdout",
     "output_type": "stream",
     "text": [
      "훈련 정확도:  0.8169202028289299\n",
      "검증 정확도:  0.8127149804293679\n",
      "검증 f1 score : 0.6352506352506353\n"
     ]
    }
   ],
   "source": [
    "### 이곳에서 과제를 진행해 주세요 ### \n",
    "\n",
    "# 기존 모델\n",
    "\n",
    "\n",
    "import pandas as pd\n",
    "\n",
    "# 데이터 불러오기\n",
    "url_train = \"https://raw.githubusercontent.com/tkryu91/drive/main/Code%20States/Section%202/n221/train.csv\"\n",
    "url_train_labels=\"https://raw.githubusercontent.com/tkryu91/drive/main/Code%20States/Section%202/n221/train_labels.csv\"\n",
    "url_test = \"https://raw.githubusercontent.com/tkryu91/drive/main/Code%20States/Section%202/n221/test.csv\"\n",
    "url_submission = \"https://raw.githubusercontent.com/tkryu91/drive/main/Code%20States/Section%202/n221/submission.csv\"\n",
    "\n",
    "target = 'vacc_h1n1_f'\n",
    "\n",
    "\n",
    "train_raw = pd.merge(pd.read_csv(url_train),\n",
    "                 pd.read_csv(url_train_labels)[target],\n",
    "                left_index=True, right_index=True)\n",
    "\n",
    "\n",
    "# train / val 데이터 나누기\n",
    "\n",
    "from sklearn.model_selection import train_test_split\n",
    "\n",
    "train, val = train_test_split(train_raw, train_size = 0.8, test_size = 0.2,\n",
    "                             stratify = train_raw[target], random_state = 2)\n",
    "\n",
    "# 엔지니어링\n",
    "\n",
    "import numpy as np\n",
    "\n",
    "def engineer(df):\n",
    "    \n",
    "#     duplicate = df[df.duplicated(keep='last')]\n",
    "#     df.drop(duplicate.index, inplace=True)\n",
    "    \n",
    "    # behavior 관련 특성 묶어서 새로운 특성 만들기\n",
    "    behaviorals = [col for col in df.columns if 'behavioral' in col] \n",
    "    df['behavior'] = df[behaviorals].sum(axis=1)\n",
    "    \n",
    "    # opinion 관련 특성 ordinal data로 바꾸기\n",
    "    df['opinion_h1n1_vacc_effective'].replace({'Not At All Effective' : 0,\n",
    "                                             'Not Very Effective' : 1,\n",
    "                                             'Dont Know' : 2,\n",
    "                                             'Refused' : 3,\n",
    "                                             'Somewhat Effective' : 4,\n",
    "                                             'Very Effective' : 5},\n",
    "                                            inplace=True)\n",
    "    df['opinion_h1n1_risk'].replace({'Very Low' : 0,\n",
    "                                   'Somewhat Low' : 1,\n",
    "                                   'Dont Know' : 2,\n",
    "                                   'Refused' : 3,\n",
    "                                   'Somewhat High' : 4,\n",
    "                                   'Very High' : 5},\n",
    "                                  inplace = True)\n",
    "    df['opinion_h1n1_sick_from_vacc'].replace({'Dont Know' : 0,\n",
    "                                              'Refused' : 1,\n",
    "                                              'Very Worried' : 2,\n",
    "                                              'Somewhat Worried' : 3,\n",
    "                                              'Not Very Worried' : 4,\n",
    "                                              'Not At All Worried' : 5},\n",
    "                                             inplace = True)\n",
    "    \n",
    "    df['opi'] = df[['opinion_h1n1_risk','opinion_h1n1_vacc_effective', 'opinion_h1n1_sick_from_vacc']].sum(axis=1)\n",
    "  \n",
    "    # 같은 뜻의 변수 묶어주기\n",
    "    df['employment_status'].replace('Unemployed','Not in Labor Force', inplace=True)\n",
    "    \n",
    "    # 이상치 처리\n",
    "    df['rent_own_r'].replace({77.0 : np.nan, 99.0 : np.nan})\n",
    "    \n",
    "    # h1n1 지식 관련 새로운 특성\n",
    "    df['con_know'] = df[['h1n1_concern', 'h1n1_knowledge']].sum(axis=1)\n",
    "    \n",
    "    # seas 관련 항목 지우기\n",
    "    dels = [col for col in df.columns if 'seas' in col]\n",
    "    df.drop(columns=dels, inplace=True)\n",
    "        \n",
    "    return df\n",
    "\n",
    "# 엔지니어링 적용\n",
    "train = engineer(train)\n",
    "val = engineer(val)\n",
    "\n",
    "\n",
    "# X,y 값 설정\n",
    "\n",
    "features = train.drop(columns=[target]).columns\n",
    "\n",
    "X_train = train[features]\n",
    "y_train = train[target]\n",
    "X_val = val[features]\n",
    "y_val = val[target]\n",
    "\n",
    "\n",
    "# 라이브러리 import\n",
    "import warnings \n",
    "warnings.simplefilter(action='ignore', category=FutureWarning)\n",
    "\n",
    "\n",
    "from sklearn.pipeline import make_pipeline\n",
    "from sklearn.tree import DecisionTreeClassifier\n",
    "from category_encoders import TargetEncoder\n",
    "from category_encoders import OneHotEncoder\n",
    "from sklearn.impute import SimpleImputer\n",
    "from sklearn.ensemble import RandomForestClassifier\n",
    "from category_encoders import CatBoostEncoder\n",
    "from sklearn.metrics import f1_score\n",
    "\n",
    "\n",
    "# 인코더 별 칼럼 지정\n",
    "target_col = ['employment_industry', 'state', 'employment_occupation']\n",
    "cat_col = X_train.drop(columns = target_col).columns\n",
    "\n",
    "# 파이프라인 생성\n",
    "pipe7 = make_pipeline(\n",
    "    TargetEncoder(cols = target_col),\n",
    "    CatBoostEncoder(cols = cat_col),\n",
    "    SimpleImputer(), \n",
    "    RandomForestClassifier(n_estimators = 512, n_jobs=-1, random_state=2, oob_score=True, class_weight='balanced',\n",
    "                           criterion = \"entropy\", max_depth = 12, min_samples_leaf = 6)\n",
    ")\n",
    "\n",
    "# 모델 학습\n",
    "pipe7.fit(X_train,y_train)\n",
    "print('훈련 정확도: ', pipe7.score(X_train, y_train))\n",
    "print('검증 정확도: ', pipe7.score(X_val, y_val))\n",
    "\n",
    "y_pred_val = pipe7.predict(X_val)\n",
    "print('검증 f1 score :',f1_score(y_val, y_pred_val))"
   ]
  },
  {
   "cell_type": "code",
   "execution_count": 4,
   "metadata": {},
   "outputs": [
    {
     "data": {
      "image/png": "[encoded data removed]",
      "text/plain": [
       "<Figure size 432x288 with 2 Axes>"
      ]
     },
     "metadata": {
      "needs_background": "light"
     },
     "output_type": "display_data"
    }
   ],
   "source": [
    "from sklearn.metrics import plot_confusion_matrix\n",
    "import matplotlib.pyplot as plt\n",
    "\n",
    "fig, ax = plt.subplots()\n",
    "plt.rc('font', size = 15)\n",
    "pcm = plot_confusion_matrix(pipe7, X_val, y_val,\n",
    "                            cmap=plt.cm.Blues,\n",
    "                            ax=ax);\n",
    "plt.title(f'Confusion matrix, n = {len(y_val)}', fontsize=15)\n",
    "plt.show()"
   ]
  },
  {
   "cell_type": "code",
   "execution_count": 5,
   "metadata": {},
   "outputs": [
    {
     "data": {
      "text/plain": [
       "False    6117\n",
       "True     2314\n",
       "dtype: int64"
      ]
     },
     "execution_count": 5,
     "metadata": {},
     "output_type": "execute_result"
    },
    {
     "data": {
      "image/png": "[encoded data removed]",
      "text/plain": [
       "<Figure size 432x288 with 1 Axes>"
      ]
     },
     "metadata": {
      "needs_background": "light"
     },
     "output_type": "display_data"
    }
   ],
   "source": [
    "y_pred_proba = pipe7.predict_proba(X_val)[:, 1]\n",
    "\n",
    "import seaborn as sns\n",
    "\n",
    "threshold = 0.5\n",
    "y_pred_proba = pipe7.predict_proba(X_val)[:, 1]\n",
    "y_pred = y_pred_proba > threshold\n",
    "\n",
    "ax = sns.histplot(y_pred_proba)\n",
    "ax.axvline(threshold, color='red')\n",
    "\n",
    "pd.Series(y_pred).value_counts()"
   ]
  },
  {
   "cell_type": "code",
   "execution_count": 6,
   "metadata": {},
   "outputs": [
    {
     "data": {
      "application/vnd.jupyter.widget-view+json": {
       "model_id": "5698fa595d76489bbf174394b1d61893",
       "version_major": 2,
       "version_minor": 0
      },
      "text/plain": [
       "interactive(children=(FloatSlider(value=0.5, description='threshold', max=1.0, step=0.01), Output()), _dom_cla…"
      ]
     },
     "metadata": {},
     "output_type": "display_data"
    }
   ],
   "source": [
    "from ipywidgets import interact, fixed\n",
    "\n",
    "from sklearn.metrics import classification_report\n",
    "\n",
    "def explore_threshold(y_true, y_pred_proba, threshold=0.5):\n",
    "    y_pred = y_pred_proba >= threshold\n",
    "    vc = pd.Series(y_pred).value_counts()\n",
    "    ax = sns.histplot(y_pred_proba, kde=True)\n",
    "    ax.axvline(threshold, color='red')\n",
    "    ax.set_title(f'# of target, 1={vc[1]}, 0={vc[0]}')\n",
    "    plt.show()\n",
    "    print(classification_report(y_true, y_pred))\n",
    "\n",
    "    \n",
    "interact(explore_threshold, \n",
    "    y_true=fixed(y_val), \n",
    "    y_pred_proba=fixed(y_pred_proba), \n",
    "    threshold=(0, 1, 0.01));"
   ]
  },
  {
   "cell_type": "markdown",
   "metadata": {},
   "source": [
    "# 3."
   ]
  },
  {
   "cell_type": "code",
   "execution_count": 7,
   "metadata": {},
   "outputs": [
    {
     "name": "stdout",
     "output_type": "stream",
     "text": [
      "estimator = 1\n"
     ]
    },
    {
     "data": {
      "image/png": "[encoded data removed]",
      "text/plain": [
       "<Figure size 432x288 with 1 Axes>"
      ]
     },
     "metadata": {
      "needs_background": "light"
     },
     "output_type": "display_data"
    }
   ],
   "source": [
    "### 이곳에서 과제를 진행해 주세요 ###\n",
    "\n",
    "\n",
    "def proba(n):\n",
    "\n",
    "    pipe8 = make_pipeline(\n",
    "        TargetEncoder(cols = target_col),\n",
    "        CatBoostEncoder(cols = cat_col),\n",
    "        SimpleImputer(), \n",
    "        RandomForestClassifier(n_jobs=-1, random_state=10, max_depth=None, n_estimators = n))\n",
    "    \n",
    "    pipe8.fit(X_train,y_train)\n",
    "    \n",
    "    y_pred_proba = pipe8.predict_proba(X_val)[:, 1]\n",
    "    ax = sns.histplot(y_pred_proba)\n",
    "    ax.set_title('estimator = {}'.format(n))\n",
    "    return print(\"estimator = {}\".format(n))\n",
    "\n",
    "proba(1)"
   ]
  },
  {
   "cell_type": "code",
   "execution_count": 8,
   "metadata": {},
   "outputs": [
    {
     "name": "stdout",
     "output_type": "stream",
     "text": [
      "estimator = 10\n"
     ]
    },
    {
     "data": {
      "image/png": "[encoded data removed]",
      "text/plain": [
       "<Figure size 432x288 with 1 Axes>"
      ]
     },
     "metadata": {
      "needs_background": "light"
     },
     "output_type": "display_data"
    }
   ],
   "source": [
    "proba(10)"
   ]
  },
  {
   "cell_type": "code",
   "execution_count": 9,
   "metadata": {},
   "outputs": [
    {
     "name": "stdout",
     "output_type": "stream",
     "text": [
      "estimator = 100\n"
     ]
    },
    {
     "data": {
      "image/png": "[encoded data removed]",
      "text/plain": [
       "<Figure size 432x288 with 1 Axes>"
      ]
     },
     "metadata": {
      "needs_background": "light"
     },
     "output_type": "display_data"
    }
   ],
   "source": [
    "proba(100)"
   ]
  },
  {
   "cell_type": "code",
   "execution_count": 10,
   "metadata": {},
   "outputs": [
    {
     "name": "stdout",
     "output_type": "stream",
     "text": [
      "estimator = 1000\n"
     ]
    },
    {
     "data": {
      "image/png": "[encoded data removed]",
      "text/plain": [
       "<Figure size 432x288 with 1 Axes>"
      ]
     },
     "metadata": {
      "needs_background": "light"
     },
     "output_type": "display_data"
    }
   ],
   "source": [
    "proba(1000)"
   ]
  },
  {
   "cell_type": "markdown",
   "metadata": {},
   "source": [
    "# 4."
   ]
  },
  {
   "cell_type": "code",
   "execution_count": 11,
   "metadata": {},
   "outputs": [
    {
     "data": {
      "text/html": [
       "<div>\n",
       "<style scoped>\n",
       "    .dataframe tbody tr th:only-of-type {\n",
       "        vertical-align: middle;\n",
       "    }\n",
       "\n",
       "    .dataframe tbody tr th {\n",
       "        vertical-align: top;\n",
       "    }\n",
       "\n",
       "    .dataframe thead th {\n",
       "        text-align: right;\n",
       "    }\n",
       "</style>\n",
       "<table border=\"1\" class=\"dataframe\">\n",
       "  <thead>\n",
       "    <tr style=\"text-align: right;\">\n",
       "      <th></th>\n",
       "      <th>FPR(Fall-out)</th>\n",
       "      <th>TPRate(Recall)</th>\n",
       "      <th>Threshold</th>\n",
       "    </tr>\n",
       "  </thead>\n",
       "  <tbody>\n",
       "    <tr>\n",
       "      <th>0</th>\n",
       "      <td>0.000000</td>\n",
       "      <td>0.000000</td>\n",
       "      <td>1.958983</td>\n",
       "    </tr>\n",
       "    <tr>\n",
       "      <th>1</th>\n",
       "      <td>0.000000</td>\n",
       "      <td>0.000496</td>\n",
       "      <td>0.958983</td>\n",
       "    </tr>\n",
       "    <tr>\n",
       "      <th>2</th>\n",
       "      <td>0.000000</td>\n",
       "      <td>0.002481</td>\n",
       "      <td>0.952579</td>\n",
       "    </tr>\n",
       "    <tr>\n",
       "      <th>3</th>\n",
       "      <td>0.000156</td>\n",
       "      <td>0.002481</td>\n",
       "      <td>0.952542</td>\n",
       "    </tr>\n",
       "    <tr>\n",
       "      <th>4</th>\n",
       "      <td>0.000156</td>\n",
       "      <td>0.019851</td>\n",
       "      <td>0.934847</td>\n",
       "    </tr>\n",
       "  </tbody>\n",
       "</table>\n",
       "</div>"
      ],
      "text/plain": [
       "   FPR(Fall-out)  TPRate(Recall)  Threshold\n",
       "0       0.000000        0.000000   1.958983\n",
       "1       0.000000        0.000496   0.958983\n",
       "2       0.000000        0.002481   0.952579\n",
       "3       0.000156        0.002481   0.952542\n",
       "4       0.000156        0.019851   0.934847"
      ]
     },
     "execution_count": 11,
     "metadata": {},
     "output_type": "execute_result"
    }
   ],
   "source": [
    "### 이곳에서 과제를 진행해 주세요 ### \n",
    "\n",
    "y_pred_proba = pipe7.predict_proba(X_val)[:, 1]\n",
    "\n",
    "\n",
    "from sklearn.metrics import roc_curve\n",
    "fpr, tpr, thresholds = roc_curve(y_val, y_pred_proba)\n",
    "\n",
    "roc = pd.DataFrame({\n",
    "    'FPR(Fall-out)': fpr, \n",
    "    'TPRate(Recall)': tpr, \n",
    "    'Threshold': thresholds\n",
    "})\n",
    "roc.head()"
   ]
  },
  {
   "cell_type": "code",
   "execution_count": 12,
   "metadata": {},
   "outputs": [
    {
     "name": "stdout",
     "output_type": "stream",
     "text": [
      "idx: 1166 , threshold: 0.4493116743771476\n"
     ]
    }
   ],
   "source": [
    "# threshold 최대값의 인덱스, np.argmax()\n",
    "optimal_idx = np.argmax(tpr - fpr)\n",
    "optimal_threshold = thresholds[optimal_idx]\n",
    "\n",
    "print('idx:', optimal_idx, ', threshold:', optimal_threshold)"
   ]
  },
  {
   "cell_type": "code",
   "execution_count": 13,
   "metadata": {},
   "outputs": [
    {
     "data": {
      "image/png": "[encoded data removed]",
      "text/plain": [
       "<Figure size 432x288 with 1 Axes>"
      ]
     },
     "metadata": {
      "needs_background": "light"
     },
     "output_type": "display_data"
    }
   ],
   "source": [
    "plt.plot(tpr-fpr);"
   ]
  },
  {
   "cell_type": "code",
   "execution_count": 31,
   "metadata": {},
   "outputs": [
    {
     "name": "stdout",
     "output_type": "stream",
     "text": [
      "0.6352506352506353\n",
      "              precision    recall  f1-score   support\n",
      "\n",
      "           0       0.90      0.85      0.87      6416\n",
      "           1       0.59      0.68      0.64      2015\n",
      "\n",
      "    accuracy                           0.81      8431\n",
      "   macro avg       0.74      0.77      0.75      8431\n",
      "weighted avg       0.82      0.81      0.82      8431\n",
      "\n"
     ]
    }
   ],
   "source": [
    "y_pred_optimal = y_pred_proba >= 0.5\n",
    "print(f1_score(y_val, y_pred_optimal))\n",
    "print(classification_report(y_val, y_pred_optimal))"
   ]
  },
  {
   "cell_type": "code",
   "execution_count": 15,
   "metadata": {},
   "outputs": [
    {
     "data": {
      "text/plain": [
       "0.8519615198975266"
      ]
     },
     "execution_count": 15,
     "metadata": {},
     "output_type": "execute_result"
    }
   ],
   "source": [
    "from sklearn.metrics import roc_auc_score\n",
    "auc_score = roc_auc_score(y_val, y_pred_proba)\n",
    "auc_score"
   ]
  },
  {
   "cell_type": "code",
   "execution_count": 33,
   "metadata": {},
   "outputs": [
    {
     "data": {
      "text/plain": [
       "0.8409520166704826"
      ]
     },
     "execution_count": 33,
     "metadata": {},
     "output_type": "execute_result"
    }
   ],
   "source": [
    "pipe8 = make_pipeline(\n",
    "    TargetEncoder(cols = target_col),\n",
    "    CatBoostEncoder(cols = cat_col),\n",
    "    SimpleImputer(), \n",
    "    RandomForestClassifier(n_jobs=-1, random_state=10, max_depth=None, n_estimators = 100))\n",
    "\n",
    "pipe8.fit(X_train,y_train)\n",
    "\n",
    "y_pred_proba8 = pipe8.predict_proba(X_val)[:, 1]\n",
    "fpr8, tpr8, thresholds8 = roc_curve(y_val, y_pred_proba8)\n",
    "auc_score8 = roc_auc_score(y_val, y_pred_proba8)\n",
    "auc_score8"
   ]
  },
  {
   "cell_type": "code",
   "execution_count": 38,
   "metadata": {},
   "outputs": [
    {
     "data": {
      "image/png": "[encoded data removed]",
      "text/plain": [
       "<Figure size 432x288 with 1 Axes>"
      ]
     },
     "metadata": {
      "needs_background": "light"
     },
     "output_type": "display_data"
    }
   ],
   "source": [
    "plt.plot(tpr-fpr);\n",
    "plt.plot(tpr8-fpr8);"
   ]
  },
  {
   "cell_type": "code",
   "execution_count": 16,
   "metadata": {},
   "outputs": [
    {
     "name": "stdout",
     "output_type": "stream",
     "text": [
      "0.6470377019748653\n"
     ]
    }
   ],
   "source": [
    "test_raw = pd.read_csv(url_test)\n",
    "submission = pd.read_csv(url_submission)\n",
    "\n",
    "test = engineer(test_raw)\n",
    "trainer = engineer(train_raw)\n",
    "\n",
    "X_trainer = trainer[features]\n",
    "y_trainer = trainer[target]\n",
    "\n",
    "pipe7.fit(X_trainer, y_trainer)\n",
    "\n",
    "y_pred_trainer = pipe7.predict(X_trainer)\n",
    "y_pred_trainer_proba = pipe7.predict_proba(X_trainer)[:, 1]\n",
    "y_pred_trainer_optimal = y_pred_trainer_proba >= 0.5\n",
    "print(f1_score(y_trainer, y_pred_trainer_optimal))"
   ]
  },
  {
   "cell_type": "code",
   "execution_count": null,
   "metadata": {},
   "outputs": [],
   "source": [
    "y_pred_test = pipe7.predict(test)\n",
    "submission['vacc_h1n1_f'] = y_pred_test\n",
    "# submission.to_csv(\"submission7.csv\", index=False)"
   ]
  },
  {
   "cell_type": "markdown",
   "metadata": {},
   "source": [
    "# 5."
   ]
  },
  {
   "cell_type": "code",
   "execution_count": 39,
   "metadata": {},
   "outputs": [
    {
     "data": {
      "image/png": "[encoded data removed]",
      "text/plain": [
       "<Figure size 432x288 with 2 Axes>"
      ]
     },
     "metadata": {
      "needs_background": "light"
     },
     "output_type": "display_data"
    }
   ],
   "source": [
    "### 이곳에서 과제를 진행해 주세요 ### \n",
    "\n",
    "fig, ax = plt.subplots()\n",
    "plt.rc('font', size = 15)\n",
    "pcm = plot_confusion_matrix(pipe7, X_val, y_val,\n",
    "                            cmap=plt.cm.Blues,\n",
    "                            ax=ax);\n",
    "plt.title(f'Confusion matrix, n = {len(y_val)}', fontsize=15)\n",
    "plt.show()"
   ]
  },
  {
   "cell_type": "code",
   "execution_count": 43,
   "metadata": {},
   "outputs": [
    {
     "name": "stdout",
     "output_type": "stream",
     "text": [
      "0.6031746031746031 0.7354838709677419\n"
     ]
    }
   ],
   "source": [
    "tp = 1482\n",
    "fp = 975\n",
    "tn = 5441\n",
    "fn = 533\n",
    "\n",
    "precision = tp / (tp + fp)\n",
    "recall = tp / (tp + fn)\n",
    "\n",
    "print(precision, recall)"
   ]
  },
  {
   "cell_type": "markdown",
   "metadata": {},
   "source": [
    "오늘의 세션을 통해 임계값의 중요성에 대해 배웠지만, 이미 내 모델은 디폴트 값인 0.5에 최적화가 되어 있는 듯 했다. 때문에 성능을 올리지는 못하였다. \n",
    "\n",
    "grid cv를 실행해보지는 않았지만, 엄청난 수작업으로 충분히 파라미터에 대한 최적값을 찾았다고 생각해, grid cv를 사용한다고 파라미터들의 새로운 최적값을 찾긴 힘들 것 같다. \n",
    "다만, 전처리 과정에 변화가 생기면 그때는 수작업 보다는 grid cv를 사용해보도록 하겠다. \n",
    "\n",
    "엔지니어링에 대한 고민과 시도를 상당히 많이 했음에도, 성능은 엔지니어링 결과에 따라 왔다 갔다 했다. \n",
    "(여러 항목에 똑같은 엔지니어링을 했음에도 어떤 항목은 오히려 점수를 내리기도 했다.)\n",
    "때문에 어떻게 엔지니어링을 해야 성능을 올리는 지 더 공부해봐야 할 듯 하다. "
   ]
  }
 ],
 "metadata": {
  "kernelspec": {
   "display_name": "Python 3",
   "language": "python",
   "name": "python3"
  },
  "language_info": {
   "codemirror_mode": {
    "name": "ipython",
    "version": 3
   },
   "file_extension": ".py",
   "mimetype": "text/x-python",
   "name": "python",
   "nbconvert_exporter": "python",
   "pygments_lexer": "ipython3",
   "version": "3.8.5"
  }
 },
 "nbformat": 4,
 "nbformat_minor": 4
}
