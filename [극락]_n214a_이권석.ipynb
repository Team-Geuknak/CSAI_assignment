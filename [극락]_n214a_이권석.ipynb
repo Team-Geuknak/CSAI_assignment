{
  "nbformat": 4,
  "nbformat_minor": 0,
  "metadata": {
    "kernelspec": {
      "display_name": "Python 3",
      "language": "python",
      "name": "python3"
    },
    "language_info": {
      "codemirror_mode": {
        "name": "ipython",
        "version": 3
      },
      "file_extension": ".py",
      "mimetype": "text/x-python",
      "name": "python",
      "nbconvert_exporter": "python",
      "pygments_lexer": "ipython3",
      "version": "3.7.7"
    },
    "colab": {
      "name": "[극락] n214a-이권석.ipynb",
      "provenance": [],
      "collapsed_sections": [],
      "include_colab_link": true
    }
  },
  "cells": [
    {
      "cell_type": "markdown",
      "metadata": {
        "id": "view-in-github",
        "colab_type": "text"
      },
      "source": [
        "<a href=\"https://colab.research.google.com/github/LEEGWONSEOK/CSAI_assignment/blob/main/%5B%EA%B7%B9%EB%9D%BD%5D_n214a_%EC%9D%B4%EA%B6%8C%EC%84%9D.ipynb\" target=\"_parent\"><img src=\"https://colab.research.google.com/assets/colab-badge.svg\" alt=\"Open In Colab\"/></a>"
      ]
    },
    {
      "cell_type": "markdown",
      "metadata": {
        "id": "YRkoQg4nrqXM"
      },
      "source": [
        "### **01**"
      ]
    },
    {
      "cell_type": "code",
      "metadata": {
        "id": "VDSF9c4yrqXN"
      },
      "source": [
        "import pandas as pd\n",
        "df = pd.read_csv('https://ds-lecture-data.s3.ap-northeast-2.amazonaws.com/cardio/cardio_train.csv', sep=';')"
      ],
      "execution_count": null,
      "outputs": []
    },
    {
      "cell_type": "code",
      "metadata": {
        "id": "udF6PZDFrqXN",
        "colab": {
          "base_uri": "https://localhost:8080/",
          "height": 359
        },
        "outputId": "e05932ee-e858-4f6b-bda9-2f1e585f1182"
      },
      "source": [
        "df.drop(columns=['id'], inplace=True)   # \"id\" column drop\n",
        "\n",
        "def how_old(day):\n",
        "  return day//365 + 1\n",
        "\n",
        "df['age'] = df['age'].apply(how_old)\n",
        "\n",
        "\n",
        "df.head(10)\n",
        "#df.shape    # (70000, 12)"
      ],
      "execution_count": null,
      "outputs": [
        {
          "output_type": "execute_result",
          "data": {
            "text/html": [
              "<div>\n",
              "<style scoped>\n",
              "    .dataframe tbody tr th:only-of-type {\n",
              "        vertical-align: middle;\n",
              "    }\n",
              "\n",
              "    .dataframe tbody tr th {\n",
              "        vertical-align: top;\n",
              "    }\n",
              "\n",
              "    .dataframe thead th {\n",
              "        text-align: right;\n",
              "    }\n",
              "</style>\n",
              "<table border=\"1\" class=\"dataframe\">\n",
              "  <thead>\n",
              "    <tr style=\"text-align: right;\">\n",
              "      <th></th>\n",
              "      <th>age</th>\n",
              "      <th>gender</th>\n",
              "      <th>height</th>\n",
              "      <th>weight</th>\n",
              "      <th>ap_hi</th>\n",
              "      <th>ap_lo</th>\n",
              "      <th>cholesterol</th>\n",
              "      <th>gluc</th>\n",
              "      <th>smoke</th>\n",
              "      <th>alco</th>\n",
              "      <th>active</th>\n",
              "      <th>cardio</th>\n",
              "    </tr>\n",
              "  </thead>\n",
              "  <tbody>\n",
              "    <tr>\n",
              "      <th>0</th>\n",
              "      <td>51</td>\n",
              "      <td>2</td>\n",
              "      <td>168</td>\n",
              "      <td>62.0</td>\n",
              "      <td>110</td>\n",
              "      <td>80</td>\n",
              "      <td>1</td>\n",
              "      <td>1</td>\n",
              "      <td>0</td>\n",
              "      <td>0</td>\n",
              "      <td>1</td>\n",
              "      <td>0</td>\n",
              "    </tr>\n",
              "    <tr>\n",
              "      <th>1</th>\n",
              "      <td>56</td>\n",
              "      <td>1</td>\n",
              "      <td>156</td>\n",
              "      <td>85.0</td>\n",
              "      <td>140</td>\n",
              "      <td>90</td>\n",
              "      <td>3</td>\n",
              "      <td>1</td>\n",
              "      <td>0</td>\n",
              "      <td>0</td>\n",
              "      <td>1</td>\n",
              "      <td>1</td>\n",
              "    </tr>\n",
              "    <tr>\n",
              "      <th>2</th>\n",
              "      <td>52</td>\n",
              "      <td>1</td>\n",
              "      <td>165</td>\n",
              "      <td>64.0</td>\n",
              "      <td>130</td>\n",
              "      <td>70</td>\n",
              "      <td>3</td>\n",
              "      <td>1</td>\n",
              "      <td>0</td>\n",
              "      <td>0</td>\n",
              "      <td>0</td>\n",
              "      <td>1</td>\n",
              "    </tr>\n",
              "    <tr>\n",
              "      <th>3</th>\n",
              "      <td>49</td>\n",
              "      <td>2</td>\n",
              "      <td>169</td>\n",
              "      <td>82.0</td>\n",
              "      <td>150</td>\n",
              "      <td>100</td>\n",
              "      <td>1</td>\n",
              "      <td>1</td>\n",
              "      <td>0</td>\n",
              "      <td>0</td>\n",
              "      <td>1</td>\n",
              "      <td>1</td>\n",
              "    </tr>\n",
              "    <tr>\n",
              "      <th>4</th>\n",
              "      <td>48</td>\n",
              "      <td>1</td>\n",
              "      <td>156</td>\n",
              "      <td>56.0</td>\n",
              "      <td>100</td>\n",
              "      <td>60</td>\n",
              "      <td>1</td>\n",
              "      <td>1</td>\n",
              "      <td>0</td>\n",
              "      <td>0</td>\n",
              "      <td>0</td>\n",
              "      <td>0</td>\n",
              "    </tr>\n",
              "    <tr>\n",
              "      <th>5</th>\n",
              "      <td>61</td>\n",
              "      <td>1</td>\n",
              "      <td>151</td>\n",
              "      <td>67.0</td>\n",
              "      <td>120</td>\n",
              "      <td>80</td>\n",
              "      <td>2</td>\n",
              "      <td>2</td>\n",
              "      <td>0</td>\n",
              "      <td>0</td>\n",
              "      <td>0</td>\n",
              "      <td>0</td>\n",
              "    </tr>\n",
              "    <tr>\n",
              "      <th>6</th>\n",
              "      <td>61</td>\n",
              "      <td>1</td>\n",
              "      <td>157</td>\n",
              "      <td>93.0</td>\n",
              "      <td>130</td>\n",
              "      <td>80</td>\n",
              "      <td>3</td>\n",
              "      <td>1</td>\n",
              "      <td>0</td>\n",
              "      <td>0</td>\n",
              "      <td>1</td>\n",
              "      <td>0</td>\n",
              "    </tr>\n",
              "    <tr>\n",
              "      <th>7</th>\n",
              "      <td>62</td>\n",
              "      <td>2</td>\n",
              "      <td>178</td>\n",
              "      <td>95.0</td>\n",
              "      <td>130</td>\n",
              "      <td>90</td>\n",
              "      <td>3</td>\n",
              "      <td>3</td>\n",
              "      <td>0</td>\n",
              "      <td>0</td>\n",
              "      <td>1</td>\n",
              "      <td>1</td>\n",
              "    </tr>\n",
              "    <tr>\n",
              "      <th>8</th>\n",
              "      <td>49</td>\n",
              "      <td>1</td>\n",
              "      <td>158</td>\n",
              "      <td>71.0</td>\n",
              "      <td>110</td>\n",
              "      <td>70</td>\n",
              "      <td>1</td>\n",
              "      <td>1</td>\n",
              "      <td>0</td>\n",
              "      <td>0</td>\n",
              "      <td>1</td>\n",
              "      <td>0</td>\n",
              "    </tr>\n",
              "    <tr>\n",
              "      <th>9</th>\n",
              "      <td>55</td>\n",
              "      <td>1</td>\n",
              "      <td>164</td>\n",
              "      <td>68.0</td>\n",
              "      <td>110</td>\n",
              "      <td>60</td>\n",
              "      <td>1</td>\n",
              "      <td>1</td>\n",
              "      <td>0</td>\n",
              "      <td>0</td>\n",
              "      <td>0</td>\n",
              "      <td>0</td>\n",
              "    </tr>\n",
              "  </tbody>\n",
              "</table>\n",
              "</div>"
            ],
            "text/plain": [
              "   age  gender  height  weight  ap_hi  ...  gluc  smoke  alco  active  cardio\n",
              "0   51       2     168    62.0    110  ...     1      0     0       1       0\n",
              "1   56       1     156    85.0    140  ...     1      0     0       1       1\n",
              "2   52       1     165    64.0    130  ...     1      0     0       0       1\n",
              "3   49       2     169    82.0    150  ...     1      0     0       1       1\n",
              "4   48       1     156    56.0    100  ...     1      0     0       0       0\n",
              "5   61       1     151    67.0    120  ...     2      0     0       0       0\n",
              "6   61       1     157    93.0    130  ...     1      0     0       1       0\n",
              "7   62       2     178    95.0    130  ...     3      0     0       1       1\n",
              "8   49       1     158    71.0    110  ...     1      0     0       1       0\n",
              "9   55       1     164    68.0    110  ...     1      0     0       0       0\n",
              "\n",
              "[10 rows x 12 columns]"
            ]
          },
          "metadata": {
            "tags": []
          },
          "execution_count": 86
        }
      ]
    },
    {
      "cell_type": "code",
      "metadata": {
        "colab": {
          "base_uri": "https://localhost:8080/"
        },
        "id": "9VpWviGMsvvi",
        "outputId": "ea7cedab-f1bc-4fba-f05a-2205dd793f9c"
      },
      "source": [
        "df.isnull().sum()   # missing value check!\n",
        "# missing value가 없는 것으로 판단"
      ],
      "execution_count": null,
      "outputs": [
        {
          "output_type": "execute_result",
          "data": {
            "text/plain": [
              "age            0\n",
              "gender         0\n",
              "height         0\n",
              "weight         0\n",
              "ap_hi          0\n",
              "ap_lo          0\n",
              "cholesterol    0\n",
              "gluc           0\n",
              "smoke          0\n",
              "alco           0\n",
              "active         0\n",
              "cardio         0\n",
              "dtype: int64"
            ]
          },
          "metadata": {
            "tags": []
          },
          "execution_count": 87
        }
      ]
    },
    {
      "cell_type": "code",
      "metadata": {
        "colab": {
          "base_uri": "https://localhost:8080/"
        },
        "id": "VA3BpGFLtHMJ",
        "outputId": "e3f6a984-08cd-477a-d633-ebd5d0cdce98"
      },
      "source": [
        "df = df.drop_duplicates()  # remove duplicate values\n",
        "df.shape[0]    # (69976, 12)\n",
        "\n",
        "# 과제폼 : 69976 / 66792?"
      ],
      "execution_count": null,
      "outputs": [
        {
          "output_type": "execute_result",
          "data": {
            "text/plain": [
              "66792"
            ]
          },
          "metadata": {
            "tags": []
          },
          "execution_count": 88
        }
      ]
    },
    {
      "cell_type": "markdown",
      "metadata": {
        "id": "kCedPWuqrqXO"
      },
      "source": [
        "### **02**"
      ]
    },
    {
      "cell_type": "code",
      "metadata": {
        "id": "lO53T5PjrqXO",
        "colab": {
          "base_uri": "https://localhost:8080/"
        },
        "outputId": "41b5c8b8-ab47-404b-d128-4fc7f89bf9d4"
      },
      "source": [
        "## module\n",
        "from sklearn.model_selection import train_test_split\n",
        "\n",
        "## split train & test (in df)\n",
        "train, test = train_test_split(df, train_size=0.8, test_size=0.2, random_state=2)\n",
        "print(\"train shape : \", train.shape)\n",
        "print(\"test shape : \", test.shape)\n",
        "print(\"check : \",train.shape[0] + test.shape[0])"
      ],
      "execution_count": null,
      "outputs": [
        {
          "output_type": "stream",
          "text": [
            "train shape :  (53433, 12)\n",
            "test shape :  (13359, 12)\n",
            "check :  66792\n"
          ],
          "name": "stdout"
        }
      ]
    },
    {
      "cell_type": "code",
      "metadata": {
        "colab": {
          "base_uri": "https://localhost:8080/"
        },
        "id": "-eI3qKQ9wEjG",
        "outputId": "1e389f10-ce43-4322-f544-e4ea3cd9591a"
      },
      "source": [
        "## split train & validation (in train)\n",
        "train, val = train_test_split(train, train_size=0.8, test_size=0.2, random_state=2)\n",
        "print(\"train shape : \", train.shape)\n",
        "print(\"validation shape : \", val.shape)\n",
        "print(\"check : \",train.shape[0] + val.shape[0])\n",
        "\n",
        "# 과제폼 : 11196  / 10687"
      ],
      "execution_count": null,
      "outputs": [
        {
          "output_type": "stream",
          "text": [
            "train shape :  (42746, 12)\n",
            "validation shape :  (10687, 12)\n",
            "check :  53433\n"
          ],
          "name": "stdout"
        }
      ]
    },
    {
      "cell_type": "markdown",
      "metadata": {
        "id": "e1YuiPqqrqXO"
      },
      "source": [
        "### **03**"
      ]
    },
    {
      "cell_type": "code",
      "metadata": {
        "id": "9UnXGTJJrqXP",
        "colab": {
          "base_uri": "https://localhost:8080/"
        },
        "outputId": "8adaa738-d86f-4624-bfb5-05388196a6a9"
      },
      "source": [
        "## setting 기준모델\n",
        "target = 'cardio'\n",
        "\n",
        "y_train = train[target]\n",
        "y_train.value_counts(normalize=True)"
      ],
      "execution_count": null,
      "outputs": [
        {
          "output_type": "execute_result",
          "data": {
            "text/plain": [
              "1    0.512656\n",
              "0    0.487344\n",
              "Name: cardio, dtype: float64"
            ]
          },
          "metadata": {
            "tags": []
          },
          "execution_count": 117
        }
      ]
    },
    {
      "cell_type": "code",
      "metadata": {
        "colab": {
          "base_uri": "https://localhost:8080/",
          "height": 279
        },
        "id": "-rMNuHjUnIyS",
        "outputId": "2f465f02-5921-447a-bc7b-08ddc5f7ac4a"
      },
      "source": [
        "import seaborn as sns\n",
        "import matplotlib.pyplot as plt\n",
        "%matplotlib inline\n",
        "\n",
        "sns.countplot(x=y_train);"
      ],
      "execution_count": null,
      "outputs": [
        {
          "output_type": "display_data",
          "data": {
            "image/png": "[encoded data removed]",
            "text/plain": [
              "<Figure size 432x288 with 1 Axes>"
            ]
          },
          "metadata": {
            "tags": [],
            "needs_background": "light"
          }
        }
      ]
    },
    {
      "cell_type": "code",
      "metadata": {
        "id": "iqssew81nbgo"
      },
      "source": [
        "major = y_train.mode()[0]\n",
        "\n",
        "y_pred = [major] * len(y_train)"
      ],
      "execution_count": null,
      "outputs": []
    },
    {
      "cell_type": "code",
      "metadata": {
        "colab": {
          "base_uri": "https://localhost:8080/"
        },
        "id": "VknTNzSOnmM4",
        "outputId": "8b649c72-9899-4dd2-e7ed-0c364ae92e5e"
      },
      "source": [
        "from sklearn.metrics import accuracy_score\n",
        "print(\"training accuracy: \", accuracy_score(y_train, y_pred))"
      ],
      "execution_count": null,
      "outputs": [
        {
          "output_type": "stream",
          "text": [
            "training accuracy:  0.5126561549618678\n"
          ],
          "name": "stdout"
        }
      ]
    },
    {
      "cell_type": "code",
      "metadata": {
        "colab": {
          "base_uri": "https://localhost:8080/"
        },
        "id": "X0PHQu5Nn3o3",
        "outputId": "28db41d3-3b8b-45a5-c595-ddf314178968"
      },
      "source": [
        "y_val = val[target]\n",
        "y_pred = [major] * len(y_val)\n",
        "print(\"validation accuracy: \", accuracy_score(y_val, y_pred))"
      ],
      "execution_count": null,
      "outputs": [
        {
          "output_type": "stream",
          "text": [
            "validation accuracy:  0.509029662206419\n"
          ],
          "name": "stdout"
        }
      ]
    },
    {
      "cell_type": "code",
      "metadata": {
        "colab": {
          "base_uri": "https://localhost:8080/",
          "height": 297
        },
        "id": "IruQnReRoc_m",
        "outputId": "d5f89b58-aea5-438f-dd25-d44ad865c856"
      },
      "source": [
        "train.describe()"
      ],
      "execution_count": null,
      "outputs": [
        {
          "output_type": "execute_result",
          "data": {
            "text/html": [
              "<div>\n",
              "<style scoped>\n",
              "    .dataframe tbody tr th:only-of-type {\n",
              "        vertical-align: middle;\n",
              "    }\n",
              "\n",
              "    .dataframe tbody tr th {\n",
              "        vertical-align: top;\n",
              "    }\n",
              "\n",
              "    .dataframe thead th {\n",
              "        text-align: right;\n",
              "    }\n",
              "</style>\n",
              "<table border=\"1\" class=\"dataframe\">\n",
              "  <thead>\n",
              "    <tr style=\"text-align: right;\">\n",
              "      <th></th>\n",
              "      <th>age</th>\n",
              "      <th>gender</th>\n",
              "      <th>height</th>\n",
              "      <th>weight</th>\n",
              "      <th>ap_hi</th>\n",
              "      <th>ap_lo</th>\n",
              "      <th>cholesterol</th>\n",
              "      <th>gluc</th>\n",
              "      <th>smoke</th>\n",
              "      <th>alco</th>\n",
              "      <th>active</th>\n",
              "      <th>cardio</th>\n",
              "    </tr>\n",
              "  </thead>\n",
              "  <tbody>\n",
              "    <tr>\n",
              "      <th>count</th>\n",
              "      <td>42746.000000</td>\n",
              "      <td>42746.000000</td>\n",
              "      <td>42746.000000</td>\n",
              "      <td>42746.000000</td>\n",
              "      <td>42746.000000</td>\n",
              "      <td>42746.000000</td>\n",
              "      <td>42746.000000</td>\n",
              "      <td>42746.000000</td>\n",
              "      <td>42746.000000</td>\n",
              "      <td>42746.000000</td>\n",
              "      <td>42746.000000</td>\n",
              "      <td>42746.000000</td>\n",
              "    </tr>\n",
              "    <tr>\n",
              "      <th>mean</th>\n",
              "      <td>53.840968</td>\n",
              "      <td>1.356057</td>\n",
              "      <td>164.362373</td>\n",
              "      <td>74.480072</td>\n",
              "      <td>128.990596</td>\n",
              "      <td>97.446053</td>\n",
              "      <td>1.384902</td>\n",
              "      <td>1.235952</td>\n",
              "      <td>0.091985</td>\n",
              "      <td>0.054953</td>\n",
              "      <td>0.798648</td>\n",
              "      <td>0.512656</td>\n",
              "    </tr>\n",
              "    <tr>\n",
              "      <th>std</th>\n",
              "      <td>6.814946</td>\n",
              "      <td>0.478838</td>\n",
              "      <td>8.329276</td>\n",
              "      <td>14.484460</td>\n",
              "      <td>146.032625</td>\n",
              "      <td>194.443029</td>\n",
              "      <td>0.691140</td>\n",
              "      <td>0.581144</td>\n",
              "      <td>0.289008</td>\n",
              "      <td>0.227890</td>\n",
              "      <td>0.401015</td>\n",
              "      <td>0.499846</td>\n",
              "    </tr>\n",
              "    <tr>\n",
              "      <th>min</th>\n",
              "      <td>30.000000</td>\n",
              "      <td>1.000000</td>\n",
              "      <td>57.000000</td>\n",
              "      <td>10.000000</td>\n",
              "      <td>-140.000000</td>\n",
              "      <td>-70.000000</td>\n",
              "      <td>1.000000</td>\n",
              "      <td>1.000000</td>\n",
              "      <td>0.000000</td>\n",
              "      <td>0.000000</td>\n",
              "      <td>0.000000</td>\n",
              "      <td>0.000000</td>\n",
              "    </tr>\n",
              "    <tr>\n",
              "      <th>25%</th>\n",
              "      <td>49.000000</td>\n",
              "      <td>1.000000</td>\n",
              "      <td>159.000000</td>\n",
              "      <td>65.000000</td>\n",
              "      <td>120.000000</td>\n",
              "      <td>80.000000</td>\n",
              "      <td>1.000000</td>\n",
              "      <td>1.000000</td>\n",
              "      <td>0.000000</td>\n",
              "      <td>0.000000</td>\n",
              "      <td>1.000000</td>\n",
              "      <td>0.000000</td>\n",
              "    </tr>\n",
              "    <tr>\n",
              "      <th>50%</th>\n",
              "      <td>54.000000</td>\n",
              "      <td>1.000000</td>\n",
              "      <td>165.000000</td>\n",
              "      <td>72.000000</td>\n",
              "      <td>120.000000</td>\n",
              "      <td>80.000000</td>\n",
              "      <td>1.000000</td>\n",
              "      <td>1.000000</td>\n",
              "      <td>0.000000</td>\n",
              "      <td>0.000000</td>\n",
              "      <td>1.000000</td>\n",
              "      <td>1.000000</td>\n",
              "    </tr>\n",
              "    <tr>\n",
              "      <th>75%</th>\n",
              "      <td>59.000000</td>\n",
              "      <td>2.000000</td>\n",
              "      <td>170.000000</td>\n",
              "      <td>82.000000</td>\n",
              "      <td>140.000000</td>\n",
              "      <td>90.000000</td>\n",
              "      <td>2.000000</td>\n",
              "      <td>1.000000</td>\n",
              "      <td>0.000000</td>\n",
              "      <td>0.000000</td>\n",
              "      <td>1.000000</td>\n",
              "      <td>1.000000</td>\n",
              "    </tr>\n",
              "    <tr>\n",
              "      <th>max</th>\n",
              "      <td>65.000000</td>\n",
              "      <td>2.000000</td>\n",
              "      <td>250.000000</td>\n",
              "      <td>181.000000</td>\n",
              "      <td>14020.000000</td>\n",
              "      <td>11000.000000</td>\n",
              "      <td>3.000000</td>\n",
              "      <td>3.000000</td>\n",
              "      <td>1.000000</td>\n",
              "      <td>1.000000</td>\n",
              "      <td>1.000000</td>\n",
              "      <td>1.000000</td>\n",
              "    </tr>\n",
              "  </tbody>\n",
              "</table>\n",
              "</div>"
            ],
            "text/plain": [
              "                age        gender  ...        active        cardio\n",
              "count  42746.000000  42746.000000  ...  42746.000000  42746.000000\n",
              "mean      53.840968      1.356057  ...      0.798648      0.512656\n",
              "std        6.814946      0.478838  ...      0.401015      0.499846\n",
              "min       30.000000      1.000000  ...      0.000000      0.000000\n",
              "25%       49.000000      1.000000  ...      1.000000      0.000000\n",
              "50%       54.000000      1.000000  ...      1.000000      1.000000\n",
              "75%       59.000000      2.000000  ...      1.000000      1.000000\n",
              "max       65.000000      2.000000  ...      1.000000      1.000000\n",
              "\n",
              "[8 rows x 12 columns]"
            ]
          },
          "metadata": {
            "tags": []
          },
          "execution_count": 122
        }
      ]
    },
    {
      "cell_type": "code",
      "metadata": {
        "colab": {
          "base_uri": "https://localhost:8080/"
        },
        "id": "kVUCiCil4by4",
        "outputId": "53c7ef8e-76af-4995-ab76-e15fcae830cc"
      },
      "source": [
        "train.columns"
      ],
      "execution_count": null,
      "outputs": [
        {
          "output_type": "execute_result",
          "data": {
            "text/plain": [
              "Index(['age', 'gender', 'height', 'weight', 'ap_hi', 'ap_lo', 'cholesterol',\n",
              "       'gluc', 'smoke', 'alco', 'active', 'cardio'],\n",
              "      dtype='object')"
            ]
          },
          "metadata": {
            "tags": []
          },
          "execution_count": 129
        }
      ]
    },
    {
      "cell_type": "code",
      "metadata": {
        "colab": {
          "base_uri": "https://localhost:8080/"
        },
        "id": "TOQCAO03oqDW",
        "outputId": "d8b234c2-f788-4692-de65-359cbb6bf873"
      },
      "source": [
        "train.info()"
      ],
      "execution_count": null,
      "outputs": [
        {
          "output_type": "stream",
          "text": [
            "<class 'pandas.core.frame.DataFrame'>\n",
            "Int64Index: 42746 entries, 37016 to 68360\n",
            "Data columns (total 12 columns):\n",
            " #   Column       Non-Null Count  Dtype  \n",
            "---  ------       --------------  -----  \n",
            " 0   age          42746 non-null  int64  \n",
            " 1   gender       42746 non-null  int64  \n",
            " 2   height       42746 non-null  int64  \n",
            " 3   weight       42746 non-null  float64\n",
            " 4   ap_hi        42746 non-null  int64  \n",
            " 5   ap_lo        42746 non-null  int64  \n",
            " 6   cholesterol  42746 non-null  int64  \n",
            " 7   gluc         42746 non-null  int64  \n",
            " 8   smoke        42746 non-null  int64  \n",
            " 9   alco         42746 non-null  int64  \n",
            " 10  active       42746 non-null  int64  \n",
            " 11  cardio       42746 non-null  int64  \n",
            "dtypes: float64(1), int64(11)\n",
            "memory usage: 5.5 MB\n"
          ],
          "name": "stdout"
        }
      ]
    },
    {
      "cell_type": "code",
      "metadata": {
        "colab": {
          "base_uri": "https://localhost:8080/"
        },
        "id": "ZXeuofYHoMbF",
        "outputId": "afdc83ed-4c89-4200-d142-7911769b8b63"
      },
      "source": [
        "## 로지스틱 회귀모델\n",
        "from sklearn.linear_model import LogisticRegression\n",
        "\n",
        "features = ['age', 'height', 'weight', 'ap_hi', 'ap_lo']\n",
        "X_train = train[features]\n",
        "X_val = val[features]\n",
        "\n",
        "logistic = LogisticRegression(max_iter=1000)\n",
        "logistic.fit(X_train, y_train)"
      ],
      "execution_count": null,
      "outputs": [
        {
          "output_type": "execute_result",
          "data": {
            "text/plain": [
              "LogisticRegression(C=1.0, class_weight=None, dual=False, fit_intercept=True,\n",
              "                   intercept_scaling=1, l1_ratio=None, max_iter=1000,\n",
              "                   multi_class='auto', n_jobs=None, penalty='l2',\n",
              "                   random_state=None, solver='lbfgs', tol=0.0001, verbose=0,\n",
              "                   warm_start=False)"
            ]
          },
          "metadata": {
            "tags": []
          },
          "execution_count": 125
        }
      ]
    },
    {
      "cell_type": "code",
      "metadata": {
        "colab": {
          "base_uri": "https://localhost:8080/"
        },
        "id": "trRtLnRWskFc",
        "outputId": "e85c359f-82b0-40a6-9346-2c992d512660"
      },
      "source": [
        "print('검증세트 정확도', logistic.score(X_val, y_val))"
      ],
      "execution_count": null,
      "outputs": [
        {
          "output_type": "stream",
          "text": [
            "검증세트 정확도 0.705623654907832\n"
          ],
          "name": "stdout"
        }
      ]
    },
    {
      "cell_type": "code",
      "metadata": {
        "colab": {
          "base_uri": "https://localhost:8080/"
        },
        "id": "EvblninWs1BJ",
        "outputId": "952d3bd9-3dba-4dfb-e02c-601bf9833434"
      },
      "source": [
        "pred = logistic.predict(X_val)\n",
        "pred"
      ],
      "execution_count": null,
      "outputs": [
        {
          "output_type": "execute_result",
          "data": {
            "text/plain": [
              "array([1, 0, 0, ..., 1, 0, 0])"
            ]
          },
          "metadata": {
            "tags": []
          },
          "execution_count": 127
        }
      ]
    },
    {
      "cell_type": "code",
      "metadata": {
        "colab": {
          "base_uri": "https://localhost:8080/"
        },
        "id": "ve5VixJztK1u",
        "outputId": "2018a26c-ed2b-473d-dd0d-22329a61fa2f"
      },
      "source": [
        "print(features)\n",
        "print(logistic.coef_)"
      ],
      "execution_count": null,
      "outputs": [
        {
          "output_type": "stream",
          "text": [
            "['age', 'height', 'weight', 'ap_hi', 'ap_lo']\n",
            "[[ 0.05679206 -0.00966562  0.01735148  0.0362938   0.00046813]]\n"
          ],
          "name": "stdout"
        }
      ]
    },
    {
      "cell_type": "markdown",
      "metadata": {
        "id": "S0cVvemexo73"
      },
      "source": [
        "`age` : 나이가 많을수록 심혈관 질환이 있을 확률이 높다\n",
        "\n",
        "`height` : 키가 작을수록 심혈관 질환이 있을 확률이 높다\n",
        "\n",
        "`weight` : 몸이 무거울수록 심혈관 질환이 있을 확률이 높다\n",
        "\n",
        "`ap_hi` : 수축기 혈압이 높을수록 심혈관 질환이 있을 확률이 높다\n",
        "\n",
        "`ap_lo` : 이완기 혈압이 높을수록 심혈관 질환이 있을 확률이 높다"
      ]
    },
    {
      "cell_type": "markdown",
      "metadata": {
        "id": "Ma5UEgQNrqXP"
      },
      "source": [
        "### **04**"
      ]
    },
    {
      "cell_type": "code",
      "metadata": {
        "id": "ALwQAVb3rqXP"
      },
      "source": [
        "## gender onehotencoding\n",
        "### 이곳에서 과제를 진행해 주세요 ###"
      ],
      "execution_count": null,
      "outputs": []
    },
    {
      "cell_type": "markdown",
      "metadata": {
        "id": "mchbngbUrqXQ"
      },
      "source": [
        "### **05**"
      ]
    },
    {
      "cell_type": "code",
      "metadata": {
        "id": "rFhZShUzrqXQ"
      },
      "source": [
        "### 이곳에서 과제를 진행해 주세요 ###"
      ],
      "execution_count": null,
      "outputs": []
    },
    {
      "cell_type": "markdown",
      "metadata": {
        "id": "Jwnhr2lDrqXQ"
      },
      "source": [
        "## 🔥 도전과제:"
      ]
    }
  ]
}