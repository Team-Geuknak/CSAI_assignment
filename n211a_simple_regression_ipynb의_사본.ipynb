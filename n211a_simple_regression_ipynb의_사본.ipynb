{
  "nbformat": 4,
  "nbformat_minor": 0,
  "metadata": {
    "kernelspec": {
      "display_name": "Python 3",
      "language": "python",
      "name": "python3"
    },
    "language_info": {
      "codemirror_mode": {
        "name": "ipython",
        "version": 3
      },
      "file_extension": ".py",
      "mimetype": "text/x-python",
      "name": "python",
      "nbconvert_exporter": "python",
      "pygments_lexer": "ipython3",
      "version": "3.7.7"
    },
    "colab": {
      "name": "n211a-simple-regression.ipynb의 사본",
      "provenance": [],
      "include_colab_link": true
    }
  },
  "cells": [
    {
      "cell_type": "markdown",
      "metadata": {
        "id": "view-in-github",
        "colab_type": "text"
      },
      "source": [
        "<a href=\"https://colab.research.google.com/github/ljs7463/CSAI_assignment/blob/main/n211a_simple_regression_ipynb%EC%9D%98_%EC%82%AC%EB%B3%B8.ipynb\" target=\"_parent\"><img src=\"https://colab.research.google.com/assets/colab-badge.svg\" alt=\"Open In Colab\"/></a>"
      ]
    },
    {
      "cell_type": "markdown",
      "metadata": {
        "id": "87wP5sEL0Jjl"
      },
      "source": [
        "<img align=\"right\" src=\"https://ds-cs-images.s3.ap-northeast-2.amazonaws.com/Codestates_Fulllogo_Color.png\" width=100>\n",
        "\n",
        "## *DATA SCIENCE / SECTION 2 / SPRINT 1 / NOTE 1*\n",
        "\n",
        "# 📝 Assignment\n",
        "---"
      ]
    },
    {
      "cell_type": "code",
      "metadata": {
        "colab": {
          "base_uri": "https://localhost:8080/",
          "height": 223
        },
        "id": "1cYhW3BX0Jjo",
        "outputId": "75fc5328-3a99-46c0-9a8a-33a7c4ae77b4"
      },
      "source": [
        "# 데이터는 캐글에서 받으셔도 되고 이 링크에서 불러와도 됩니다.\n",
        "import pandas as pd\n",
        "import seaborn as sns\n",
        "import matplotlib.pyplot as plt\n",
        "\n",
        "\n",
        "df = pd.read_csv('https://ds-lecture-data.s3.ap-northeast-2.amazonaws.com/kc_house_data/kc_house_data.csv')\n",
        "df.head()"
      ],
      "execution_count": null,
      "outputs": [
        {
          "output_type": "execute_result",
          "data": {
            "text/html": [
              "<div>\n",
              "<style scoped>\n",
              "    .dataframe tbody tr th:only-of-type {\n",
              "        vertical-align: middle;\n",
              "    }\n",
              "\n",
              "    .dataframe tbody tr th {\n",
              "        vertical-align: top;\n",
              "    }\n",
              "\n",
              "    .dataframe thead th {\n",
              "        text-align: right;\n",
              "    }\n",
              "</style>\n",
              "<table border=\"1\" class=\"dataframe\">\n",
              "  <thead>\n",
              "    <tr style=\"text-align: right;\">\n",
              "      <th></th>\n",
              "      <th>id</th>\n",
              "      <th>date</th>\n",
              "      <th>price</th>\n",
              "      <th>bedrooms</th>\n",
              "      <th>bathrooms</th>\n",
              "      <th>sqft_living</th>\n",
              "      <th>sqft_lot</th>\n",
              "      <th>floors</th>\n",
              "      <th>waterfront</th>\n",
              "      <th>view</th>\n",
              "      <th>condition</th>\n",
              "      <th>grade</th>\n",
              "      <th>sqft_above</th>\n",
              "      <th>sqft_basement</th>\n",
              "      <th>yr_built</th>\n",
              "      <th>yr_renovated</th>\n",
              "      <th>zipcode</th>\n",
              "      <th>lat</th>\n",
              "      <th>long</th>\n",
              "      <th>sqft_living15</th>\n",
              "      <th>sqft_lot15</th>\n",
              "    </tr>\n",
              "  </thead>\n",
              "  <tbody>\n",
              "    <tr>\n",
              "      <th>0</th>\n",
              "      <td>7129300520</td>\n",
              "      <td>20141013T000000</td>\n",
              "      <td>221900.0</td>\n",
              "      <td>3</td>\n",
              "      <td>1.00</td>\n",
              "      <td>1180</td>\n",
              "      <td>5650</td>\n",
              "      <td>1.0</td>\n",
              "      <td>0</td>\n",
              "      <td>0</td>\n",
              "      <td>3</td>\n",
              "      <td>7</td>\n",
              "      <td>1180</td>\n",
              "      <td>0</td>\n",
              "      <td>1955</td>\n",
              "      <td>0</td>\n",
              "      <td>98178</td>\n",
              "      <td>47.5112</td>\n",
              "      <td>-122.257</td>\n",
              "      <td>1340</td>\n",
              "      <td>5650</td>\n",
              "    </tr>\n",
              "    <tr>\n",
              "      <th>1</th>\n",
              "      <td>6414100192</td>\n",
              "      <td>20141209T000000</td>\n",
              "      <td>538000.0</td>\n",
              "      <td>3</td>\n",
              "      <td>2.25</td>\n",
              "      <td>2570</td>\n",
              "      <td>7242</td>\n",
              "      <td>2.0</td>\n",
              "      <td>0</td>\n",
              "      <td>0</td>\n",
              "      <td>3</td>\n",
              "      <td>7</td>\n",
              "      <td>2170</td>\n",
              "      <td>400</td>\n",
              "      <td>1951</td>\n",
              "      <td>1991</td>\n",
              "      <td>98125</td>\n",
              "      <td>47.7210</td>\n",
              "      <td>-122.319</td>\n",
              "      <td>1690</td>\n",
              "      <td>7639</td>\n",
              "    </tr>\n",
              "    <tr>\n",
              "      <th>2</th>\n",
              "      <td>5631500400</td>\n",
              "      <td>20150225T000000</td>\n",
              "      <td>180000.0</td>\n",
              "      <td>2</td>\n",
              "      <td>1.00</td>\n",
              "      <td>770</td>\n",
              "      <td>10000</td>\n",
              "      <td>1.0</td>\n",
              "      <td>0</td>\n",
              "      <td>0</td>\n",
              "      <td>3</td>\n",
              "      <td>6</td>\n",
              "      <td>770</td>\n",
              "      <td>0</td>\n",
              "      <td>1933</td>\n",
              "      <td>0</td>\n",
              "      <td>98028</td>\n",
              "      <td>47.7379</td>\n",
              "      <td>-122.233</td>\n",
              "      <td>2720</td>\n",
              "      <td>8062</td>\n",
              "    </tr>\n",
              "    <tr>\n",
              "      <th>3</th>\n",
              "      <td>2487200875</td>\n",
              "      <td>20141209T000000</td>\n",
              "      <td>604000.0</td>\n",
              "      <td>4</td>\n",
              "      <td>3.00</td>\n",
              "      <td>1960</td>\n",
              "      <td>5000</td>\n",
              "      <td>1.0</td>\n",
              "      <td>0</td>\n",
              "      <td>0</td>\n",
              "      <td>5</td>\n",
              "      <td>7</td>\n",
              "      <td>1050</td>\n",
              "      <td>910</td>\n",
              "      <td>1965</td>\n",
              "      <td>0</td>\n",
              "      <td>98136</td>\n",
              "      <td>47.5208</td>\n",
              "      <td>-122.393</td>\n",
              "      <td>1360</td>\n",
              "      <td>5000</td>\n",
              "    </tr>\n",
              "    <tr>\n",
              "      <th>4</th>\n",
              "      <td>1954400510</td>\n",
              "      <td>20150218T000000</td>\n",
              "      <td>510000.0</td>\n",
              "      <td>3</td>\n",
              "      <td>2.00</td>\n",
              "      <td>1680</td>\n",
              "      <td>8080</td>\n",
              "      <td>1.0</td>\n",
              "      <td>0</td>\n",
              "      <td>0</td>\n",
              "      <td>3</td>\n",
              "      <td>8</td>\n",
              "      <td>1680</td>\n",
              "      <td>0</td>\n",
              "      <td>1987</td>\n",
              "      <td>0</td>\n",
              "      <td>98074</td>\n",
              "      <td>47.6168</td>\n",
              "      <td>-122.045</td>\n",
              "      <td>1800</td>\n",
              "      <td>7503</td>\n",
              "    </tr>\n",
              "  </tbody>\n",
              "</table>\n",
              "</div>"
            ],
            "text/plain": [
              "           id             date     price  ...     long  sqft_living15  sqft_lot15\n",
              "0  7129300520  20141013T000000  221900.0  ... -122.257           1340        5650\n",
              "1  6414100192  20141209T000000  538000.0  ... -122.319           1690        7639\n",
              "2  5631500400  20150225T000000  180000.0  ... -122.233           2720        8062\n",
              "3  2487200875  20141209T000000  604000.0  ... -122.393           1360        5000\n",
              "4  1954400510  20150218T000000  510000.0  ... -122.045           1800        7503\n",
              "\n",
              "[5 rows x 21 columns]"
            ]
          },
          "metadata": {
            "tags": []
          },
          "execution_count": 1
        }
      ]
    },
    {
      "cell_type": "markdown",
      "metadata": {
        "id": "15wNOekc0Jjo"
      },
      "source": [
        "### 1)"
      ]
    },
    {
      "cell_type": "code",
      "metadata": {
        "colab": {
          "base_uri": "https://localhost:8080/",
          "height": 665
        },
        "id": "PVnplBF60Jjp",
        "outputId": "f0e25fd5-fcf4-4500-a10c-fad97b61f8c9"
      },
      "source": [
        "# target인 price와의 상관관계 확인\n",
        "pd.DataFrame(abs(df.corr()['price']).sort_values(ascending = False))\n",
        "# sqft_living이 상관관계가 가장 높다."
      ],
      "execution_count": null,
      "outputs": [
        {
          "output_type": "execute_result",
          "data": {
            "text/html": [
              "<div>\n",
              "<style scoped>\n",
              "    .dataframe tbody tr th:only-of-type {\n",
              "        vertical-align: middle;\n",
              "    }\n",
              "\n",
              "    .dataframe tbody tr th {\n",
              "        vertical-align: top;\n",
              "    }\n",
              "\n",
              "    .dataframe thead th {\n",
              "        text-align: right;\n",
              "    }\n",
              "</style>\n",
              "<table border=\"1\" class=\"dataframe\">\n",
              "  <thead>\n",
              "    <tr style=\"text-align: right;\">\n",
              "      <th></th>\n",
              "      <th>price</th>\n",
              "    </tr>\n",
              "  </thead>\n",
              "  <tbody>\n",
              "    <tr>\n",
              "      <th>price</th>\n",
              "      <td>1.000000</td>\n",
              "    </tr>\n",
              "    <tr>\n",
              "      <th>sqft_living</th>\n",
              "      <td>0.702035</td>\n",
              "    </tr>\n",
              "    <tr>\n",
              "      <th>grade</th>\n",
              "      <td>0.667434</td>\n",
              "    </tr>\n",
              "    <tr>\n",
              "      <th>sqft_above</th>\n",
              "      <td>0.605567</td>\n",
              "    </tr>\n",
              "    <tr>\n",
              "      <th>sqft_living15</th>\n",
              "      <td>0.585379</td>\n",
              "    </tr>\n",
              "    <tr>\n",
              "      <th>bathrooms</th>\n",
              "      <td>0.525138</td>\n",
              "    </tr>\n",
              "    <tr>\n",
              "      <th>view</th>\n",
              "      <td>0.397293</td>\n",
              "    </tr>\n",
              "    <tr>\n",
              "      <th>sqft_basement</th>\n",
              "      <td>0.323816</td>\n",
              "    </tr>\n",
              "    <tr>\n",
              "      <th>bedrooms</th>\n",
              "      <td>0.308350</td>\n",
              "    </tr>\n",
              "    <tr>\n",
              "      <th>lat</th>\n",
              "      <td>0.307003</td>\n",
              "    </tr>\n",
              "    <tr>\n",
              "      <th>waterfront</th>\n",
              "      <td>0.266369</td>\n",
              "    </tr>\n",
              "    <tr>\n",
              "      <th>floors</th>\n",
              "      <td>0.256794</td>\n",
              "    </tr>\n",
              "    <tr>\n",
              "      <th>yr_renovated</th>\n",
              "      <td>0.126434</td>\n",
              "    </tr>\n",
              "    <tr>\n",
              "      <th>sqft_lot</th>\n",
              "      <td>0.089661</td>\n",
              "    </tr>\n",
              "    <tr>\n",
              "      <th>sqft_lot15</th>\n",
              "      <td>0.082447</td>\n",
              "    </tr>\n",
              "    <tr>\n",
              "      <th>yr_built</th>\n",
              "      <td>0.054012</td>\n",
              "    </tr>\n",
              "    <tr>\n",
              "      <th>zipcode</th>\n",
              "      <td>0.053203</td>\n",
              "    </tr>\n",
              "    <tr>\n",
              "      <th>condition</th>\n",
              "      <td>0.036362</td>\n",
              "    </tr>\n",
              "    <tr>\n",
              "      <th>long</th>\n",
              "      <td>0.021626</td>\n",
              "    </tr>\n",
              "    <tr>\n",
              "      <th>id</th>\n",
              "      <td>0.016762</td>\n",
              "    </tr>\n",
              "  </tbody>\n",
              "</table>\n",
              "</div>"
            ],
            "text/plain": [
              "                  price\n",
              "price          1.000000\n",
              "sqft_living    0.702035\n",
              "grade          0.667434\n",
              "sqft_above     0.605567\n",
              "sqft_living15  0.585379\n",
              "bathrooms      0.525138\n",
              "view           0.397293\n",
              "sqft_basement  0.323816\n",
              "bedrooms       0.308350\n",
              "lat            0.307003\n",
              "waterfront     0.266369\n",
              "floors         0.256794\n",
              "yr_renovated   0.126434\n",
              "sqft_lot       0.089661\n",
              "sqft_lot15     0.082447\n",
              "yr_built       0.054012\n",
              "zipcode        0.053203\n",
              "condition      0.036362\n",
              "long           0.021626\n",
              "id             0.016762"
            ]
          },
          "metadata": {
            "tags": []
          },
          "execution_count": 2
        }
      ]
    },
    {
      "cell_type": "code",
      "metadata": {
        "colab": {
          "base_uri": "https://localhost:8080/",
          "height": 308
        },
        "id": "UPTIYOUm3DOx",
        "outputId": "23ab0743-df13-4a1f-d95b-ca847eec8e1b"
      },
      "source": [
        "# price와 상관관계가 가장 높은 'sqft_living'의 시각화\n",
        "sns.scatterplot(x = 'sqft_living', y = 'price', data = df)"
      ],
      "execution_count": null,
      "outputs": [
        {
          "output_type": "execute_result",
          "data": {
            "text/plain": [
              "<matplotlib.axes._subplots.AxesSubplot at 0x7f519e5778d0>"
            ]
          },
          "metadata": {
            "tags": []
          },
          "execution_count": 3
        },
        {
          "output_type": "display_data",
          "data": {
            "image/png": "[encoded data removed]",
            "text/plain": [
              "<Figure size 432x288 with 1 Axes>"
            ]
          },
          "metadata": {
            "tags": [],
            "needs_background": "light"
          }
        }
      ]
    },
    {
      "cell_type": "markdown",
      "metadata": {
        "id": "DEruL3sA0Jjp"
      },
      "source": [
        "### 2) "
      ]
    },
    {
      "cell_type": "code",
      "metadata": {
        "colab": {
          "base_uri": "https://localhost:8080/",
          "height": 324
        },
        "id": "ddpwfooN0Jjp",
        "outputId": "57b92715-7cfd-4256-90f3-9e74028a1f9d"
      },
      "source": [
        "# 기준모델\n",
        "predict = df['price'].mean()\n",
        "print(\"기준 모델의 값은 :\",predict,\"입니다.\")\n",
        "# 시각화 \n",
        "sns.scatterplot(x = 'grade', y = 'price', data = df)\n",
        "sns.lineplot(x = 'grade', y = predict, data= df, color = 'r')\n"
      ],
      "execution_count": null,
      "outputs": [
        {
          "output_type": "stream",
          "text": [
            "기준 모델의 값은 : 540088.1417665294 입니다.\n"
          ],
          "name": "stdout"
        },
        {
          "output_type": "execute_result",
          "data": {
            "text/plain": [
              "<matplotlib.axes._subplots.AxesSubplot at 0x7f518b3b94d0>"
            ]
          },
          "metadata": {
            "tags": []
          },
          "execution_count": 4
        },
        {
          "output_type": "display_data",
          "data": {
            "image/png": "[encoded data removed]",
            "text/plain": [
              "<Figure size 432x288 with 1 Axes>"
            ]
          },
          "metadata": {
            "tags": [],
            "needs_background": "light"
          }
        }
      ]
    },
    {
      "cell_type": "markdown",
      "metadata": {
        "id": "SsnLaFd_0Jjp"
      },
      "source": [
        "### 3)"
      ]
    },
    {
      "cell_type": "code",
      "metadata": {
        "colab": {
          "base_uri": "https://localhost:8080/"
        },
        "id": "PkAHoJlU0Jjq",
        "outputId": "9f3dbf30-a957-4dc6-a482-327955fee399"
      },
      "source": [
        "# 선형회귀 모델 만들기\n",
        "\n",
        "# 라이브러리 불러오기\n",
        "from sklearn.linear_model import LinearRegression\n",
        "\n",
        "# 예측모델 인스턴스 생성\n",
        "model = LinearRegression()\n",
        "\n",
        "# feature와 target지정 및 train, test셋 생성\n",
        "feature = ['grade']\n",
        "target = ['price']\n",
        "X_train = df[feature]\n",
        "y_train = df[target]\n",
        "\n",
        "# 모델을 학습(fit)\n",
        "model.fit(X_train, y_train)"
      ],
      "execution_count": null,
      "outputs": [
        {
          "output_type": "execute_result",
          "data": {
            "text/plain": [
              "LinearRegression(copy_X=True, fit_intercept=True, n_jobs=None, normalize=False)"
            ]
          },
          "metadata": {
            "tags": []
          },
          "execution_count": 5
        }
      ]
    },
    {
      "cell_type": "code",
      "metadata": {
        "colab": {
          "base_uri": "https://localhost:8080/"
        },
        "id": "-W2KEPdu6DHD",
        "outputId": "1ccf588d-5714-4efe-92a2-66e50c9041d9"
      },
      "source": [
        "X_test = [[6]]\n",
        "y_pred = model.predict(X_test)\n",
        "print(\"grade가 6일때 예측되는 주택의 가격은 :\", y_pred, \"입니다.\")"
      ],
      "execution_count": null,
      "outputs": [
        {
          "output_type": "stream",
          "text": [
            "grade가 6일때 예측되는 주택의 가격은 : [[194700.3977405]] 입니다.\n"
          ],
          "name": "stdout"
        }
      ]
    },
    {
      "cell_type": "markdown",
      "metadata": {
        "id": "KU8YCIpL0Jjq"
      },
      "source": [
        "### 4) "
      ]
    },
    {
      "cell_type": "code",
      "metadata": {
        "colab": {
          "base_uri": "https://localhost:8080/"
        },
        "id": "GIHmtMNL0Jjq",
        "outputId": "cddeb668-563c-47a7-ba38-0ae6d45ae784"
      },
      "source": [
        "# 새로운 데이터예측\n",
        "\n",
        "# 예측을 위한 함수 생성\n",
        "def predict(grade):\n",
        "  y_pred = model.predict([[grade]])\n",
        "  result = print('grade',grade,\"에 대해 예측되는 주택가격은 :\", y_pred,'입니다.') \n",
        "\n",
        "predict(8)"
      ],
      "execution_count": null,
      "outputs": [
        {
          "output_type": "stream",
          "text": [
            "grade 8 에 대해 예측되는 주택가격은 : [[611615.52265726]] 입니다.\n"
          ],
          "name": "stdout"
        }
      ]
    },
    {
      "cell_type": "code",
      "metadata": {
        "colab": {
          "base_uri": "https://localhost:8080/"
        },
        "id": "kG44DdH_8W5-",
        "outputId": "d4495870-ca52-40eb-d638-a5e2ca523dfc"
      },
      "source": [
        "# 회귀계수\n",
        "print('회귀계수는:',model.coef_,'입니다')"
      ],
      "execution_count": null,
      "outputs": [
        {
          "output_type": "stream",
          "text": [
            "회귀계수는: [[208457.56245838]] 입니다\n"
          ],
          "name": "stdout"
        }
      ]
    },
    {
      "cell_type": "markdown",
      "metadata": {
        "id": "Yjwohx9q0Jjq"
      },
      "source": [
        "### 5)"
      ]
    },
    {
      "cell_type": "code",
      "metadata": {
        "colab": {
          "base_uri": "https://localhost:8080/"
        },
        "id": "J_euloLY0Jjr",
        "outputId": "e578d815-6bf8-4192-8aa6-4255f9e45629"
      },
      "source": [
        "model2 = LinearRegression()\n",
        "\n",
        "# feature2와 target지정 및 train, test셋 생성\n",
        "feature = ['sqft_living']\n",
        "target = ['price']\n",
        "X_train2 = df[feature]\n",
        "y_train2 = df[target]\n",
        "\n",
        "# 모델을 학습(fit)\n",
        "model2.fit(X_train2, y_train2)\n",
        "\n",
        "# 모델 사용하기\n",
        "X_test2 = [[1000]]\n",
        "y_pred2 = model2.predict(X_test2)\n",
        "print(\"sqft_living이\", X_test2,\"일때 예상 가격은\",y_pred2,'입니다.')"
      ],
      "execution_count": null,
      "outputs": [
        {
          "output_type": "stream",
          "text": [
            "sqft_living이 [[1000]] 일때 예상 가격은 [[237042.82480297]] 입니다.\n"
          ],
          "name": "stdout"
        }
      ]
    },
    {
      "cell_type": "code",
      "metadata": {
        "colab": {
          "base_uri": "https://localhost:8080/",
          "height": 303
        },
        "id": "cmLpXIKS90gF",
        "outputId": "1c95361b-6810-4c02-c870-59d950a4c5d2"
      },
      "source": [
        "# grade(좌) 와 sqft_living(우)의 모델 시각화 비교\n",
        "fig, ax = plt.subplots(1,2,figsize = (12,5))\n",
        "\n",
        "ax[0].scatter(X_train, y_train, color='green', linewidth=1)\n",
        "ax[0].scatter(X_test, y_pred, color='r', linewidth=1);\n",
        "ax[1].scatter(X_train2, y_train2, color='green', linewidth=1)\n",
        "ax[1].scatter(X_test2, y_pred2, color='r', linewidth=1);"
      ],
      "execution_count": null,
      "outputs": [
        {
          "output_type": "display_data",
          "data": {
            "image/png": "[encoded data removed]",
            "text/plain": [
              "<Figure size 864x360 with 2 Axes>"
            ]
          },
          "metadata": {
            "tags": [],
            "needs_background": "light"
          }
        }
      ]
    },
    {
      "cell_type": "code",
      "metadata": {
        "colab": {
          "base_uri": "https://localhost:8080/"
        },
        "id": "cqtdK9BXBy8K",
        "outputId": "395e97bf-fb4c-49bc-96cb-f0d573faed32"
      },
      "source": [
        "# 예측을 위한 함수 생성\n",
        "def predict2(sqft_living):\n",
        "  y_pred2 = model2.predict([[sqft_living]])\n",
        "  result = print('sqft_living가',sqft_living,\"일때 예측되는 주택가격은 :\", y_pred2,'입니다.') \n",
        "\n",
        "predict2(1000)"
      ],
      "execution_count": null,
      "outputs": [
        {
          "output_type": "stream",
          "text": [
            "sqft_living가 1000 일때 예측되는 주택가격은 : [[237042.82480297]] 입니다.\n"
          ],
          "name": "stdout"
        }
      ]
    },
    {
      "cell_type": "code",
      "metadata": {
        "colab": {
          "base_uri": "https://localhost:8080/"
        },
        "id": "l-uh9w-dBGY9",
        "outputId": "95552578-fa86-4a20-e18c-65e8fca593e8"
      },
      "source": [
        "# 상관계수 구하기\n",
        "print(\"상관계수는:\",model2.coef_,\"입니다\")"
      ],
      "execution_count": null,
      "outputs": [
        {
          "output_type": "stream",
          "text": [
            "상관계수는: [[280.6235679]] 입니다\n"
          ],
          "name": "stdout"
        }
      ]
    },
    {
      "cell_type": "code",
      "metadata": {
        "id": "HSQ2pkJcHIuG",
        "colab": {
          "base_uri": "https://localhost:8080/"
        },
        "outputId": "2510906c-d8a4-4cb7-c90c-12abf2fa54de"
      },
      "source": [
        "# 절편\n",
        "model2.intercept_"
      ],
      "execution_count": null,
      "outputs": [
        {
          "output_type": "execute_result",
          "data": {
            "text/plain": [
              "array([-43580.74309447])"
            ]
          },
          "metadata": {
            "tags": []
          },
          "execution_count": 23
        }
      ]
    },
    {
      "cell_type": "markdown",
      "metadata": {
        "id": "-hm8yKxRL9OI"
      },
      "source": [
        " 6)단순선형회귀모델을 만들기 위한 좋은 특성을 선택하기 위해 고려해야 하는 사항들에 대해 조사하고 서술하세요.\n",
        "\n",
        " 단순선형회귀모델을 위해 고려해야할점으로는 선형적인가,  등분산성, 정규성 이렇게 있습니다. \n",
        " \n",
        " * 먼저 선형성은 선형회귀분석에서 가장 중요한 기본가정으로서 당연히 선형한 모델이어야한다. 여기서 선형성이란 종속변수y와 독립변수X간에 선형성을 만족하는 특성을 의미한다.\n",
        " * 등분산성이란 분산이 같다는 것이고, 분산이 같다는 것은 특정한 패턴 없이 고르게 분포했다는 의미이다. 여기서 등분산성의 주체는 잔차를 말한다.\n",
        " * 정규성 정규성은 잔차가 정규성을 만족하는지의 여루보서 정규분포를 띄는지의 여부를 의미한다.\n",
        " \n",
        " 위의 고려사항들을 만족해야 유의한 단순선형회귀모델이 나온다. 방법으로는 위의 위배시키는 변수를 제거하는것이 도움이 된다.\n",
        "\n",
        "\n",
        " 7)OLS에 대해서 검색해 보고 본인의 이해를 녹여내어 10문장 내로 요약해 보세요.\n",
        "\n",
        " 잔차제곱의합을 최소화하는 방법을 OLS라고 부른다. 먼저 여기서 잔차란 예측값과 관측값의 차이이며 회귀선은 잔차 제곱들의 합인 RSS를 최소화 하는 직선을 말한다. 이때 이값이(RSS) 회귀모델 함수의 비용함수(cost function)이라고 하는데 이때 이 잔차제곱의 함을 최소화하는 방법을 바로 OLS라고 한다.\n",
        "\n",
        " 요약하면 잔차제곱합(RSS)를 최소화하는 가중치 벡터를 구하는 방법을 최소자승법 즉, OLS(Ordinary Least Squares)라고 한다."
      ]
    },
    {
      "cell_type": "code",
      "metadata": {
        "id": "0N4qDuyLOlwH"
      },
      "source": [
        ""
      ],
      "execution_count": null,
      "outputs": []
    }
  ]
}