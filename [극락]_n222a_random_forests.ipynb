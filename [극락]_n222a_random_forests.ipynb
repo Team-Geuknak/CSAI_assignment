{
  "nbformat": 4,
  "nbformat_minor": 0,
  "metadata": {
    "colab": {
      "name": "[극락] n222a-random-forests.ipynb",
      "provenance": [],
      "collapsed_sections": [],
      "toc_visible": true,
      "include_colab_link": true
    },
    "kernelspec": {
      "display_name": "Python 3",
      "language": "python",
      "name": "python3"
    },
    "language_info": {
      "codemirror_mode": {
        "name": "ipython",
        "version": 3
      },
      "file_extension": ".py",
      "mimetype": "text/x-python",
      "name": "python",
      "nbconvert_exporter": "python",
      "pygments_lexer": "ipython3",
      "version": "3.7.7"
    }
  },
  "cells": [
    {
      "cell_type": "markdown",
      "metadata": {
        "id": "view-in-github",
        "colab_type": "text"
      },
      "source": [
        "<a href=\"https://colab.research.google.com/github/LEEGWONSEOK/CSAI_assignment/blob/main/%5B%EA%B7%B9%EB%9D%BD%5D_n222a_random_forests.ipynb\" target=\"_parent\"><img src=\"https://colab.research.google.com/assets/colab-badge.svg\" alt=\"Open In Colab\"/></a>"
      ]
    },
    {
      "cell_type": "code",
      "metadata": {
        "id": "SrcqwZFRZWnL"
      },
      "source": [
        "!pip install -U scikit-learn"
      ],
      "execution_count": null,
      "outputs": []
    },
    {
      "cell_type": "code",
      "metadata": {
        "id": "qd2vLK8oZYfO"
      },
      "source": [
        "!pip install https://github.com/pandas-profiling/pandas-profiling/archive/master.zip"
      ],
      "execution_count": null,
      "outputs": []
    },
    {
      "cell_type": "code",
      "metadata": {
        "id": "zuOU9-A8Za-N"
      },
      "source": [
        "!pip install --upgrade category_encoders"
      ],
      "execution_count": null,
      "outputs": []
    },
    {
      "cell_type": "markdown",
      "metadata": {
        "id": "b90_YMrSWR9W"
      },
      "source": [
        "#### **01. Domain & Data Preprocessing**\n",
        "\n",
        "#### 데이터 구조\n",
        "- 데이터 : \n",
        "- 관측치 : \n",
        "- 변수 : \n",
        "\n",
        "#### 설명변수(features) : 예측값을 설명할 수 있는 변수\n",
        "- ff\n",
        "\n",
        "\n",
        "#### 반응변수(targets) : 예측하고자 하는 값\n",
        "- **vacc_h1n1_f** : 백신 맞음(1) / 안 맞음(0)"
      ]
    },
    {
      "cell_type": "code",
      "metadata": {
        "id": "4qulRsNPWn1-"
      },
      "source": [
        "## 모듈 불러오기\n",
        "\n",
        "# 데이터 전처리\n",
        "import numpy as np\n",
        "import pandas as pd\n",
        "from sklearn.preprocessing import StandardScaler\n",
        "from sklearn.model_selection import train_test_split\n",
        "\n",
        "# 데이터 시각화\n",
        "import matplotlib.pyplot as plt\n",
        "\n",
        "# 기계학습 모델 및 평가\n",
        "#from sklearn.neighb\n",
        "from sklearn.metrics import accuracy_score, recall_score, precision_score, mean_squared_error, mean_absolute_error, r2_score\n",
        "\n",
        "# 경고문 제거\n",
        "import warnings\n",
        "warnings.filterwarnings(action='ignore')"
      ],
      "execution_count": null,
      "outputs": []
    },
    {
      "cell_type": "code",
      "metadata": {
        "id": "9F5S196AZqfN"
      },
      "source": [
        "## 데이터 불러오기\n",
        "\n",
        "train_labels_data = 'https://raw.githubusercontent.com/LEEGWONSEOK/Kaggle01_Prediction-of-H1N1-vaccination/main/_dataset/train_labels.csv'\n",
        "train_data = 'https://raw.githubusercontent.com/LEEGWONSEOK/Kaggle01_Prediction-of-H1N1-vaccination/main/_dataset/train.csv'\n",
        "test_data = 'https://raw.githubusercontent.com/LEEGWONSEOK/Kaggle01_Prediction-of-H1N1-vaccination/main/_dataset/test.csv'\n",
        "sample_sub_data = 'https://raw.githubusercontent.com/LEEGWONSEOK/Kaggle01_Prediction-of-H1N1-vaccination/main/_dataset/submission.csv'\n",
        "\n",
        "target = 'vacc_h1n1_f'\n",
        "#target = 'vacc_seas_f'\n",
        "\n",
        "train = pd.merge(pd.read_csv(train_data), pd.read_csv(train_labels_data)[target], left_index=True, right_index=True)\n",
        "test = pd.read_csv(test_data)\n",
        "sample_submission = pd.read_csv(sample_sub_data)"
      ],
      "execution_count": null,
      "outputs": []
    },
    {
      "cell_type": "markdown",
      "metadata": {
        "id": "4z4KjbH1bLrL"
      },
      "source": [
        "####**02. Missing value 확인**"
      ]
    },
    {
      "cell_type": "code",
      "metadata": {
        "colab": {
          "base_uri": "https://localhost:8080/"
        },
        "id": "UX33lhvfbI4J",
        "outputId": "c719e7b6-a5b6-49d3-e923-0acd0a572f1e"
      },
      "source": [
        "## 결측치 확인\n",
        "\n",
        "train.T.duplicated()\n",
        "# 결측치가 없는 것을 확인할 수 있다."
      ],
      "execution_count": null,
      "outputs": [
        {
          "output_type": "execute_result",
          "data": {
            "text/plain": [
              "h1n1_concern                   False\n",
              "h1n1_knowledge                 False\n",
              "behavioral_antiviral_meds      False\n",
              "behavioral_avoidance           False\n",
              "behavioral_face_mask           False\n",
              "behavioral_wash_hands          False\n",
              "behavioral_large_gatherings    False\n",
              "behavioral_outside_home        False\n",
              "behavioral_touch_face          False\n",
              "doctor_recc_h1n1               False\n",
              "doctor_recc_seasonal           False\n",
              "chronic_med_condition          False\n",
              "child_under_6_months           False\n",
              "health_insurance               False\n",
              "health_worker                  False\n",
              "opinion_h1n1_vacc_effective    False\n",
              "opinion_h1n1_risk              False\n",
              "opinion_h1n1_sick_from_vacc    False\n",
              "opinion_seas_vacc_effective    False\n",
              "opinion_seas_risk              False\n",
              "opinion_seas_sick_from_vacc    False\n",
              "agegrp                         False\n",
              "education_comp                 False\n",
              "raceeth4_i                     False\n",
              "sex_i                          False\n",
              "inc_pov                        False\n",
              "marital                        False\n",
              "rent_own_r                     False\n",
              "employment_status              False\n",
              "census_region                  False\n",
              "census_msa                     False\n",
              "n_adult_r                      False\n",
              "household_children             False\n",
              "n_people_r                     False\n",
              "employment_industry            False\n",
              "employment_occupation          False\n",
              "hhs_region                     False\n",
              "state                          False\n",
              "vacc_h1n1_f                    False\n",
              "dtype: bool"
            ]
          },
          "metadata": {
            "tags": []
          },
          "execution_count": 60
        }
      ]
    },
    {
      "cell_type": "code",
      "metadata": {
        "colab": {
          "base_uri": "https://localhost:8080/",
          "height": 210
        },
        "id": "HPZOJofsvmZU",
        "outputId": "4bcbe3e5-5392-4cc8-e893-9a864ae403a0"
      },
      "source": [
        "train.describe(exclude='number')"
      ],
      "execution_count": null,
      "outputs": [
        {
          "output_type": "execute_result",
          "data": {
            "text/html": [
              "<div>\n",
              "<style scoped>\n",
              "    .dataframe tbody tr th:only-of-type {\n",
              "        vertical-align: middle;\n",
              "    }\n",
              "\n",
              "    .dataframe tbody tr th {\n",
              "        vertical-align: top;\n",
              "    }\n",
              "\n",
              "    .dataframe thead th {\n",
              "        text-align: right;\n",
              "    }\n",
              "</style>\n",
              "<table border=\"1\" class=\"dataframe\">\n",
              "  <thead>\n",
              "    <tr style=\"text-align: right;\">\n",
              "      <th></th>\n",
              "      <th>opinion_h1n1_vacc_effective</th>\n",
              "      <th>opinion_h1n1_risk</th>\n",
              "      <th>opinion_h1n1_sick_from_vacc</th>\n",
              "      <th>opinion_seas_vacc_effective</th>\n",
              "      <th>opinion_seas_risk</th>\n",
              "      <th>opinion_seas_sick_from_vacc</th>\n",
              "      <th>agegrp</th>\n",
              "      <th>employment_status</th>\n",
              "      <th>census_msa</th>\n",
              "      <th>employment_industry</th>\n",
              "      <th>employment_occupation</th>\n",
              "      <th>state</th>\n",
              "    </tr>\n",
              "  </thead>\n",
              "  <tbody>\n",
              "    <tr>\n",
              "      <th>count</th>\n",
              "      <td>33375</td>\n",
              "      <td>33329</td>\n",
              "      <td>33285</td>\n",
              "      <td>33220</td>\n",
              "      <td>33153</td>\n",
              "      <td>33089</td>\n",
              "      <td>42154</td>\n",
              "      <td>31876</td>\n",
              "      <td>42154</td>\n",
              "      <td>17165</td>\n",
              "      <td>17165</td>\n",
              "      <td>42154</td>\n",
              "    </tr>\n",
              "    <tr>\n",
              "      <th>unique</th>\n",
              "      <td>6</td>\n",
              "      <td>6</td>\n",
              "      <td>6</td>\n",
              "      <td>6</td>\n",
              "      <td>6</td>\n",
              "      <td>6</td>\n",
              "      <td>7</td>\n",
              "      <td>3</td>\n",
              "      <td>3</td>\n",
              "      <td>23</td>\n",
              "      <td>25</td>\n",
              "      <td>51</td>\n",
              "    </tr>\n",
              "    <tr>\n",
              "      <th>top</th>\n",
              "      <td>Somewhat Effective</td>\n",
              "      <td>Somewhat Low</td>\n",
              "      <td>Not Very Worried</td>\n",
              "      <td>Somewhat Effective</td>\n",
              "      <td>Somewhat Low</td>\n",
              "      <td>Not At All Worried</td>\n",
              "      <td>65+ Years</td>\n",
              "      <td>Employed</td>\n",
              "      <td>MSA, Not Principle City</td>\n",
              "      <td>Health Care and Social Assistance Industries</td>\n",
              "      <td>Management Occupations</td>\n",
              "      <td>NEW MEXICO</td>\n",
              "    </tr>\n",
              "    <tr>\n",
              "      <th>freq</th>\n",
              "      <td>14729</td>\n",
              "      <td>12520</td>\n",
              "      <td>11582</td>\n",
              "      <td>14543</td>\n",
              "      <td>11397</td>\n",
              "      <td>14749</td>\n",
              "      <td>8517</td>\n",
              "      <td>17173</td>\n",
              "      <td>18957</td>\n",
              "      <td>3086</td>\n",
              "      <td>2188</td>\n",
              "      <td>1017</td>\n",
              "    </tr>\n",
              "  </tbody>\n",
              "</table>\n",
              "</div>"
            ],
            "text/plain": [
              "       opinion_h1n1_vacc_effective  ...       state\n",
              "count                        33375  ...       42154\n",
              "unique                           6  ...          51\n",
              "top             Somewhat Effective  ...  NEW MEXICO\n",
              "freq                         14729  ...        1017\n",
              "\n",
              "[4 rows x 12 columns]"
            ]
          },
          "metadata": {
            "tags": []
          },
          "execution_count": 61
        }
      ]
    },
    {
      "cell_type": "code",
      "metadata": {
        "colab": {
          "base_uri": "https://localhost:8080/",
          "height": 421
        },
        "id": "D_SXvrxVvq6p",
        "outputId": "807da10e-376a-4561-92c4-bcce43f110a2"
      },
      "source": [
        "train.describe(exclude='number').T.sort_values(by='unique')"
      ],
      "execution_count": null,
      "outputs": [
        {
          "output_type": "execute_result",
          "data": {
            "text/html": [
              "<div>\n",
              "<style scoped>\n",
              "    .dataframe tbody tr th:only-of-type {\n",
              "        vertical-align: middle;\n",
              "    }\n",
              "\n",
              "    .dataframe tbody tr th {\n",
              "        vertical-align: top;\n",
              "    }\n",
              "\n",
              "    .dataframe thead th {\n",
              "        text-align: right;\n",
              "    }\n",
              "</style>\n",
              "<table border=\"1\" class=\"dataframe\">\n",
              "  <thead>\n",
              "    <tr style=\"text-align: right;\">\n",
              "      <th></th>\n",
              "      <th>count</th>\n",
              "      <th>unique</th>\n",
              "      <th>top</th>\n",
              "      <th>freq</th>\n",
              "    </tr>\n",
              "  </thead>\n",
              "  <tbody>\n",
              "    <tr>\n",
              "      <th>employment_status</th>\n",
              "      <td>31876</td>\n",
              "      <td>3</td>\n",
              "      <td>Employed</td>\n",
              "      <td>17173</td>\n",
              "    </tr>\n",
              "    <tr>\n",
              "      <th>census_msa</th>\n",
              "      <td>42154</td>\n",
              "      <td>3</td>\n",
              "      <td>MSA, Not Principle City</td>\n",
              "      <td>18957</td>\n",
              "    </tr>\n",
              "    <tr>\n",
              "      <th>opinion_h1n1_vacc_effective</th>\n",
              "      <td>33375</td>\n",
              "      <td>6</td>\n",
              "      <td>Somewhat Effective</td>\n",
              "      <td>14729</td>\n",
              "    </tr>\n",
              "    <tr>\n",
              "      <th>opinion_h1n1_risk</th>\n",
              "      <td>33329</td>\n",
              "      <td>6</td>\n",
              "      <td>Somewhat Low</td>\n",
              "      <td>12520</td>\n",
              "    </tr>\n",
              "    <tr>\n",
              "      <th>opinion_h1n1_sick_from_vacc</th>\n",
              "      <td>33285</td>\n",
              "      <td>6</td>\n",
              "      <td>Not Very Worried</td>\n",
              "      <td>11582</td>\n",
              "    </tr>\n",
              "    <tr>\n",
              "      <th>opinion_seas_vacc_effective</th>\n",
              "      <td>33220</td>\n",
              "      <td>6</td>\n",
              "      <td>Somewhat Effective</td>\n",
              "      <td>14543</td>\n",
              "    </tr>\n",
              "    <tr>\n",
              "      <th>opinion_seas_risk</th>\n",
              "      <td>33153</td>\n",
              "      <td>6</td>\n",
              "      <td>Somewhat Low</td>\n",
              "      <td>11397</td>\n",
              "    </tr>\n",
              "    <tr>\n",
              "      <th>opinion_seas_sick_from_vacc</th>\n",
              "      <td>33089</td>\n",
              "      <td>6</td>\n",
              "      <td>Not At All Worried</td>\n",
              "      <td>14749</td>\n",
              "    </tr>\n",
              "    <tr>\n",
              "      <th>agegrp</th>\n",
              "      <td>42154</td>\n",
              "      <td>7</td>\n",
              "      <td>65+ Years</td>\n",
              "      <td>8517</td>\n",
              "    </tr>\n",
              "    <tr>\n",
              "      <th>employment_industry</th>\n",
              "      <td>17165</td>\n",
              "      <td>23</td>\n",
              "      <td>Health Care and Social Assistance Industries</td>\n",
              "      <td>3086</td>\n",
              "    </tr>\n",
              "    <tr>\n",
              "      <th>employment_occupation</th>\n",
              "      <td>17165</td>\n",
              "      <td>25</td>\n",
              "      <td>Management Occupations</td>\n",
              "      <td>2188</td>\n",
              "    </tr>\n",
              "    <tr>\n",
              "      <th>state</th>\n",
              "      <td>42154</td>\n",
              "      <td>51</td>\n",
              "      <td>NEW MEXICO</td>\n",
              "      <td>1017</td>\n",
              "    </tr>\n",
              "  </tbody>\n",
              "</table>\n",
              "</div>"
            ],
            "text/plain": [
              "                             count  ...   freq\n",
              "employment_status            31876  ...  17173\n",
              "census_msa                   42154  ...  18957\n",
              "opinion_h1n1_vacc_effective  33375  ...  14729\n",
              "opinion_h1n1_risk            33329  ...  12520\n",
              "opinion_h1n1_sick_from_vacc  33285  ...  11582\n",
              "opinion_seas_vacc_effective  33220  ...  14543\n",
              "opinion_seas_risk            33153  ...  11397\n",
              "opinion_seas_sick_from_vacc  33089  ...  14749\n",
              "agegrp                       42154  ...   8517\n",
              "employment_industry          17165  ...   3086\n",
              "employment_occupation        17165  ...   2188\n",
              "state                        42154  ...   1017\n",
              "\n",
              "[12 rows x 4 columns]"
            ]
          },
          "metadata": {
            "tags": []
          },
          "execution_count": 62
        }
      ]
    },
    {
      "cell_type": "markdown",
      "metadata": {
        "id": "cVYCtzEQaioS"
      },
      "source": [
        "#### **03. 데이터 세트 분리(train / valid / test)**"
      ]
    },
    {
      "cell_type": "code",
      "metadata": {
        "colab": {
          "base_uri": "https://localhost:8080/"
        },
        "id": "lsbWOwV7aZa_",
        "outputId": "f9014a2f-6846-45e9-f101-8a9009728198"
      },
      "source": [
        "train, val = train_test_split(train, train_size=0.8, test_size=0.2,\n",
        "                              stratify=train[target], random_state=2)\n",
        "train.shape, val.shape, test.shape  # : ((33723, 39), (8431, 39), (28104, 38))"
      ],
      "execution_count": null,
      "outputs": [
        {
          "output_type": "execute_result",
          "data": {
            "text/plain": [
              "((33723, 39), (8431, 39), (28104, 38))"
            ]
          },
          "metadata": {
            "tags": []
          },
          "execution_count": 63
        }
      ]
    },
    {
      "cell_type": "markdown",
      "metadata": {
        "id": "AFO_rwhTazqu"
      },
      "source": [
        "#### **04. train[target] 비율 확인(기준모델)**"
      ]
    },
    {
      "cell_type": "code",
      "metadata": {
        "colab": {
          "base_uri": "https://localhost:8080/"
        },
        "id": "lTMaVljabFfd",
        "outputId": "e95a4092-720b-4c5a-a0cb-c13c9d523737"
      },
      "source": [
        "train[target].value_counts(normalize=True)\n",
        "\n",
        "# 백신 맞음 : 24% / 안 맞음 : 76% → 클래스(0,1)이 불균형하다."
      ],
      "execution_count": null,
      "outputs": [
        {
          "output_type": "execute_result",
          "data": {
            "text/plain": [
              "0    0.760935\n",
              "1    0.239065\n",
              "Name: vacc_h1n1_f, dtype: float64"
            ]
          },
          "metadata": {
            "tags": []
          },
          "execution_count": 64
        }
      ]
    },
    {
      "cell_type": "markdown",
      "metadata": {
        "id": "c7qmFexRnOBc"
      },
      "source": [
        "#### **05. Features Engineering**"
      ]
    },
    {
      "cell_type": "code",
      "metadata": {
        "id": "7Hgb_3_LwCnU"
      },
      "source": [
        "import numpy as np\n",
        "\n",
        "def engineer(df):\n",
        "    # 높은 카디널리티를 가지는 특성 제거.\n",
        "    selected_cols = df.select_dtypes(include=['number', 'object'])\n",
        "    labels = selected_cols.nunique()\n",
        "    selected_features = labels[labels <= 30].index.tolist() # 30보다 작은 특성 선택\n",
        "    df = df[selected_features]\n",
        "\n",
        "    # 새로운 특성 생성\n",
        "    behaviorals = [col for col in df.columns if 'behavioral' in col]\n",
        "    df['behaviorals'] = df[behaviorals].sum(axis=1)\n",
        "    \n",
        "    dels = [col for col in df.columns if ('employment' in col or 'seas' in col)]\n",
        "    df.drop(columns=dels, inplace=True)\n",
        "\n",
        "    return df\n",
        "\n",
        "train = engineer(train)\n",
        "val = engineer(val)\n",
        "test = engineer(test)\n",
        "\n",
        "features = train.drop(columns=[target]).columns"
      ],
      "execution_count": null,
      "outputs": []
    },
    {
      "cell_type": "markdown",
      "metadata": {
        "id": "RL9Zs1_twQps"
      },
      "source": [
        "#### **06. 세트별 target/features 분리**"
      ]
    },
    {
      "cell_type": "code",
      "metadata": {
        "id": "9EouzmHPwKlI"
      },
      "source": [
        "X_train = train[features]\n",
        "y_train = train[target]\n",
        "X_val = val[features]\n",
        "y_val = val[target]\n",
        "X_test = test[features]"
      ],
      "execution_count": null,
      "outputs": []
    },
    {
      "cell_type": "markdown",
      "metadata": {
        "id": "b4Z3NOPlwdO7"
      },
      "source": [
        "#### **07-1. 랜덤포레스트 모델링(One-hot Encoder)**"
      ]
    },
    {
      "cell_type": "code",
      "metadata": {
        "colab": {
          "base_uri": "https://localhost:8080/"
        },
        "id": "qG4ArIuoVh_J",
        "outputId": "62ffa089-8aba-4f0b-c3f4-deb1af55eb2b"
      },
      "source": [
        "## 걸리는 시간\n",
        "\n",
        "%%time\n",
        "\n",
        "## 모듈\n",
        "from category_encoders import OneHotEncoder\n",
        "from sklearn.ensemble import RandomForestClassifier\n",
        "from sklearn.impute import SimpleImputer \n",
        "from sklearn.pipeline import make_pipeline\n",
        "\n",
        "pipe = make_pipeline(\n",
        "    OneHotEncoder(use_cat_names=True), \n",
        "    SimpleImputer(), \n",
        "    RandomForestClassifier(n_jobs=-1, random_state=10, oob_score=True)\n",
        ")\n",
        "\n",
        "pipe.fit(X_train, y_train)\n",
        "print('훈련 정확도(One-hot Encoder) : ', pipe.score(X_train, y_train))\n",
        "print('검증 정확도(One-hot Encoder) : ', pipe.score(X_val, y_val))"
      ],
      "execution_count": null,
      "outputs": [
        {
          "output_type": "stream",
          "text": [
            "훈련 정확도(One-hot Encoder) :  0.990837114135753\n",
            "검증 정확도(One-hot Encoder) :  0.8270667773692326\n",
            "CPU times: user 11 s, sys: 198 ms, total: 11.2 s\n",
            "Wall time: 6.74 s\n"
          ],
          "name": "stdout"
        }
      ]
    },
    {
      "cell_type": "markdown",
      "metadata": {
        "id": "5bDRYZouxRSF"
      },
      "source": [
        "#### **07-2. 랜덤포레스트 모델링(Ordinal Encoder)**"
      ]
    },
    {
      "cell_type": "code",
      "metadata": {
        "colab": {
          "base_uri": "https://localhost:8080/"
        },
        "id": "zCsMioZ8xKyh",
        "outputId": "83dc6eb6-28e4-48b1-fe34-11a7ee08049f"
      },
      "source": [
        "%%time\n",
        "from category_encoders import OrdinalEncoder\n",
        "\n",
        "pipe_ord = make_pipeline(\n",
        "    OrdinalEncoder(), \n",
        "    SimpleImputer(), \n",
        "    RandomForestClassifier(random_state=10, n_jobs=-1, oob_score=True)\n",
        ")\n",
        "\n",
        "pipe_ord.fit(X_train, y_train)\n",
        "print('훈련 정확도(Ordinal Encoder) : ', pipe_ord.score(X_train, y_train))\n",
        "print('검증 정확도(Ordinal Encoder) : ', pipe_ord.score(X_val, y_val))"
      ],
      "execution_count": null,
      "outputs": [
        {
          "output_type": "stream",
          "text": [
            "훈련 정확도(Ordinal Encoder) :  0.9908667674880646\n",
            "검증 정확도(Ordinal Encoder) :  0.8239829201755426\n",
            "CPU times: user 9.12 s, sys: 146 ms, total: 9.27 s\n",
            "Wall time: 5.59 s\n"
          ],
          "name": "stdout"
        }
      ]
    },
    {
      "cell_type": "markdown",
      "metadata": {
        "id": "IpJVo1PPfVBx"
      },
      "source": [
        "#### **07-3. Ordinal - GridsearchCV 적용**"
      ]
    },
    {
      "cell_type": "code",
      "metadata": {
        "id": "8Km9fK-_yg7C"
      },
      "source": [
        "## gridsearchCV\n",
        "\n",
        "## 모듈\n",
        "from sklearn.model_selection import GridSearchCV\n",
        "from sklearn.model_selection import cross_val_score\n",
        "from sklearn.svm import SVC\n",
        "from sklearn.pipeline import Pipeline   # 'key' 값이 필요해서 make-pipeline말고 그냥 요놈 써봤습니다."
      ],
      "execution_count": null,
      "outputs": []
    },
    {
      "cell_type": "code",
      "metadata": {
        "colab": {
          "base_uri": "https://localhost:8080/"
        },
        "id": "62gT8d4By2wo",
        "outputId": "4cebda6a-7212-4b9d-fb00-5e2e4d7bbefd"
      },
      "source": [
        "pipe_ord = Pipeline([\n",
        "    ('ordinal',OrdinalEncoder()), \n",
        "    ('imputer', SimpleImputer()), \n",
        "    ('rf', RandomForestClassifier(random_state=10, n_jobs=-1, oob_score=True, class_weight='balanced'))\n",
        "])\n",
        "\n",
        "param_grid = {\n",
        "    #'rf__n_estimators': [10, 20, 30],\n",
        "    'rf__min_samples_leaf': [5, 10, 15],\n",
        "    'rf__max_depth': [7, 8, 9],\n",
        "    'rf__criterion': ['gini', 'entropy'],\n",
        "    'rf__max_features': ['auto', 'sqrt', 'log2']\n",
        "}\n",
        "\n",
        "CV_pipe_ord = GridSearchCV(pipe_ord, param_grid=param_grid, cv=10, verbose=1, n_jobs=-1)\n",
        "CV_pipe_ord.fit(X_train, y_train)"
      ],
      "execution_count": null,
      "outputs": [
        {
          "output_type": "stream",
          "text": [
            "Fitting 10 folds for each of 54 candidates, totalling 540 fits\n"
          ],
          "name": "stdout"
        },
        {
          "output_type": "execute_result",
          "data": {
            "text/plain": [
              "GridSearchCV(cv=10,\n",
              "             estimator=Pipeline(steps=[('ordinal', OrdinalEncoder()),\n",
              "                                       ('imputer', SimpleImputer()),\n",
              "                                       ('rf',\n",
              "                                        RandomForestClassifier(n_jobs=-1,\n",
              "                                                               oob_score=True,\n",
              "                                                               random_state=10))]),\n",
              "             n_jobs=-1,\n",
              "             param_grid={'rf__criterion': ['gini', 'entropy'],\n",
              "                         'rf__max_depth': [7, 8, 9],\n",
              "                         'rf__max_features': ['auto', 'sqrt', 'log2'],\n",
              "                         'rf__min_samples_leaf': [5, 10, 15]},\n",
              "             verbose=1)"
            ]
          },
          "metadata": {
            "tags": []
          },
          "execution_count": 83
        }
      ]
    },
    {
      "cell_type": "code",
      "metadata": {
        "colab": {
          "base_uri": "https://localhost:8080/"
        },
        "id": "koTICOwEXX1U",
        "outputId": "c26c5237-be3f-4cf8-adf0-0f46c6a844c1"
      },
      "source": [
        "CV_pipe_ord.best_params_"
      ],
      "execution_count": null,
      "outputs": [
        {
          "output_type": "execute_result",
          "data": {
            "text/plain": [
              "{'rf__criterion': 'gini',\n",
              " 'rf__max_depth': 9,\n",
              " 'rf__max_features': 'auto',\n",
              " 'rf__min_samples_leaf': 5}"
            ]
          },
          "metadata": {
            "tags": []
          },
          "execution_count": 86
        }
      ]
    },
    {
      "cell_type": "markdown",
      "metadata": {
        "id": "XBIl7KqPXqgs"
      },
      "source": [
        "하이퍼 파라미터\n",
        "\n",
        "- criterion : 'gini'\n",
        "- max_depth : 9\n",
        "- max_features': 'auto'\n",
        "- min_samples_leaf : 5\n",
        "\n",
        "값들이 가장 높게 나온다는 것을 알 수 있다."
      ]
    },
    {
      "cell_type": "code",
      "metadata": {
        "colab": {
          "base_uri": "https://localhost:8080/"
        },
        "id": "xMdFGlhEX7y8",
        "outputId": "7bd81577-4414-4bb8-e361-e53b6105555f"
      },
      "source": [
        "result_table = pd.DataFrame(CV_pipe_ord.cv_results_)\n",
        "result_table = result_table.sort_values(by='mean_test_score', ascending=False)\n",
        "print(result_table[['params', 'mean_test_score']])\n",
        "#print(result_table['mean_test_score'])"
      ],
      "execution_count": null,
      "outputs": [
        {
          "output_type": "stream",
          "text": [
            "                                               params  mean_test_score\n",
            "18  {'rf__criterion': 'gini', 'rf__max_depth': 9, ...         0.819826\n",
            "21  {'rf__criterion': 'gini', 'rf__max_depth': 9, ...         0.819826\n",
            "46  {'rf__criterion': 'entropy', 'rf__max_depth': ...         0.819293\n",
            "49  {'rf__criterion': 'entropy', 'rf__max_depth': ...         0.819293\n",
            "45  {'rf__criterion': 'entropy', 'rf__max_depth': ...         0.818966\n",
            "48  {'rf__criterion': 'entropy', 'rf__max_depth': ...         0.818966\n",
            "23  {'rf__criterion': 'gini', 'rf__max_depth': 9, ...         0.818877\n",
            "20  {'rf__criterion': 'gini', 'rf__max_depth': 9, ...         0.818877\n",
            "47  {'rf__criterion': 'entropy', 'rf__max_depth': ...         0.818818\n",
            "50  {'rf__criterion': 'entropy', 'rf__max_depth': ...         0.818818\n",
            "22  {'rf__criterion': 'gini', 'rf__max_depth': 9, ...         0.818788\n",
            "19  {'rf__criterion': 'gini', 'rf__max_depth': 9, ...         0.818788\n",
            "9   {'rf__criterion': 'gini', 'rf__max_depth': 8, ...         0.818225\n",
            "12  {'rf__criterion': 'gini', 'rf__max_depth': 8, ...         0.818225\n",
            "36  {'rf__criterion': 'entropy', 'rf__max_depth': ...         0.817780\n",
            "39  {'rf__criterion': 'entropy', 'rf__max_depth': ...         0.817780\n",
            "13  {'rf__criterion': 'gini', 'rf__max_depth': 8, ...         0.817661\n",
            "10  {'rf__criterion': 'gini', 'rf__max_depth': 8, ...         0.817661\n",
            "11  {'rf__criterion': 'gini', 'rf__max_depth': 8, ...         0.817395\n",
            "14  {'rf__criterion': 'gini', 'rf__max_depth': 8, ...         0.817395\n",
            "40  {'rf__criterion': 'entropy', 'rf__max_depth': ...         0.817306\n",
            "37  {'rf__criterion': 'entropy', 'rf__max_depth': ...         0.817306\n",
            "41  {'rf__criterion': 'entropy', 'rf__max_depth': ...         0.817276\n",
            "38  {'rf__criterion': 'entropy', 'rf__max_depth': ...         0.817276\n",
            "25  {'rf__criterion': 'gini', 'rf__max_depth': 9, ...         0.816801\n",
            "51  {'rf__criterion': 'entropy', 'rf__max_depth': ...         0.816742\n",
            "24  {'rf__criterion': 'gini', 'rf__max_depth': 9, ...         0.816623\n",
            "52  {'rf__criterion': 'entropy', 'rf__max_depth': ...         0.816475\n",
            "53  {'rf__criterion': 'entropy', 'rf__max_depth': ...         0.816357\n",
            "26  {'rf__criterion': 'gini', 'rf__max_depth': 9, ...         0.815882\n",
            "42  {'rf__criterion': 'entropy', 'rf__max_depth': ...         0.815349\n",
            "27  {'rf__criterion': 'entropy', 'rf__max_depth': ...         0.815022\n",
            "30  {'rf__criterion': 'entropy', 'rf__max_depth': ...         0.815022\n",
            "0   {'rf__criterion': 'gini', 'rf__max_depth': 7, ...         0.814993\n",
            "3   {'rf__criterion': 'gini', 'rf__max_depth': 7, ...         0.814993\n",
            "31  {'rf__criterion': 'entropy', 'rf__max_depth': ...         0.814874\n",
            "28  {'rf__criterion': 'entropy', 'rf__max_depth': ...         0.814874\n",
            "15  {'rf__criterion': 'gini', 'rf__max_depth': 8, ...         0.814696\n",
            "2   {'rf__criterion': 'gini', 'rf__max_depth': 7, ...         0.814666\n",
            "5   {'rf__criterion': 'gini', 'rf__max_depth': 7, ...         0.814666\n",
            "44  {'rf__criterion': 'entropy', 'rf__max_depth': ...         0.814548\n",
            "16  {'rf__criterion': 'gini', 'rf__max_depth': 8, ...         0.814429\n",
            "32  {'rf__criterion': 'entropy', 'rf__max_depth': ...         0.814251\n",
            "29  {'rf__criterion': 'entropy', 'rf__max_depth': ...         0.814251\n",
            "17  {'rf__criterion': 'gini', 'rf__max_depth': 8, ...         0.814192\n",
            "1   {'rf__criterion': 'gini', 'rf__max_depth': 7, ...         0.814192\n",
            "4   {'rf__criterion': 'gini', 'rf__max_depth': 7, ...         0.814192\n",
            "43  {'rf__criterion': 'entropy', 'rf__max_depth': ...         0.813213\n",
            "7   {'rf__criterion': 'gini', 'rf__max_depth': 7, ...         0.811731\n",
            "33  {'rf__criterion': 'entropy', 'rf__max_depth': ...         0.811256\n",
            "34  {'rf__criterion': 'entropy', 'rf__max_depth': ...         0.811138\n",
            "6   {'rf__criterion': 'gini', 'rf__max_depth': 7, ...         0.810989\n",
            "35  {'rf__criterion': 'entropy', 'rf__max_depth': ...         0.810871\n",
            "8   {'rf__criterion': 'gini', 'rf__max_depth': 7, ...         0.810604\n"
          ],
          "name": "stdout"
        }
      ]
    },
    {
      "cell_type": "code",
      "metadata": {
        "colab": {
          "base_uri": "https://localhost:8080/"
        },
        "id": "ONIuDsBqeM7Z",
        "outputId": "aeda10ee-1fab-496c-e5fe-ec26c6fea688"
      },
      "source": [
        "pipe_ord2 = make_pipeline(\n",
        "    OrdinalEncoder(), \n",
        "    SimpleImputer(), \n",
        "    RandomForestClassifier(criterion= 'gini', \n",
        "                           max_depth= 9, \n",
        "                           max_features= 'auto', \n",
        "                           min_samples_leaf= 5,\n",
        "                           random_state= 10,\n",
        "                           n_jobs= -1,\n",
        "                           oob_score=True)\n",
        ")\n",
        "\n",
        "pipe_ord2.fit(X_train, y_train)\n",
        "print('훈련 정확도(Ordinal Encoder) : ', pipe_ord2.score(X_train, y_train))\n",
        "print('검증 정확도(Ordinal Encoder) : ', pipe_ord2.score(X_val, y_val))"
      ],
      "execution_count": null,
      "outputs": [
        {
          "output_type": "stream",
          "text": [
            "훈련 정확도(Ordinal Encoder) :  0.8315986122231118\n",
            "검증 정확도(Ordinal Encoder) :  0.8286087059660776\n"
          ],
          "name": "stdout"
        }
      ]
    },
    {
      "cell_type": "code",
      "metadata": {
        "colab": {
          "base_uri": "https://localhost:8080/"
        },
        "id": "KvJ4hujFi7WB",
        "outputId": "df6a0801-1a82-4141-cb74-8aeb40f90084"
      },
      "source": [
        "predict = pipe_ord2.predict(X_test)\n",
        "predict"
      ],
      "execution_count": null,
      "outputs": [
        {
          "output_type": "execute_result",
          "data": {
            "text/plain": [
              "array([0, 0, 0, ..., 0, 0, 0])"
            ]
          },
          "metadata": {
            "tags": []
          },
          "execution_count": 95
        }
      ]
    },
    {
      "cell_type": "code",
      "metadata": {
        "id": "CM-7uzO5kALl"
      },
      "source": [
        "sample_submission['vacc_h1n1_f'] = predict"
      ],
      "execution_count": null,
      "outputs": []
    },
    {
      "cell_type": "code",
      "metadata": {
        "id": "Ms4I5cMwkO4i"
      },
      "source": [
        "sample_submission.to_csv('submission.csv', index=False)"
      ],
      "execution_count": null,
      "outputs": []
    },
    {
      "cell_type": "markdown",
      "metadata": {
        "id": "O1Re0TKafjHs"
      },
      "source": [
        "결과적으로 검증 정확도가 조금 증가했다는 것을 확인할 수 있었다."
      ]
    }
  ]
}