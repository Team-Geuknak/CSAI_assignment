{
  "nbformat": 4,
  "nbformat_minor": 0,
  "metadata": {
    "colab": {
      "name": "[박지훈] / Section 2 / Sprint 1",
      "provenance": [],
      "collapsed_sections": [],
      "authorship_tag": "ABX9TyO3Y/vwUaXfbSRfBayXsQ+c",
      "include_colab_link": true
    },
    "kernelspec": {
      "name": "python3",
      "display_name": "Python 3"
    },
    "language_info": {
      "name": "python"
    }
  },
  "cells": [
    {
      "cell_type": "markdown",
      "metadata": {
        "id": "view-in-github",
        "colab_type": "text"
      },
      "source": [
        "<a href=\"https://colab.research.google.com/github/momotonton/CSAI_assignment/blob/main/%5B%EB%B0%95%EC%A7%80%ED%9B%88%5D_Section_2_Sprint_1.ipynb\" target=\"_parent\"><img src=\"https://colab.research.google.com/assets/colab-badge.svg\" alt=\"Open In Colab\"/></a>"
      ]
    },
    {
      "cell_type": "code",
      "metadata": {
        "id": "U4HMVYZlUAuu",
        "colab": {
          "base_uri": "https://localhost:8080/"
        },
        "outputId": "73590fc8-33c5-44f4-b57e-d7100161d61e"
      },
      "source": [
        "# 다른분들 코드보면서 다시 공부하겠습니다 \n",
        "import pandas as pd\n",
        "import matplotlib.pyplot as plt\n",
        "import seaborn as sns\n",
        "import numpy as np\n",
        "from sklearn.linear_model import LinearRegression\n",
        "df = pd.read_csv('https://ds-lecture-data.s3.ap-northeast-2.amazonaws.com/kc_house_data/kc_house_data.csv')\n",
        "df.isnull().sum() # Check Nan Value"
      ],
      "execution_count": 29,
      "outputs": [
        {
          "output_type": "execute_result",
          "data": {
            "text/plain": [
              "id               0\n",
              "date             0\n",
              "price            0\n",
              "bedrooms         0\n",
              "bathrooms        0\n",
              "sqft_living      0\n",
              "sqft_lot         0\n",
              "floors           0\n",
              "waterfront       0\n",
              "view             0\n",
              "condition        0\n",
              "grade            0\n",
              "sqft_above       0\n",
              "sqft_basement    0\n",
              "yr_built         0\n",
              "yr_renovated     0\n",
              "zipcode          0\n",
              "lat              0\n",
              "long             0\n",
              "sqft_living15    0\n",
              "sqft_lot15       0\n",
              "dtype: int64"
            ]
          },
          "metadata": {
            "tags": []
          },
          "execution_count": 29
        }
      ]
    },
    {
      "cell_type": "code",
      "metadata": {
        "colab": {
          "base_uri": "https://localhost:8080/"
        },
        "id": "E0B94WmaUgJZ",
        "outputId": "e2521df6-d156-4183-8a74-c78142159bc3"
      },
      "source": [
        "# 1)\n",
        "# 상관관계 : 어떤 한 통계적 변인과 다른 여러 통계적 변인들이 공변(共變)하는 함수관계를 말한다.\n",
        "# 피어슨 상관계수 '전체 편차' 내에서 '예측치와 평균 간의 차이'가 차지하는 비율 -1~ 1사이에 위치\n",
        "corr_matrix = df.corr()\n",
        "print(corr_matrix[\"price\"].sort_values(ascending=False).iloc[1:2]) # Most hightest correlation coefficient"
      ],
      "execution_count": 30,
      "outputs": [
        {
          "output_type": "stream",
          "text": [
            "sqft_living    0.702035\n",
            "Name: price, dtype: float64\n"
          ],
          "name": "stdout"
        }
      ]
    },
    {
      "cell_type": "code",
      "metadata": {
        "colab": {
          "base_uri": "https://localhost:8080/",
          "height": 307
        },
        "id": "11SnjZd2dXqp",
        "outputId": "452902a1-ce22-4859-9ffb-db859162601c"
      },
      "source": [
        "# 2)\n",
        "# 2-1) 이 부분 잘모르겠습니다.\n",
        "import matplotlib.pyplot as plt\n",
        "import seaborn as sns\n",
        "\n",
        "predict = df[\"price\"].mean()\n",
        "errors = predict - df['price']\n",
        "mean_absolute_error = errors.abs().mean()\n",
        "print(mean_absolute_error)\n",
        "\n",
        "x = df['grade']\n",
        "y = df['price']\n",
        "predict = df['price'].mean()\n",
        "errors = predict - df['price']\n",
        "mean_absolute_error = errors.abs().mean()\n",
        "sns.lineplot(x=x, y=predict, color='red')\n",
        "sns.scatterplot(x=x, y=y, color='blue');\n",
        "# sns.regplot(x=변수, y=타겟);"
      ],
      "execution_count": 42,
      "outputs": [
        {
          "output_type": "stream",
          "text": [
            "233941.7242725122\n"
          ],
          "name": "stdout"
        },
        {
          "output_type": "display_data",
          "data": {
            "image/png": "[encoded data removed]",
            "text/plain": [
              "<Figure size 432x288 with 1 Axes>"
            ]
          },
          "metadata": {
            "tags": [],
            "needs_background": "light"
          }
        }
      ]
    },
    {
      "cell_type": "code",
      "metadata": {
        "colab": {
          "base_uri": "https://localhost:8080/",
          "height": 580
        },
        "id": "tmLTp0oy5WLX",
        "outputId": "d2261901-e360-4220-dff2-99c1adb520e7"
      },
      "source": [
        "# 2-2)\n",
        "from pandas.plotting import scatter_matrix\n",
        "\n",
        "# Grade & Price scatter graph\n",
        "attributes = [\"grade\",\"price\"]\n",
        "scatter_matrix(df[attributes] , figsize=(12,8))"
      ],
      "execution_count": 32,
      "outputs": [
        {
          "output_type": "execute_result",
          "data": {
            "text/plain": [
              "array([[<matplotlib.axes._subplots.AxesSubplot object at 0x7f478e8ef310>,\n",
              "        <matplotlib.axes._subplots.AxesSubplot object at 0x7f477f869c50>],\n",
              "       [<matplotlib.axes._subplots.AxesSubplot object at 0x7f477c245310>,\n",
              "        <matplotlib.axes._subplots.AxesSubplot object at 0x7f477c1fab50>]],\n",
              "      dtype=object)"
            ]
          },
          "metadata": {
            "tags": []
          },
          "execution_count": 32
        },
        {
          "output_type": "display_data",
          "data": {
            "image/png": "[encoded data removed]",
            "text/plain": [
              "<Figure size 864x576 with 4 Axes>"
            ]
          },
          "metadata": {
            "tags": [],
            "needs_background": "light"
          }
        }
      ]
    },
    {
      "cell_type": "code",
      "metadata": {
        "colab": {
          "base_uri": "https://localhost:8080/"
        },
        "id": "F5WLCrmUkVFv",
        "outputId": "ceb25101-c910-4b0b-951b-ccd8ec732f2e"
      },
      "source": [
        "# 3)\n",
        "\n",
        "model = LinearRegression()\n",
        "feature = ['grade']\n",
        "target = ['price']\n",
        "X_train = df[feature]\n",
        "y_train = df[target]\n",
        "model.fit(X_train, y_train)\n",
        "X_test = [[6]]\n",
        "y_pred = model.predict(X_test)\n",
        "print(f'{X_test[0][0]} Grade를 가지는 주택의 예상 가격은 ${int(y_pred)} 입니다.')"
      ],
      "execution_count": 43,
      "outputs": [
        {
          "output_type": "stream",
          "text": [
            "6 Grade를 가지는 주택의 예상 가격은 $194700 입니다.\n"
          ],
          "name": "stdout"
        }
      ]
    },
    {
      "cell_type": "code",
      "metadata": {
        "colab": {
          "base_uri": "https://localhost:8080/"
        },
        "id": "VAxEmmidpMfR",
        "outputId": "8106a785-86d5-4dcc-d86d-9dc687b9f54e"
      },
      "source": [
        "# 4) \n",
        "\n",
        "## 계수(coefficient)\n",
        "model.coef_\n",
        "## 절편(intercept)\n",
        "model.intercept_\n",
        "\n",
        "def explain_prediction(price):\n",
        "    y_pred = model.predict([[price]])\n",
        "    pred = f\"{int(price)}grade의 주택 가격 예측: ${int(y_pred[0])} (1 grade당 추가금: ${int(model.coef_[0])})\"\n",
        "\n",
        "    return pred\n",
        "\n",
        "print(explain_prediction(6))\n",
        "print(int(model.coef_[0]))\n"
      ],
      "execution_count": 37,
      "outputs": [
        {
          "output_type": "stream",
          "text": [
            "6grade의 주택 가격 예측: $194700 (1 grade당 추가금: $208457)\n",
            "208457\n"
          ],
          "name": "stdout"
        }
      ]
    }
  ]
}