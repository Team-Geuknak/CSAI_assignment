{
  "nbformat": 4,
  "nbformat_minor": 0,
  "metadata": {
    "colab": {
      "name": "N212JH",
      "provenance": [],
      "authorship_tag": "ABX9TyMqJs8T+I4F3IQQws4YZtf7",
      "include_colab_link": true
    },
    "kernelspec": {
      "name": "python3",
      "display_name": "Python 3"
    },
    "language_info": {
      "name": "python"
    }
  },
  "cells": [
    {
      "cell_type": "markdown",
      "metadata": {
        "id": "view-in-github",
        "colab_type": "text"
      },
      "source": [
        "<a href=\"https://colab.research.google.com/github/momotonton/CSAI_assignment/blob/main/N212JH.ipynb\" target=\"_parent\"><img src=\"https://colab.research.google.com/assets/colab-badge.svg\" alt=\"Open In Colab\"/></a>"
      ]
    },
    {
      "cell_type": "code",
      "metadata": {
        "id": "FRucbi8I40yq"
      },
      "source": [
        "# 데이터는 캐글에서 받으셔도 되고 이 링크에서 불러와도 됩니다.\n",
        "# 문제 1\n",
        "import pandas as pd\n",
        "df = pd.read_csv('https://ds-lecture-data.s3.ap-northeast-2.amazonaws.com/kc_house_data/kc_house_data.csv')"
      ],
      "execution_count": 1,
      "outputs": []
    },
    {
      "cell_type": "code",
      "metadata": {
        "colab": {
          "base_uri": "https://localhost:8080/"
        },
        "id": "ETMEQ2Yp435T",
        "outputId": "1fec660a-47d6-4f8f-8f24-993931e3180d"
      },
      "source": [
        "df.isnull().sum()"
      ],
      "execution_count": 2,
      "outputs": [
        {
          "output_type": "execute_result",
          "data": {
            "text/plain": [
              "id               0\n",
              "date             0\n",
              "price            0\n",
              "bedrooms         0\n",
              "bathrooms        0\n",
              "sqft_living      0\n",
              "sqft_lot         0\n",
              "floors           0\n",
              "waterfront       0\n",
              "view             0\n",
              "condition        0\n",
              "grade            0\n",
              "sqft_above       0\n",
              "sqft_basement    0\n",
              "yr_built         0\n",
              "yr_renovated     0\n",
              "zipcode          0\n",
              "lat              0\n",
              "long             0\n",
              "sqft_living15    0\n",
              "sqft_lot15       0\n",
              "dtype: int64"
            ]
          },
          "metadata": {
            "tags": []
          },
          "execution_count": 2
        }
      ]
    },
    {
      "cell_type": "code",
      "metadata": {
        "colab": {
          "base_uri": "https://localhost:8080/"
        },
        "id": "A-n8Bq934-x9",
        "outputId": "609729a9-78c9-45b1-dd44-455ba897495c"
      },
      "source": [
        "df.columns"
      ],
      "execution_count": 3,
      "outputs": [
        {
          "output_type": "execute_result",
          "data": {
            "text/plain": [
              "Index(['id', 'date', 'price', 'bedrooms', 'bathrooms', 'sqft_living',\n",
              "       'sqft_lot', 'floors', 'waterfront', 'view', 'condition', 'grade',\n",
              "       'sqft_above', 'sqft_basement', 'yr_built', 'yr_renovated', 'zipcode',\n",
              "       'lat', 'long', 'sqft_living15', 'sqft_lot15'],\n",
              "      dtype='object')"
            ]
          },
          "metadata": {
            "tags": []
          },
          "execution_count": 3
        }
      ]
    },
    {
      "cell_type": "code",
      "metadata": {
        "id": "fx7YxzKk5GN6"
      },
      "source": [
        "# Date 'T' remove (string to int)\n",
        "def toInt(string):\n",
        "    return int(string.replace('T',''))\n",
        "df['date'] = df['date'].apply(toInt)"
      ],
      "execution_count": 4,
      "outputs": []
    },
    {
      "cell_type": "code",
      "metadata": {
        "id": "0afz1AKZ5IDP"
      },
      "source": [
        "test = df[df['date'] >= 20150101000000]\n",
        "train = df.drop(train.index)"
      ],
      "execution_count": 9,
      "outputs": []
    },
    {
      "cell_type": "code",
      "metadata": {
        "colab": {
          "base_uri": "https://localhost:8080/"
        },
        "id": "NQEQ3J8v5Nuf",
        "outputId": "b64a301c-2a0f-442c-d31a-41d628c4b908"
      },
      "source": [
        "# check train , test data\n",
        "len(df), len(train), len(test) , len(train) + len(test)"
      ],
      "execution_count": 10,
      "outputs": [
        {
          "output_type": "execute_result",
          "data": {
            "text/plain": [
              "(21613, 14633, 6980, 21613)"
            ]
          },
          "metadata": {
            "tags": []
          },
          "execution_count": 10
        }
      ]
    },
    {
      "cell_type": "code",
      "metadata": {
        "colab": {
          "base_uri": "https://localhost:8080/"
        },
        "id": "_X5GVDcn5S0z",
        "outputId": "a1775b1e-dc0e-4fa4-f0b4-5f140c2d0689"
      },
      "source": [
        "print(f'train 데이터의 샘플 값은 :{len(train)}')"
      ],
      "execution_count": 11,
      "outputs": [
        {
          "output_type": "stream",
          "text": [
            "train 데이터의 샘플 값은 :14633\n"
          ],
          "name": "stdout"
        }
      ]
    },
    {
      "cell_type": "code",
      "metadata": {
        "colab": {
          "base_uri": "https://localhost:8080/"
        },
        "id": "tNPWWaT_5ifu",
        "outputId": "8d423156-8550-42a8-d49b-b6275c8578e3"
      },
      "source": [
        "# 문제 2\n",
        "from sklearn.linear_model import LinearRegression\n",
        "from sklearn.metrics import mean_absolute_error\n",
        "target = 'price'\n",
        "y_train = train[target]\n",
        "y_test = test[target]\n",
        "\n",
        "predict = y_train.mean()\n",
        "model = LinearRegression()\n",
        "features = ['bathrooms', \n",
        "            'sqft_living']\n",
        "\n",
        "X_train = train[features]\n",
        "X_test = test[features]\n",
        "\n",
        "model.fit(X_train, y_train)\n",
        "y_pred = model.predict(X_train)\n",
        "mae = mean_absolute_error(y_train, y_pred) # train mae\n",
        "#print(f'훈련 에러: {mae}')\n",
        "y_pred2 = model.predict(X_test)\n",
        "mae2 = mean_absolute_error(y_test, y_pred2) # test mae\n",
        "\n",
        "#print(f'테스트 에러: {mae2}')\n",
        "print(f'테스트 세트의 MAE값: {mae2}')"
      ],
      "execution_count": 12,
      "outputs": [
        {
          "output_type": "stream",
          "text": [
            "테스트 세트의 MAE값: 179252.52593261775\n"
          ],
          "name": "stdout"
        }
      ]
    },
    {
      "cell_type": "code",
      "metadata": {
        "colab": {
          "base_uri": "https://localhost:8080/"
        },
        "id": "Axuz_sPi5ldI",
        "outputId": "c338b303-741c-4fe2-85c9-7986bd5ba4dc"
      },
      "source": [
        "# 문제3\n",
        "model.intercept_ # intercept\n",
        "print(f'sqft_living의 회귀계수는 : {model.coef_[1]}') # [0] bathrooms [1] sqft_living"
      ],
      "execution_count": 13,
      "outputs": [
        {
          "output_type": "stream",
          "text": [
            "sqft_living의 회귀계수는 : 286.1375355497683\n"
          ],
          "name": "stdout"
        }
      ]
    },
    {
      "cell_type": "code",
      "metadata": {
        "id": "OuNnJf3D6EdP"
      },
      "source": [
        "# 문제4 (코드리뷰 필요)\n",
        "mse2 = mean_squared_error(y_test, y_pred2)\n",
        "rmse4 = mse2 ** 0.5\n",
        "r2 = r2_score(y_test, y_pred2)\n",
        "display(pd.DataFrame([['MSE', mse2],['MAE', mae2],['RMSE', rmse4],['R2', r2]], columns=['Metric', 'Score']))\n",
        "print(f'테스트 데이터에 대한 r^2 값은 : {r2}')"
      ],
      "execution_count": null,
      "outputs": []
    }
  ]
}