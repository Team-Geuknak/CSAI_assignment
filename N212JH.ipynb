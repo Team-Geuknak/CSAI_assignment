{
  "nbformat": 4,
  "nbformat_minor": 0,
  "metadata": {
    "colab": {
      "name": "N212JH",
      "provenance": [],
      "authorship_tag": "ABX9TyMMzoTtXr35zZEgJVGxYHVB",
      "include_colab_link": true
    },
    "kernelspec": {
      "name": "python3",
      "display_name": "Python 3"
    },
    "language_info": {
      "name": "python"
    }
  },
  "cells": [
    {
      "cell_type": "markdown",
      "metadata": {
        "id": "view-in-github",
        "colab_type": "text"
      },
      "source": [
        "<a href=\"https://colab.research.google.com/github/momotonton/CSAI_assignment/blob/main/N212JH.ipynb\" target=\"_parent\"><img src=\"https://colab.research.google.com/assets/colab-badge.svg\" alt=\"Open In Colab\"/></a>"
      ]
    },
    {
      "cell_type": "code",
      "metadata": {
        "id": "FRucbi8I40yq"
      },
      "source": [
        "# 데이터는 캐글에서 받으셔도 되고 이 링크에서 불러와도 됩니다.\n",
        "# 문제 1\n",
        "import pandas as pd\n",
        "df = pd.read_csv('https://ds-lecture-data.s3.ap-northeast-2.amazonaws.com/kc_house_data/kc_house_data.csv')"
      ],
      "execution_count": 1,
      "outputs": []
    },
    {
      "cell_type": "code",
      "metadata": {
        "colab": {
          "base_uri": "https://localhost:8080/"
        },
        "id": "ETMEQ2Yp435T",
        "outputId": "3b2026e7-6ba0-4724-fde2-30003fd88b0b"
      },
      "source": [
        "df.isnull().sum()"
      ],
      "execution_count": 2,
      "outputs": [
        {
          "output_type": "execute_result",
          "data": {
            "text/plain": [
              "id               0\n",
              "date             0\n",
              "price            0\n",
              "bedrooms         0\n",
              "bathrooms        0\n",
              "sqft_living      0\n",
              "sqft_lot         0\n",
              "floors           0\n",
              "waterfront       0\n",
              "view             0\n",
              "condition        0\n",
              "grade            0\n",
              "sqft_above       0\n",
              "sqft_basement    0\n",
              "yr_built         0\n",
              "yr_renovated     0\n",
              "zipcode          0\n",
              "lat              0\n",
              "long             0\n",
              "sqft_living15    0\n",
              "sqft_lot15       0\n",
              "dtype: int64"
            ]
          },
          "metadata": {
            "tags": []
          },
          "execution_count": 2
        }
      ]
    },
    {
      "cell_type": "code",
      "metadata": {
        "colab": {
          "base_uri": "https://localhost:8080/"
        },
        "id": "A-n8Bq934-x9",
        "outputId": "8bd38135-0194-4692-bcf8-c9f682faf3fd"
      },
      "source": [
        "df.columns"
      ],
      "execution_count": 3,
      "outputs": [
        {
          "output_type": "execute_result",
          "data": {
            "text/plain": [
              "Index(['id', 'date', 'price', 'bedrooms', 'bathrooms', 'sqft_living',\n",
              "       'sqft_lot', 'floors', 'waterfront', 'view', 'condition', 'grade',\n",
              "       'sqft_above', 'sqft_basement', 'yr_built', 'yr_renovated', 'zipcode',\n",
              "       'lat', 'long', 'sqft_living15', 'sqft_lot15'],\n",
              "      dtype='object')"
            ]
          },
          "metadata": {
            "tags": []
          },
          "execution_count": 3
        }
      ]
    },
    {
      "cell_type": "code",
      "metadata": {
        "id": "fx7YxzKk5GN6"
      },
      "source": [
        "# Date 'T' remove (string to int)\n",
        "def toInt(string):\n",
        "    return int(string.replace('T',''))\n",
        "df['date'] = df['date'].apply(toInt)"
      ],
      "execution_count": 4,
      "outputs": []
    },
    {
      "cell_type": "code",
      "metadata": {
        "id": "0afz1AKZ5IDP"
      },
      "source": [
        "test = df[df['date'] >= 20150101000000]\n",
        "train = df.drop(test.index)"
      ],
      "execution_count": 9,
      "outputs": []
    },
    {
      "cell_type": "code",
      "metadata": {
        "colab": {
          "base_uri": "https://localhost:8080/"
        },
        "id": "NQEQ3J8v5Nuf",
        "outputId": "9e183460-b7c4-41d0-9e19-ddc546b8e27f"
      },
      "source": [
        "# check train , test data\n",
        "len(df), len(train), len(test) , len(train) + len(test)"
      ],
      "execution_count": 10,
      "outputs": [
        {
          "output_type": "execute_result",
          "data": {
            "text/plain": [
              "(21613, 14633, 6980, 21613)"
            ]
          },
          "metadata": {
            "tags": []
          },
          "execution_count": 10
        }
      ]
    },
    {
      "cell_type": "code",
      "metadata": {
        "colab": {
          "base_uri": "https://localhost:8080/"
        },
        "id": "_X5GVDcn5S0z",
        "outputId": "8127d60f-a2c3-4fbf-e79a-1653abcbde26"
      },
      "source": [
        "print(f'train 데이터의 샘플 값은 :{len(train)}')"
      ],
      "execution_count": 11,
      "outputs": [
        {
          "output_type": "stream",
          "text": [
            "train 데이터의 샘플 값은 :14633\n"
          ],
          "name": "stdout"
        }
      ]
    },
    {
      "cell_type": "code",
      "metadata": {
        "colab": {
          "base_uri": "https://localhost:8080/"
        },
        "id": "tNPWWaT_5ifu",
        "outputId": "7a3adca7-58cf-4bf1-972e-c666f0507336"
      },
      "source": [
        "# 문제 2\n",
        "from sklearn.linear_model import LinearRegression\n",
        "from sklearn.metrics import mean_absolute_error\n",
        "target = 'price'\n",
        "y_train = train[target]\n",
        "y_test = test[target]\n",
        "\n",
        "predict = y_train.mean()\n",
        "model = LinearRegression()\n",
        "features = ['bathrooms', \n",
        "            'sqft_living']\n",
        "\n",
        "X_train = train[features]\n",
        "X_test = test[features]\n",
        "\n",
        "model.fit(X_train, y_train)\n",
        "y_pred = model.predict(X_train)\n",
        "mae = mean_absolute_error(y_train, y_pred) # train mae\n",
        "#print(f'훈련 에러: {mae}')\n",
        "y_pred2 = model.predict(X_test)\n",
        "mae2 = mean_absolute_error(y_test, y_pred2) # test mae\n",
        "\n",
        "#print(f'테스트 에러: {mae2}')\n",
        "print(f'테스트 세트의 MAE값: {mae2}')"
      ],
      "execution_count": 12,
      "outputs": [
        {
          "output_type": "stream",
          "text": [
            "테스트 세트의 MAE값: 179252.52593261775\n"
          ],
          "name": "stdout"
        }
      ]
    },
    {
      "cell_type": "code",
      "metadata": {
        "colab": {
          "base_uri": "https://localhost:8080/"
        },
        "id": "Axuz_sPi5ldI",
        "outputId": "48ee8d75-4bbb-4039-c4ab-4dbbbe437524"
      },
      "source": [
        "# 문제 3\n",
        "model.intercept_ # intercept\n",
        "print(f'sqft_living의 회귀계수는 : {model.coef_[1]}') # [0] bathrooms [1] sqft_living"
      ],
      "execution_count": 13,
      "outputs": [
        {
          "output_type": "stream",
          "text": [
            "sqft_living의 회귀계수는 : 286.1375355497683\n"
          ],
          "name": "stdout"
        }
      ]
    },
    {
      "cell_type": "code",
      "metadata": {
        "id": "OuNnJf3D6EdP",
        "outputId": "901b9c29-f5c7-4414-d26b-e58a96f6fe7c",
        "colab": {
          "base_uri": "https://localhost:8080/",
          "height": 187
        }
      },
      "source": [
        "# 문제 4 (코드리뷰 필요)\n",
        "from sklearn.linear_model import LinearRegression\n",
        "from sklearn.metrics import mean_absolute_error\n",
        "from sklearn.metrics import mean_squared_error\n",
        "from sklearn.metrics import r2_score\n",
        "import numpy\n",
        "\n",
        "mse2 = mean_squared_error(y_test, y_pred2)\n",
        "rmse4 = mse2 ** 0.5\n",
        "r2 = r2_score(y_test, y_pred2)\n",
        "display(pd.DataFrame([['MSE', mse2],['MAE', mae2],['RMSE', rmse4],['R2', r2]], columns=['Metric', 'Score']))\n",
        "print(f'테스트 데이터에 대한 r^2 값은 : {r2}')"
      ],
      "execution_count": 18,
      "outputs": [
        {
          "output_type": "display_data",
          "data": {
            "text/html": [
              "<div>\n",
              "<style scoped>\n",
              "    .dataframe tbody tr th:only-of-type {\n",
              "        vertical-align: middle;\n",
              "    }\n",
              "\n",
              "    .dataframe tbody tr th {\n",
              "        vertical-align: top;\n",
              "    }\n",
              "\n",
              "    .dataframe thead th {\n",
              "        text-align: right;\n",
              "    }\n",
              "</style>\n",
              "<table border=\"1\" class=\"dataframe\">\n",
              "  <thead>\n",
              "    <tr style=\"text-align: right;\">\n",
              "      <th></th>\n",
              "      <th>Metric</th>\n",
              "      <th>Score</th>\n",
              "    </tr>\n",
              "  </thead>\n",
              "  <tbody>\n",
              "    <tr>\n",
              "      <th>0</th>\n",
              "      <td>MSE</td>\n",
              "      <td>7.108399e+10</td>\n",
              "    </tr>\n",
              "    <tr>\n",
              "      <th>1</th>\n",
              "      <td>MAE</td>\n",
              "      <td>1.792525e+05</td>\n",
              "    </tr>\n",
              "    <tr>\n",
              "      <th>2</th>\n",
              "      <td>RMSE</td>\n",
              "      <td>2.666158e+05</td>\n",
              "    </tr>\n",
              "    <tr>\n",
              "      <th>3</th>\n",
              "      <td>R2</td>\n",
              "      <td>4.599930e-01</td>\n",
              "    </tr>\n",
              "  </tbody>\n",
              "</table>\n",
              "</div>"
            ],
            "text/plain": [
              "  Metric         Score\n",
              "0    MSE  7.108399e+10\n",
              "1    MAE  1.792525e+05\n",
              "2   RMSE  2.666158e+05\n",
              "3     R2  4.599930e-01"
            ]
          },
          "metadata": {
            "tags": []
          }
        },
        {
          "output_type": "stream",
          "text": [
            "테스트 데이터에 대한 r^2 값은 : 0.45999300199894533\n"
          ],
          "name": "stdout"
        }
      ]
    }
  ]
}