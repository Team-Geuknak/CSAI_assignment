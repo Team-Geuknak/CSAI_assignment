{
  "nbformat": 4,
  "nbformat_minor": 0,
  "metadata": {
    "jupytext": {
      "cell_metadata_filter": "-all",
      "main_language": "python",
      "notebook_metadata_filter": "-all"
    },
    "kernelspec": {
      "display_name": "Python 3",
      "language": "python",
      "name": "python3"
    },
    "language_info": {
      "codemirror_mode": {
        "name": "ipython",
        "version": 3
      },
      "file_extension": ".py",
      "mimetype": "text/x-python",
      "name": "python",
      "nbconvert_exporter": "python",
      "pygments_lexer": "ipython3",
      "version": "3.7.7"
    },
    "colab": {
      "name": "n232a-data-wrangling.ipynb의 사본의 사본",
      "provenance": [],
      "collapsed_sections": [],
      "include_colab_link": true
    }
  },
  "cells": [
    {
      "cell_type": "markdown",
      "metadata": {
        "id": "view-in-github",
        "colab_type": "text"
      },
      "source": [
        "<a href=\"https://colab.research.google.com/github/ZeusKwon/CSAI_assignment/blob/main/n232a_data_wrangling_ipynb%EC%9D%98_%EC%82%AC%EB%B3%B8%EC%9D%98_%EC%82%AC%EB%B3%B8.ipynb\" target=\"_parent\"><img src=\"https://colab.research.google.com/assets/colab-badge.svg\" alt=\"Open In Colab\"/></a>"
      ]
    },
    {
      "cell_type": "markdown",
      "metadata": {
        "id": "R6-L_I-yXPuF"
      },
      "source": [
        "\n",
        "# 📝 Assignment\n",
        "---\n",
        "# Data Wrangling\n"
      ]
    },
    {
      "cell_type": "markdown",
      "metadata": {
        "id": "RhKLsmlWXPuH"
      },
      "source": [
        "### 1)"
      ]
    },
    {
      "cell_type": "code",
      "metadata": {
        "colab": {
          "base_uri": "https://localhost:8080/",
          "height": 450
        },
        "id": "GDNdFu2adOwl",
        "outputId": "a6f444be-f43f-4b05-d168-2bec166692a7"
      },
      "source": [
        "import pandas as pd\n",
        "df = pd.read_csv(\"https://ds-lecture-data.s3.ap-northeast-2.amazonaws.com/assignments/purchase_data.csv\", sep=\",\",index_col=0)\n",
        "df"
      ],
      "execution_count": null,
      "outputs": [
        {
          "output_type": "execute_result",
          "data": {
            "text/html": [
              "<div>\n",
              "<style scoped>\n",
              "    .dataframe tbody tr th:only-of-type {\n",
              "        vertical-align: middle;\n",
              "    }\n",
              "\n",
              "    .dataframe tbody tr th {\n",
              "        vertical-align: top;\n",
              "    }\n",
              "\n",
              "    .dataframe thead th {\n",
              "        text-align: right;\n",
              "    }\n",
              "</style>\n",
              "<table border=\"1\" class=\"dataframe\">\n",
              "  <thead>\n",
              "    <tr style=\"text-align: right;\">\n",
              "      <th></th>\n",
              "      <th>SN</th>\n",
              "      <th>Age</th>\n",
              "      <th>Gender</th>\n",
              "      <th>Item ID</th>\n",
              "      <th>Item Name</th>\n",
              "      <th>Price</th>\n",
              "    </tr>\n",
              "    <tr>\n",
              "      <th>Purchase ID</th>\n",
              "      <th></th>\n",
              "      <th></th>\n",
              "      <th></th>\n",
              "      <th></th>\n",
              "      <th></th>\n",
              "      <th></th>\n",
              "    </tr>\n",
              "  </thead>\n",
              "  <tbody>\n",
              "    <tr>\n",
              "      <th>0</th>\n",
              "      <td>Lisim78</td>\n",
              "      <td>20</td>\n",
              "      <td>Male</td>\n",
              "      <td>108</td>\n",
              "      <td>Extraction, Quickblade Of Trembling Hands</td>\n",
              "      <td>3.53</td>\n",
              "    </tr>\n",
              "    <tr>\n",
              "      <th>1</th>\n",
              "      <td>Lisovynya38</td>\n",
              "      <td>40</td>\n",
              "      <td>Male</td>\n",
              "      <td>143</td>\n",
              "      <td>Frenzied Scimitar</td>\n",
              "      <td>1.56</td>\n",
              "    </tr>\n",
              "    <tr>\n",
              "      <th>2</th>\n",
              "      <td>Ithergue48</td>\n",
              "      <td>24</td>\n",
              "      <td>Male</td>\n",
              "      <td>92</td>\n",
              "      <td>Final Critic</td>\n",
              "      <td>4.88</td>\n",
              "    </tr>\n",
              "    <tr>\n",
              "      <th>3</th>\n",
              "      <td>Chamassasya86</td>\n",
              "      <td>24</td>\n",
              "      <td>Male</td>\n",
              "      <td>100</td>\n",
              "      <td>Blindscythe</td>\n",
              "      <td>3.27</td>\n",
              "    </tr>\n",
              "    <tr>\n",
              "      <th>4</th>\n",
              "      <td>Iskosia90</td>\n",
              "      <td>23</td>\n",
              "      <td>Male</td>\n",
              "      <td>131</td>\n",
              "      <td>Fury</td>\n",
              "      <td>1.44</td>\n",
              "    </tr>\n",
              "    <tr>\n",
              "      <th>...</th>\n",
              "      <td>...</td>\n",
              "      <td>...</td>\n",
              "      <td>...</td>\n",
              "      <td>...</td>\n",
              "      <td>...</td>\n",
              "      <td>...</td>\n",
              "    </tr>\n",
              "    <tr>\n",
              "      <th>775</th>\n",
              "      <td>Aethedru70</td>\n",
              "      <td>21</td>\n",
              "      <td>Female</td>\n",
              "      <td>60</td>\n",
              "      <td>Wolf</td>\n",
              "      <td>3.54</td>\n",
              "    </tr>\n",
              "    <tr>\n",
              "      <th>776</th>\n",
              "      <td>Iral74</td>\n",
              "      <td>21</td>\n",
              "      <td>Male</td>\n",
              "      <td>164</td>\n",
              "      <td>Exiled Doomblade</td>\n",
              "      <td>1.63</td>\n",
              "    </tr>\n",
              "    <tr>\n",
              "      <th>777</th>\n",
              "      <td>Yathecal72</td>\n",
              "      <td>20</td>\n",
              "      <td>Male</td>\n",
              "      <td>67</td>\n",
              "      <td>Celeste, Incarnation of the Corrupted</td>\n",
              "      <td>3.46</td>\n",
              "    </tr>\n",
              "    <tr>\n",
              "      <th>778</th>\n",
              "      <td>Sisur91</td>\n",
              "      <td>7</td>\n",
              "      <td>Male</td>\n",
              "      <td>101</td>\n",
              "      <td>Final Critic</td>\n",
              "      <td>4.19</td>\n",
              "    </tr>\n",
              "    <tr>\n",
              "      <th>779</th>\n",
              "      <td>Ennrian78</td>\n",
              "      <td>24</td>\n",
              "      <td>Male</td>\n",
              "      <td>50</td>\n",
              "      <td>Dawn</td>\n",
              "      <td>4.60</td>\n",
              "    </tr>\n",
              "  </tbody>\n",
              "</table>\n",
              "<p>780 rows × 6 columns</p>\n",
              "</div>"
            ],
            "text/plain": [
              "                        SN  ...  Price\n",
              "Purchase ID                 ...       \n",
              "0                  Lisim78  ...   3.53\n",
              "1              Lisovynya38  ...   1.56\n",
              "2               Ithergue48  ...   4.88\n",
              "3            Chamassasya86  ...   3.27\n",
              "4                Iskosia90  ...   1.44\n",
              "...                    ...  ...    ...\n",
              "775             Aethedru70  ...   3.54\n",
              "776                 Iral74  ...   1.63\n",
              "777             Yathecal72  ...   3.46\n",
              "778                Sisur91  ...   4.19\n",
              "779              Ennrian78  ...   4.60\n",
              "\n",
              "[780 rows x 6 columns]"
            ]
          },
          "metadata": {
            "tags": []
          },
          "execution_count": 2
        }
      ]
    },
    {
      "cell_type": "code",
      "metadata": {
        "id": "ELQ7GeVZXPuH",
        "colab": {
          "base_uri": "https://localhost:8080/"
        },
        "outputId": "1697520b-19df-4098-8c4e-3ecb504e698b"
      },
      "source": [
        "### 이곳에서 제출폼 과제를 진행해 주세요 ###\n",
        "import pandas as pd\n",
        "df = pd.read_csv(\"https://ds-lecture-data.s3.ap-northeast-2.amazonaws.com/assignments/purchase_data.csv\", sep=\",\",index_col=0)\n",
        "\n",
        "## 다음 result 함수 안에 male, female 변수를 계산하세요.(groupby, get_group을 사용하세요.)\n",
        "## sum_male: Age = 20, Gender = \"Male\" 그룹의 Price를 합하세요.\n",
        "## sum_female: Age = 20, Gender = \"Female\" 그룹의 Price를 합하세요.\n",
        "\n",
        "def result(df):\n",
        "\n",
        "    sum_male = df[df['Age'] == 20].groupby('Gender').sum('Price').iloc[1,2]\n",
        "    sum_female = df[df['Age'] == 20].groupby('Gender').sum('Price').iloc[0,2]\n",
        "\n",
        "    print(\"sum_male: {}, sum_female: {}\".format(sum_male, sum_female))\n",
        "    return round(sum_male + sum_female)\n",
        "\n",
        "result(df)"
      ],
      "execution_count": null,
      "outputs": [
        {
          "output_type": "stream",
          "text": [
            "sum_male: 260.20000000000005, sum_female: 43.730000000000004\n"
          ],
          "name": "stdout"
        },
        {
          "output_type": "execute_result",
          "data": {
            "text/plain": [
              "304"
            ]
          },
          "metadata": {
            "tags": []
          },
          "execution_count": 14
        }
      ]
    },
    {
      "cell_type": "code",
      "metadata": {
        "id": "gGqj3JeOXPuI"
      },
      "source": [
        "### 이곳에서 본인 데이터로 과제를 진행해 주세요 ### "
      ],
      "execution_count": null,
      "outputs": []
    },
    {
      "cell_type": "markdown",
      "metadata": {
        "id": "bZGKqU54XPuI"
      },
      "source": [
        "### 2)\n",
        "     **나이 1-20세 그룹(20세 포함)의 평균 Price는 3.101818이다.**\n",
        "     **나이 21-50세 그룹의 평균 Price는 3.021559이다.**\n",
        "     **가장 많이 구입한 아이템의 ID는 178 이다.**\n",
        "     두번째로 매출을 많이 낸 아이템 ID는 145이다."
      ]
    },
    {
      "cell_type": "code",
      "metadata": {
        "colab": {
          "base_uri": "https://localhost:8080/"
        },
        "id": "fDDFU4jvsBiT",
        "outputId": "31fcbfe0-98f7-4a4e-e73a-e716a7f54f29"
      },
      "source": [
        "# 그룹별 Price 평균\n",
        "import numpy as np\n",
        "df.groupby(np.where(df['Age']<=20,'20이하','20초과 50이하')).mean()['Price']"
      ],
      "execution_count": null,
      "outputs": [
        {
          "output_type": "execute_result",
          "data": {
            "text/plain": [
              "20이하         3.101818\n",
              "20초과 50이하    3.021559\n",
              "Name: Price, dtype: float64"
            ]
          },
          "metadata": {
            "tags": []
          },
          "execution_count": 55
        }
      ]
    },
    {
      "cell_type": "code",
      "metadata": {
        "colab": {
          "base_uri": "https://localhost:8080/"
        },
        "id": "4SwHV8V6piiR",
        "outputId": "8603d6e9-3861-46ad-b6ea-1995c66b9345"
      },
      "source": [
        "# 판매수 상위 Item ID\n",
        "df.groupby('Item ID').count()['Price'].sort_values(ascending=False)"
      ],
      "execution_count": null,
      "outputs": [
        {
          "output_type": "execute_result",
          "data": {
            "text/plain": [
              "Item ID\n",
              "178    12\n",
              "82      9\n",
              "108     9\n",
              "145     9\n",
              "92      8\n",
              "       ..\n",
              "42      1\n",
              "118     1\n",
              "104     1\n",
              "27      1\n",
              "51      1\n",
              "Name: Price, Length: 183, dtype: int64"
            ]
          },
          "metadata": {
            "tags": []
          },
          "execution_count": 47
        }
      ]
    },
    {
      "cell_type": "code",
      "metadata": {
        "id": "OYJFCHDPXPuI",
        "colab": {
          "base_uri": "https://localhost:8080/"
        },
        "outputId": "ff0c4923-d020-4c45-ca0f-a1f4a87d52eb"
      },
      "source": [
        "# 매출 상위 Item IDs\n",
        "df.groupby('Item ID').sum()['Price'].sort_values(ascending=False)"
      ],
      "execution_count": null,
      "outputs": [
        {
          "output_type": "execute_result",
          "data": {
            "text/plain": [
              "Item ID\n",
              "178    50.76\n",
              "82     44.10\n",
              "145    41.22\n",
              "92     39.04\n",
              "103    34.80\n",
              "       ...  \n",
              "125     2.00\n",
              "126     2.00\n",
              "23      1.99\n",
              "104     1.93\n",
              "42      1.75\n",
              "Name: Price, Length: 183, dtype: float64"
            ]
          },
          "metadata": {
            "tags": []
          },
          "execution_count": 49
        }
      ]
    },
    {
      "cell_type": "markdown",
      "metadata": {
        "id": "EkJZqGepXPuJ"
      },
      "source": [
        "## 🔥"
      ]
    },
    {
      "cell_type": "markdown",
      "metadata": {
        "id": "ZLIe3ia5XPuJ"
      },
      "source": [
        "### 3) 조금 부족하더라도 최소한의 랭글링으로 데이터를 준비하여 간단한 모델을 학습시켜 보세요\n",
        "- 여러분들이 선택한 데이터를 가지고 간단한 모델을 학습하고 결과를 리포팅 합니다."
      ]
    },
    {
      "cell_type": "code",
      "metadata": {
        "id": "1ZusZwERXPuJ"
      },
      "source": [
        "### 이곳에서 과제를 진행해 주세요 ### "
      ],
      "execution_count": null,
      "outputs": []
    }
  ]
}