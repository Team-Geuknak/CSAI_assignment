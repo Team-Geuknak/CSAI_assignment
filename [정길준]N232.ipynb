{
  "nbformat": 4,
  "nbformat_minor": 0,
  "metadata": {
    "jupytext": {
      "cell_metadata_filter": "-all",
      "main_language": "python",
      "notebook_metadata_filter": "-all"
    },
    "kernelspec": {
      "display_name": "Python 3",
      "language": "python",
      "name": "python3"
    },
    "language_info": {
      "codemirror_mode": {
        "name": "ipython",
        "version": 3
      },
      "file_extension": ".py",
      "mimetype": "text/x-python",
      "name": "python",
      "nbconvert_exporter": "python",
      "pygments_lexer": "ipython3",
      "version": "3.7.7"
    },
    "colab": {
      "name": "[정길준]N232",
      "provenance": [],
      "collapsed_sections": [
        "k9BHoYr4JH3Z"
      ],
      "include_colab_link": true
    }
  },
  "cells": [
    {
      "cell_type": "markdown",
      "metadata": {
        "id": "view-in-github",
        "colab_type": "text"
      },
      "source": [
        "<a href=\"https://colab.research.google.com/github/Gilbert9172/CSAI_assignment/blob/main/%5B%EC%A0%95%EA%B8%B8%EC%A4%80%5DN232.ipynb\" target=\"_parent\"><img src=\"https://colab.research.google.com/assets/colab-badge.svg\" alt=\"Open In Colab\"/></a>"
      ]
    },
    {
      "cell_type": "markdown",
      "metadata": {
        "id": "nV5euD_sJH3X"
      },
      "source": [
        "#1) "
      ]
    },
    {
      "cell_type": "code",
      "metadata": {
        "id": "Itekv130JH3Y",
        "colab": {
          "base_uri": "https://localhost:8080/"
        },
        "outputId": "7917253d-e60f-4875-fd1c-8bccb779f28f"
      },
      "source": [
        "import pandas as pd\n",
        "import numpy as np\n",
        "\n",
        "df = pd.read_csv(\"https://ds-lecture-data.s3.ap-northeast-2.amazonaws.com/assignments/purchase_data.csv\", sep=\",\",index_col=0)\n",
        "\n",
        "def result(df):\n",
        "\n",
        "    sum_male = df[df['Age'] == 20].groupby('Gender').get_group('Male').Price.sum()\n",
        "    sum_female = df[df['Age'] == 20].groupby('Gender').get_group('Female').Price.sum()\n",
        "\n",
        "    print(\"sum_male: {}, sum_female: {}\".format(sum_male, sum_female))\n",
        "    return round(sum_male + sum_female)\n",
        "\n",
        "result(df)"
      ],
      "execution_count": null,
      "outputs": [
        {
          "output_type": "stream",
          "text": [
            "sum_male: 260.2, sum_female: 43.730000000000004\n"
          ],
          "name": "stdout"
        },
        {
          "output_type": "execute_result",
          "data": {
            "text/plain": [
              "304"
            ]
          },
          "metadata": {
            "tags": []
          },
          "execution_count": 1
        }
      ]
    },
    {
      "cell_type": "markdown",
      "metadata": {
        "id": "GEWZIXnQJH3Y"
      },
      "source": [
        "# 2) "
      ]
    },
    {
      "cell_type": "code",
      "metadata": {
        "colab": {
          "base_uri": "https://localhost:8080/"
        },
        "id": "HShoVTK9ybCC",
        "outputId": "2895f9d0-ab1e-45ac-a271-60eecffc092a"
      },
      "source": [
        "# 그룹별 Price 평균\n",
        "Under_twenty = df[df['Age'] < 21].Price.mean()\n",
        "Over_twenty = df[(df['Age'] > 20) & (df['Age'] < 51)].Price.mean()\n",
        "\n",
        "print(Under_twenty , Over_twenty, sep=\"\\n\")"
      ],
      "execution_count": null,
      "outputs": [
        {
          "output_type": "stream",
          "text": [
            "3.101818181818184\n",
            "3.0215587044534415\n"
          ],
          "name": "stdout"
        }
      ]
    },
    {
      "cell_type": "code",
      "metadata": {
        "id": "XRw3q0eyJH3Z",
        "colab": {
          "base_uri": "https://localhost:8080/",
          "height": 450
        },
        "outputId": "5fe8ea43-ddba-4ef5-fc9d-54849f10554d"
      },
      "source": [
        "# 판매수 상위 Item ID & 매출 상위 Item IDs\n",
        "\n",
        "Top = df.groupby(['Item Name','Item ID'])[['Price']].sum().sort_values('Price')[::-1]\n",
        "Top"
      ],
      "execution_count": null,
      "outputs": [
        {
          "output_type": "execute_result",
          "data": {
            "text/html": [
              "<div>\n",
              "<style scoped>\n",
              "    .dataframe tbody tr th:only-of-type {\n",
              "        vertical-align: middle;\n",
              "    }\n",
              "\n",
              "    .dataframe tbody tr th {\n",
              "        vertical-align: top;\n",
              "    }\n",
              "\n",
              "    .dataframe thead th {\n",
              "        text-align: right;\n",
              "    }\n",
              "</style>\n",
              "<table border=\"1\" class=\"dataframe\">\n",
              "  <thead>\n",
              "    <tr style=\"text-align: right;\">\n",
              "      <th></th>\n",
              "      <th></th>\n",
              "      <th>Price</th>\n",
              "    </tr>\n",
              "    <tr>\n",
              "      <th>Item Name</th>\n",
              "      <th>Item ID</th>\n",
              "      <th></th>\n",
              "    </tr>\n",
              "  </thead>\n",
              "  <tbody>\n",
              "    <tr>\n",
              "      <th>Oathbreaker, Last Hope of the Breaking Storm</th>\n",
              "      <th>178</th>\n",
              "      <td>50.76</td>\n",
              "    </tr>\n",
              "    <tr>\n",
              "      <th>Nirvana</th>\n",
              "      <th>82</th>\n",
              "      <td>44.10</td>\n",
              "    </tr>\n",
              "    <tr>\n",
              "      <th>Fiery Glass Crusader</th>\n",
              "      <th>145</th>\n",
              "      <td>41.22</td>\n",
              "    </tr>\n",
              "    <tr>\n",
              "      <th>Final Critic</th>\n",
              "      <th>92</th>\n",
              "      <td>39.04</td>\n",
              "    </tr>\n",
              "    <tr>\n",
              "      <th>Singed Scalpel</th>\n",
              "      <th>103</th>\n",
              "      <td>34.80</td>\n",
              "    </tr>\n",
              "    <tr>\n",
              "      <th>...</th>\n",
              "      <th>...</th>\n",
              "      <td>...</td>\n",
              "    </tr>\n",
              "    <tr>\n",
              "      <th>Exiled Mithril Longsword</th>\n",
              "      <th>126</th>\n",
              "      <td>2.00</td>\n",
              "    </tr>\n",
              "    <tr>\n",
              "      <th>Whistling Mithril Warblade</th>\n",
              "      <th>125</th>\n",
              "      <td>2.00</td>\n",
              "    </tr>\n",
              "    <tr>\n",
              "      <th>Crucifer</th>\n",
              "      <th>23</th>\n",
              "      <td>1.99</td>\n",
              "    </tr>\n",
              "    <tr>\n",
              "      <th>Gladiator's Glaive</th>\n",
              "      <th>104</th>\n",
              "      <td>1.93</td>\n",
              "    </tr>\n",
              "    <tr>\n",
              "      <th>The Decapitator</th>\n",
              "      <th>42</th>\n",
              "      <td>1.75</td>\n",
              "    </tr>\n",
              "  </tbody>\n",
              "</table>\n",
              "<p>183 rows × 1 columns</p>\n",
              "</div>"
            ],
            "text/plain": [
              "                                                      Price\n",
              "Item Name                                    Item ID       \n",
              "Oathbreaker, Last Hope of the Breaking Storm 178      50.76\n",
              "Nirvana                                      82       44.10\n",
              "Fiery Glass Crusader                         145      41.22\n",
              "Final Critic                                 92       39.04\n",
              "Singed Scalpel                               103      34.80\n",
              "...                                                     ...\n",
              "Exiled Mithril Longsword                     126       2.00\n",
              "Whistling Mithril Warblade                   125       2.00\n",
              "Crucifer                                     23        1.99\n",
              "Gladiator's Glaive                           104       1.93\n",
              "The Decapitator                              42        1.75\n",
              "\n",
              "[183 rows x 1 columns]"
            ]
          },
          "metadata": {
            "tags": []
          },
          "execution_count": 7
        }
      ]
    }
  ]
}